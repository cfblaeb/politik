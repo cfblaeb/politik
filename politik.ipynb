{
 "cells": [
  {
   "cell_type": "code",
   "execution_count": 1,
   "metadata": {
    "collapsed": true
   },
   "outputs": [],
   "source": [
    "import requests as rq\n",
    "import pandas as pd\n",
    "import matplotlib as mpl\n",
    "import matplotlib.pyplot as plt\n",
    "import numpy as np\n",
    "from xml.dom.minidom import parseString\n",
    "%matplotlib inline"
   ]
  },
  {
   "cell_type": "markdown",
   "metadata": {},
   "source": [
    "# Gode spørgsmål om dansk politik\n",
    "Hvem stemmer mest nej? (person, parti)\n",
    "Hvem stemmer mest ja?  (person, parti)\n",
    "Hvis vi køre PCA (eller MCA eller CorEx) på personer, kommer de så til at cluster efter parti? Er der nogen der hører til et andet sted?\n",
    "Hvis vi gør det samme på parti niveau ser vi så vestre vs højre fløj?\n",
    "Hvem er den mest/mindst parti loyale person?\n"
   ]
  },
  {
   "cell_type": "markdown",
   "metadata": {},
   "source": [
    "## 4 stemmetyper:\n",
    "    * 1: For\n",
    "    * 2: Imod\n",
    "    * 3: Fraværende\n",
    "    * 4: Hverken for eller imod\n",
    "    \n",
    "## 4 afstemningstyper\n",
    "    * 1: Endelig\n",
    "    * 2: Udvalgsindstilling\n",
    "    * 3: Forslag til vedtagelse\n",
    "    * 4: Ændringsforslag\n",
    "    \n",
    "## 5 Mødetyper\n",
    "    * 1: Møde i salen\n",
    "    * 2: Udvalgsmøde\n",
    "    * 3: Andet møde\n",
    "    * 4: ConciergeMeeting\n",
    "    * 5: Statsrevisormøde\n",
    "    \n",
    "## 12 Aktørtyper\n",
    "    * 5: Person"
   ]
  },
  {
   "cell_type": "code",
   "execution_count": null,
   "metadata": {
    "collapsed": true
   },
   "outputs": [],
   "source": [
    "# politiker serie: id->navn\n",
    "# parti serie: id->navn\n",
    "# index: tid, column: politiker id, value: parti id\n"
   ]
  },
  {
   "cell_type": "code",
   "execution_count": 32,
   "metadata": {
    "collapsed": false
   },
   "outputs": [
    {
     "name": "stdout",
     "output_type": "stream",
     "text": [
      "3698\n"
     ]
    }
   ],
   "source": [
    "#get polikter+parti count\n",
    "params = {\"$inlinecount\": \"allpages\", \"$filter\": \"typeid eq 5 or typeid eq 4\"}\n",
    "r = rq.get('http://oda.ft.dk/api/Aktør', params=params)\n",
    "totalcount = int(r.json()['odata.count'])\n",
    "print(totalcount)"
   ]
  },
  {
   "cell_type": "code",
   "execution_count": 33,
   "metadata": {
    "collapsed": false
   },
   "outputs": [],
   "source": [
    "#get all politikere + patier\n",
    "parti = {}\n",
    "politiker = {}\n",
    "ccount = 0\n",
    "moreLeft = True\n",
    "while moreLeft:\n",
    "    if ccount>totalcount:\n",
    "        ccount = totalcount\n",
    "        moreLeft = False\n",
    "\n",
    "    params = {\"$filter\": \"typeid eq 5 or typeid eq 4\", \"$skip\": ccount}\n",
    "    r = rq.get('http://oda.ft.dk/api/Aktør', params=params)\n",
    "    for aktor in r.json()['value']:\n",
    "        if aktor['typeid'] == 5:\n",
    "            politiker[aktor['id']] = aktor['navn']\n",
    "        else:\n",
    "            parti[aktor['id']] = aktor['navn']\n",
    "    \n",
    "    ccount += 20\n"
   ]
  },
  {
   "cell_type": "code",
   "execution_count": 38,
   "metadata": {
    "collapsed": false
   },
   "outputs": [
    {
     "name": "stdout",
     "output_type": "stream",
     "text": [
      "5             Frank Aaen\n",
      "12        Nicolai Wammen\n",
      "13           Sara Olsvig\n",
      "17    Christine Antorini\n",
      "18       Alex Ahrendtsen\n",
      "dtype: object\n",
      "269    Radikale Venstre\n",
      "405    Radikale Venstre\n",
      "406    Radikale Venstre\n",
      "415    Radikale Venstre\n",
      "430    Dansk Folkeparti\n",
      "dtype: object\n"
     ]
    }
   ],
   "source": [
    "politikere = pd.Series(politiker)\n",
    "partier = pd.Series(parti)\n",
    "print(politikere.head())\n",
    "print(partier.head())"
   ]
  },
  {
   "cell_type": "code",
   "execution_count": 5,
   "metadata": {
    "collapsed": false
   },
   "outputs": [],
   "source": [
    "#politikerParti dataframe index: tid, column: politiker id, value: parti id\n",
    "#fordi en politiker kan skifte parti\n"
   ]
  },
  {
   "cell_type": "code",
   "execution_count": 79,
   "metadata": {
    "collapsed": false
   },
   "outputs": [
    {
     "name": "stdout",
     "output_type": "stream",
     "text": [
      "Enhedslisten 2005-02-08T00:00:00 2005-10-04T00:00:00\n",
      "Enhedslisten 2005-10-04T00:00:00 2006-10-03T00:00:00\n",
      "Enhedslisten 2006-10-03T00:00:00 2007-10-02T00:00:00\n",
      "Enhedslisten 2007-10-02T00:00:00 2007-11-13T00:00:00\n",
      "Enhedslisten 2007-11-13T00:00:00 2008-10-07T00:00:00\n",
      "Enhedslisten 2008-10-07T00:00:00 2009-10-06T00:00:00\n",
      "Enhedslisten 2009-10-06T00:00:00 2010-10-05T00:00:00\n",
      "Enhedslisten 2010-10-05T00:00:00 2011-09-15T00:00:00\n",
      "Enhedslisten 2011-09-15T00:00:00 2011-10-04T00:00:00\n",
      "Enhedslisten 2011-10-04T00:00:00 2012-10-02T00:00:00\n",
      "Enhedslisten 2012-10-02T00:00:00 2013-10-01T00:00:00\n",
      "Enhedslisten 2013-10-01T00:00:00 2014-10-07T00:00:00\n"
     ]
    }
   ],
   "source": [
    "for i in politikere.index:\n",
    "    r = rq.get('http://oda.ft.dk/api/Aktør({})/FraAktørAktør'.format(i), params={\"$inlinecount\": \"allpages\"})\n",
    "    totalcount = int(r.json()['odata.count'])\n",
    "    \n",
    "    ccount = 0\n",
    "    moreLeft = True\n",
    "    while moreLeft:\n",
    "        if ccount>totalcount:\n",
    "            ccount = totalcount\n",
    "            moreLeft = False\n",
    "\n",
    "        params = {\"$skip\": ccount}\n",
    "        r = rq.get('http://oda.ft.dk/api/Aktør({})/FraAktørAktør'.format(i), params=params)\n",
    "        for gruppe in r.json()['value']:\n",
    "            gru_id = gruppe['tilaktørid']\n",
    "            fra = gruppe['startdato']\n",
    "            til = gruppe['slutdato']\n",
    "            if gru_id in partier:\n",
    "                print(partier[gru_id], fra, til)\n",
    "    \n",
    "        ccount += 20\n",
    "        break\n",
    "    break\n",
    "    \n",
    "    #for parti in r.json()['value']:\n",
    "        #så skal der loopes igennem TilAktørAktør (eller FraAktørAktør) for at finde alle medlemmer\n",
    "        #parti dataframen har tid som index og politiker id som column også parti som værdi\n",
    "        #således når vi har en afstemning, så kan jeg kigge på politiker id column og tids index også få et parti\n",
    "    #    pass\n",
    "    \n",
    "\n"
   ]
  },
  {
   "cell_type": "code",
   "execution_count": null,
   "metadata": {
    "collapsed": true
   },
   "outputs": [],
   "source": [
    "params = {\"$filter\":\"typeid eq 1\", \"$expand\": \"Stemme\"}\n",
    "r = rq.get('http://oda.ft.dk/api/Afstemning', params=params)\n",
    "r.json()"
   ]
  },
  {
   "cell_type": "code",
   "execution_count": 55,
   "metadata": {
    "collapsed": false
   },
   "outputs": [],
   "source": [
    "bla = pd.Series()"
   ]
  },
  {
   "cell_type": "code",
   "execution_count": 53,
   "metadata": {
    "collapsed": false
   },
   "outputs": [],
   "source": [
    "bla.loc[] = 3"
   ]
  },
  {
   "cell_type": "code",
   "execution_count": 72,
   "metadata": {
    "collapsed": false
   },
   "outputs": [
    {
     "data": {
      "text/plain": [
       "2011-01-01    3\n",
       "2011-01-02    3\n",
       "2011-01-03    3\n",
       "2011-01-04    3\n",
       "2011-01-03    6\n",
       "2011-01-04    6\n",
       "2011-01-05    6\n",
       "dtype: int64"
      ]
     },
     "execution_count": 72,
     "metadata": {},
     "output_type": "execute_result"
    }
   ],
   "source": [
    "a = pd.Series(index= pd.date_range(\"1/1/2011\", \"1/4/2011\"), data = 3)\n",
    "b = pd.Series(index= pd.date_range(\"1/3/2011\", \"1/11/2011\"), data = 6)\n",
    "c = pd.concat([a,b])\n",
    "c['2011/01/01':'2011/01/05']"
   ]
  },
  {
   "cell_type": "code",
   "execution_count": 62,
   "metadata": {
    "collapsed": false
   },
   "outputs": [
    {
     "data": {
      "text/html": [
       "<div>\n",
       "<table border=\"1\" class=\"dataframe\">\n",
       "  <thead>\n",
       "    <tr style=\"text-align: right;\">\n",
       "      <th></th>\n",
       "      <th>a</th>\n",
       "      <th>b</th>\n",
       "    </tr>\n",
       "  </thead>\n",
       "  <tbody>\n",
       "    <tr>\n",
       "      <th>2011-01-01</th>\n",
       "      <td>3.0</td>\n",
       "      <td>NaN</td>\n",
       "    </tr>\n",
       "    <tr>\n",
       "      <th>2011-01-02</th>\n",
       "      <td>3.0</td>\n",
       "      <td>NaN</td>\n",
       "    </tr>\n",
       "    <tr>\n",
       "      <th>2011-01-03</th>\n",
       "      <td>3.0</td>\n",
       "      <td>NaN</td>\n",
       "    </tr>\n",
       "    <tr>\n",
       "      <th>2011-01-04</th>\n",
       "      <td>3.0</td>\n",
       "      <td>NaN</td>\n",
       "    </tr>\n",
       "    <tr>\n",
       "      <th>2011-01-07</th>\n",
       "      <td>NaN</td>\n",
       "      <td>6.0</td>\n",
       "    </tr>\n",
       "    <tr>\n",
       "      <th>2011-01-08</th>\n",
       "      <td>NaN</td>\n",
       "      <td>6.0</td>\n",
       "    </tr>\n",
       "    <tr>\n",
       "      <th>2011-01-09</th>\n",
       "      <td>NaN</td>\n",
       "      <td>6.0</td>\n",
       "    </tr>\n",
       "    <tr>\n",
       "      <th>2011-01-10</th>\n",
       "      <td>NaN</td>\n",
       "      <td>6.0</td>\n",
       "    </tr>\n",
       "    <tr>\n",
       "      <th>2011-01-11</th>\n",
       "      <td>NaN</td>\n",
       "      <td>6.0</td>\n",
       "    </tr>\n",
       "  </tbody>\n",
       "</table>\n",
       "</div>"
      ],
      "text/plain": [
       "              a    b\n",
       "2011-01-01  3.0  NaN\n",
       "2011-01-02  3.0  NaN\n",
       "2011-01-03  3.0  NaN\n",
       "2011-01-04  3.0  NaN\n",
       "2011-01-07  NaN  6.0\n",
       "2011-01-08  NaN  6.0\n",
       "2011-01-09  NaN  6.0\n",
       "2011-01-10  NaN  6.0\n",
       "2011-01-11  NaN  6.0"
      ]
     },
     "execution_count": 62,
     "metadata": {},
     "output_type": "execute_result"
    }
   ],
   "source": [
    "pd.DataFrame({'a':a,'b':b})"
   ]
  },
  {
   "cell_type": "raw",
   "metadata": {},
   "source": []
  }
 ],
 "metadata": {
  "kernelspec": {
   "display_name": "Python 3",
   "language": "python",
   "name": "python3"
  },
  "language_info": {
   "codemirror_mode": {
    "name": "ipython",
    "version": 3
   },
   "file_extension": ".py",
   "mimetype": "text/x-python",
   "name": "python",
   "nbconvert_exporter": "python",
   "pygments_lexer": "ipython3",
   "version": "3.5.1"
  }
 },
 "nbformat": 4,
 "nbformat_minor": 0
}
