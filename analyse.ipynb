{
 "cells": [
  {
   "cell_type": "code",
   "execution_count": 1,
   "metadata": {
    "collapsed": true
   },
   "outputs": [],
   "source": [
    "import pandas as pd\n",
    "import matplotlib as mpl\n",
    "import matplotlib.pyplot as plt\n",
    "import numpy as np\n",
    "\n",
    "import os\n",
    "os.environ.setdefault('DJANGO_SETTINGS_MODULE', 'politik.settings')\n",
    "import django\n",
    "django.setup()\n",
    "\n",
    "%matplotlib inline"
   ]
  },
  {
   "cell_type": "markdown",
   "metadata": {},
   "source": [
    "# Lidt info at huske på\n",
    "\n",
    "## 4 stemmetyper:\n",
    "    * 1: For\n",
    "    * 2: Imod\n",
    "    * 3: Fraværende\n",
    "    * 4: Hverken for eller imod\n",
    "    \n",
    "## 4 afstemningstyper\n",
    "    * 1: Endelig\n",
    "    * 2: Udvalgsindstilling\n",
    "    * 3: Forslag til vedtagelse\n",
    "    * 4: Ændringsforslag\n",
    "    \n",
    "## 5 Mødetyper\n",
    "    * 1: Møde i salen\n",
    "    * 2: Udvalgsmøde\n",
    "    * 3: Andet møde\n",
    "    * 4: ConciergeMeeting\n",
    "    * 5: Statsrevisormøde\n",
    "    \n",
    "## 12 Aktørtyper\n",
    "    * 5: Person"
   ]
  },
  {
   "cell_type": "markdown",
   "metadata": {},
   "source": [
    "# Hvad kan vi så spørge om...\n",
    "* Hvem stemmer mest nej? (person, parti)\n",
    "* Hvem stemmer mest ja?  (person, parti)\n",
    "* Hvis vi køre PCA (eller MCA eller CorEx) på personer, kommer de så til at cluster efter parti? Er der nogen der hører til et andet sted?\n",
    "* Hvis vi gør det samme på parti niveau ser vi så vestre vs højre fløj?\n",
    "* Hvem er den mest/mindst parti loyale person?\n",
    "* ...\n"
   ]
  },
  {
   "cell_type": "code",
   "execution_count": 36,
   "metadata": {
    "collapsed": false
   },
   "outputs": [],
   "source": [
    "from poligraf.models import Aktør, Stemme\n",
    "from django.db.models import Count, Avg, "
   ]
  },
  {
   "cell_type": "code",
   "execution_count": 90,
   "metadata": {
    "collapsed": false
   },
   "outputs": [],
   "source": [
    "stemt = [list(a.stemme_set.all().values('typeid').annotate(Count('typeid'))) + [{'navn':a.navn}] for a in Aktør.objects.filter(typeid=5)]"
   ]
  },
  {
   "cell_type": "code",
   "execution_count": 121,
   "metadata": {
    "collapsed": false
   },
   "outputs": [],
   "source": [
    "stemme_type = {1:'for', 2:'imod', 3:'fraværende', 4:'neutral'}"
   ]
  },
  {
   "cell_type": "code",
   "execution_count": 122,
   "metadata": {
    "collapsed": false,
    "scrolled": true
   },
   "outputs": [],
   "source": [
    "stemt_better = []\n",
    "for i, x in enumerate(stemt):\n",
    "    linje = {'navn':x[-1]['navn']}\n",
    "    for z in x:\n",
    "        if 'typeid' in z.keys():\n",
    "            if z['typeid'] in [1,2,3,4]:\n",
    "                linje[stemme_type[z['typeid']]] = z['typeid__count']\n",
    "    stemt_better.append(linje)\n",
    "    "
   ]
  },
  {
   "cell_type": "code",
   "execution_count": 125,
   "metadata": {
    "collapsed": false
   },
   "outputs": [
    {
     "data": {
      "text/html": [
       "<div>\n",
       "<table border=\"1\" class=\"dataframe\">\n",
       "  <thead>\n",
       "    <tr style=\"text-align: right;\">\n",
       "      <th></th>\n",
       "      <th>for</th>\n",
       "      <th>fraværende</th>\n",
       "      <th>imod</th>\n",
       "      <th>neutral</th>\n",
       "    </tr>\n",
       "    <tr>\n",
       "      <th>navn</th>\n",
       "      <th></th>\n",
       "      <th></th>\n",
       "      <th></th>\n",
       "      <th></th>\n",
       "    </tr>\n",
       "  </thead>\n",
       "  <tbody>\n",
       "    <tr>\n",
       "      <th>Frank Aaen</th>\n",
       "      <td>337.0</td>\n",
       "      <td>218.0</td>\n",
       "      <td>198.0</td>\n",
       "      <td>12.0</td>\n",
       "    </tr>\n",
       "    <tr>\n",
       "      <th>Nicolai Wammen</th>\n",
       "      <td>160.0</td>\n",
       "      <td>787.0</td>\n",
       "      <td>130.0</td>\n",
       "      <td>3.0</td>\n",
       "    </tr>\n",
       "    <tr>\n",
       "      <th>Sara Olsvig</th>\n",
       "      <td>NaN</td>\n",
       "      <td>358.0</td>\n",
       "      <td>NaN</td>\n",
       "      <td>NaN</td>\n",
       "    </tr>\n",
       "    <tr>\n",
       "      <th>Christine Antorini</th>\n",
       "      <td>246.0</td>\n",
       "      <td>690.0</td>\n",
       "      <td>144.0</td>\n",
       "      <td>NaN</td>\n",
       "    </tr>\n",
       "    <tr>\n",
       "      <th>Alex Ahrendtsen</th>\n",
       "      <td>375.0</td>\n",
       "      <td>440.0</td>\n",
       "      <td>228.0</td>\n",
       "      <td>33.0</td>\n",
       "    </tr>\n",
       "  </tbody>\n",
       "</table>\n",
       "</div>"
      ],
      "text/plain": [
       "                      for  fraværende   imod  neutral\n",
       "navn                                                 \n",
       "Frank Aaen          337.0       218.0  198.0     12.0\n",
       "Nicolai Wammen      160.0       787.0  130.0      3.0\n",
       "Sara Olsvig           NaN       358.0    NaN      NaN\n",
       "Christine Antorini  246.0       690.0  144.0      NaN\n",
       "Alex Ahrendtsen     375.0       440.0  228.0     33.0"
      ]
     },
     "execution_count": 125,
     "metadata": {},
     "output_type": "execute_result"
    }
   ],
   "source": [
    "stemt_data = pd.DataFrame(stemt_better).set_index('navn')\n",
    "stemt_data.head()"
   ]
  },
  {
   "cell_type": "code",
   "execution_count": 127,
   "metadata": {
    "collapsed": false
   },
   "outputs": [
    {
     "data": {
      "text/plain": [
       "<matplotlib.axes._subplots.AxesSubplot at 0x7f5c76c1ec50>"
      ]
     },
     "execution_count": 127,
     "metadata": {},
     "output_type": "execute_result"
    },
    {
     "data": {
      "image/png": "[encoded data removed]",
      "text/plain": [
       "<matplotlib.figure.Figure at 0x7f5c77190828>"
      ]
     },
     "metadata": {},
     "output_type": "display_data"
    }
   ],
   "source": [
    "stemt_data.plot(kind='box')"
   ]
  },
  {
   "cell_type": "code",
   "execution_count": null,
   "metadata": {
    "collapsed": true
   },
   "outputs": [],
   "source": []
  }
 ],
 "metadata": {
  "kernelspec": {
   "display_name": "Python 3",
   "language": "python",
   "name": "python3"
  },
  "language_info": {
   "codemirror_mode": {
    "name": "ipython",
    "version": 3
   },
   "file_extension": ".py",
   "mimetype": "text/x-python",
   "name": "python",
   "nbconvert_exporter": "python",
   "pygments_lexer": "ipython3",
   "version": "3.5.1"
  }
 },
 "nbformat": 4,
 "nbformat_minor": 0
}
