{
 "cells": [
  {
   "cell_type": "code",
   "execution_count": 15,
   "metadata": {
    "collapsed": true
   },
   "outputs": [],
   "source": [
    "import pandas as pd\n",
    "import matplotlib as mpl\n",
    "import matplotlib.pyplot as plt\n",
    "import numpy as np\n",
    "\n",
    "import os\n",
    "os.environ.setdefault('DJANGO_SETTINGS_MODULE', 'politik.settings')\n",
    "import django\n",
    "django.setup()\n",
    "\n",
    "%matplotlib inline"
   ]
  },
  {
   "cell_type": "markdown",
   "metadata": {},
   "source": [
    "# Lidt info at huske på\n",
    "\n",
    "## 4 stemmetyper:\n",
    "    * 1: For\n",
    "    * 2: Imod\n",
    "    * 3: Fraværende\n",
    "    * 4: Hverken for eller imod\n",
    "    \n",
    "## 4 afstemningstyper\n",
    "    * 1: Endelig\n",
    "    * 2: Udvalgsindstilling\n",
    "    * 3: Forslag til vedtagelse\n",
    "    * 4: Ændringsforslag\n",
    "    \n",
    "## 5 Mødetyper\n",
    "    * 1: Møde i salen\n",
    "    * 2: Udvalgsmøde\n",
    "    * 3: Andet møde\n",
    "    * 4: ConciergeMeeting\n",
    "    * 5: Statsrevisormøde\n",
    "    \n",
    "## 12 Aktørtyper\n",
    "    * 5: Person"
   ]
  },
  {
   "cell_type": "markdown",
   "metadata": {},
   "source": [
    "# Hvad kan vi så spørge om...\n",
    "* Hvem stemmer mest nej? (person, parti)\n",
    "* Hvem stemmer mest ja?  (person, parti)\n",
    "* Hvis vi køre PCA (eller MCA eller CorEx) på personer, kommer de så til at cluster efter parti? Er der nogen der hører til et andet sted?\n",
    "* Hvis vi gør det samme på parti niveau ser vi så vestre vs højre fløj?\n",
    "* Hvem er den mest/mindst parti loyale person?\n",
    "* ...\n"
   ]
  },
  {
   "cell_type": "code",
   "execution_count": 2,
   "metadata": {
    "collapsed": false
   },
   "outputs": [],
   "source": [
    "from poligraf.models import Aktør, Stemme\n",
    "from django.db.models import Count, Avg\n",
    "plt.style.use('default')"
   ]
  },
  {
   "cell_type": "code",
   "execution_count": 3,
   "metadata": {
    "collapsed": false
   },
   "outputs": [],
   "source": [
    "stemt = [list(a.stemme_set.all().values('typeid').annotate(Count('typeid'))) + [{'navn':a.navn}] for a in Aktør.objects.filter(typeid=5)]"
   ]
  },
  {
   "cell_type": "code",
   "execution_count": 4,
   "metadata": {
    "collapsed": false
   },
   "outputs": [],
   "source": [
    "stemme_type = {1:'for', 2:'imod', 3:'fraværende', 4:'neutral'}"
   ]
  },
  {
   "cell_type": "code",
   "execution_count": 5,
   "metadata": {
    "collapsed": false,
    "scrolled": true
   },
   "outputs": [],
   "source": [
    "stemt_better = []\n",
    "for i, x in enumerate(stemt):\n",
    "    if len(x)>1:\n",
    "        linje = {'navn':x[-1]['navn']}\n",
    "        for z in x:\n",
    "            if 'typeid' in z.keys():\n",
    "                if z['typeid'] in [1,2,3,4]:\n",
    "                    linje[stemme_type[z['typeid']]] = z['typeid__count']\n",
    "        stemt_better.append(linje)\n",
    "    "
   ]
  },
  {
   "cell_type": "code",
   "execution_count": 6,
   "metadata": {
    "collapsed": false
   },
   "outputs": [
    {
     "data": {
      "text/html": [
       "<div>\n",
       "<table border=\"1\" class=\"dataframe\">\n",
       "  <thead>\n",
       "    <tr style=\"text-align: right;\">\n",
       "      <th></th>\n",
       "      <th>for</th>\n",
       "      <th>fraværende</th>\n",
       "      <th>imod</th>\n",
       "      <th>neutral</th>\n",
       "    </tr>\n",
       "    <tr>\n",
       "      <th>navn</th>\n",
       "      <th></th>\n",
       "      <th></th>\n",
       "      <th></th>\n",
       "      <th></th>\n",
       "    </tr>\n",
       "  </thead>\n",
       "  <tbody>\n",
       "    <tr>\n",
       "      <th>Frank Aaen</th>\n",
       "      <td>337.0</td>\n",
       "      <td>218.0</td>\n",
       "      <td>198.0</td>\n",
       "      <td>12.0</td>\n",
       "    </tr>\n",
       "    <tr>\n",
       "      <th>Nicolai Wammen</th>\n",
       "      <td>160.0</td>\n",
       "      <td>787.0</td>\n",
       "      <td>130.0</td>\n",
       "      <td>3.0</td>\n",
       "    </tr>\n",
       "    <tr>\n",
       "      <th>Sara Olsvig</th>\n",
       "      <td>NaN</td>\n",
       "      <td>358.0</td>\n",
       "      <td>NaN</td>\n",
       "      <td>NaN</td>\n",
       "    </tr>\n",
       "    <tr>\n",
       "      <th>Christine Antorini</th>\n",
       "      <td>246.0</td>\n",
       "      <td>690.0</td>\n",
       "      <td>144.0</td>\n",
       "      <td>NaN</td>\n",
       "    </tr>\n",
       "    <tr>\n",
       "      <th>Alex Ahrendtsen</th>\n",
       "      <td>375.0</td>\n",
       "      <td>440.0</td>\n",
       "      <td>228.0</td>\n",
       "      <td>33.0</td>\n",
       "    </tr>\n",
       "  </tbody>\n",
       "</table>\n",
       "</div>"
      ],
      "text/plain": [
       "                      for  fraværende   imod  neutral\n",
       "navn                                                 \n",
       "Frank Aaen          337.0       218.0  198.0     12.0\n",
       "Nicolai Wammen      160.0       787.0  130.0      3.0\n",
       "Sara Olsvig           NaN       358.0    NaN      NaN\n",
       "Christine Antorini  246.0       690.0  144.0      NaN\n",
       "Alex Ahrendtsen     375.0       440.0  228.0     33.0"
      ]
     },
     "execution_count": 6,
     "metadata": {},
     "output_type": "execute_result"
    }
   ],
   "source": [
    "stemt_data = pd.DataFrame(stemt_better).set_index('navn')\n",
    "stemt_data.head()"
   ]
  },
  {
   "cell_type": "code",
   "execution_count": 7,
   "metadata": {
    "collapsed": false
   },
   "outputs": [
    {
     "data": {
      "text/html": [
       "<div>\n",
       "<table border=\"1\" class=\"dataframe\">\n",
       "  <thead>\n",
       "    <tr style=\"text-align: right;\">\n",
       "      <th></th>\n",
       "      <th>for</th>\n",
       "      <th>fraværende</th>\n",
       "      <th>imod</th>\n",
       "      <th>neutral</th>\n",
       "      <th>sum</th>\n",
       "      <th>pfor</th>\n",
       "      <th>pfraværende</th>\n",
       "      <th>pimod</th>\n",
       "      <th>pneutral</th>\n",
       "    </tr>\n",
       "    <tr>\n",
       "      <th>navn</th>\n",
       "      <th></th>\n",
       "      <th></th>\n",
       "      <th></th>\n",
       "      <th></th>\n",
       "      <th></th>\n",
       "      <th></th>\n",
       "      <th></th>\n",
       "      <th></th>\n",
       "      <th></th>\n",
       "    </tr>\n",
       "  </thead>\n",
       "  <tbody>\n",
       "    <tr>\n",
       "      <th>Frank Aaen</th>\n",
       "      <td>337.0</td>\n",
       "      <td>218.0</td>\n",
       "      <td>198.0</td>\n",
       "      <td>12.0</td>\n",
       "      <td>765.0</td>\n",
       "      <td>0.440523</td>\n",
       "      <td>0.284967</td>\n",
       "      <td>0.258824</td>\n",
       "      <td>0.015686</td>\n",
       "    </tr>\n",
       "    <tr>\n",
       "      <th>Nicolai Wammen</th>\n",
       "      <td>160.0</td>\n",
       "      <td>787.0</td>\n",
       "      <td>130.0</td>\n",
       "      <td>3.0</td>\n",
       "      <td>1080.0</td>\n",
       "      <td>0.148148</td>\n",
       "      <td>0.728704</td>\n",
       "      <td>0.120370</td>\n",
       "      <td>0.002778</td>\n",
       "    </tr>\n",
       "    <tr>\n",
       "      <th>Sara Olsvig</th>\n",
       "      <td>NaN</td>\n",
       "      <td>358.0</td>\n",
       "      <td>NaN</td>\n",
       "      <td>NaN</td>\n",
       "      <td>358.0</td>\n",
       "      <td>NaN</td>\n",
       "      <td>1.000000</td>\n",
       "      <td>NaN</td>\n",
       "      <td>NaN</td>\n",
       "    </tr>\n",
       "    <tr>\n",
       "      <th>Christine Antorini</th>\n",
       "      <td>246.0</td>\n",
       "      <td>690.0</td>\n",
       "      <td>144.0</td>\n",
       "      <td>NaN</td>\n",
       "      <td>1080.0</td>\n",
       "      <td>0.227778</td>\n",
       "      <td>0.638889</td>\n",
       "      <td>0.133333</td>\n",
       "      <td>NaN</td>\n",
       "    </tr>\n",
       "    <tr>\n",
       "      <th>Alex Ahrendtsen</th>\n",
       "      <td>375.0</td>\n",
       "      <td>440.0</td>\n",
       "      <td>228.0</td>\n",
       "      <td>33.0</td>\n",
       "      <td>1076.0</td>\n",
       "      <td>0.348513</td>\n",
       "      <td>0.408922</td>\n",
       "      <td>0.211896</td>\n",
       "      <td>0.030669</td>\n",
       "    </tr>\n",
       "  </tbody>\n",
       "</table>\n",
       "</div>"
      ],
      "text/plain": [
       "                      for  fraværende   imod  neutral     sum      pfor  \\\n",
       "navn                                                                      \n",
       "Frank Aaen          337.0       218.0  198.0     12.0   765.0  0.440523   \n",
       "Nicolai Wammen      160.0       787.0  130.0      3.0  1080.0  0.148148   \n",
       "Sara Olsvig           NaN       358.0    NaN      NaN   358.0       NaN   \n",
       "Christine Antorini  246.0       690.0  144.0      NaN  1080.0  0.227778   \n",
       "Alex Ahrendtsen     375.0       440.0  228.0     33.0  1076.0  0.348513   \n",
       "\n",
       "                    pfraværende     pimod  pneutral  \n",
       "navn                                                 \n",
       "Frank Aaen             0.284967  0.258824  0.015686  \n",
       "Nicolai Wammen         0.728704  0.120370  0.002778  \n",
       "Sara Olsvig            1.000000       NaN       NaN  \n",
       "Christine Antorini     0.638889  0.133333       NaN  \n",
       "Alex Ahrendtsen        0.408922  0.211896  0.030669  "
      ]
     },
     "execution_count": 7,
     "metadata": {},
     "output_type": "execute_result"
    }
   ],
   "source": [
    "stemt_data['sum'] = stemt_data.sum(axis=1)\n",
    "stemt_data['pfor'] = stemt_data['for']/stemt_data['sum']\n",
    "stemt_data['pfraværende'] = stemt_data['fraværende']/stemt_data['sum']\n",
    "stemt_data['pimod'] = stemt_data['imod']/stemt_data['sum']\n",
    "stemt_data['pneutral'] = stemt_data['neutral']/stemt_data['sum']\n",
    "stemt_data.head()"
   ]
  },
  {
   "cell_type": "code",
   "execution_count": 8,
   "metadata": {
    "collapsed": false,
    "scrolled": false
   },
   "outputs": [
    {
     "data": {
      "text/html": [
       "<div>\n",
       "<table border=\"1\" class=\"dataframe\">\n",
       "  <thead>\n",
       "    <tr style=\"text-align: right;\">\n",
       "      <th></th>\n",
       "      <th>for</th>\n",
       "      <th>fraværende</th>\n",
       "      <th>imod</th>\n",
       "      <th>neutral</th>\n",
       "      <th>sum</th>\n",
       "      <th>pfor</th>\n",
       "      <th>pfraværende</th>\n",
       "      <th>pimod</th>\n",
       "      <th>pneutral</th>\n",
       "    </tr>\n",
       "    <tr>\n",
       "      <th>navn</th>\n",
       "      <th></th>\n",
       "      <th></th>\n",
       "      <th></th>\n",
       "      <th></th>\n",
       "      <th></th>\n",
       "      <th></th>\n",
       "      <th></th>\n",
       "      <th></th>\n",
       "      <th></th>\n",
       "    </tr>\n",
       "  </thead>\n",
       "  <tbody>\n",
       "    <tr>\n",
       "      <th>Annika Smith</th>\n",
       "      <td>79.0</td>\n",
       "      <td>NaN</td>\n",
       "      <td>27.0</td>\n",
       "      <td>NaN</td>\n",
       "      <td>106.0</td>\n",
       "      <td>0.745283</td>\n",
       "      <td>NaN</td>\n",
       "      <td>0.254717</td>\n",
       "      <td>NaN</td>\n",
       "    </tr>\n",
       "    <tr>\n",
       "      <th>Sanne Rubinke</th>\n",
       "      <td>75.0</td>\n",
       "      <td>1.0</td>\n",
       "      <td>24.0</td>\n",
       "      <td>1.0</td>\n",
       "      <td>101.0</td>\n",
       "      <td>0.742574</td>\n",
       "      <td>0.009901</td>\n",
       "      <td>0.237624</td>\n",
       "      <td>0.009901</td>\n",
       "    </tr>\n",
       "    <tr>\n",
       "      <th>Benedikte Kiær</th>\n",
       "      <td>69.0</td>\n",
       "      <td>7.0</td>\n",
       "      <td>26.0</td>\n",
       "      <td>8.0</td>\n",
       "      <td>110.0</td>\n",
       "      <td>0.627273</td>\n",
       "      <td>0.063636</td>\n",
       "      <td>0.236364</td>\n",
       "      <td>0.072727</td>\n",
       "    </tr>\n",
       "    <tr>\n",
       "      <th>Jesper Kiel</th>\n",
       "      <td>146.0</td>\n",
       "      <td>8.0</td>\n",
       "      <td>78.0</td>\n",
       "      <td>3.0</td>\n",
       "      <td>235.0</td>\n",
       "      <td>0.621277</td>\n",
       "      <td>0.034043</td>\n",
       "      <td>0.331915</td>\n",
       "      <td>0.012766</td>\n",
       "    </tr>\n",
       "    <tr>\n",
       "      <th>Karl H. Bornhøft</th>\n",
       "      <td>101.0</td>\n",
       "      <td>NaN</td>\n",
       "      <td>67.0</td>\n",
       "      <td>3.0</td>\n",
       "      <td>171.0</td>\n",
       "      <td>0.590643</td>\n",
       "      <td>NaN</td>\n",
       "      <td>0.391813</td>\n",
       "      <td>0.017544</td>\n",
       "    </tr>\n",
       "  </tbody>\n",
       "</table>\n",
       "</div>"
      ],
      "text/plain": [
       "                    for  fraværende  imod  neutral    sum      pfor  \\\n",
       "navn                                                                  \n",
       "Annika Smith       79.0         NaN  27.0      NaN  106.0  0.745283   \n",
       "Sanne Rubinke      75.0         1.0  24.0      1.0  101.0  0.742574   \n",
       "Benedikte Kiær     69.0         7.0  26.0      8.0  110.0  0.627273   \n",
       "Jesper Kiel       146.0         8.0  78.0      3.0  235.0  0.621277   \n",
       "Karl H. Bornhøft  101.0         NaN  67.0      3.0  171.0  0.590643   \n",
       "\n",
       "                  pfraværende     pimod  pneutral  \n",
       "navn                                               \n",
       "Annika Smith              NaN  0.254717       NaN  \n",
       "Sanne Rubinke        0.009901  0.237624  0.009901  \n",
       "Benedikte Kiær       0.063636  0.236364  0.072727  \n",
       "Jesper Kiel          0.034043  0.331915  0.012766  \n",
       "Karl H. Bornhøft          NaN  0.391813  0.017544  "
      ]
     },
     "execution_count": 8,
     "metadata": {},
     "output_type": "execute_result"
    }
   ],
   "source": [
    "stemt_data[stemt_data['sum'] > 100].sort_values('pfor', ascending=False).head()"
   ]
  },
  {
   "cell_type": "code",
   "execution_count": 9,
   "metadata": {
    "collapsed": false
   },
   "outputs": [
    {
     "data": {
      "text/html": [
       "<div>\n",
       "<table border=\"1\" class=\"dataframe\">\n",
       "  <thead>\n",
       "    <tr style=\"text-align: right;\">\n",
       "      <th></th>\n",
       "      <th>for</th>\n",
       "      <th>fraværende</th>\n",
       "      <th>imod</th>\n",
       "      <th>neutral</th>\n",
       "      <th>sum</th>\n",
       "      <th>pfor</th>\n",
       "      <th>pfraværende</th>\n",
       "      <th>pimod</th>\n",
       "      <th>pneutral</th>\n",
       "    </tr>\n",
       "    <tr>\n",
       "      <th>navn</th>\n",
       "      <th></th>\n",
       "      <th></th>\n",
       "      <th></th>\n",
       "      <th></th>\n",
       "      <th></th>\n",
       "      <th></th>\n",
       "      <th></th>\n",
       "      <th></th>\n",
       "      <th></th>\n",
       "    </tr>\n",
       "  </thead>\n",
       "  <tbody>\n",
       "    <tr>\n",
       "      <th>Anders Johansson</th>\n",
       "      <td>83.0</td>\n",
       "      <td>2.0</td>\n",
       "      <td>91.0</td>\n",
       "      <td>4.0</td>\n",
       "      <td>180.0</td>\n",
       "      <td>0.461111</td>\n",
       "      <td>0.011111</td>\n",
       "      <td>0.505556</td>\n",
       "      <td>0.022222</td>\n",
       "    </tr>\n",
       "    <tr>\n",
       "      <th>Sanne Bjørn</th>\n",
       "      <td>85.0</td>\n",
       "      <td>13.0</td>\n",
       "      <td>93.0</td>\n",
       "      <td>NaN</td>\n",
       "      <td>191.0</td>\n",
       "      <td>0.445026</td>\n",
       "      <td>0.068063</td>\n",
       "      <td>0.486911</td>\n",
       "      <td>NaN</td>\n",
       "    </tr>\n",
       "    <tr>\n",
       "      <th>Henrik Dahl</th>\n",
       "      <td>150.0</td>\n",
       "      <td>13.0</td>\n",
       "      <td>147.0</td>\n",
       "      <td>5.0</td>\n",
       "      <td>315.0</td>\n",
       "      <td>0.476190</td>\n",
       "      <td>0.041270</td>\n",
       "      <td>0.466667</td>\n",
       "      <td>0.015873</td>\n",
       "    </tr>\n",
       "    <tr>\n",
       "      <th>Peder Christensen</th>\n",
       "      <td>125.0</td>\n",
       "      <td>10.0</td>\n",
       "      <td>103.0</td>\n",
       "      <td>NaN</td>\n",
       "      <td>238.0</td>\n",
       "      <td>0.525210</td>\n",
       "      <td>0.042017</td>\n",
       "      <td>0.432773</td>\n",
       "      <td>NaN</td>\n",
       "    </tr>\n",
       "    <tr>\n",
       "      <th>Morten Løkkegaard</th>\n",
       "      <td>114.0</td>\n",
       "      <td>54.0</td>\n",
       "      <td>122.0</td>\n",
       "      <td>NaN</td>\n",
       "      <td>290.0</td>\n",
       "      <td>0.393103</td>\n",
       "      <td>0.186207</td>\n",
       "      <td>0.420690</td>\n",
       "      <td>NaN</td>\n",
       "    </tr>\n",
       "  </tbody>\n",
       "</table>\n",
       "</div>"
      ],
      "text/plain": [
       "                     for  fraværende   imod  neutral    sum      pfor  \\\n",
       "navn                                                                    \n",
       "Anders Johansson    83.0         2.0   91.0      4.0  180.0  0.461111   \n",
       "Sanne Bjørn         85.0        13.0   93.0      NaN  191.0  0.445026   \n",
       "Henrik Dahl        150.0        13.0  147.0      5.0  315.0  0.476190   \n",
       "Peder Christensen  125.0        10.0  103.0      NaN  238.0  0.525210   \n",
       "Morten Løkkegaard  114.0        54.0  122.0      NaN  290.0  0.393103   \n",
       "\n",
       "                   pfraværende     pimod  pneutral  \n",
       "navn                                                \n",
       "Anders Johansson      0.011111  0.505556  0.022222  \n",
       "Sanne Bjørn           0.068063  0.486911       NaN  \n",
       "Henrik Dahl           0.041270  0.466667  0.015873  \n",
       "Peder Christensen     0.042017  0.432773       NaN  \n",
       "Morten Løkkegaard     0.186207  0.420690       NaN  "
      ]
     },
     "execution_count": 9,
     "metadata": {},
     "output_type": "execute_result"
    }
   ],
   "source": [
    "stemt_data[stemt_data['sum'] > 100].sort_values('pimod', ascending=False).head()"
   ]
  },
  {
   "cell_type": "code",
   "execution_count": 10,
   "metadata": {
    "collapsed": false
   },
   "outputs": [
    {
     "data": {
      "text/html": [
       "<div>\n",
       "<table border=\"1\" class=\"dataframe\">\n",
       "  <thead>\n",
       "    <tr style=\"text-align: right;\">\n",
       "      <th></th>\n",
       "      <th>for</th>\n",
       "      <th>fraværende</th>\n",
       "      <th>imod</th>\n",
       "      <th>neutral</th>\n",
       "      <th>sum</th>\n",
       "      <th>pfor</th>\n",
       "      <th>pfraværende</th>\n",
       "      <th>pimod</th>\n",
       "      <th>pneutral</th>\n",
       "    </tr>\n",
       "    <tr>\n",
       "      <th>navn</th>\n",
       "      <th></th>\n",
       "      <th></th>\n",
       "      <th></th>\n",
       "      <th></th>\n",
       "      <th></th>\n",
       "      <th></th>\n",
       "      <th></th>\n",
       "      <th></th>\n",
       "      <th></th>\n",
       "    </tr>\n",
       "  </thead>\n",
       "  <tbody>\n",
       "    <tr>\n",
       "      <th>Aaja Chemnitz Larsen</th>\n",
       "      <td>9.0</td>\n",
       "      <td>211.0</td>\n",
       "      <td>13.0</td>\n",
       "      <td>82.0</td>\n",
       "      <td>315.0</td>\n",
       "      <td>0.028571</td>\n",
       "      <td>0.669841</td>\n",
       "      <td>0.041270</td>\n",
       "      <td>0.260317</td>\n",
       "    </tr>\n",
       "    <tr>\n",
       "      <th>Malte Larsen</th>\n",
       "      <td>133.0</td>\n",
       "      <td>38.0</td>\n",
       "      <td>87.0</td>\n",
       "      <td>32.0</td>\n",
       "      <td>290.0</td>\n",
       "      <td>0.458621</td>\n",
       "      <td>0.131034</td>\n",
       "      <td>0.300000</td>\n",
       "      <td>0.110345</td>\n",
       "    </tr>\n",
       "    <tr>\n",
       "      <th>Erik Christensen</th>\n",
       "      <td>172.0</td>\n",
       "      <td>3.0</td>\n",
       "      <td>106.0</td>\n",
       "      <td>34.0</td>\n",
       "      <td>315.0</td>\n",
       "      <td>0.546032</td>\n",
       "      <td>0.009524</td>\n",
       "      <td>0.336508</td>\n",
       "      <td>0.107937</td>\n",
       "    </tr>\n",
       "    <tr>\n",
       "      <th>Kasper Roug</th>\n",
       "      <td>128.0</td>\n",
       "      <td>56.0</td>\n",
       "      <td>81.0</td>\n",
       "      <td>32.0</td>\n",
       "      <td>297.0</td>\n",
       "      <td>0.430976</td>\n",
       "      <td>0.188552</td>\n",
       "      <td>0.272727</td>\n",
       "      <td>0.107744</td>\n",
       "    </tr>\n",
       "    <tr>\n",
       "      <th>Daniel Toft Jakobsen</th>\n",
       "      <td>137.0</td>\n",
       "      <td>45.0</td>\n",
       "      <td>106.0</td>\n",
       "      <td>34.0</td>\n",
       "      <td>322.0</td>\n",
       "      <td>0.425466</td>\n",
       "      <td>0.139752</td>\n",
       "      <td>0.329193</td>\n",
       "      <td>0.105590</td>\n",
       "    </tr>\n",
       "  </tbody>\n",
       "</table>\n",
       "</div>"
      ],
      "text/plain": [
       "                        for  fraværende   imod  neutral    sum      pfor  \\\n",
       "navn                                                                       \n",
       "Aaja Chemnitz Larsen    9.0       211.0   13.0     82.0  315.0  0.028571   \n",
       "Malte Larsen          133.0        38.0   87.0     32.0  290.0  0.458621   \n",
       "Erik Christensen      172.0         3.0  106.0     34.0  315.0  0.546032   \n",
       "Kasper Roug           128.0        56.0   81.0     32.0  297.0  0.430976   \n",
       "Daniel Toft Jakobsen  137.0        45.0  106.0     34.0  322.0  0.425466   \n",
       "\n",
       "                      pfraværende     pimod  pneutral  \n",
       "navn                                                   \n",
       "Aaja Chemnitz Larsen     0.669841  0.041270  0.260317  \n",
       "Malte Larsen             0.131034  0.300000  0.110345  \n",
       "Erik Christensen         0.009524  0.336508  0.107937  \n",
       "Kasper Roug              0.188552  0.272727  0.107744  \n",
       "Daniel Toft Jakobsen     0.139752  0.329193  0.105590  "
      ]
     },
     "execution_count": 10,
     "metadata": {},
     "output_type": "execute_result"
    }
   ],
   "source": [
    "stemt_data[stemt_data['sum'] > 100].sort_values('pneutral', ascending=False).head()"
   ]
  },
  {
   "cell_type": "code",
   "execution_count": 11,
   "metadata": {
    "collapsed": true
   },
   "outputs": [],
   "source": [
    "from scipy.stats import linregress"
   ]
  },
  {
   "cell_type": "code",
   "execution_count": 88,
   "metadata": {
    "collapsed": false
   },
   "outputs": [
    {
     "data": {
      "text/plain": [
       "<matplotlib.text.Text at 0x7fafcbd7fda0>"
      ]
     },
     "execution_count": 88,
     "metadata": {},
     "output_type": "execute_result"
    },
    {
     "data": {
      "image/png": "[encoded data removed]",
      "text/plain": [
       "<matplotlib.figure.Figure at 0x7fafcbdd9f60>"
      ]
     },
     "metadata": {},
     "output_type": "display_data"
    }
   ],
   "source": [
    "ax = stemt_data.plot(kind='scatter', x='imod', y='for', xlim=(0,500), ylim=(0,700), figsize=(7.14,10), s=stemt_data['sum']/10, alpha=0.5)\n",
    "slope, intercept, r_value, p_value, std_err = linregress(stemt_data.dropna()['imod'], stemt_data.dropna()['for'])\n",
    "ax.plot(range(700), [slope*x+intercept for x in range(700)])\n",
    "ax.text(100, 600, r'Slope: {:.2f}'.format(slope), fontsize=15)\n",
    "ax.text(100, 550, r'$R^2$: {:.2f}'.format(r_value**2), fontsize=15)"
   ]
  },
  {
   "cell_type": "code",
   "execution_count": 92,
   "metadata": {
    "collapsed": false
   },
   "outputs": [
    {
     "data": {
      "text/plain": [
       "<matplotlib.text.Text at 0x7fafcbad4eb8>"
      ]
     },
     "execution_count": 92,
     "metadata": {},
     "output_type": "execute_result"
    },
    {
     "data": {
      "image/png": "[encoded data removed]",
      "text/plain": [
       "<matplotlib.figure.Figure at 0x7fafcbc418d0>"
      ]
     },
     "metadata": {},
     "output_type": "display_data"
    }
   ],
   "source": [
    "ax = stemt_data.plot(kind='scatter', x='pimod', y='pfor', figsize=(6,8), xlim=(0,0.6), ylim=(0,0.8), s=stemt_data['sum']/10, alpha=0.5)\n",
    "slope, intercept, r_value, p_value, std_err = linregress(stemt_data.dropna()['pimod'], stemt_data.dropna()['pfor'])\n",
    "ax.plot(np.arange(0,1,0.1), [slope*x+intercept for x in np.arange(0,1,0.1)])\n",
    "ax.text(0.1, 0.7, r'Slope: {:.2f}'.format(slope), fontsize=15)\n",
    "ax.text(0.1, 0.65, r'$R^2$: {:.2f}'.format(r_value**2), fontsize=15)"
   ]
  },
  {
   "cell_type": "code",
   "execution_count": 94,
   "metadata": {
    "collapsed": false
   },
   "outputs": [
    {
     "data": {
      "text/plain": [
       "<matplotlib.axes._subplots.AxesSubplot at 0x7fafcba39e48>"
      ]
     },
     "execution_count": 94,
     "metadata": {},
     "output_type": "execute_result"
    },
    {
     "data": {
      "image/png": "[encoded data removed]",
      "text/plain": [
       "<matplotlib.figure.Figure at 0x7fafcba73f60>"
      ]
     },
     "metadata": {},
     "output_type": "display_data"
    }
   ],
   "source": [
    "(stemt_data['for']/stemt_data['imod']).plot(kind='hist', bins=20)"
   ]
  },
  {
   "cell_type": "code",
   "execution_count": 96,
   "metadata": {
    "collapsed": false
   },
   "outputs": [
    {
     "data": {
      "text/html": [
       "<div>\n",
       "<table border=\"1\" class=\"dataframe\">\n",
       "  <thead>\n",
       "    <tr style=\"text-align: right;\">\n",
       "      <th></th>\n",
       "      <th>for</th>\n",
       "      <th>fraværende</th>\n",
       "      <th>imod</th>\n",
       "      <th>neutral</th>\n",
       "      <th>sum</th>\n",
       "      <th>pfor</th>\n",
       "      <th>pfraværende</th>\n",
       "      <th>pimod</th>\n",
       "      <th>pneutral</th>\n",
       "    </tr>\n",
       "    <tr>\n",
       "      <th>navn</th>\n",
       "      <th></th>\n",
       "      <th></th>\n",
       "      <th></th>\n",
       "      <th></th>\n",
       "      <th></th>\n",
       "      <th></th>\n",
       "      <th></th>\n",
       "      <th></th>\n",
       "      <th></th>\n",
       "    </tr>\n",
       "  </thead>\n",
       "  <tbody>\n",
       "    <tr>\n",
       "      <th>Frank Aaen</th>\n",
       "      <td>337.0</td>\n",
       "      <td>218.0</td>\n",
       "      <td>198.0</td>\n",
       "      <td>12.0</td>\n",
       "      <td>765.0</td>\n",
       "      <td>0.440523</td>\n",
       "      <td>0.284967</td>\n",
       "      <td>0.258824</td>\n",
       "      <td>0.015686</td>\n",
       "    </tr>\n",
       "    <tr>\n",
       "      <th>Nicolai Wammen</th>\n",
       "      <td>160.0</td>\n",
       "      <td>787.0</td>\n",
       "      <td>130.0</td>\n",
       "      <td>3.0</td>\n",
       "      <td>1080.0</td>\n",
       "      <td>0.148148</td>\n",
       "      <td>0.728704</td>\n",
       "      <td>0.120370</td>\n",
       "      <td>0.002778</td>\n",
       "    </tr>\n",
       "    <tr>\n",
       "      <th>Sara Olsvig</th>\n",
       "      <td>NaN</td>\n",
       "      <td>358.0</td>\n",
       "      <td>NaN</td>\n",
       "      <td>NaN</td>\n",
       "      <td>358.0</td>\n",
       "      <td>NaN</td>\n",
       "      <td>1.000000</td>\n",
       "      <td>NaN</td>\n",
       "      <td>NaN</td>\n",
       "    </tr>\n",
       "    <tr>\n",
       "      <th>Christine Antorini</th>\n",
       "      <td>246.0</td>\n",
       "      <td>690.0</td>\n",
       "      <td>144.0</td>\n",
       "      <td>NaN</td>\n",
       "      <td>1080.0</td>\n",
       "      <td>0.227778</td>\n",
       "      <td>0.638889</td>\n",
       "      <td>0.133333</td>\n",
       "      <td>NaN</td>\n",
       "    </tr>\n",
       "    <tr>\n",
       "      <th>Alex Ahrendtsen</th>\n",
       "      <td>375.0</td>\n",
       "      <td>440.0</td>\n",
       "      <td>228.0</td>\n",
       "      <td>33.0</td>\n",
       "      <td>1076.0</td>\n",
       "      <td>0.348513</td>\n",
       "      <td>0.408922</td>\n",
       "      <td>0.211896</td>\n",
       "      <td>0.030669</td>\n",
       "    </tr>\n",
       "  </tbody>\n",
       "</table>\n",
       "</div>"
      ],
      "text/plain": [
       "                      for  fraværende   imod  neutral     sum      pfor  \\\n",
       "navn                                                                      \n",
       "Frank Aaen          337.0       218.0  198.0     12.0   765.0  0.440523   \n",
       "Nicolai Wammen      160.0       787.0  130.0      3.0  1080.0  0.148148   \n",
       "Sara Olsvig           NaN       358.0    NaN      NaN   358.0       NaN   \n",
       "Christine Antorini  246.0       690.0  144.0      NaN  1080.0  0.227778   \n",
       "Alex Ahrendtsen     375.0       440.0  228.0     33.0  1076.0  0.348513   \n",
       "\n",
       "                    pfraværende     pimod  pneutral  \n",
       "navn                                                 \n",
       "Frank Aaen             0.284967  0.258824  0.015686  \n",
       "Nicolai Wammen         0.728704  0.120370  0.002778  \n",
       "Sara Olsvig            1.000000       NaN       NaN  \n",
       "Christine Antorini     0.638889  0.133333       NaN  \n",
       "Alex Ahrendtsen        0.408922  0.211896  0.030669  "
      ]
     },
     "execution_count": 96,
     "metadata": {},
     "output_type": "execute_result"
    }
   ],
   "source": [
    "stemt_data.head()"
   ]
  },
  {
   "cell_type": "code",
   "execution_count": 100,
   "metadata": {
    "collapsed": false
   },
   "outputs": [
    {
     "data": {
      "text/plain": [
       "1.7020202020202018"
      ]
     },
     "execution_count": 100,
     "metadata": {},
     "output_type": "execute_result"
    }
   ],
   "source": [
    "stemt_data.loc['Frank Aaen']['pfor']/stemt_data.loc['Frank Aaen']['pimod']"
   ]
  },
  {
   "cell_type": "code",
   "execution_count": null,
   "metadata": {
    "collapsed": true
   },
   "outputs": [],
   "source": []
  }
 ],
 "metadata": {
  "kernelspec": {
   "display_name": "Python 3",
   "language": "python",
   "name": "python3"
  },
  "language_info": {
   "codemirror_mode": {
    "name": "ipython",
    "version": 3
   },
   "file_extension": ".py",
   "mimetype": "text/x-python",
   "name": "python",
   "nbconvert_exporter": "python",
   "pygments_lexer": "ipython3",
   "version": "3.5.1"
  }
 },
 "nbformat": 4,
 "nbformat_minor": 0
}
