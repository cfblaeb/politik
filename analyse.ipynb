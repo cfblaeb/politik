{
 "cells": [
  {
   "cell_type": "markdown",
   "metadata": {},
   "source": [
    "# Hvad er det her?\n",
    "____\n",
    "### Jeg tænkte det kunne være interessant at kigge lidt på folketingets stemme data.\n",
    "### Det her dokument går lidt løst frem og undersøger diverse aspekter om data'ene undervejs.\n",
    "### Det betyder at del-resultaterne ikke bør tages for 100% sandhed da jeg ikke har det fulde billede endnu"
   ]
  },
  {
   "cell_type": "markdown",
   "metadata": {},
   "source": [
    "# Lidt info at huske på\n",
    "\n",
    "## 4 stemmetyper:\n",
    "    * 1: For\n",
    "    * 2: Imod\n",
    "    * 3: Fraværende\n",
    "    * 4: Hverken for eller imod\n",
    "    \n",
    "    \n",
    "## 12 Aktørtyper\n",
    "    * 4: Parti\n",
    "    * 5: Person"
   ]
  },
  {
   "cell_type": "markdown",
   "metadata": {},
   "source": [
    "# Hvad kan vi så spørge om...\n",
    "* Hvem stemmer mest nej? (person, parti)\n",
    "* Hvem stemmer mest ja?  (person, parti)\n",
    "* Hvis vi køre PCA (eller MCA eller CorEx) på personer, kommer de så til at cluster efter parti? Er der nogen der hører til et andet sted?\n",
    "* Hvis vi gør det samme på parti niveau ser vi så vestre vs højre fløj?\n",
    "* Hvem er den mest/mindst parti loyale person?\n",
    "* ...\n",
    "* Er der et mindre antal afstemninger der hvis samlede resultat kan adskille alle partierne således at de kunne bruges som en test til at se hvem du er mest enige med?"
   ]
  },
  {
   "cell_type": "code",
   "execution_count": 1,
   "metadata": {
    "collapsed": false
   },
   "outputs": [
    {
     "data": {
      "text/html": [
       "\n",
       "    <div class=\"bk-banner\">\n",
       "        <a href=\"http://bokeh.pydata.org\" target=\"_blank\" class=\"bk-logo bk-logo-small bk-logo-notebook\"></a>\n",
       "        <span id=\"ddb95a63-86f1-45e7-a0d1-e028dc74861b\">Loading BokehJS ...</span>\n",
       "    </div>"
      ]
     },
     "metadata": {},
     "output_type": "display_data"
    },
    {
     "data": {
      "application/javascript": [
       "\n",
       "(function(global) {\n",
       "  function now() {\n",
       "    return new Date();\n",
       "  }\n",
       "\n",
       "  if (typeof (window._bokeh_onload_callbacks) === \"undefined\") {\n",
       "    window._bokeh_onload_callbacks = [];\n",
       "  }\n",
       "\n",
       "  function run_callbacks() {\n",
       "    window._bokeh_onload_callbacks.forEach(function(callback) { callback() });\n",
       "    delete window._bokeh_onload_callbacks\n",
       "    console.info(\"Bokeh: all callbacks have finished\");\n",
       "  }\n",
       "\n",
       "  function load_libs(js_urls, callback) {\n",
       "    window._bokeh_onload_callbacks.push(callback);\n",
       "    if (window._bokeh_is_loading > 0) {\n",
       "      console.log(\"Bokeh: BokehJS is being loaded, scheduling callback at\", now());\n",
       "      return null;\n",
       "    }\n",
       "    if (js_urls == null || js_urls.length === 0) {\n",
       "      run_callbacks();\n",
       "      return null;\n",
       "    }\n",
       "    console.log(\"Bokeh: BokehJS not loaded, scheduling load and callback at\", now());\n",
       "    window._bokeh_is_loading = js_urls.length;\n",
       "    for (var i = 0; i < js_urls.length; i++) {\n",
       "      var url = js_urls[i];\n",
       "      var s = document.createElement('script');\n",
       "      s.src = url;\n",
       "      s.async = false;\n",
       "      s.onreadystatechange = s.onload = function() {\n",
       "        window._bokeh_is_loading--;\n",
       "        if (window._bokeh_is_loading === 0) {\n",
       "          console.log(\"Bokeh: all BokehJS libraries loaded\");\n",
       "          run_callbacks()\n",
       "        }\n",
       "      };\n",
       "      s.onerror = function() {\n",
       "        console.warn(\"failed to load library \" + url);\n",
       "      };\n",
       "      console.log(\"Bokeh: injecting script tag for BokehJS library: \", url);\n",
       "      document.getElementsByTagName(\"head\")[0].appendChild(s);\n",
       "    }\n",
       "  };\n",
       "\n",
       "  var js_urls = ['https://cdn.pydata.org/bokeh/release/bokeh-0.11.1.min.js', 'https://cdn.pydata.org/bokeh/release/bokeh-widgets-0.11.1.min.js', 'https://cdn.pydata.org/bokeh/release/bokeh-compiler-0.11.1.min.js'];\n",
       "\n",
       "  var inline_js = [\n",
       "    function(Bokeh) {\n",
       "      Bokeh.set_log_level(\"info\");\n",
       "    },\n",
       "    \n",
       "    function(Bokeh) {\n",
       "      Bokeh.$(\"#ddb95a63-86f1-45e7-a0d1-e028dc74861b\").text(\"BokehJS successfully loaded\");\n",
       "    },\n",
       "    function(Bokeh) {\n",
       "      console.log(\"Bokeh: injecting CSS: https://cdn.pydata.org/bokeh/release/bokeh-0.11.1.min.css\");\n",
       "      Bokeh.embed.inject_css(\"https://cdn.pydata.org/bokeh/release/bokeh-0.11.1.min.css\");\n",
       "      console.log(\"Bokeh: injecting CSS: https://cdn.pydata.org/bokeh/release/bokeh-widgets-0.11.1.min.css\");\n",
       "      Bokeh.embed.inject_css(\"https://cdn.pydata.org/bokeh/release/bokeh-widgets-0.11.1.min.css\");\n",
       "    }\n",
       "  ];\n",
       "\n",
       "  function run_inline_js() {\n",
       "    for (var i = 0; i < inline_js.length; i++) {\n",
       "      inline_js[i](window.Bokeh);\n",
       "    }\n",
       "  }\n",
       "\n",
       "  if (window._bokeh_is_loading === 0) {\n",
       "    console.log(\"Bokeh: BokehJS loaded, going straight to plotting\");\n",
       "    run_inline_js();\n",
       "  } else {\n",
       "    load_libs(js_urls, function() {\n",
       "      console.log(\"Bokeh: BokehJS plotting callback run at\", now());\n",
       "      run_inline_js();\n",
       "    });\n",
       "  }\n",
       "}(this));"
      ]
     },
     "metadata": {},
     "output_type": "display_data"
    }
   ],
   "source": [
    "#import ting og sager til grafer og databehandling\n",
    "import pandas as pd\n",
    "import matplotlib as mpl\n",
    "import matplotlib.pyplot as plt\n",
    "import numpy as np\n",
    "\n",
    "#import django til at læse databasen\n",
    "import os\n",
    "os.environ.setdefault('DJANGO_SETTINGS_MODULE', 'politik.settings')\n",
    "import django\n",
    "django.setup()\n",
    "from django.db.models import Count, Avg\n",
    "\n",
    "from scipy.stats import linregress\n",
    "\n",
    "from poligraf import models\n",
    "from datetime import datetime\n",
    "from bokeh.plotting import figure, output_notebook, show, ColumnDataSource\n",
    "from bokeh.models import HoverTool, Range1d\n",
    "from bokeh.mpl import to_bokeh\n",
    "from bokeh.charts import Bar\n",
    "output_notebook()"
   ]
  },
  {
   "cell_type": "code",
   "execution_count": 2,
   "metadata": {
    "collapsed": false,
    "scrolled": true
   },
   "outputs": [],
   "source": [
    "#Der er en del partier der har skiftet navn gennem årerne så her er en dict til at holde styr på det\n",
    "parti_dual_navn = {\n",
    "    'Alternativet':'Alternativet',\n",
    "    'Centrum-demokraterne':'Centrum-demokraterne',\n",
    "    'Danmarks Retsforbund':'Danmarks Retsforbund',\n",
    "    'Danmarks kommunistiske parti':'Danmarks kommunistiske parti',\n",
    "    'Dansk Folkeparti':'Dansk Folkeparti',\n",
    "    'De frie demokrater':'De frie demokrater',\n",
    "    'De moderate':'De moderate',\n",
    "    'De uafhængige':'De uafhængige',\n",
    "    'Demokratisk Folkeparti':'Demokratisk Folkeparti',\n",
    "    'Den socialistiske arbejdsgruppe':'Den socialistiske arbejdsgruppe',\n",
    "    'Det Konservative Folkeparti':'Det Konservative Folkeparti',\n",
    "    'Det Liberale Højre':'Det Liberale Højre',\n",
    "    'Det Radikale Venstre':'Radikale Venstre',\n",
    "    'Enhedslisten':'Enhedslisten',\n",
    "    'Enhedslisten - De Rød-Grønne':'Enhedslisten',\n",
    "    'Erhvervspartiet':'Erhvervspartiet',\n",
    "    'Folkeunionen':'Folkeunionen',\n",
    "    'Fredspolitisk folkeparti':'Fredspolitisk folkeparti',\n",
    "    'Fremskridtspartiet':'Fremskridtspartiet',\n",
    "    'Frihed 2000':'Fremskridtspartiet',\n",
    "    'Fælles Kurs':'Fælles Kurs',\n",
    "    'Fællespartiet':'Fællespartiet',\n",
    "    'Fólkaflokkurin':'Fólkaflokkurin',\n",
    "    'Inuit Ataqatigiit':'Inuit Ataqatigiit',\n",
    "    'Javnaðarflokkurin':'Javnaðarflokkurin',\n",
    "    'Kristeligt Folkeparti':'Kristeligt Folkeparti',\n",
    "    'Kristeligt folkeparti':'Kristeligt Folkeparti',\n",
    "    'Kristendemokraterne':'Kristendemokraterne',\n",
    "    'Liberal Alliance':'Liberal Alliance',\n",
    "    'Liberalt centrum':'Liberalt centrum',\n",
    "    'Ny Alliance':'Liberal Alliance',\n",
    "    'Radikale Venstre':'Radikale Venstre',\n",
    "    'Sambandsflokkurin':'Sambandsflokkurin',\n",
    "    'Siumut':'Siumut',\n",
    "    'Slesvigsk parti':'Slesvigsk parti',\n",
    "    'Socialdemokratiet':'Socialdemokratiet',\n",
    "    'Socialistisk Folkeparti':'Socialistisk Folkeparti',\n",
    "    'Tjóðveldi':'Tjóðveldi',\n",
    "    'Tjóðveldisflokkurin':'Tjóðveldisflokkurin',\n",
    "    'Trivselspartiet':'Trivselspartiet',\n",
    "    'Uden for folketingsgrupperne - Anders Møller':'Uden for folketingsgrupperne - Anders Møller',\n",
    "    'Uden for folketingsgrupperne - Anders Storgaard':'Uden for folketingsgrupperne - Anders Storgaard',\n",
    "    'Uden for folketingsgrupperne - Anker Tang Sørensen':'Uden for folketingsgrupperne - Anker Tang Sørensen',\n",
    "    'Uden for folketingsgrupperne - Anne Grete Holmsgaard':'Uden for folketingsgrupperne - Anne Grete Holmsgaard',\n",
    "    'Uden for folketingsgrupperne - Arne Bjerregaard':'Uden for folketingsgrupperne - Arne Bjerregaard',\n",
    "    'Uden for folketingsgrupperne - Arne Melchior':'Uden for folketingsgrupperne - Arne Melchior',\n",
    "    'Uden for folketingsgrupperne - Asger Lindinger':'Uden for folketingsgrupperne - Asger Lindinger',\n",
    "    'Uden for folketingsgrupperne - Bente Juncker':'Uden for folketingsgrupperne - Bente Juncker',\n",
    "    'Uden for folketingsgrupperne - Bjørn Elmquist':'Uden for folketingsgrupperne - Bjørn Elmquist',\n",
    "    'Uden for folketingsgrupperne - Børge Diderichsen':'Uden for folketingsgrupperne - Børge Diderichsen',\n",
    "    'Uden for folketingsgrupperne - Christian H. Hansen':'Uden for folketingsgrupperne - Christian H. Hansen',\n",
    "    'Uden for folketingsgrupperne - Erik A. Jensen':'Uden for folketingsgrupperne - Erik A. Jensen',\n",
    "    'Uden for folketingsgrupperne - Erling Askjær Jørgensen':'Uden for folketingsgrupperne - Erling Askjær Jørgensen',\n",
    "    'Uden for folketingsgrupperne - Flemming Oppfeldt':'Uden for folketingsgrupperne - Flemming Oppfeldt',\n",
    "    'Uden for folketingsgrupperne - Frank Dahlgaard':'Uden for folketingsgrupperne - Frank Dahlgaard',\n",
    "    'Uden for folketingsgrupperne - Gitte Seeberg':'Uden for folketingsgrupperne - Gitte Seeberg',\n",
    "    'Uden for folketingsgrupperne - Hans Jørgen Iversen':'Uden for folketingsgrupperne - Hans Jørgen Iversen',\n",
    "    'Uden for folketingsgrupperne - Hans Jørgen Lembourn':'Uden for folketingsgrupperne - Hans Jørgen Lembourn',\n",
    "    'Uden for folketingsgrupperne - Herluf Rasmussen':'Uden for folketingsgrupperne - Herluf Rasmussen',\n",
    "    'Uden for folketingsgrupperne - Hugo Holm':'Uden for folketingsgrupperne - Hugo Holm',\n",
    "    'Uden for folketingsgrupperne - Inge Refshauge':'Uden for folketingsgrupperne - Inge Refshauge',\n",
    "    'Uden for folketingsgrupperne - Jacob Haugaard ':'Uden for folketingsgrupperne - Jacob Haugaard ',\n",
    "    'Uden for folketingsgrupperne - Jørgen Junior':'Uden for folketingsgrupperne - Jørgen Junior',\n",
    "    'Uden for folketingsgrupperne - Jørgen Lenger':'Uden for folketingsgrupperne - Jørgen Lenger',\n",
    "    'Uden for folketingsgrupperne - Jørgen Poulsen':'Uden for folketingsgrupperne - Jørgen Poulsen',\n",
    "    'Uden for folketingsgrupperne - Kim Behnke':'Uden for folketingsgrupperne - Kim Behnke',\n",
    "    'Uden for folketingsgrupperne - Kirsten Jacobsen':'Uden for folketingsgrupperne - Kirsten Jacobsen',\n",
    "    'Uden for folketingsgrupperne - Leif Mikkelsen':'Uden for folketingsgrupperne - Leif Mikkelsen',\n",
    "    'Uden for folketingsgrupperne - Louise Frevert':'Uden for folketingsgrupperne - Louise Frevert',\n",
    "    'Uden for folketingsgrupperne - Mogens Andreasen':'Uden for folketingsgrupperne - Mogens Andreasen',\n",
    "    'Uden for folketingsgrupperne - Morten Messerschmidt':'Uden for folketingsgrupperne - Morten Messerschmidt',\n",
    "    'Uden for folketingsgrupperne - Naser Khader':'Uden for folketingsgrupperne - Naser Khader',\n",
    "    'Uden for folketingsgrupperne - Niels Vestergaard Eriksen':'Uden for folketingsgrupperne - Niels Vestergaard Eriksen',\n",
    "    'Uden for folketingsgrupperne - Niels Westerby':'Uden for folketingsgrupperne - Niels Westerby',\n",
    "    'Uden for folketingsgrupperne - Ole Donner':'Uden for folketingsgrupperne - Ole Donner',\n",
    "    'Uden for folketingsgrupperne - Per Ørum Jørgensen':'Uden for folketingsgrupperne - Per Ørum Jørgensen',\n",
    "    'Uden for folketingsgrupperne - Peter Brixtofte':'Uden for folketingsgrupperne - Peter Brixtofte',\n",
    "    'Uden for folketingsgrupperne - Pia Christmas-Møller':'Uden for folketingsgrupperne - Pia Christmas-Møller',\n",
    "    'Uden for folketingsgrupperne - Simon Emil Ammitzbøll':'Uden for folketingsgrupperne - Simon Emil Ammitzbøll',\n",
    "    'Uden for folketingsgrupperne - Svend Bay':'Uden for folketingsgrupperne - Svend Bay',\n",
    "    'Uden for folketingsgrupperne - Thorkild B. Fransgaard':'Uden for folketingsgrupperne - Thorkild B. Fransgaard',\n",
    "    'Uden for folketingsgrupperne - Thure Barsøe-Carnfeldt':'Uden for folketingsgrupperne - Thure Barsøe-Carnfeldt',\n",
    "    'Uden for folketingsgrupperne - Uffe Elbæk':'Uden for folketingsgrupperne - Uffe Elbæk',\n",
    "    'Uden for folketingsgrupperne - Uffe Thorndal':'Uden for folketingsgrupperne - Uffe Thorndal',\n",
    "    'Uden for folketingsgrupperne - valgt i Grønland':'Uden for folketingsgrupperne - valgt i Grønland',\n",
    "    'Uden for folketingsgrupperne - valgt på Færøerne':'Uden for folketingsgrupperne - valgt på Færøerne',\n",
    "    'Venstre, Danmarks Liberale Parti':'Venstre, Danmarks Liberale Parti',\n",
    "    'Venstresocialisterne':'Venstresocialisterne'\n",
    "}"
   ]
  },
  {
   "cell_type": "code",
   "execution_count": 14,
   "metadata": {
    "collapsed": false
   },
   "outputs": [
    {
     "data": {
      "text/html": [
       "<div>\n",
       "<table border=\"1\" class=\"dataframe\">\n",
       "  <thead>\n",
       "    <tr style=\"text-align: right;\">\n",
       "      <th></th>\n",
       "      <th>afstemning</th>\n",
       "      <th>dato</th>\n",
       "      <th>navn</th>\n",
       "      <th>navn_id</th>\n",
       "      <th>stemt</th>\n",
       "    </tr>\n",
       "  </thead>\n",
       "  <tbody>\n",
       "    <tr>\n",
       "      <th>0</th>\n",
       "      <td>1</td>\n",
       "      <td>2014-09-09</td>\n",
       "      <td>Eigil Andersen</td>\n",
       "      <td>158</td>\n",
       "      <td>1</td>\n",
       "    </tr>\n",
       "    <tr>\n",
       "      <th>1</th>\n",
       "      <td>1</td>\n",
       "      <td>2014-09-09</td>\n",
       "      <td>Tom Behnke</td>\n",
       "      <td>71</td>\n",
       "      <td>1</td>\n",
       "    </tr>\n",
       "    <tr>\n",
       "      <th>2</th>\n",
       "      <td>1</td>\n",
       "      <td>2014-09-09</td>\n",
       "      <td>Liselott Blixt</td>\n",
       "      <td>50</td>\n",
       "      <td>1</td>\n",
       "    </tr>\n",
       "    <tr>\n",
       "      <th>3</th>\n",
       "      <td>1</td>\n",
       "      <td>2014-09-09</td>\n",
       "      <td>Erling Bonnesen</td>\n",
       "      <td>49</td>\n",
       "      <td>1</td>\n",
       "    </tr>\n",
       "    <tr>\n",
       "      <th>4</th>\n",
       "      <td>1</td>\n",
       "      <td>2014-09-09</td>\n",
       "      <td>Bent Bøgsted</td>\n",
       "      <td>183</td>\n",
       "      <td>1</td>\n",
       "    </tr>\n",
       "  </tbody>\n",
       "</table>\n",
       "</div>"
      ],
      "text/plain": [
       "   afstemning       dato             navn  navn_id  stemt\n",
       "0           1 2014-09-09   Eigil Andersen      158      1\n",
       "1           1 2014-09-09       Tom Behnke       71      1\n",
       "2           1 2014-09-09   Liselott Blixt       50      1\n",
       "3           1 2014-09-09  Erling Bonnesen       49      1\n",
       "4           1 2014-09-09     Bent Bøgsted      183      1"
      ]
     },
     "execution_count": 14,
     "metadata": {},
     "output_type": "execute_result"
    }
   ],
   "source": [
    "#Vi laver data'ene om til en dataframe med afstemning, dato, navn og hvad folk stemte\n",
    "\n",
    "stemmetyper = {1:'for', 2:'imod', 3:'fraværende', 4:'neutral'}\n",
    "stemmer = pd.DataFrame([{'afstemning':stemme.afstemningid.pk, \n",
    "            'stemt': stemme.typeid_id,#stemmetyper[stemme.typeid_id], \n",
    "            'navn': stemme.aktørid.navn,\n",
    "            'navn_id': stemme.aktørid_id,\n",
    "            'dato':datetime.strptime(stemme.afstemningid.mødeid.dato.split(\"T\")[0], \"%Y-%m-%d\")} \n",
    "           for stemme in models.Stemme.objects.all().prefetch_related('aktørid', 'afstemningid__mødeid')])\n",
    "stemmer.head()"
   ]
  },
  {
   "cell_type": "code",
   "execution_count": 15,
   "metadata": {
    "collapsed": false
   },
   "outputs": [
    {
     "data": {
      "text/html": [
       "<div>\n",
       "<table border=\"1\" class=\"dataframe\">\n",
       "  <thead>\n",
       "    <tr style=\"text-align: right;\">\n",
       "      <th></th>\n",
       "      <th>fra</th>\n",
       "      <th>id</th>\n",
       "      <th>parti</th>\n",
       "      <th>til</th>\n",
       "    </tr>\n",
       "  </thead>\n",
       "  <tbody>\n",
       "    <tr>\n",
       "      <th>0</th>\n",
       "      <td>1900-01-01</td>\n",
       "      <td>951</td>\n",
       "      <td>Socialdemokratiet</td>\n",
       "      <td>2100-01-01</td>\n",
       "    </tr>\n",
       "    <tr>\n",
       "      <th>1</th>\n",
       "      <td>1900-01-01</td>\n",
       "      <td>1727</td>\n",
       "      <td>Socialdemokratiet</td>\n",
       "      <td>2100-01-01</td>\n",
       "    </tr>\n",
       "    <tr>\n",
       "      <th>2</th>\n",
       "      <td>1900-01-01</td>\n",
       "      <td>386</td>\n",
       "      <td>Socialdemokratiet</td>\n",
       "      <td>2100-01-01</td>\n",
       "    </tr>\n",
       "    <tr>\n",
       "      <th>3</th>\n",
       "      <td>1900-01-01</td>\n",
       "      <td>235</td>\n",
       "      <td>Socialdemokratiet</td>\n",
       "      <td>2100-01-01</td>\n",
       "    </tr>\n",
       "    <tr>\n",
       "      <th>4</th>\n",
       "      <td>1900-01-01</td>\n",
       "      <td>652</td>\n",
       "      <td>Socialdemokratiet</td>\n",
       "      <td>2100-01-01</td>\n",
       "    </tr>\n",
       "  </tbody>\n",
       "</table>\n",
       "</div>"
      ],
      "text/plain": [
       "         fra    id              parti        til\n",
       "0 1900-01-01   951  Socialdemokratiet 2100-01-01\n",
       "1 1900-01-01  1727  Socialdemokratiet 2100-01-01\n",
       "2 1900-01-01   386  Socialdemokratiet 2100-01-01\n",
       "3 1900-01-01   235  Socialdemokratiet 2100-01-01\n",
       "4 1900-01-01   652  Socialdemokratiet 2100-01-01"
      ]
     },
     "execution_count": 15,
     "metadata": {},
     "output_type": "execute_result"
    }
   ],
   "source": [
    "#Men ofte vil det også være interessant hvilket parti folk er medlem af\n",
    "#Da folk kan skifte parti, så kommer det an på hvornår afstemningen var.\n",
    "#Alt i denne celle laver en oversigt over hvornår hvem var i hvilket parti\n",
    "parti_assigner = pd.DataFrame([pp for pp in models.Aktør.objects.filter(typeid_id=5, \n",
    "                                                       tilaktør__fraaktørid__typeid_id=4).values_list(\n",
    "            'pk', 'tilaktør__fraaktørid__navn', 'tilaktør__startdato', 'tilaktør__slutdato')] + \n",
    "             [pp for pp in models.Aktør.objects.filter(typeid_id=5,\n",
    "                                                       fraaktør__tilaktørid__typeid_id=4).values_list(\n",
    "            'pk', 'fraaktør__tilaktørid__navn', 'fraaktør__startdato', 'fraaktør__slutdato')], columns=['id', 'parti', 'fra', 'til'])\n",
    "\n",
    "def unify_navn(parti):\n",
    "    return parti_dual_navn[parti]\n",
    "\n",
    "def make_dato(dato):\n",
    "    if dato != None:\n",
    "        return datetime.strptime(dato.split(\"T\")[0], \"%Y-%m-%d\")\n",
    "    return np.nan\n",
    "\n",
    "parti_assigner['parti'] = parti_assigner['parti'].apply(unify_navn)\n",
    "parti_assigner['fra'] = parti_assigner['fra'].apply(make_dato)\n",
    "parti_assigner['til'] = parti_assigner['til'].apply(make_dato)\n",
    "parti_assigner.drop_duplicates(inplace=True)\n",
    "parti_assigner.head()\n",
    "\n",
    "def simplify(pa):\n",
    "    new_data_rows = []\n",
    "    for id in pa.id.unique():\n",
    "        pas = pa[pa['id'] == id]['parti'].unique()\n",
    "        if len(pas) == 1:\n",
    "            new_data_rows.append({'id':id,'parti':pas[0], 'fra':datetime(1900, 1, 1), 'til':datetime(2100, 1, 1)})\n",
    "        else:\n",
    "            new_data_rows += pa[pa['id']==id].to_dict('records')\n",
    "    return new_data_rows\n",
    "            \n",
    "parti_assigner = pd.DataFrame(simplify(parti_assigner))\n",
    "parti_assigner.head()"
   ]
  },
  {
   "cell_type": "code",
   "execution_count": 16,
   "metadata": {
    "collapsed": false
   },
   "outputs": [
    {
     "name": "stdout",
     "output_type": "stream",
     "text": [
      "afstemning                   2645\n",
      "dato          2015-10-22 00:00:00\n",
      "navn           Steen Holm Iversen\n",
      "navn_id                     16074\n",
      "stemt                           3\n",
      "Name: 139977, dtype: object\n",
      "afstemning                   2646\n",
      "dato          2015-10-22 00:00:00\n",
      "navn           Steen Holm Iversen\n",
      "navn_id                     16074\n",
      "stemt                           3\n",
      "Name: 140156, dtype: object\n",
      "afstemning                   2648\n",
      "dato          2015-11-03 00:00:00\n",
      "navn           Steen Holm Iversen\n",
      "navn_id                     16074\n",
      "stemt                           2\n",
      "Name: 140260, dtype: object\n",
      "afstemning                   2649\n",
      "dato          2015-11-03 00:00:00\n",
      "navn           Steen Holm Iversen\n",
      "navn_id                     16074\n",
      "stemt                           1\n",
      "Name: 140437, dtype: object\n"
     ]
    }
   ],
   "source": [
    "#den info kan vi så bruge på at placere folk i deres respektive partier på de givne afstemningstidpunkter\n",
    "\n",
    "def party_time(row):\n",
    "    #brug afstemningsdato og person id til at afgøre medlemskab på dato\n",
    "    a = parti_assigner[(parti_assigner.id == row['navn_id']) & (parti_assigner.fra <= row['dato'])]\n",
    "    if len(a)==0:\n",
    "        print(row)\n",
    "        if row['navn_id'] == 16074: #Steen Holm Iversen er ikke skrevet korrekt ind...han er LA\n",
    "            return \"Liberal Alliance\"\n",
    "        return \"error\"\n",
    "    else:\n",
    "        return a.sort_values(by='fra', ascending=False).iloc[0]['parti']\n",
    "stemmer['parti'] = stemmer.apply(party_time, axis=1)"
   ]
  },
  {
   "cell_type": "code",
   "execution_count": 17,
   "metadata": {
    "collapsed": false
   },
   "outputs": [
    {
     "data": {
      "text/html": [
       "<div>\n",
       "<table border=\"1\" class=\"dataframe\">\n",
       "  <thead>\n",
       "    <tr style=\"text-align: right;\">\n",
       "      <th></th>\n",
       "      <th>afstemning</th>\n",
       "      <th>dato</th>\n",
       "      <th>navn</th>\n",
       "      <th>navn_id</th>\n",
       "      <th>stemt</th>\n",
       "      <th>parti</th>\n",
       "    </tr>\n",
       "  </thead>\n",
       "  <tbody>\n",
       "    <tr>\n",
       "      <th>0</th>\n",
       "      <td>1</td>\n",
       "      <td>2014-09-09</td>\n",
       "      <td>Eigil Andersen</td>\n",
       "      <td>158</td>\n",
       "      <td>1</td>\n",
       "      <td>Socialistisk Folkeparti</td>\n",
       "    </tr>\n",
       "    <tr>\n",
       "      <th>1</th>\n",
       "      <td>1</td>\n",
       "      <td>2014-09-09</td>\n",
       "      <td>Tom Behnke</td>\n",
       "      <td>71</td>\n",
       "      <td>1</td>\n",
       "      <td>Det Konservative Folkeparti</td>\n",
       "    </tr>\n",
       "    <tr>\n",
       "      <th>2</th>\n",
       "      <td>1</td>\n",
       "      <td>2014-09-09</td>\n",
       "      <td>Liselott Blixt</td>\n",
       "      <td>50</td>\n",
       "      <td>1</td>\n",
       "      <td>Dansk Folkeparti</td>\n",
       "    </tr>\n",
       "    <tr>\n",
       "      <th>3</th>\n",
       "      <td>1</td>\n",
       "      <td>2014-09-09</td>\n",
       "      <td>Erling Bonnesen</td>\n",
       "      <td>49</td>\n",
       "      <td>1</td>\n",
       "      <td>Venstre, Danmarks Liberale Parti</td>\n",
       "    </tr>\n",
       "    <tr>\n",
       "      <th>4</th>\n",
       "      <td>1</td>\n",
       "      <td>2014-09-09</td>\n",
       "      <td>Bent Bøgsted</td>\n",
       "      <td>183</td>\n",
       "      <td>1</td>\n",
       "      <td>Dansk Folkeparti</td>\n",
       "    </tr>\n",
       "  </tbody>\n",
       "</table>\n",
       "</div>"
      ],
      "text/plain": [
       "   afstemning       dato             navn  navn_id  stemt  \\\n",
       "0           1 2014-09-09   Eigil Andersen      158      1   \n",
       "1           1 2014-09-09       Tom Behnke       71      1   \n",
       "2           1 2014-09-09   Liselott Blixt       50      1   \n",
       "3           1 2014-09-09  Erling Bonnesen       49      1   \n",
       "4           1 2014-09-09     Bent Bøgsted      183      1   \n",
       "\n",
       "                              parti  \n",
       "0           Socialistisk Folkeparti  \n",
       "1       Det Konservative Folkeparti  \n",
       "2                  Dansk Folkeparti  \n",
       "3  Venstre, Danmarks Liberale Parti  \n",
       "4                  Dansk Folkeparti  "
      ]
     },
     "execution_count": 17,
     "metadata": {},
     "output_type": "execute_result"
    }
   ],
   "source": [
    "stemmer.head()"
   ]
  },
  {
   "cell_type": "code",
   "execution_count": 7,
   "metadata": {
    "collapsed": false
   },
   "outputs": [],
   "source": [
    "#nå, så nogle spørgsmål: hvilket parti er mindst intern enig?\n",
    "\n",
    "parti_basis = {}\n",
    "\n",
    "for af in stemmer.afstemning.unique():\n",
    "    for parti in stemmer[stemmer.afstemning == af]['parti'].unique():\n",
    "        if parti not in parti_basis:\n",
    "            parti_basis[parti] = [0,0]\n",
    "        parti_basis[parti][1] += 1\n",
    "    b1 = stemmer[(stemmer.afstemning == af) & (stemmer.stemt == 1)]['parti'].unique()\n",
    "    b2 = stemmer[(stemmer.afstemning == af) & (stemmer.stemt == 2)]['parti'].unique()\n",
    "    both_sides = set(b1).intersection(b2)\n",
    "    if len(both_sides) != 0:\n",
    "        for parti in both_sides:\n",
    "            parti_basis[parti][0] += 1"
   ]
  },
  {
   "cell_type": "code",
   "execution_count": 8,
   "metadata": {
    "collapsed": false
   },
   "outputs": [
    {
     "name": "stdout",
     "output_type": "stream",
     "text": [
      "Dansk Folkeparti                    0.462963\n",
      "Det Konservative Folkeparti         0.370370\n",
      "Enhedslisten                        0.277778\n",
      "Liberal Alliance                    0.833333\n",
      "Radikale Venstre                    0.277778\n",
      "Socialdemokratiet                   0.925926\n",
      "Socialistisk Folkeparti             2.500000\n",
      "Venstre, Danmarks Liberale Parti    0.833333\n",
      "dtype: float64\n"
     ]
    },
    {
     "data": {
      "text/html": [
       "\n",
       "\n",
       "    <div class=\"plotdiv\" id=\"3420e8e9-3aee-4d49-9251-1ac674ef6e1f\"></div>\n",
       "<script type=\"text/javascript\">\n",
       "  \n",
       "  (function(global) {\n",
       "    function now() {\n",
       "      return new Date();\n",
       "    }\n",
       "  \n",
       "    if (typeof (window._bokeh_onload_callbacks) === \"undefined\") {\n",
       "      window._bokeh_onload_callbacks = [];\n",
       "    }\n",
       "  \n",
       "    function run_callbacks() {\n",
       "      window._bokeh_onload_callbacks.forEach(function(callback) { callback() });\n",
       "      delete window._bokeh_onload_callbacks\n",
       "      console.info(\"Bokeh: all callbacks have finished\");\n",
       "    }\n",
       "  \n",
       "    function load_libs(js_urls, callback) {\n",
       "      window._bokeh_onload_callbacks.push(callback);\n",
       "      if (window._bokeh_is_loading > 0) {\n",
       "        console.log(\"Bokeh: BokehJS is being loaded, scheduling callback at\", now());\n",
       "        return null;\n",
       "      }\n",
       "      if (js_urls == null || js_urls.length === 0) {\n",
       "        run_callbacks();\n",
       "        return null;\n",
       "      }\n",
       "      console.log(\"Bokeh: BokehJS not loaded, scheduling load and callback at\", now());\n",
       "      window._bokeh_is_loading = js_urls.length;\n",
       "      for (var i = 0; i < js_urls.length; i++) {\n",
       "        var url = js_urls[i];\n",
       "        var s = document.createElement('script');\n",
       "        s.src = url;\n",
       "        s.async = false;\n",
       "        s.onreadystatechange = s.onload = function() {\n",
       "          window._bokeh_is_loading--;\n",
       "          if (window._bokeh_is_loading === 0) {\n",
       "            console.log(\"Bokeh: all BokehJS libraries loaded\");\n",
       "            run_callbacks()\n",
       "          }\n",
       "        };\n",
       "        s.onerror = function() {\n",
       "          console.warn(\"failed to load library \" + url);\n",
       "        };\n",
       "        console.log(\"Bokeh: injecting script tag for BokehJS library: \", url);\n",
       "        document.getElementsByTagName(\"head\")[0].appendChild(s);\n",
       "      }\n",
       "    };var element = document.getElementById(\"3420e8e9-3aee-4d49-9251-1ac674ef6e1f\");\n",
       "    if (element == null) {\n",
       "      console.log(\"Bokeh: ERROR: autoload.js configured with elementid '3420e8e9-3aee-4d49-9251-1ac674ef6e1f' but no matching script tag was found. \")\n",
       "      return false;\n",
       "    }\n",
       "  \n",
       "    var js_urls = [];\n",
       "  \n",
       "    var inline_js = [\n",
       "      function(Bokeh) {\n",
       "        Bokeh.$(function() {\n",
       "            var docs_json = {\"5ac5d386-4444-4a42-ab83-cae00cb0255c\":{\"roots\":{\"references\":[{\"attributes\":{\"callback\":null,\"column_names\":[\"fill_alpha\",\"y\",\"line_color\",\"height\",\"width\",\"x\",\"color\",\"line_alpha\"],\"data\":{\"chart_index\":[{\"index\":\"Socialistisk Folkeparti\"}],\"color\":[\"#f22c40\"],\"fill_alpha\":[0.8],\"height\":[2.5],\"index\":[\"Socialistisk Folkeparti\"],\"line_alpha\":[1.0],\"line_color\":[\"white\"],\"width\":[0.8],\"x\":[\"Socialistisk Folkeparti\"],\"y\":[1.25]}},\"id\":\"90e42908-292a-4301-aa19-c21d92f90c58\",\"type\":\"ColumnDataSource\"},{\"attributes\":{\"axis_label\":\"% afstemninger >1 imod flertallet\",\"formatter\":{\"id\":\"b574f394-46f1-4538-adda-ddca42cf1863\",\"type\":\"BasicTickFormatter\"},\"plot\":{\"id\":\"e3619170-9497-40df-b2bd-e3b24db5a604\",\"subtype\":\"Chart\",\"type\":\"Plot\"},\"ticker\":{\"id\":\"6bda84fc-8fbb-479b-aef0-d4acdf5f999b\",\"type\":\"BasicTicker\"}},\"id\":\"60ab0147-2068-4bd3-a235-9ea6dea9d968\",\"type\":\"LinearAxis\"},{\"attributes\":{\"fill_alpha\":{\"field\":\"fill_alpha\"},\"fill_color\":{\"field\":\"color\"},\"height\":{\"field\":\"height\",\"units\":\"data\"},\"line_color\":{\"field\":\"line_color\"},\"width\":{\"field\":\"width\",\"units\":\"data\"},\"x\":{\"field\":\"x\"},\"y\":{\"field\":\"y\"}},\"id\":\"d5d2f795-2911-44d6-897d-8ba089e01531\",\"type\":\"Rect\"},{\"attributes\":{\"data_source\":{\"id\":\"186cb2f9-00f6-49c0-99fb-d4b8d9555fd8\",\"type\":\"ColumnDataSource\"},\"glyph\":{\"id\":\"4aa46421-f7fd-49ba-807a-694cc4981599\",\"type\":\"Rect\"},\"hover_glyph\":null,\"nonselection_glyph\":null,\"selection_glyph\":null},\"id\":\"b7769828-5cfe-44e8-b189-dc6cce05815e\",\"type\":\"GlyphRenderer\"},{\"attributes\":{\"data_source\":{\"id\":\"f0418c3a-af8a-43cb-89c3-3b0eb4d89e40\",\"type\":\"ColumnDataSource\"},\"glyph\":{\"id\":\"d5d2f795-2911-44d6-897d-8ba089e01531\",\"type\":\"Rect\"},\"hover_glyph\":null,\"nonselection_glyph\":null,\"selection_glyph\":null},\"id\":\"ab3d4776-cc51-4672-bf34-a9ddad7f756d\",\"type\":\"GlyphRenderer\"},{\"attributes\":{\"fill_alpha\":{\"field\":\"fill_alpha\"},\"fill_color\":{\"field\":\"color\"},\"height\":{\"field\":\"height\",\"units\":\"data\"},\"line_color\":{\"field\":\"line_color\"},\"width\":{\"field\":\"width\",\"units\":\"data\"},\"x\":{\"field\":\"x\"},\"y\":{\"field\":\"y\"}},\"id\":\"0a5e2542-d365-4a4f-9150-4c531c15a492\",\"type\":\"Rect\"},{\"attributes\":{\"callback\":null,\"column_names\":[\"fill_alpha\",\"y\",\"line_color\",\"height\",\"width\",\"x\",\"color\",\"line_alpha\"],\"data\":{\"chart_index\":[{\"index\":\"Liberal Alliance\"}],\"color\":[\"#f22c40\"],\"fill_alpha\":[0.8],\"height\":[0.8333333333333334],\"index\":[\"Liberal Alliance\"],\"line_alpha\":[1.0],\"line_color\":[\"white\"],\"width\":[0.8],\"x\":[\"Liberal Alliance\"],\"y\":[0.4166666666666667]}},\"id\":\"edfc23b4-fae4-4fec-8ce2-972bc5f4d991\",\"type\":\"ColumnDataSource\"},{\"attributes\":{\"data_source\":{\"id\":\"a2379722-32a0-4ac7-936b-83962a6f837c\",\"type\":\"ColumnDataSource\"},\"glyph\":{\"id\":\"1ffc01b0-ec5f-4788-99c4-2de27e439a71\",\"type\":\"Rect\"},\"hover_glyph\":null,\"nonselection_glyph\":null,\"selection_glyph\":null},\"id\":\"2083f9e4-839f-44d3-87de-a2a3d9753105\",\"type\":\"GlyphRenderer\"},{\"attributes\":{\"callback\":null,\"column_names\":[\"fill_alpha\",\"y\",\"line_color\",\"height\",\"width\",\"x\",\"color\",\"line_alpha\"],\"data\":{\"chart_index\":[{\"index\":\"Radikale Venstre\"}],\"color\":[\"#f22c40\"],\"fill_alpha\":[0.8],\"height\":[0.2777777777777778],\"index\":[\"Radikale Venstre\"],\"line_alpha\":[1.0],\"line_color\":[\"white\"],\"width\":[0.8],\"x\":[\"Radikale Venstre\"],\"y\":[0.1388888888888889]}},\"id\":\"4d8d56b1-8ea1-4382-b841-60167eac3616\",\"type\":\"ColumnDataSource\"},{\"attributes\":{\"data_source\":{\"id\":\"4d8d56b1-8ea1-4382-b841-60167eac3616\",\"type\":\"ColumnDataSource\"},\"glyph\":{\"id\":\"321ae0ce-78e1-4793-8742-82266eead37e\",\"type\":\"Rect\"},\"hover_glyph\":null,\"nonselection_glyph\":null,\"selection_glyph\":null},\"id\":\"fcfe90b2-a9ff-4a03-a76d-fd855d8ac8c0\",\"type\":\"GlyphRenderer\"},{\"attributes\":{\"callback\":null,\"column_names\":[\"fill_alpha\",\"y\",\"line_color\",\"height\",\"width\",\"x\",\"color\",\"line_alpha\"],\"data\":{\"chart_index\":[{\"index\":\"Enhedslisten\"}],\"color\":[\"#f22c40\"],\"fill_alpha\":[0.8],\"height\":[0.2777777777777778],\"index\":[\"Enhedslisten\"],\"line_alpha\":[1.0],\"line_color\":[\"white\"],\"width\":[0.8],\"x\":[\"Enhedslisten\"],\"y\":[0.1388888888888889]}},\"id\":\"a2379722-32a0-4ac7-936b-83962a6f837c\",\"type\":\"ColumnDataSource\"},{\"attributes\":{\"formatter\":{\"id\":\"f558985e-8e04-426e-8567-63dc25aa9107\",\"type\":\"CategoricalTickFormatter\"},\"major_label_orientation\":0.7853981633974483,\"plot\":{\"id\":\"e3619170-9497-40df-b2bd-e3b24db5a604\",\"subtype\":\"Chart\",\"type\":\"Plot\"},\"ticker\":{\"id\":\"77c7a66a-b149-48ef-9a7b-c6abcc304dc4\",\"type\":\"CategoricalTicker\"}},\"id\":\"17bd89b7-e93a-4cf9-bdaf-77a7530ece21\",\"type\":\"CategoricalAxis\"},{\"attributes\":{\"plot\":{\"id\":\"e3619170-9497-40df-b2bd-e3b24db5a604\",\"subtype\":\"Chart\",\"type\":\"Plot\"}},\"id\":\"3e709c2f-9974-48f1-9d94-36e03c7b4e46\",\"type\":\"PreviewSaveTool\"},{\"attributes\":{\"fill_alpha\":{\"field\":\"fill_alpha\"},\"fill_color\":{\"field\":\"color\"},\"height\":{\"field\":\"height\",\"units\":\"data\"},\"line_color\":{\"field\":\"line_color\"},\"width\":{\"field\":\"width\",\"units\":\"data\"},\"x\":{\"field\":\"x\"},\"y\":{\"field\":\"y\"}},\"id\":\"4aa46421-f7fd-49ba-807a-694cc4981599\",\"type\":\"Rect\"},{\"attributes\":{\"data_source\":{\"id\":\"90e42908-292a-4301-aa19-c21d92f90c58\",\"type\":\"ColumnDataSource\"},\"glyph\":{\"id\":\"00d6d670-7827-40f3-ba7f-5c391db71068\",\"type\":\"Rect\"},\"hover_glyph\":null,\"nonselection_glyph\":null,\"selection_glyph\":null},\"id\":\"e627081a-d019-4c24-8ed8-5bd5c6c74589\",\"type\":\"GlyphRenderer\"},{\"attributes\":{\"plot\":{\"id\":\"e3619170-9497-40df-b2bd-e3b24db5a604\",\"subtype\":\"Chart\",\"type\":\"Plot\"}},\"id\":\"ee60cfa4-d968-47d8-82ee-9cf333fa67f1\",\"type\":\"HelpTool\"},{\"attributes\":{\"callback\":null,\"factors\":[\"Dansk Folkeparti\",\"Det Konservative Folkeparti\",\"Enhedslisten\",\"Liberal Alliance\",\"Radikale Venstre\",\"Socialdemokratiet\",\"Socialistisk Folkeparti\",\"Venstre, Danmarks Liberale Parti\"]},\"id\":\"4ae48f85-2d37-4a9e-9dfc-3118671d345d\",\"type\":\"FactorRange\"},{\"attributes\":{\"fill_alpha\":{\"field\":\"fill_alpha\"},\"fill_color\":{\"field\":\"color\"},\"height\":{\"field\":\"height\",\"units\":\"data\"},\"line_color\":{\"field\":\"line_color\"},\"width\":{\"field\":\"width\",\"units\":\"data\"},\"x\":{\"field\":\"x\"},\"y\":{\"field\":\"y\"}},\"id\":\"321ae0ce-78e1-4793-8742-82266eead37e\",\"type\":\"Rect\"},{\"attributes\":{},\"id\":\"f558985e-8e04-426e-8567-63dc25aa9107\",\"type\":\"CategoricalTickFormatter\"},{\"attributes\":{\"plot\":{\"id\":\"e3619170-9497-40df-b2bd-e3b24db5a604\",\"subtype\":\"Chart\",\"type\":\"Plot\"}},\"id\":\"bfde5be3-be9f-4320-bb7f-3d321f6877d7\",\"type\":\"WheelZoomTool\"},{\"attributes\":{\"below\":[{\"id\":\"17bd89b7-e93a-4cf9-bdaf-77a7530ece21\",\"type\":\"CategoricalAxis\"}],\"left\":[{\"id\":\"60ab0147-2068-4bd3-a235-9ea6dea9d968\",\"type\":\"LinearAxis\"}],\"legend\":null,\"renderers\":[{\"id\":\"295f5b4b-5d81-439e-a5d5-7151173251eb\",\"type\":\"BoxAnnotation\"},{\"id\":\"b7769828-5cfe-44e8-b189-dc6cce05815e\",\"type\":\"GlyphRenderer\"},{\"id\":\"03352e7a-0b27-4f40-a50e-c4c839bb7955\",\"type\":\"GlyphRenderer\"},{\"id\":\"2083f9e4-839f-44d3-87de-a2a3d9753105\",\"type\":\"GlyphRenderer\"},{\"id\":\"199950d3-9b70-4808-9ea1-b2fa1aef3643\",\"type\":\"GlyphRenderer\"},{\"id\":\"fcfe90b2-a9ff-4a03-a76d-fd855d8ac8c0\",\"type\":\"GlyphRenderer\"},{\"id\":\"ab3d4776-cc51-4672-bf34-a9ddad7f756d\",\"type\":\"GlyphRenderer\"},{\"id\":\"e627081a-d019-4c24-8ed8-5bd5c6c74589\",\"type\":\"GlyphRenderer\"},{\"id\":\"3d885e05-587a-43d3-a785-e7e1cfc80e7b\",\"type\":\"GlyphRenderer\"},{\"id\":\"17bd89b7-e93a-4cf9-bdaf-77a7530ece21\",\"type\":\"CategoricalAxis\"},{\"id\":\"60ab0147-2068-4bd3-a235-9ea6dea9d968\",\"type\":\"LinearAxis\"},{\"id\":\"acdd0fd2-73b5-4ad3-9c07-6495c9e5109a\",\"type\":\"Grid\"}],\"title\":\"f\\u00f8lger folk partiet?\",\"title_text_font_size\":{\"value\":\"14pt\"},\"tool_events\":{\"id\":\"1f79fc2b-8335-43c2-af25-500368a31919\",\"type\":\"ToolEvents\"},\"tools\":[{\"id\":\"06cbabcb-3bee-4fa2-993e-e9bcde78b5c8\",\"type\":\"PanTool\"},{\"id\":\"bfde5be3-be9f-4320-bb7f-3d321f6877d7\",\"type\":\"WheelZoomTool\"},{\"id\":\"83e66a3f-b0d1-4fa8-b686-3e0e3ac7d32c\",\"type\":\"BoxZoomTool\"},{\"id\":\"3e709c2f-9974-48f1-9d94-36e03c7b4e46\",\"type\":\"PreviewSaveTool\"},{\"id\":\"2277eac0-e1b1-4e05-ae31-280bbced374e\",\"type\":\"ResizeTool\"},{\"id\":\"8e576486-a456-4969-8c34-b64c7155910f\",\"type\":\"ResetTool\"},{\"id\":\"ee60cfa4-d968-47d8-82ee-9cf333fa67f1\",\"type\":\"HelpTool\"}],\"x_mapper_type\":\"auto\",\"x_range\":{\"id\":\"4ae48f85-2d37-4a9e-9dfc-3118671d345d\",\"type\":\"FactorRange\"},\"xgrid\":false,\"xscale\":\"auto\",\"y_mapper_type\":\"auto\",\"y_range\":{\"id\":\"cb8e446d-e9cd-481a-804c-92efb89623ee\",\"type\":\"Range1d\"},\"yscale\":\"auto\"},\"id\":\"e3619170-9497-40df-b2bd-e3b24db5a604\",\"subtype\":\"Chart\",\"type\":\"Plot\"},{\"attributes\":{\"fill_alpha\":{\"field\":\"fill_alpha\"},\"fill_color\":{\"field\":\"color\"},\"height\":{\"field\":\"height\",\"units\":\"data\"},\"line_color\":{\"field\":\"line_color\"},\"width\":{\"field\":\"width\",\"units\":\"data\"},\"x\":{\"field\":\"x\"},\"y\":{\"field\":\"y\"}},\"id\":\"ec72c5ac-da48-4467-9954-7b51247e911c\",\"type\":\"Rect\"},{\"attributes\":{\"callback\":null,\"column_names\":[\"fill_alpha\",\"y\",\"line_color\",\"height\",\"width\",\"x\",\"color\",\"line_alpha\"],\"data\":{\"chart_index\":[{\"index\":\"Dansk Folkeparti\"}],\"color\":[\"#f22c40\"],\"fill_alpha\":[0.8],\"height\":[0.4629629629629629],\"index\":[\"Dansk Folkeparti\"],\"line_alpha\":[1.0],\"line_color\":[\"white\"],\"width\":[0.8],\"x\":[\"Dansk Folkeparti\"],\"y\":[0.23148148148148145]}},\"id\":\"186cb2f9-00f6-49c0-99fb-d4b8d9555fd8\",\"type\":\"ColumnDataSource\"},{\"attributes\":{\"fill_alpha\":{\"field\":\"fill_alpha\"},\"fill_color\":{\"field\":\"color\"},\"height\":{\"field\":\"height\",\"units\":\"data\"},\"line_color\":{\"field\":\"line_color\"},\"width\":{\"field\":\"width\",\"units\":\"data\"},\"x\":{\"field\":\"x\"},\"y\":{\"field\":\"y\"}},\"id\":\"00d6d670-7827-40f3-ba7f-5c391db71068\",\"type\":\"Rect\"},{\"attributes\":{\"fill_alpha\":{\"field\":\"fill_alpha\"},\"fill_color\":{\"field\":\"color\"},\"height\":{\"field\":\"height\",\"units\":\"data\"},\"line_color\":{\"field\":\"line_color\"},\"width\":{\"field\":\"width\",\"units\":\"data\"},\"x\":{\"field\":\"x\"},\"y\":{\"field\":\"y\"}},\"id\":\"492c9050-6f7a-46a3-80a1-527c0ab483ac\",\"type\":\"Rect\"},{\"attributes\":{\"callback\":null,\"column_names\":[\"fill_alpha\",\"y\",\"line_color\",\"height\",\"width\",\"x\",\"color\",\"line_alpha\"],\"data\":{\"chart_index\":[{\"index\":\"Det Konservative Folkeparti\"}],\"color\":[\"#f22c40\"],\"fill_alpha\":[0.8],\"height\":[0.3703703703703704],\"index\":[\"Det Konservative Folkeparti\"],\"line_alpha\":[1.0],\"line_color\":[\"white\"],\"width\":[0.8],\"x\":[\"Det Konservative Folkeparti\"],\"y\":[0.1851851851851852]}},\"id\":\"dce18d9e-9eaf-4412-9e56-805a06babb9e\",\"type\":\"ColumnDataSource\"},{\"attributes\":{},\"id\":\"77c7a66a-b149-48ef-9a7b-c6abcc304dc4\",\"type\":\"CategoricalTicker\"},{\"attributes\":{\"plot\":{\"id\":\"e3619170-9497-40df-b2bd-e3b24db5a604\",\"subtype\":\"Chart\",\"type\":\"Plot\"}},\"id\":\"8e576486-a456-4969-8c34-b64c7155910f\",\"type\":\"ResetTool\"},{\"attributes\":{\"overlay\":{\"id\":\"295f5b4b-5d81-439e-a5d5-7151173251eb\",\"type\":\"BoxAnnotation\"},\"plot\":{\"id\":\"e3619170-9497-40df-b2bd-e3b24db5a604\",\"subtype\":\"Chart\",\"type\":\"Plot\"}},\"id\":\"83e66a3f-b0d1-4fa8-b686-3e0e3ac7d32c\",\"type\":\"BoxZoomTool\"},{\"attributes\":{\"data_source\":{\"id\":\"dce18d9e-9eaf-4412-9e56-805a06babb9e\",\"type\":\"ColumnDataSource\"},\"glyph\":{\"id\":\"492c9050-6f7a-46a3-80a1-527c0ab483ac\",\"type\":\"Rect\"},\"hover_glyph\":null,\"nonselection_glyph\":null,\"selection_glyph\":null},\"id\":\"03352e7a-0b27-4f40-a50e-c4c839bb7955\",\"type\":\"GlyphRenderer\"},{\"attributes\":{\"fill_alpha\":{\"field\":\"fill_alpha\"},\"fill_color\":{\"field\":\"color\"},\"height\":{\"field\":\"height\",\"units\":\"data\"},\"line_color\":{\"field\":\"line_color\"},\"width\":{\"field\":\"width\",\"units\":\"data\"},\"x\":{\"field\":\"x\"},\"y\":{\"field\":\"y\"}},\"id\":\"1ffc01b0-ec5f-4788-99c4-2de27e439a71\",\"type\":\"Rect\"},{\"attributes\":{\"dimension\":1,\"plot\":{\"id\":\"e3619170-9497-40df-b2bd-e3b24db5a604\",\"subtype\":\"Chart\",\"type\":\"Plot\"},\"ticker\":{\"id\":\"6bda84fc-8fbb-479b-aef0-d4acdf5f999b\",\"type\":\"BasicTicker\"}},\"id\":\"acdd0fd2-73b5-4ad3-9c07-6495c9e5109a\",\"type\":\"Grid\"},{\"attributes\":{\"callback\":null,\"column_names\":[\"fill_alpha\",\"y\",\"line_color\",\"height\",\"width\",\"x\",\"color\",\"line_alpha\"],\"data\":{\"chart_index\":[{\"index\":\"Venstre, Danmarks Liberale Parti\"}],\"color\":[\"#f22c40\"],\"fill_alpha\":[0.8],\"height\":[0.8333333333333334],\"index\":[\"Venstre, Danmarks Liberale Parti\"],\"line_alpha\":[1.0],\"line_color\":[\"white\"],\"width\":[0.8],\"x\":[\"Venstre, Danmarks Liberale Parti\"],\"y\":[0.4166666666666667]}},\"id\":\"2df0f383-6d78-46fc-9077-9a032708ba59\",\"type\":\"ColumnDataSource\"},{\"attributes\":{\"data_source\":{\"id\":\"edfc23b4-fae4-4fec-8ce2-972bc5f4d991\",\"type\":\"ColumnDataSource\"},\"glyph\":{\"id\":\"0a5e2542-d365-4a4f-9150-4c531c15a492\",\"type\":\"Rect\"},\"hover_glyph\":null,\"nonselection_glyph\":null,\"selection_glyph\":null},\"id\":\"199950d3-9b70-4808-9ea1-b2fa1aef3643\",\"type\":\"GlyphRenderer\"},{\"attributes\":{\"plot\":{\"id\":\"e3619170-9497-40df-b2bd-e3b24db5a604\",\"subtype\":\"Chart\",\"type\":\"Plot\"}},\"id\":\"06cbabcb-3bee-4fa2-993e-e9bcde78b5c8\",\"type\":\"PanTool\"},{\"attributes\":{\"callback\":null,\"column_names\":[\"fill_alpha\",\"y\",\"line_color\",\"height\",\"width\",\"x\",\"color\",\"line_alpha\"],\"data\":{\"chart_index\":[{\"index\":\"Socialdemokratiet\"}],\"color\":[\"#f22c40\"],\"fill_alpha\":[0.8],\"height\":[0.9259259259259258],\"index\":[\"Socialdemokratiet\"],\"line_alpha\":[1.0],\"line_color\":[\"white\"],\"width\":[0.8],\"x\":[\"Socialdemokratiet\"],\"y\":[0.4629629629629629]}},\"id\":\"f0418c3a-af8a-43cb-89c3-3b0eb4d89e40\",\"type\":\"ColumnDataSource\"},{\"attributes\":{\"data_source\":{\"id\":\"2df0f383-6d78-46fc-9077-9a032708ba59\",\"type\":\"ColumnDataSource\"},\"glyph\":{\"id\":\"ec72c5ac-da48-4467-9954-7b51247e911c\",\"type\":\"Rect\"},\"hover_glyph\":null,\"nonselection_glyph\":null,\"selection_glyph\":null},\"id\":\"3d885e05-587a-43d3-a785-e7e1cfc80e7b\",\"type\":\"GlyphRenderer\"},{\"attributes\":{},\"id\":\"b574f394-46f1-4538-adda-ddca42cf1863\",\"type\":\"BasicTickFormatter\"},{\"attributes\":{\"plot\":{\"id\":\"e3619170-9497-40df-b2bd-e3b24db5a604\",\"subtype\":\"Chart\",\"type\":\"Plot\"}},\"id\":\"2277eac0-e1b1-4e05-ae31-280bbced374e\",\"type\":\"ResizeTool\"},{\"attributes\":{},\"id\":\"6bda84fc-8fbb-479b-aef0-d4acdf5f999b\",\"type\":\"BasicTicker\"},{\"attributes\":{\"bottom_units\":\"screen\",\"fill_alpha\":{\"value\":0.5},\"fill_color\":{\"value\":\"lightgrey\"},\"left_units\":\"screen\",\"level\":\"overlay\",\"line_alpha\":{\"value\":1.0},\"line_color\":{\"value\":\"black\"},\"line_dash\":[4,4],\"line_width\":{\"value\":2},\"plot\":null,\"render_mode\":\"css\",\"right_units\":\"screen\",\"top_units\":\"screen\"},\"id\":\"295f5b4b-5d81-439e-a5d5-7151173251eb\",\"type\":\"BoxAnnotation\"},{\"attributes\":{},\"id\":\"1f79fc2b-8335-43c2-af25-500368a31919\",\"type\":\"ToolEvents\"},{\"attributes\":{\"callback\":null,\"end\":2.625},\"id\":\"cb8e446d-e9cd-481a-804c-92efb89623ee\",\"type\":\"Range1d\"}],\"root_ids\":[\"e3619170-9497-40df-b2bd-e3b24db5a604\"]},\"title\":\"Bokeh Application\",\"version\":\"0.11.1\"}};\n",
       "            var render_items = [{\"docid\":\"5ac5d386-4444-4a42-ab83-cae00cb0255c\",\"elementid\":\"3420e8e9-3aee-4d49-9251-1ac674ef6e1f\",\"modelid\":\"e3619170-9497-40df-b2bd-e3b24db5a604\",\"notebook_comms_target\":\"42391ffd-76fc-4f17-b8da-de0dcdc26b01\"}];\n",
       "            \n",
       "            Bokeh.embed.embed_items(docs_json, render_items);\n",
       "        });\n",
       "      },\n",
       "      function(Bokeh) {\n",
       "      }\n",
       "    ];\n",
       "  \n",
       "    function run_inline_js() {\n",
       "      for (var i = 0; i < inline_js.length; i++) {\n",
       "        inline_js[i](window.Bokeh);\n",
       "      }\n",
       "    }\n",
       "  \n",
       "    if (window._bokeh_is_loading === 0) {\n",
       "      console.log(\"Bokeh: BokehJS loaded, going straight to plotting\");\n",
       "      run_inline_js();\n",
       "    } else {\n",
       "      load_libs(js_urls, function() {\n",
       "        console.log(\"Bokeh: BokehJS plotting callback run at\", now());\n",
       "        run_inline_js();\n",
       "      });\n",
       "    }\n",
       "  }(this));\n",
       "</script>"
      ]
     },
     "metadata": {},
     "output_type": "display_data"
    },
    {
     "data": {
      "text/html": [
       "<p><code>&lt;Bokeh Notebook handle for <strong>In[8]</strong>&gt;</code></p>"
      ],
      "text/plain": [
       "<bokeh.io._CommsHandle at 0x7fc451bffb38>"
      ]
     },
     "execution_count": 8,
     "metadata": {},
     "output_type": "execute_result"
    }
   ],
   "source": [
    "bla = pd.DataFrame(parti_basis).T\n",
    "blabla = (bla[0]/bla[1])*100\n",
    "print(blabla[blabla>0])\n",
    "show(Bar(blabla[blabla>0], title=\"følger folk partiet?\", ylabel=\"% afstemninger >1 imod flertallet\"))"
   ]
  },
  {
   "cell_type": "markdown",
   "metadata": {
    "collapsed": true
   },
   "source": [
    "## Ok så der er af og til nogen der stemmer imod partiet ...er der nogen specifikt der gør det eller er det bare lige en enkelt person fra tid til anden?"
   ]
  },
  {
   "cell_type": "code",
   "execution_count": 9,
   "metadata": {
    "collapsed": false
   },
   "outputs": [],
   "source": [
    "person_basis = {}\n",
    "\n",
    "for af in stemmer.afstemning.unique():\n",
    "    for person in stemmer[stemmer.afstemning == af]['navn'].unique():\n",
    "        if person not in person_basis:\n",
    "            person_basis[person] = [0,0]\n",
    "        person_basis[person][1] += 1\n",
    "    b1 = stemmer[(stemmer.afstemning == af) & (stemmer.stemt == 'for')]['parti'].unique()\n",
    "    b2 = stemmer[(stemmer.afstemning == af) & (stemmer.stemt == 'imod')]['parti'].unique()\n",
    "    both_sides = set(b1).intersection(b2)\n",
    "    if len(both_sides) != 0:\n",
    "        for parti in both_sides:\n",
    "            whoisit = stemmer[(stemmer.afstemning == af) & (stemmer.parti == parti)]\n",
    "            if len(whoisit[whoisit.stemt == 'for']) > len(whoisit[whoisit.stemt == 'imod']):\n",
    "                for person in whoisit[whoisit.stemt == 'imod']['navn']:\n",
    "                    person_basis[person][0] +=1\n",
    "            else:\n",
    "                for person in whoisit[whoisit.stemt == 'for']['navn']:\n",
    "                    person_basis[person][0] +=1"
   ]
  },
  {
   "cell_type": "code",
   "execution_count": 10,
   "metadata": {
    "collapsed": false
   },
   "outputs": [
    {
     "data": {
      "text/html": [
       "\n",
       "\n",
       "    <div class=\"plotdiv\" id=\"41868ac8-ec2b-4e73-94c5-b2b727f17701\"></div>\n",
       "<script type=\"text/javascript\">\n",
       "  \n",
       "  (function(global) {\n",
       "    function now() {\n",
       "      return new Date();\n",
       "    }\n",
       "  \n",
       "    if (typeof (window._bokeh_onload_callbacks) === \"undefined\") {\n",
       "      window._bokeh_onload_callbacks = [];\n",
       "    }\n",
       "  \n",
       "    function run_callbacks() {\n",
       "      window._bokeh_onload_callbacks.forEach(function(callback) { callback() });\n",
       "      delete window._bokeh_onload_callbacks\n",
       "      console.info(\"Bokeh: all callbacks have finished\");\n",
       "    }\n",
       "  \n",
       "    function load_libs(js_urls, callback) {\n",
       "      window._bokeh_onload_callbacks.push(callback);\n",
       "      if (window._bokeh_is_loading > 0) {\n",
       "        console.log(\"Bokeh: BokehJS is being loaded, scheduling callback at\", now());\n",
       "        return null;\n",
       "      }\n",
       "      if (js_urls == null || js_urls.length === 0) {\n",
       "        run_callbacks();\n",
       "        return null;\n",
       "      }\n",
       "      console.log(\"Bokeh: BokehJS not loaded, scheduling load and callback at\", now());\n",
       "      window._bokeh_is_loading = js_urls.length;\n",
       "      for (var i = 0; i < js_urls.length; i++) {\n",
       "        var url = js_urls[i];\n",
       "        var s = document.createElement('script');\n",
       "        s.src = url;\n",
       "        s.async = false;\n",
       "        s.onreadystatechange = s.onload = function() {\n",
       "          window._bokeh_is_loading--;\n",
       "          if (window._bokeh_is_loading === 0) {\n",
       "            console.log(\"Bokeh: all BokehJS libraries loaded\");\n",
       "            run_callbacks()\n",
       "          }\n",
       "        };\n",
       "        s.onerror = function() {\n",
       "          console.warn(\"failed to load library \" + url);\n",
       "        };\n",
       "        console.log(\"Bokeh: injecting script tag for BokehJS library: \", url);\n",
       "        document.getElementsByTagName(\"head\")[0].appendChild(s);\n",
       "      }\n",
       "    };var element = document.getElementById(\"41868ac8-ec2b-4e73-94c5-b2b727f17701\");\n",
       "    if (element == null) {\n",
       "      console.log(\"Bokeh: ERROR: autoload.js configured with elementid '41868ac8-ec2b-4e73-94c5-b2b727f17701' but no matching script tag was found. \")\n",
       "      return false;\n",
       "    }\n",
       "  \n",
       "    var js_urls = [];\n",
       "  \n",
       "    var inline_js = [\n",
       "      function(Bokeh) {\n",
       "        Bokeh.$(function() {\n",
       "            var docs_json = {\"140eb069-992d-4bdc-80e0-590e8f9ac0a0\":{\"roots\":{\"references\":[{\"attributes\":{\"data_source\":{\"id\":\"9b1d632c-d9e6-46e7-8ed3-4b140e469714\",\"type\":\"ColumnDataSource\"},\"glyph\":{\"id\":\"9d978ffd-2563-42d9-ab70-67f71e346dc2\",\"type\":\"Rect\"},\"hover_glyph\":null,\"nonselection_glyph\":null,\"selection_glyph\":null},\"id\":\"43231c77-9b59-4e4f-93d1-c3488c962f12\",\"type\":\"GlyphRenderer\"},{\"attributes\":{\"callback\":null,\"column_names\":[\"fill_alpha\",\"y\",\"line_color\",\"height\",\"width\",\"x\",\"color\",\"line_alpha\"],\"data\":{\"chart_index\":[{\"index\":\"Holger K. Nielsen\"}],\"color\":[\"#f22c40\"],\"fill_alpha\":[0.8],\"height\":[0.0925925925925926],\"index\":[\"Holger K. Nielsen\"],\"line_alpha\":[1.0],\"line_color\":[\"white\"],\"width\":[0.8],\"x\":[\"Holger K. Nielsen\"],\"y\":[0.0462962962962963]}},\"id\":\"7d23f6c9-3bfa-4ddc-8af9-836955172b42\",\"type\":\"ColumnDataSource\"},{\"attributes\":{\"data_source\":{\"id\":\"f0418c3a-af8a-43cb-89c3-3b0eb4d89e40\",\"type\":\"ColumnDataSource\"},\"glyph\":{\"id\":\"d5d2f795-2911-44d6-897d-8ba089e01531\",\"type\":\"Rect\"},\"hover_glyph\":null,\"nonselection_glyph\":null,\"selection_glyph\":null},\"id\":\"ab3d4776-cc51-4672-bf34-a9ddad7f756d\",\"type\":\"GlyphRenderer\"},{\"attributes\":{\"data_source\":{\"id\":\"d84c6ae9-b2cf-40d6-996d-30bdeac5c88f\",\"type\":\"ColumnDataSource\"},\"glyph\":{\"id\":\"441160b5-d1e4-4eaa-8ffd-67b7673c64a7\",\"type\":\"Rect\"},\"hover_glyph\":null,\"nonselection_glyph\":null,\"selection_glyph\":null},\"id\":\"525dcaea-c874-4da7-a870-a5dbeaf2c69c\",\"type\":\"GlyphRenderer\"},{\"attributes\":{\"callback\":null,\"column_names\":[\"fill_alpha\",\"y\",\"line_color\",\"height\",\"width\",\"x\",\"color\",\"line_alpha\"],\"data\":{\"chart_index\":[{\"index\":\"Jens Henrik Thulesen Dahl\"}],\"color\":[\"#f22c40\"],\"fill_alpha\":[0.8],\"height\":[0.0925925925925926],\"index\":[\"Jens Henrik Thulesen Dahl\"],\"line_alpha\":[1.0],\"line_color\":[\"white\"],\"width\":[0.8],\"x\":[\"Jens Henrik Thulesen Dahl\"],\"y\":[0.0462962962962963]}},\"id\":\"5cf2e6e0-dacb-4771-93e2-f266f9e15683\",\"type\":\"ColumnDataSource\"},{\"attributes\":{\"callback\":null,\"column_names\":[\"fill_alpha\",\"y\",\"line_color\",\"height\",\"width\",\"x\",\"color\",\"line_alpha\"],\"data\":{\"chart_index\":[{\"index\":\"Birthe R\\u00f8nn Hornbech\"}],\"color\":[\"#f22c40\"],\"fill_alpha\":[0.8],\"height\":[0.261437908496732],\"index\":[\"Birthe R\\u00f8nn Hornbech\"],\"line_alpha\":[1.0],\"line_color\":[\"white\"],\"width\":[0.8],\"x\":[\"Birthe R\\u00f8nn Hornbech\"],\"y\":[0.130718954248366]}},\"id\":\"f17da4f0-a56d-4ce6-a696-0f1e51547099\",\"type\":\"ColumnDataSource\"},{\"attributes\":{\"data_source\":{\"id\":\"90e42908-292a-4301-aa19-c21d92f90c58\",\"type\":\"ColumnDataSource\"},\"glyph\":{\"id\":\"00d6d670-7827-40f3-ba7f-5c391db71068\",\"type\":\"Rect\"},\"hover_glyph\":null,\"nonselection_glyph\":null,\"selection_glyph\":null},\"id\":\"e627081a-d019-4c24-8ed8-5bd5c6c74589\",\"type\":\"GlyphRenderer\"},{\"attributes\":{\"data_source\":{\"id\":\"5cf2e6e0-dacb-4771-93e2-f266f9e15683\",\"type\":\"ColumnDataSource\"},\"glyph\":{\"id\":\"26dd697e-6ce4-4ae9-b48d-d3525a63a6bd\",\"type\":\"Rect\"},\"hover_glyph\":null,\"nonselection_glyph\":null,\"selection_glyph\":null},\"id\":\"09b660f9-4e8e-419e-b073-475e8ba51807\",\"type\":\"GlyphRenderer\"},{\"attributes\":{\"data_source\":{\"id\":\"dfecff16-5271-423d-bc81-ffb9c3f40695\",\"type\":\"ColumnDataSource\"},\"glyph\":{\"id\":\"64a395a8-135a-40b3-8b91-d2f935cc5598\",\"type\":\"Rect\"},\"hover_glyph\":null,\"nonselection_glyph\":null,\"selection_glyph\":null},\"id\":\"1c67abe5-b233-45ab-9104-5caaf7955934\",\"type\":\"GlyphRenderer\"},{\"attributes\":{\"data_source\":{\"id\":\"2df0f383-6d78-46fc-9077-9a032708ba59\",\"type\":\"ColumnDataSource\"},\"glyph\":{\"id\":\"ec72c5ac-da48-4467-9954-7b51247e911c\",\"type\":\"Rect\"},\"hover_glyph\":null,\"nonselection_glyph\":null,\"selection_glyph\":null},\"id\":\"3d885e05-587a-43d3-a785-e7e1cfc80e7b\",\"type\":\"GlyphRenderer\"},{\"attributes\":{\"callback\":null,\"column_names\":[\"fill_alpha\",\"y\",\"line_color\",\"height\",\"width\",\"x\",\"color\",\"line_alpha\"],\"data\":{\"chart_index\":[{\"index\":\"Henrik Dam Kristensen\"}],\"color\":[\"#f22c40\"],\"fill_alpha\":[0.8],\"height\":[0.0925925925925926],\"index\":[\"Henrik Dam Kristensen\"],\"line_alpha\":[1.0],\"line_color\":[\"white\"],\"width\":[0.8],\"x\":[\"Henrik Dam Kristensen\"],\"y\":[0.0462962962962963]}},\"id\":\"6195b975-c979-47ab-9c29-b66ca0cd82a5\",\"type\":\"ColumnDataSource\"},{\"attributes\":{\"dimension\":1,\"plot\":{\"id\":\"5576f7c1-d8a6-46ce-8ead-d7af8e9d1759\",\"subtype\":\"Chart\",\"type\":\"Plot\"},\"ticker\":{\"id\":\"cf4f6db9-9bf1-4571-8531-f3c230bb2152\",\"type\":\"BasicTicker\"}},\"id\":\"58d7a4b0-9a55-44a1-afec-e15f1c327f14\",\"type\":\"Grid\"},{\"attributes\":{\"fill_alpha\":{\"field\":\"fill_alpha\"},\"fill_color\":{\"field\":\"color\"},\"height\":{\"field\":\"height\",\"units\":\"data\"},\"line_color\":{\"field\":\"line_color\"},\"width\":{\"field\":\"width\",\"units\":\"data\"},\"x\":{\"field\":\"x\"},\"y\":{\"field\":\"y\"}},\"id\":\"77ebe22b-5aae-4ce7-b42c-7612ae2c71aa\",\"type\":\"Rect\"},{\"attributes\":{\"data_source\":{\"id\":\"4a90ca7b-baf3-4b6d-b212-6baffa1723be\",\"type\":\"ColumnDataSource\"},\"glyph\":{\"id\":\"91bb71a8-e45c-4f65-92f1-9048fe85e9dc\",\"type\":\"Rect\"},\"hover_glyph\":null,\"nonselection_glyph\":null,\"selection_glyph\":null},\"id\":\"fd63fbc9-827a-432c-b816-24a704948fcf\",\"type\":\"GlyphRenderer\"},{\"attributes\":{\"data_source\":{\"id\":\"f17da4f0-a56d-4ce6-a696-0f1e51547099\",\"type\":\"ColumnDataSource\"},\"glyph\":{\"id\":\"7db837e7-fb49-48a6-ae36-ca79ca86aa01\",\"type\":\"Rect\"},\"hover_glyph\":null,\"nonselection_glyph\":null,\"selection_glyph\":null},\"id\":\"bdf0a470-f83d-4429-91f1-553740abcb04\",\"type\":\"GlyphRenderer\"},{\"attributes\":{\"callback\":null,\"column_names\":[\"fill_alpha\",\"y\",\"line_color\",\"height\",\"width\",\"x\",\"color\",\"line_alpha\"],\"data\":{\"chart_index\":[{\"index\":\"Brian Mikkelsen\"}],\"color\":[\"#f22c40\"],\"fill_alpha\":[0.8],\"height\":[0.0925925925925926],\"index\":[\"Brian Mikkelsen\"],\"line_alpha\":[1.0],\"line_color\":[\"white\"],\"width\":[0.8],\"x\":[\"Brian Mikkelsen\"],\"y\":[0.0462962962962963]}},\"id\":\"1e35f1c8-ea12-461f-9895-d847c44d8e1b\",\"type\":\"ColumnDataSource\"},{\"attributes\":{\"callback\":null,\"column_names\":[\"fill_alpha\",\"y\",\"line_color\",\"height\",\"width\",\"x\",\"color\",\"line_alpha\"],\"data\":{\"chart_index\":[{\"index\":\"Steen Gade\"}],\"color\":[\"#f22c40\"],\"fill_alpha\":[0.8],\"height\":[0.6535947712418301],\"index\":[\"Steen Gade\"],\"line_alpha\":[1.0],\"line_color\":[\"white\"],\"width\":[0.8],\"x\":[\"Steen Gade\"],\"y\":[0.32679738562091504]}},\"id\":\"0a2f68db-4663-4861-a7c9-1b6d165aa4e6\",\"type\":\"ColumnDataSource\"},{\"attributes\":{\"callback\":null,\"column_names\":[\"fill_alpha\",\"y\",\"line_color\",\"height\",\"width\",\"x\",\"color\",\"line_alpha\"],\"data\":{\"chart_index\":[{\"index\":\"Det Konservative Folkeparti\"}],\"color\":[\"#f22c40\"],\"fill_alpha\":[0.8],\"height\":[0.3703703703703704],\"index\":[\"Det Konservative Folkeparti\"],\"line_alpha\":[1.0],\"line_color\":[\"white\"],\"width\":[0.8],\"x\":[\"Det Konservative Folkeparti\"],\"y\":[0.1851851851851852]}},\"id\":\"dce18d9e-9eaf-4412-9e56-805a06babb9e\",\"type\":\"ColumnDataSource\"},{\"attributes\":{\"data_source\":{\"id\":\"efb8c147-12ea-4714-87be-0c815d12577c\",\"type\":\"ColumnDataSource\"},\"glyph\":{\"id\":\"3142565c-414d-482e-8056-893b8204abc0\",\"type\":\"Rect\"},\"hover_glyph\":null,\"nonselection_glyph\":null,\"selection_glyph\":null},\"id\":\"35d9c3cf-effc-42ad-a446-6a551bbd6d5c\",\"type\":\"GlyphRenderer\"},{\"attributes\":{\"fill_alpha\":{\"field\":\"fill_alpha\"},\"fill_color\":{\"field\":\"color\"},\"height\":{\"field\":\"height\",\"units\":\"data\"},\"line_color\":{\"field\":\"line_color\"},\"width\":{\"field\":\"width\",\"units\":\"data\"},\"x\":{\"field\":\"x\"},\"y\":{\"field\":\"y\"}},\"id\":\"1d7d9735-9295-45dc-a32a-d563f005b13a\",\"type\":\"Rect\"},{\"attributes\":{\"fill_alpha\":{\"field\":\"fill_alpha\"},\"fill_color\":{\"field\":\"color\"},\"height\":{\"field\":\"height\",\"units\":\"data\"},\"line_color\":{\"field\":\"line_color\"},\"width\":{\"field\":\"width\",\"units\":\"data\"},\"x\":{\"field\":\"x\"},\"y\":{\"field\":\"y\"}},\"id\":\"230b81eb-503f-4b11-86e3-d5b1be854c17\",\"type\":\"Rect\"},{\"attributes\":{\"data_source\":{\"id\":\"2f2a4aad-4e78-4bbc-94a2-92f6baa41e3d\",\"type\":\"ColumnDataSource\"},\"glyph\":{\"id\":\"697d36f9-6fbe-44a0-bec3-f135412c7b70\",\"type\":\"Rect\"},\"hover_glyph\":null,\"nonselection_glyph\":null,\"selection_glyph\":null},\"id\":\"04131417-aa75-4dff-9142-300c1b8608fe\",\"type\":\"GlyphRenderer\"},{\"attributes\":{},\"id\":\"df6480b9-bf56-4dea-b584-74ff96db5f0f\",\"type\":\"ToolEvents\"},{\"attributes\":{\"callback\":null,\"column_names\":[\"fill_alpha\",\"y\",\"line_color\",\"height\",\"width\",\"x\",\"color\",\"line_alpha\"],\"data\":{\"chart_index\":[{\"index\":\"Hans Kristian Skibby\"}],\"color\":[\"#f22c40\"],\"fill_alpha\":[0.8],\"height\":[0.0925925925925926],\"index\":[\"Hans Kristian Skibby\"],\"line_alpha\":[1.0],\"line_color\":[\"white\"],\"width\":[0.8],\"x\":[\"Hans Kristian Skibby\"],\"y\":[0.0462962962962963]}},\"id\":\"72e93672-d2b8-45ce-b3da-cfcf10c48cb7\",\"type\":\"ColumnDataSource\"},{\"attributes\":{\"callback\":null,\"column_names\":[\"fill_alpha\",\"y\",\"line_color\",\"height\",\"width\",\"x\",\"color\",\"line_alpha\"],\"data\":{\"chart_index\":[{\"index\":\"Mette Bock\"}],\"color\":[\"#f22c40\"],\"fill_alpha\":[0.8],\"height\":[0.18587360594795538],\"index\":[\"Mette Bock\"],\"line_alpha\":[1.0],\"line_color\":[\"white\"],\"width\":[0.8],\"x\":[\"Mette Bock\"],\"y\":[0.09293680297397769]}},\"id\":\"a6aa1d24-0cb9-45c6-81cf-468dd9b0a0eb\",\"type\":\"ColumnDataSource\"},{\"attributes\":{\"data_source\":{\"id\":\"1e35f1c8-ea12-461f-9895-d847c44d8e1b\",\"type\":\"ColumnDataSource\"},\"glyph\":{\"id\":\"098dea17-f665-4e86-92fa-c374537f0108\",\"type\":\"Rect\"},\"hover_glyph\":null,\"nonselection_glyph\":null,\"selection_glyph\":null},\"id\":\"8830f220-be14-4943-b607-1f79d785e5b8\",\"type\":\"GlyphRenderer\"},{\"attributes\":{\"callback\":null,\"column_names\":[\"fill_alpha\",\"y\",\"line_color\",\"height\",\"width\",\"x\",\"color\",\"line_alpha\"],\"data\":{\"chart_index\":[{\"index\":\"Lars Dohn\"}],\"color\":[\"#f22c40\"],\"fill_alpha\":[0.8],\"height\":[0.130718954248366],\"index\":[\"Lars Dohn\"],\"line_alpha\":[1.0],\"line_color\":[\"white\"],\"width\":[0.8],\"x\":[\"Lars Dohn\"],\"y\":[0.065359477124183]}},\"id\":\"86945d4d-6a58-4c13-a072-61145f6c747d\",\"type\":\"ColumnDataSource\"},{\"attributes\":{\"callback\":null,\"column_names\":[\"fill_alpha\",\"y\",\"line_color\",\"height\",\"width\",\"x\",\"color\",\"line_alpha\"],\"data\":{\"chart_index\":[{\"index\":\"Enhedslisten\"}],\"color\":[\"#f22c40\"],\"fill_alpha\":[0.8],\"height\":[0.2777777777777778],\"index\":[\"Enhedslisten\"],\"line_alpha\":[1.0],\"line_color\":[\"white\"],\"width\":[0.8],\"x\":[\"Enhedslisten\"],\"y\":[0.1388888888888889]}},\"id\":\"a2379722-32a0-4ac7-936b-83962a6f837c\",\"type\":\"ColumnDataSource\"},{\"attributes\":{\"fill_alpha\":{\"field\":\"fill_alpha\"},\"fill_color\":{\"field\":\"color\"},\"height\":{\"field\":\"height\",\"units\":\"data\"},\"line_color\":{\"field\":\"line_color\"},\"width\":{\"field\":\"width\",\"units\":\"data\"},\"x\":{\"field\":\"x\"},\"y\":{\"field\":\"y\"}},\"id\":\"85e75aa7-3138-4766-8bf5-b96173ba2e0e\",\"type\":\"Rect\"},{\"attributes\":{\"data_source\":{\"id\":\"acf5ab7c-3019-4ab0-a70b-9d56cc6667cf\",\"type\":\"ColumnDataSource\"},\"glyph\":{\"id\":\"16acf7ce-23e4-409c-bd86-13ef9312399c\",\"type\":\"Rect\"},\"hover_glyph\":null,\"nonselection_glyph\":null,\"selection_glyph\":null},\"id\":\"d03b1f81-4a59-45a3-b9f8-2690d042af20\",\"type\":\"GlyphRenderer\"},{\"attributes\":{\"data_source\":{\"id\":\"cf481145-4fcc-401a-a4f6-d69c55dece5b\",\"type\":\"ColumnDataSource\"},\"glyph\":{\"id\":\"447426c5-5485-4402-bedf-52993dfe5b6d\",\"type\":\"Rect\"},\"hover_glyph\":null,\"nonselection_glyph\":null,\"selection_glyph\":null},\"id\":\"149adf77-e6cf-4a02-b5ca-be18bc076958\",\"type\":\"GlyphRenderer\"},{\"attributes\":{\"data_source\":{\"id\":\"07513d08-61ff-4ad1-81d5-7b5dfb3a8517\",\"type\":\"ColumnDataSource\"},\"glyph\":{\"id\":\"a6c2c788-d2bb-4bb1-8878-e2e25cd0d966\",\"type\":\"Rect\"},\"hover_glyph\":null,\"nonselection_glyph\":null,\"selection_glyph\":null},\"id\":\"fd6f742f-09d7-459c-b25a-69c7cd5fa464\",\"type\":\"GlyphRenderer\"},{\"attributes\":{\"data_source\":{\"id\":\"d3df398c-57ed-4cc0-a615-e0cdd2dd357d\",\"type\":\"ColumnDataSource\"},\"glyph\":{\"id\":\"ce87e89e-70b4-477b-aa2b-596a1d5cfefa\",\"type\":\"Rect\"},\"hover_glyph\":null,\"nonselection_glyph\":null,\"selection_glyph\":null},\"id\":\"c260eeab-b347-4b86-b1a5-08129f326907\",\"type\":\"GlyphRenderer\"},{\"attributes\":{\"fill_alpha\":{\"field\":\"fill_alpha\"},\"fill_color\":{\"field\":\"color\"},\"height\":{\"field\":\"height\",\"units\":\"data\"},\"line_color\":{\"field\":\"line_color\"},\"width\":{\"field\":\"width\",\"units\":\"data\"},\"x\":{\"field\":\"x\"},\"y\":{\"field\":\"y\"}},\"id\":\"ec72c5ac-da48-4467-9954-7b51247e911c\",\"type\":\"Rect\"},{\"attributes\":{\"data_source\":{\"id\":\"351ac9e5-769f-4d03-9fc6-6be6d10af136\",\"type\":\"ColumnDataSource\"},\"glyph\":{\"id\":\"ec522d06-b4e1-473c-a73f-419b14708fe0\",\"type\":\"Rect\"},\"hover_glyph\":null,\"nonselection_glyph\":null,\"selection_glyph\":null},\"id\":\"a5d6c632-55dc-4d7c-82d7-daa3e94ac49b\",\"type\":\"GlyphRenderer\"},{\"attributes\":{\"callback\":null,\"column_names\":[\"fill_alpha\",\"y\",\"line_color\",\"height\",\"width\",\"x\",\"color\",\"line_alpha\"],\"data\":{\"chart_index\":[{\"index\":\"Socialdemokratiet\"}],\"color\":[\"#f22c40\"],\"fill_alpha\":[0.8],\"height\":[0.9259259259259258],\"index\":[\"Socialdemokratiet\"],\"line_alpha\":[1.0],\"line_color\":[\"white\"],\"width\":[0.8],\"x\":[\"Socialdemokratiet\"],\"y\":[0.4629629629629629]}},\"id\":\"f0418c3a-af8a-43cb-89c3-3b0eb4d89e40\",\"type\":\"ColumnDataSource\"},{\"attributes\":{\"fill_alpha\":{\"field\":\"fill_alpha\"},\"fill_color\":{\"field\":\"color\"},\"height\":{\"field\":\"height\",\"units\":\"data\"},\"line_color\":{\"field\":\"line_color\"},\"width\":{\"field\":\"width\",\"units\":\"data\"},\"x\":{\"field\":\"x\"},\"y\":{\"field\":\"y\"}},\"id\":\"a51719a8-f8d2-48eb-9fc2-8aa5fb0abd4d\",\"type\":\"Rect\"},{\"attributes\":{},\"id\":\"ea0d2818-97c6-47e9-a1a3-f932dd94dbb1\",\"type\":\"CategoricalTicker\"},{\"attributes\":{\"callback\":null,\"column_names\":[\"fill_alpha\",\"y\",\"line_color\",\"height\",\"width\",\"x\",\"color\",\"line_alpha\"],\"data\":{\"chart_index\":[{\"index\":\"Bent B\\u00f8gsted\"}],\"color\":[\"#f22c40\"],\"fill_alpha\":[0.8],\"height\":[0.0925925925925926],\"index\":[\"Bent B\\u00f8gsted\"],\"line_alpha\":[1.0],\"line_color\":[\"white\"],\"width\":[0.8],\"x\":[\"Bent B\\u00f8gsted\"],\"y\":[0.0462962962962963]}},\"id\":\"a2b8cf59-3746-4161-9b8c-3fe82ce93143\",\"type\":\"ColumnDataSource\"},{\"attributes\":{\"below\":[{\"id\":\"36299ef7-5a99-4a97-b955-1b597322bd90\",\"type\":\"CategoricalAxis\"}],\"left\":[{\"id\":\"31c2525b-4ebd-4767-b69f-8c5d69ed91fa\",\"type\":\"LinearAxis\"}],\"legend\":null,\"renderers\":[{\"id\":\"0b50f2e3-0f7c-46dc-96f1-fc5f39b902bd\",\"type\":\"BoxAnnotation\"},{\"id\":\"121ecc79-364e-44d8-841b-7a61fe276da1\",\"type\":\"GlyphRenderer\"},{\"id\":\"1f496dba-bfd2-4cb6-a611-8c08eb02306e\",\"type\":\"GlyphRenderer\"},{\"id\":\"2ab6c5f2-912b-4faa-b30b-9cec85d547b4\",\"type\":\"GlyphRenderer\"},{\"id\":\"576719cf-3560-42ba-9292-3302a71b4c73\",\"type\":\"GlyphRenderer\"},{\"id\":\"d03b1f81-4a59-45a3-b9f8-2690d042af20\",\"type\":\"GlyphRenderer\"},{\"id\":\"bdf0a470-f83d-4429-91f1-553740abcb04\",\"type\":\"GlyphRenderer\"},{\"id\":\"8830f220-be14-4943-b607-1f79d785e5b8\",\"type\":\"GlyphRenderer\"},{\"id\":\"1c67abe5-b233-45ab-9104-5caaf7955934\",\"type\":\"GlyphRenderer\"},{\"id\":\"b7a25df0-d22b-44fc-9195-ce5ac6a58b04\",\"type\":\"GlyphRenderer\"},{\"id\":\"2a2eabf7-8c23-4622-a7f5-fb7c2f0e9986\",\"type\":\"GlyphRenderer\"},{\"id\":\"034001cb-328e-40b1-9ef3-cc3627749268\",\"type\":\"GlyphRenderer\"},{\"id\":\"b4a7b545-727a-463b-8595-da82f230e0bb\",\"type\":\"GlyphRenderer\"},{\"id\":\"15a7e771-40ca-4e4a-995e-752a065d889a\",\"type\":\"GlyphRenderer\"},{\"id\":\"b9056850-e084-43e5-abb3-00c11fbb4ee9\",\"type\":\"GlyphRenderer\"},{\"id\":\"2a748f06-b888-41eb-84cf-2af599d27cb0\",\"type\":\"GlyphRenderer\"},{\"id\":\"8c9edb13-9099-4307-9235-61fd66bb1d44\",\"type\":\"GlyphRenderer\"},{\"id\":\"8cd98276-da8f-4143-a456-88f06e41e18e\",\"type\":\"GlyphRenderer\"},{\"id\":\"43231c77-9b59-4e4f-93d1-c3488c962f12\",\"type\":\"GlyphRenderer\"},{\"id\":\"4564622d-10b2-44fc-a056-f5a77e7c03c0\",\"type\":\"GlyphRenderer\"},{\"id\":\"12b0ef4f-4d0a-4270-b1e6-3ae586c3dca7\",\"type\":\"GlyphRenderer\"},{\"id\":\"469645e7-cb37-4e9f-8471-482752320812\",\"type\":\"GlyphRenderer\"},{\"id\":\"07f466f4-c80c-413d-b1e2-5086e59f2347\",\"type\":\"GlyphRenderer\"},{\"id\":\"04131417-aa75-4dff-9142-300c1b8608fe\",\"type\":\"GlyphRenderer\"},{\"id\":\"19b1fc5d-b497-447c-b371-56d8be249909\",\"type\":\"GlyphRenderer\"},{\"id\":\"09b660f9-4e8e-419e-b073-475e8ba51807\",\"type\":\"GlyphRenderer\"},{\"id\":\"fd6f742f-09d7-459c-b25a-69c7cd5fa464\",\"type\":\"GlyphRenderer\"},{\"id\":\"2a3d3aa2-eedb-47ef-858f-3c8fb0969bff\",\"type\":\"GlyphRenderer\"},{\"id\":\"4fdf4caa-ca94-4b36-a852-45bf870d1737\",\"type\":\"GlyphRenderer\"},{\"id\":\"16f2b5d5-e53d-43d3-ac91-af635996ebb3\",\"type\":\"GlyphRenderer\"},{\"id\":\"e36e0224-5971-41b8-8b67-adc8857b1c72\",\"type\":\"GlyphRenderer\"},{\"id\":\"c260eeab-b347-4b86-b1a5-08129f326907\",\"type\":\"GlyphRenderer\"},{\"id\":\"d1fce61f-174d-4a4a-9538-3caabef5e1fb\",\"type\":\"GlyphRenderer\"},{\"id\":\"a2dfaaa7-40f3-47fa-b6d5-922a750d9911\",\"type\":\"GlyphRenderer\"},{\"id\":\"1d91e817-c85b-4a27-9b70-9ca70c7b70cf\",\"type\":\"GlyphRenderer\"},{\"id\":\"35d9c3cf-effc-42ad-a446-6a551bbd6d5c\",\"type\":\"GlyphRenderer\"},{\"id\":\"fd63fbc9-827a-432c-b816-24a704948fcf\",\"type\":\"GlyphRenderer\"},{\"id\":\"661c6356-e3f8-436f-84e7-f60f20d3e1b0\",\"type\":\"GlyphRenderer\"},{\"id\":\"149adf77-e6cf-4a02-b5ca-be18bc076958\",\"type\":\"GlyphRenderer\"},{\"id\":\"15b7f37b-1299-4add-a4a3-47255d54c3ee\",\"type\":\"GlyphRenderer\"},{\"id\":\"a5edb716-38e6-4146-a5c5-ee1bcba286e3\",\"type\":\"GlyphRenderer\"},{\"id\":\"4d34bc9a-1fb5-44db-aebe-23c515befa85\",\"type\":\"GlyphRenderer\"},{\"id\":\"ad9ae1ca-c2ec-4a20-865d-e0ad5541134b\",\"type\":\"GlyphRenderer\"},{\"id\":\"1b23f8a0-bd83-4aff-aac3-564496d69307\",\"type\":\"GlyphRenderer\"},{\"id\":\"a5d6c632-55dc-4d7c-82d7-daa3e94ac49b\",\"type\":\"GlyphRenderer\"},{\"id\":\"3f40a127-df97-4dbd-b981-90121e834086\",\"type\":\"GlyphRenderer\"},{\"id\":\"df47c448-a242-492d-906d-9f49ccb3f5ad\",\"type\":\"GlyphRenderer\"},{\"id\":\"f89a373f-cadd-4ee2-89ab-68a5835f427b\",\"type\":\"GlyphRenderer\"},{\"id\":\"3fb57c8f-31a9-42e2-b80c-c58d6c32cf3b\",\"type\":\"GlyphRenderer\"},{\"id\":\"6227f6ba-51e9-41cd-a88c-2b1e96057892\",\"type\":\"GlyphRenderer\"},{\"id\":\"f55cb5ec-613d-4f76-ad81-8894e156a54f\",\"type\":\"GlyphRenderer\"},{\"id\":\"6191e960-1809-44d4-acdf-0378b1c14677\",\"type\":\"GlyphRenderer\"},{\"id\":\"525dcaea-c874-4da7-a870-a5dbeaf2c69c\",\"type\":\"GlyphRenderer\"},{\"id\":\"36299ef7-5a99-4a97-b955-1b597322bd90\",\"type\":\"CategoricalAxis\"},{\"id\":\"31c2525b-4ebd-4767-b69f-8c5d69ed91fa\",\"type\":\"LinearAxis\"},{\"id\":\"58d7a4b0-9a55-44a1-afec-e15f1c327f14\",\"type\":\"Grid\"}],\"title\":\"f\\u00f8lger folk partiet?\",\"title_text_font_size\":{\"value\":\"14pt\"},\"tool_events\":{\"id\":\"df6480b9-bf56-4dea-b584-74ff96db5f0f\",\"type\":\"ToolEvents\"},\"tools\":[{\"id\":\"66e7e3f9-665b-4549-9391-142180eb6c40\",\"type\":\"PanTool\"},{\"id\":\"b812fb4e-518a-4786-ba9d-cc8d2c8d3956\",\"type\":\"WheelZoomTool\"},{\"id\":\"afb8a6c2-6406-4df3-8ea7-ad905096c51e\",\"type\":\"BoxZoomTool\"},{\"id\":\"68d91e20-c388-45f7-b894-26083d7f25b0\",\"type\":\"PreviewSaveTool\"},{\"id\":\"b87e9787-8f7e-488f-bc8f-2e73667b8a20\",\"type\":\"ResizeTool\"},{\"id\":\"99813dd5-cc06-4f4c-9d26-0888af9d2581\",\"type\":\"ResetTool\"},{\"id\":\"228c0d08-ec41-4942-9b6a-1af04be57599\",\"type\":\"HelpTool\"}],\"x_mapper_type\":\"auto\",\"x_range\":{\"id\":\"125723e4-89e8-433d-92a8-e71638dd8a66\",\"type\":\"FactorRange\"},\"xgrid\":false,\"xscale\":\"auto\",\"y_mapper_type\":\"auto\",\"y_range\":{\"id\":\"5dae2e1c-c6c7-44c2-acb7-a52a722afa83\",\"type\":\"Range1d\"},\"yscale\":\"auto\"},\"id\":\"5576f7c1-d8a6-46ce-8ead-d7af8e9d1759\",\"subtype\":\"Chart\",\"type\":\"Plot\"},{\"attributes\":{\"callback\":null,\"column_names\":[\"fill_alpha\",\"y\",\"line_color\",\"height\",\"width\",\"x\",\"color\",\"line_alpha\"],\"data\":{\"chart_index\":[{\"index\":\"Christian Langballe\"}],\"color\":[\"#f22c40\"],\"fill_alpha\":[0.8],\"height\":[0.1851851851851852],\"index\":[\"Christian Langballe\"],\"line_alpha\":[1.0],\"line_color\":[\"white\"],\"width\":[0.8],\"x\":[\"Christian Langballe\"],\"y\":[0.0925925925925926]}},\"id\":\"97e5d8a9-57c5-489f-9cd0-d12de2bccd54\",\"type\":\"ColumnDataSource\"},{\"attributes\":{\"axis_label\":\"% stemmer imod parti flertallet\",\"formatter\":{\"id\":\"da8ec15a-939c-4772-b503-b04166d3e8b9\",\"type\":\"BasicTickFormatter\"},\"plot\":{\"id\":\"5576f7c1-d8a6-46ce-8ead-d7af8e9d1759\",\"subtype\":\"Chart\",\"type\":\"Plot\"},\"ticker\":{\"id\":\"cf4f6db9-9bf1-4571-8531-f3c230bb2152\",\"type\":\"BasicTicker\"}},\"id\":\"31c2525b-4ebd-4767-b69f-8c5d69ed91fa\",\"type\":\"LinearAxis\"},{\"attributes\":{\"callback\":null,\"column_names\":[\"fill_alpha\",\"y\",\"line_color\",\"height\",\"width\",\"x\",\"color\",\"line_alpha\"],\"data\":{\"chart_index\":[{\"index\":\"Lars Barfoed\"}],\"color\":[\"#f22c40\"],\"fill_alpha\":[0.8],\"height\":[0.130718954248366],\"index\":[\"Lars Barfoed\"],\"line_alpha\":[1.0],\"line_color\":[\"white\"],\"width\":[0.8],\"x\":[\"Lars Barfoed\"],\"y\":[0.065359477124183]}},\"id\":\"9c299087-a8d2-4f29-ac90-cb319878b504\",\"type\":\"ColumnDataSource\"},{\"attributes\":{\"fill_alpha\":{\"field\":\"fill_alpha\"},\"fill_color\":{\"field\":\"color\"},\"height\":{\"field\":\"height\",\"units\":\"data\"},\"line_color\":{\"field\":\"line_color\"},\"width\":{\"field\":\"width\",\"units\":\"data\"},\"x\":{\"field\":\"x\"},\"y\":{\"field\":\"y\"}},\"id\":\"d4555774-fe2b-4eac-8626-ddd1749544ae\",\"type\":\"Rect\"},{\"attributes\":{\"plot\":{\"id\":\"5576f7c1-d8a6-46ce-8ead-d7af8e9d1759\",\"subtype\":\"Chart\",\"type\":\"Plot\"}},\"id\":\"66e7e3f9-665b-4549-9391-142180eb6c40\",\"type\":\"PanTool\"},{\"attributes\":{\"fill_alpha\":{\"field\":\"fill_alpha\"},\"fill_color\":{\"field\":\"color\"},\"height\":{\"field\":\"height\",\"units\":\"data\"},\"line_color\":{\"field\":\"line_color\"},\"width\":{\"field\":\"width\",\"units\":\"data\"},\"x\":{\"field\":\"x\"},\"y\":{\"field\":\"y\"}},\"id\":\"8c023fcf-4ad0-4270-af19-c7a87f0837cc\",\"type\":\"Rect\"},{\"attributes\":{\"data_source\":{\"id\":\"b28943ba-086e-43f2-b314-4a72cc270c30\",\"type\":\"ColumnDataSource\"},\"glyph\":{\"id\":\"e52d8852-ba52-4a2b-a907-cf0b4e65ac0e\",\"type\":\"Rect\"},\"hover_glyph\":null,\"nonselection_glyph\":null,\"selection_glyph\":null},\"id\":\"6191e960-1809-44d4-acdf-0378b1c14677\",\"type\":\"GlyphRenderer\"},{\"attributes\":{\"data_source\":{\"id\":\"0f01b071-775a-4530-bf95-24d623ebd3d1\",\"type\":\"ColumnDataSource\"},\"glyph\":{\"id\":\"77ebe22b-5aae-4ce7-b42c-7612ae2c71aa\",\"type\":\"Rect\"},\"hover_glyph\":null,\"nonselection_glyph\":null,\"selection_glyph\":null},\"id\":\"121ecc79-364e-44d8-841b-7a61fe276da1\",\"type\":\"GlyphRenderer\"},{\"attributes\":{\"plot\":{\"id\":\"5576f7c1-d8a6-46ce-8ead-d7af8e9d1759\",\"subtype\":\"Chart\",\"type\":\"Plot\"}},\"id\":\"b812fb4e-518a-4786-ba9d-cc8d2c8d3956\",\"type\":\"WheelZoomTool\"},{\"attributes\":{\"fill_alpha\":{\"field\":\"fill_alpha\"},\"fill_color\":{\"field\":\"color\"},\"height\":{\"field\":\"height\",\"units\":\"data\"},\"line_color\":{\"field\":\"line_color\"},\"width\":{\"field\":\"width\",\"units\":\"data\"},\"x\":{\"field\":\"x\"},\"y\":{\"field\":\"y\"}},\"id\":\"d5d2f795-2911-44d6-897d-8ba089e01531\",\"type\":\"Rect\"},{\"attributes\":{\"fill_alpha\":{\"field\":\"fill_alpha\"},\"fill_color\":{\"field\":\"color\"},\"height\":{\"field\":\"height\",\"units\":\"data\"},\"line_color\":{\"field\":\"line_color\"},\"width\":{\"field\":\"width\",\"units\":\"data\"},\"x\":{\"field\":\"x\"},\"y\":{\"field\":\"y\"}},\"id\":\"925b8da4-b242-4b18-9f18-dd5773cd7342\",\"type\":\"Rect\"},{\"attributes\":{\"fill_alpha\":{\"field\":\"fill_alpha\"},\"fill_color\":{\"field\":\"color\"},\"height\":{\"field\":\"height\",\"units\":\"data\"},\"line_color\":{\"field\":\"line_color\"},\"width\":{\"field\":\"width\",\"units\":\"data\"},\"x\":{\"field\":\"x\"},\"y\":{\"field\":\"y\"}},\"id\":\"7db837e7-fb49-48a6-ae36-ca79ca86aa01\",\"type\":\"Rect\"},{\"attributes\":{\"fill_alpha\":{\"field\":\"fill_alpha\"},\"fill_color\":{\"field\":\"color\"},\"height\":{\"field\":\"height\",\"units\":\"data\"},\"line_color\":{\"field\":\"line_color\"},\"width\":{\"field\":\"width\",\"units\":\"data\"},\"x\":{\"field\":\"x\"},\"y\":{\"field\":\"y\"}},\"id\":\"d15e825e-1ac4-429a-9ec9-c3db15b1018f\",\"type\":\"Rect\"},{\"attributes\":{\"callback\":null,\"column_names\":[\"fill_alpha\",\"y\",\"line_color\",\"height\",\"width\",\"x\",\"color\",\"line_alpha\"],\"data\":{\"chart_index\":[{\"index\":\"Bente Bendix\"}],\"color\":[\"#f22c40\"],\"fill_alpha\":[0.8],\"height\":[1.4084507042253522],\"index\":[\"Bente Bendix\"],\"line_alpha\":[1.0],\"line_color\":[\"white\"],\"width\":[0.8],\"x\":[\"Bente Bendix\"],\"y\":[0.7042253521126761]}},\"id\":\"acf5ab7c-3019-4ab0-a70b-9d56cc6667cf\",\"type\":\"ColumnDataSource\"},{\"attributes\":{\"fill_alpha\":{\"field\":\"fill_alpha\"},\"fill_color\":{\"field\":\"color\"},\"height\":{\"field\":\"height\",\"units\":\"data\"},\"line_color\":{\"field\":\"line_color\"},\"width\":{\"field\":\"width\",\"units\":\"data\"},\"x\":{\"field\":\"x\"},\"y\":{\"field\":\"y\"}},\"id\":\"fe1f9471-c407-4ecc-82b2-6530c426d0f7\",\"type\":\"Rect\"},{\"attributes\":{\"data_source\":{\"id\":\"117a5b5f-f6e4-4be0-a89e-e8b0f45e4cdc\",\"type\":\"ColumnDataSource\"},\"glyph\":{\"id\":\"4eb9854a-09d0-4c62-8132-7b1b633c2bad\",\"type\":\"Rect\"},\"hover_glyph\":null,\"nonselection_glyph\":null,\"selection_glyph\":null},\"id\":\"2a2eabf7-8c23-4622-a7f5-fb7c2f0e9986\",\"type\":\"GlyphRenderer\"},{\"attributes\":{\"data_source\":{\"id\":\"31f28758-2106-4c47-adcb-c32aede96a8f\",\"type\":\"ColumnDataSource\"},\"glyph\":{\"id\":\"2eb66419-b2b1-4aec-be8d-eda2a44e7dac\",\"type\":\"Rect\"},\"hover_glyph\":null,\"nonselection_glyph\":null,\"selection_glyph\":null},\"id\":\"3fb57c8f-31a9-42e2-b80c-c58d6c32cf3b\",\"type\":\"GlyphRenderer\"},{\"attributes\":{\"callback\":null,\"column_names\":[\"fill_alpha\",\"y\",\"line_color\",\"height\",\"width\",\"x\",\"color\",\"line_alpha\"],\"data\":{\"chart_index\":[{\"index\":\"Venstre, Danmarks Liberale Parti\"}],\"color\":[\"#f22c40\"],\"fill_alpha\":[0.8],\"height\":[0.8333333333333334],\"index\":[\"Venstre, Danmarks Liberale Parti\"],\"line_alpha\":[1.0],\"line_color\":[\"white\"],\"width\":[0.8],\"x\":[\"Venstre, Danmarks Liberale Parti\"],\"y\":[0.4166666666666667]}},\"id\":\"2df0f383-6d78-46fc-9077-9a032708ba59\",\"type\":\"ColumnDataSource\"},{\"attributes\":{\"callback\":null,\"column_names\":[\"fill_alpha\",\"y\",\"line_color\",\"height\",\"width\",\"x\",\"color\",\"line_alpha\"],\"data\":{\"chart_index\":[{\"index\":\"Jan Johansen\"}],\"color\":[\"#f22c40\"],\"fill_alpha\":[0.8],\"height\":[0.1851851851851852],\"index\":[\"Jan Johansen\"],\"line_alpha\":[1.0],\"line_color\":[\"white\"],\"width\":[0.8],\"x\":[\"Jan Johansen\"],\"y\":[0.0925925925925926]}},\"id\":\"34f308e1-9b31-486e-ab44-b67b4aef8f5f\",\"type\":\"ColumnDataSource\"},{\"attributes\":{\"data_source\":{\"id\":\"64ae8294-1ff6-44a5-9a5a-8aa64dea983f\",\"type\":\"ColumnDataSource\"},\"glyph\":{\"id\":\"d15e825e-1ac4-429a-9ec9-c3db15b1018f\",\"type\":\"Rect\"},\"hover_glyph\":null,\"nonselection_glyph\":null,\"selection_glyph\":null},\"id\":\"3f40a127-df97-4dbd-b981-90121e834086\",\"type\":\"GlyphRenderer\"},{\"attributes\":{\"callback\":null,\"column_names\":[\"fill_alpha\",\"y\",\"line_color\",\"height\",\"width\",\"x\",\"color\",\"line_alpha\"],\"data\":{\"chart_index\":[{\"index\":\"Eyvind Vesselbo\"}],\"color\":[\"#f22c40\"],\"fill_alpha\":[0.8],\"height\":[0.130718954248366],\"index\":[\"Eyvind Vesselbo\"],\"line_alpha\":[1.0],\"line_color\":[\"white\"],\"width\":[0.8],\"x\":[\"Eyvind Vesselbo\"],\"y\":[0.065359477124183]}},\"id\":\"9aa8b47b-876c-4606-9bf0-d6c9aa884436\",\"type\":\"ColumnDataSource\"},{\"attributes\":{\"callback\":null,\"column_names\":[\"fill_alpha\",\"y\",\"line_color\",\"height\",\"width\",\"x\",\"color\",\"line_alpha\"],\"data\":{\"chart_index\":[{\"index\":\"Daniel Toft Jakobsen\"}],\"color\":[\"#f22c40\"],\"fill_alpha\":[0.8],\"height\":[0.3105590062111801],\"index\":[\"Daniel Toft Jakobsen\"],\"line_alpha\":[1.0],\"line_color\":[\"white\"],\"width\":[0.8],\"x\":[\"Daniel Toft Jakobsen\"],\"y\":[0.15527950310559005]}},\"id\":\"117a5b5f-f6e4-4be0-a89e-e8b0f45e4cdc\",\"type\":\"ColumnDataSource\"},{\"attributes\":{\"data_source\":{\"id\":\"9afec8b8-ba08-4fc8-8ce4-e2de7c7cb35e\",\"type\":\"ColumnDataSource\"},\"glyph\":{\"id\":\"d4a651b0-e281-46f0-a0d5-be7196468ab0\",\"type\":\"Rect\"},\"hover_glyph\":null,\"nonselection_glyph\":null,\"selection_glyph\":null},\"id\":\"f89a373f-cadd-4ee2-89ab-68a5835f427b\",\"type\":\"GlyphRenderer\"},{\"attributes\":{\"fill_alpha\":{\"field\":\"fill_alpha\"},\"fill_color\":{\"field\":\"color\"},\"height\":{\"field\":\"height\",\"units\":\"data\"},\"line_color\":{\"field\":\"line_color\"},\"width\":{\"field\":\"width\",\"units\":\"data\"},\"x\":{\"field\":\"x\"},\"y\":{\"field\":\"y\"}},\"id\":\"febe4349-d7b4-4a42-a904-f578216c26d9\",\"type\":\"Rect\"},{\"attributes\":{\"fill_alpha\":{\"field\":\"fill_alpha\"},\"fill_color\":{\"field\":\"color\"},\"height\":{\"field\":\"height\",\"units\":\"data\"},\"line_color\":{\"field\":\"line_color\"},\"width\":{\"field\":\"width\",\"units\":\"data\"},\"x\":{\"field\":\"x\"},\"y\":{\"field\":\"y\"}},\"id\":\"febd0c96-0dd5-48ac-a4a6-b52557a03110\",\"type\":\"Rect\"},{\"attributes\":{\"overlay\":{\"id\":\"0b50f2e3-0f7c-46dc-96f1-fc5f39b902bd\",\"type\":\"BoxAnnotation\"},\"plot\":{\"id\":\"5576f7c1-d8a6-46ce-8ead-d7af8e9d1759\",\"subtype\":\"Chart\",\"type\":\"Plot\"}},\"id\":\"afb8a6c2-6406-4df3-8ea7-ad905096c51e\",\"type\":\"BoxZoomTool\"},{\"attributes\":{\"data_source\":{\"id\":\"97e5d8a9-57c5-489f-9cd0-d12de2bccd54\",\"type\":\"ColumnDataSource\"},\"glyph\":{\"id\":\"01057747-4f14-4629-bd36-3aa0f0a8cb18\",\"type\":\"Rect\"},\"hover_glyph\":null,\"nonselection_glyph\":null,\"selection_glyph\":null},\"id\":\"b7a25df0-d22b-44fc-9195-ce5ac6a58b04\",\"type\":\"GlyphRenderer\"},{\"attributes\":{\"callback\":null,\"column_names\":[\"fill_alpha\",\"y\",\"line_color\",\"height\",\"width\",\"x\",\"color\",\"line_alpha\"],\"data\":{\"chart_index\":[{\"index\":\"Frank Aaen\"}],\"color\":[\"#f22c40\"],\"fill_alpha\":[0.8],\"height\":[0.130718954248366],\"index\":[\"Frank Aaen\"],\"line_alpha\":[1.0],\"line_color\":[\"white\"],\"width\":[0.8],\"x\":[\"Frank Aaen\"],\"y\":[0.065359477124183]}},\"id\":\"5f5eaa4f-add6-4f21-832c-99eb616a6c95\",\"type\":\"ColumnDataSource\"},{\"attributes\":{\"fill_alpha\":{\"field\":\"fill_alpha\"},\"fill_color\":{\"field\":\"color\"},\"height\":{\"field\":\"height\",\"units\":\"data\"},\"line_color\":{\"field\":\"line_color\"},\"width\":{\"field\":\"width\",\"units\":\"data\"},\"x\":{\"field\":\"x\"},\"y\":{\"field\":\"y\"}},\"id\":\"e52d8852-ba52-4a2b-a907-cf0b4e65ac0e\",\"type\":\"Rect\"},{\"attributes\":{\"callback\":null,\"column_names\":[\"fill_alpha\",\"y\",\"line_color\",\"height\",\"width\",\"x\",\"color\",\"line_alpha\"],\"data\":{\"chart_index\":[{\"index\":\"Hans Christian Schmidt\"}],\"color\":[\"#f22c40\"],\"fill_alpha\":[0.8],\"height\":[0.0925925925925926],\"index\":[\"Hans Christian Schmidt\"],\"line_alpha\":[1.0],\"line_color\":[\"white\"],\"width\":[0.8],\"x\":[\"Hans Christian Schmidt\"],\"y\":[0.0462962962962963]}},\"id\":\"9b1d632c-d9e6-46e7-8ed3-4b140e469714\",\"type\":\"ColumnDataSource\"},{\"attributes\":{\"callback\":null,\"column_names\":[\"fill_alpha\",\"y\",\"line_color\",\"height\",\"width\",\"x\",\"color\",\"line_alpha\"],\"data\":{\"chart_index\":[{\"index\":\"Ida Auken\"}],\"color\":[\"#f22c40\"],\"fill_alpha\":[0.8],\"height\":[1.2037037037037037],\"index\":[\"Ida Auken\"],\"line_alpha\":[1.0],\"line_color\":[\"white\"],\"width\":[0.8],\"x\":[\"Ida Auken\"],\"y\":[0.6018518518518519]}},\"id\":\"2f2a4aad-4e78-4bbc-94a2-92f6baa41e3d\",\"type\":\"ColumnDataSource\"},{\"attributes\":{\"fill_alpha\":{\"field\":\"fill_alpha\"},\"fill_color\":{\"field\":\"color\"},\"height\":{\"field\":\"height\",\"units\":\"data\"},\"line_color\":{\"field\":\"line_color\"},\"width\":{\"field\":\"width\",\"units\":\"data\"},\"x\":{\"field\":\"x\"},\"y\":{\"field\":\"y\"}},\"id\":\"447426c5-5485-4402-bedf-52993dfe5b6d\",\"type\":\"Rect\"},{\"attributes\":{\"callback\":null,\"column_names\":[\"fill_alpha\",\"y\",\"line_color\",\"height\",\"width\",\"x\",\"color\",\"line_alpha\"],\"data\":{\"chart_index\":[{\"index\":\"Astrid Krag\"}],\"color\":[\"#f22c40\"],\"fill_alpha\":[0.8],\"height\":[1.6602809706257982],\"index\":[\"Astrid Krag\"],\"line_alpha\":[1.0],\"line_color\":[\"white\"],\"width\":[0.8],\"x\":[\"Astrid Krag\"],\"y\":[0.8301404853128991]}},\"id\":\"e027798d-6a0c-4471-858a-824d4e8e666f\",\"type\":\"ColumnDataSource\"},{\"attributes\":{\"callback\":null,\"column_names\":[\"fill_alpha\",\"y\",\"line_color\",\"height\",\"width\",\"x\",\"color\",\"line_alpha\"],\"data\":{\"chart_index\":[{\"index\":\"Mette Gjerskov\"}],\"color\":[\"#f22c40\"],\"fill_alpha\":[0.8],\"height\":[0.0925925925925926],\"index\":[\"Mette Gjerskov\"],\"line_alpha\":[1.0],\"line_color\":[\"white\"],\"width\":[0.8],\"x\":[\"Mette Gjerskov\"],\"y\":[0.0462962962962963]}},\"id\":\"43a36e73-9647-431f-93df-28c8de505103\",\"type\":\"ColumnDataSource\"},{\"attributes\":{\"fill_alpha\":{\"field\":\"fill_alpha\"},\"fill_color\":{\"field\":\"color\"},\"height\":{\"field\":\"height\",\"units\":\"data\"},\"line_color\":{\"field\":\"line_color\"},\"width\":{\"field\":\"width\",\"units\":\"data\"},\"x\":{\"field\":\"x\"},\"y\":{\"field\":\"y\"}},\"id\":\"321ae0ce-78e1-4793-8742-82266eead37e\",\"type\":\"Rect\"},{\"attributes\":{\"data_source\":{\"id\":\"1d74c7cb-e914-430f-9827-771095dfb9df\",\"type\":\"ColumnDataSource\"},\"glyph\":{\"id\":\"4558bc53-99d9-40fe-bbfd-f65f4d25f1e9\",\"type\":\"Rect\"},\"hover_glyph\":null,\"nonselection_glyph\":null,\"selection_glyph\":null},\"id\":\"661c6356-e3f8-436f-84e7-f60f20d3e1b0\",\"type\":\"GlyphRenderer\"},{\"attributes\":{\"data_source\":{\"id\":\"061740df-1a72-43e0-8f72-508953123621\",\"type\":\"ColumnDataSource\"},\"glyph\":{\"id\":\"65c16718-4835-4891-8244-5ecdbb171105\",\"type\":\"Rect\"},\"hover_glyph\":null,\"nonselection_glyph\":null,\"selection_glyph\":null},\"id\":\"16f2b5d5-e53d-43d3-ac91-af635996ebb3\",\"type\":\"GlyphRenderer\"},{\"attributes\":{\"fill_alpha\":{\"field\":\"fill_alpha\"},\"fill_color\":{\"field\":\"color\"},\"height\":{\"field\":\"height\",\"units\":\"data\"},\"line_color\":{\"field\":\"line_color\"},\"width\":{\"field\":\"width\",\"units\":\"data\"},\"x\":{\"field\":\"x\"},\"y\":{\"field\":\"y\"}},\"id\":\"0a5e2542-d365-4a4f-9150-4c531c15a492\",\"type\":\"Rect\"},{\"attributes\":{\"data_source\":{\"id\":\"4b975f0d-c3c5-4c4f-9c26-be7eb33e70af\",\"type\":\"ColumnDataSource\"},\"glyph\":{\"id\":\"a51719a8-f8d2-48eb-9fc2-8aa5fb0abd4d\",\"type\":\"Rect\"},\"hover_glyph\":null,\"nonselection_glyph\":null,\"selection_glyph\":null},\"id\":\"12b0ef4f-4d0a-4270-b1e6-3ae586c3dca7\",\"type\":\"GlyphRenderer\"},{\"attributes\":{\"callback\":null,\"column_names\":[\"fill_alpha\",\"y\",\"line_color\",\"height\",\"width\",\"x\",\"color\",\"line_alpha\"],\"data\":{\"chart_index\":[{\"index\":\"Merete Riisager\"}],\"color\":[\"#f22c40\"],\"fill_alpha\":[0.8],\"height\":[0.2777777777777778],\"index\":[\"Merete Riisager\"],\"line_alpha\":[1.0],\"line_color\":[\"white\"],\"width\":[0.8],\"x\":[\"Merete Riisager\"],\"y\":[0.1388888888888889]}},\"id\":\"3c8cb1a8-34bc-4ffa-9c2e-bafe7c7eaa4e\",\"type\":\"ColumnDataSource\"},{\"attributes\":{\"data_source\":{\"id\":\"ab8aa4f9-b291-4e9e-9ee2-4e4eff038a31\",\"type\":\"ColumnDataSource\"},\"glyph\":{\"id\":\"91c01daa-8fa8-4836-ae4e-6ebe3e7fccb8\",\"type\":\"Rect\"},\"hover_glyph\":null,\"nonselection_glyph\":null,\"selection_glyph\":null},\"id\":\"034001cb-328e-40b1-9ef3-cc3627749268\",\"type\":\"GlyphRenderer\"},{\"attributes\":{\"data_source\":{\"id\":\"186cb2f9-00f6-49c0-99fb-d4b8d9555fd8\",\"type\":\"ColumnDataSource\"},\"glyph\":{\"id\":\"4aa46421-f7fd-49ba-807a-694cc4981599\",\"type\":\"Rect\"},\"hover_glyph\":null,\"nonselection_glyph\":null,\"selection_glyph\":null},\"id\":\"b7769828-5cfe-44e8-b189-dc6cce05815e\",\"type\":\"GlyphRenderer\"},{\"attributes\":{\"data_source\":{\"id\":\"9158501e-69af-4eba-a7c1-101b09c51b69\",\"type\":\"ColumnDataSource\"},\"glyph\":{\"id\":\"62f03a01-c4d8-4b03-a5a3-26ddbc64b0ef\",\"type\":\"Rect\"},\"hover_glyph\":null,\"nonselection_glyph\":null,\"selection_glyph\":null},\"id\":\"2a3d3aa2-eedb-47ef-858f-3c8fb0969bff\",\"type\":\"GlyphRenderer\"},{\"attributes\":{\"fill_alpha\":{\"field\":\"fill_alpha\"},\"fill_color\":{\"field\":\"color\"},\"height\":{\"field\":\"height\",\"units\":\"data\"},\"line_color\":{\"field\":\"line_color\"},\"width\":{\"field\":\"width\",\"units\":\"data\"},\"x\":{\"field\":\"x\"},\"y\":{\"field\":\"y\"}},\"id\":\"e046cd3d-da54-4208-b41a-c1b0b9085a72\",\"type\":\"Rect\"},{\"attributes\":{\"fill_alpha\":{\"field\":\"fill_alpha\"},\"fill_color\":{\"field\":\"color\"},\"height\":{\"field\":\"height\",\"units\":\"data\"},\"line_color\":{\"field\":\"line_color\"},\"width\":{\"field\":\"width\",\"units\":\"data\"},\"x\":{\"field\":\"x\"},\"y\":{\"field\":\"y\"}},\"id\":\"72cd6f04-5f6f-496e-9215-4a2f94086656\",\"type\":\"Rect\"},{\"attributes\":{\"fill_alpha\":{\"field\":\"fill_alpha\"},\"fill_color\":{\"field\":\"color\"},\"height\":{\"field\":\"height\",\"units\":\"data\"},\"line_color\":{\"field\":\"line_color\"},\"width\":{\"field\":\"width\",\"units\":\"data\"},\"x\":{\"field\":\"x\"},\"y\":{\"field\":\"y\"}},\"id\":\"659f7295-a30b-4f91-b264-c5ca75a5ca99\",\"type\":\"Rect\"},{\"attributes\":{\"fill_alpha\":{\"field\":\"fill_alpha\"},\"fill_color\":{\"field\":\"color\"},\"height\":{\"field\":\"height\",\"units\":\"data\"},\"line_color\":{\"field\":\"line_color\"},\"width\":{\"field\":\"width\",\"units\":\"data\"},\"x\":{\"field\":\"x\"},\"y\":{\"field\":\"y\"}},\"id\":\"3142565c-414d-482e-8056-893b8204abc0\",\"type\":\"Rect\"},{\"attributes\":{\"data_source\":{\"id\":\"5124bbda-d8e2-4a11-816d-0cf8ad4bd1be\",\"type\":\"ColumnDataSource\"},\"glyph\":{\"id\":\"8c023fcf-4ad0-4270-af19-c7a87f0837cc\",\"type\":\"Rect\"},\"hover_glyph\":null,\"nonselection_glyph\":null,\"selection_glyph\":null},\"id\":\"1b23f8a0-bd83-4aff-aac3-564496d69307\",\"type\":\"GlyphRenderer\"},{\"attributes\":{\"fill_alpha\":{\"field\":\"fill_alpha\"},\"fill_color\":{\"field\":\"color\"},\"height\":{\"field\":\"height\",\"units\":\"data\"},\"line_color\":{\"field\":\"line_color\"},\"width\":{\"field\":\"width\",\"units\":\"data\"},\"x\":{\"field\":\"x\"},\"y\":{\"field\":\"y\"}},\"id\":\"1a7c7d8e-2951-4a89-a9b3-61a601664050\",\"type\":\"Rect\"},{\"attributes\":{\"data_source\":{\"id\":\"5f5eaa4f-add6-4f21-832c-99eb616a6c95\",\"type\":\"ColumnDataSource\"},\"glyph\":{\"id\":\"e046cd3d-da54-4208-b41a-c1b0b9085a72\",\"type\":\"Rect\"},\"hover_glyph\":null,\"nonselection_glyph\":null,\"selection_glyph\":null},\"id\":\"8cd98276-da8f-4143-a456-88f06e41e18e\",\"type\":\"GlyphRenderer\"},{\"attributes\":{\"callback\":null,\"column_names\":[\"fill_alpha\",\"y\",\"line_color\",\"height\",\"width\",\"x\",\"color\",\"line_alpha\"],\"data\":{\"chart_index\":[{\"index\":\"Joachim B. Olsen\"}],\"color\":[\"#f22c40\"],\"fill_alpha\":[0.8],\"height\":[0.1851851851851852],\"index\":[\"Joachim B. Olsen\"],\"line_alpha\":[1.0],\"line_color\":[\"white\"],\"width\":[0.8],\"x\":[\"Joachim B. Olsen\"],\"y\":[0.0925925925925926]}},\"id\":\"90c9e4cc-ebd2-4ca0-961b-20b7c086c491\",\"type\":\"ColumnDataSource\"},{\"attributes\":{\"callback\":null,\"column_names\":[\"fill_alpha\",\"y\",\"line_color\",\"height\",\"width\",\"x\",\"color\",\"line_alpha\"],\"data\":{\"chart_index\":[{\"index\":\"Anders Samuelsen\"}],\"color\":[\"#f22c40\"],\"fill_alpha\":[0.8],\"height\":[0.0925925925925926],\"index\":[\"Anders Samuelsen\"],\"line_alpha\":[1.0],\"line_color\":[\"white\"],\"width\":[0.8],\"x\":[\"Anders Samuelsen\"],\"y\":[0.0462962962962963]}},\"id\":\"0f01b071-775a-4530-bf95-24d623ebd3d1\",\"type\":\"ColumnDataSource\"},{\"attributes\":{\"callback\":null,\"column_names\":[\"fill_alpha\",\"y\",\"line_color\",\"height\",\"width\",\"x\",\"color\",\"line_alpha\"],\"data\":{\"chart_index\":[{\"index\":\"Ren\\u00e9 Christensen\"}],\"color\":[\"#f22c40\"],\"fill_alpha\":[0.8],\"height\":[0.0925925925925926],\"index\":[\"Ren\\u00e9 Christensen\"],\"line_alpha\":[1.0],\"line_color\":[\"white\"],\"width\":[0.8],\"x\":[\"Ren\\u00e9 Christensen\"],\"y\":[0.0462962962962963]}},\"id\":\"9afec8b8-ba08-4fc8-8ce4-e2de7c7cb35e\",\"type\":\"ColumnDataSource\"},{\"attributes\":{\"callback\":null,\"column_names\":[\"fill_alpha\",\"y\",\"line_color\",\"height\",\"width\",\"x\",\"color\",\"line_alpha\"],\"data\":{\"chart_index\":[{\"index\":\"Dansk Folkeparti\"}],\"color\":[\"#f22c40\"],\"fill_alpha\":[0.8],\"height\":[0.4629629629629629],\"index\":[\"Dansk Folkeparti\"],\"line_alpha\":[1.0],\"line_color\":[\"white\"],\"width\":[0.8],\"x\":[\"Dansk Folkeparti\"],\"y\":[0.23148148148148145]}},\"id\":\"186cb2f9-00f6-49c0-99fb-d4b8d9555fd8\",\"type\":\"ColumnDataSource\"},{\"attributes\":{\"data_source\":{\"id\":\"de9c4127-ba1f-4d92-acaf-e4e3a555bc09\",\"type\":\"ColumnDataSource\"},\"glyph\":{\"id\":\"925b8da4-b242-4b18-9f18-dd5773cd7342\",\"type\":\"Rect\"},\"hover_glyph\":null,\"nonselection_glyph\":null,\"selection_glyph\":null},\"id\":\"d1fce61f-174d-4a4a-9538-3caabef5e1fb\",\"type\":\"GlyphRenderer\"},{\"attributes\":{\"fill_alpha\":{\"field\":\"fill_alpha\"},\"fill_color\":{\"field\":\"color\"},\"height\":{\"field\":\"height\",\"units\":\"data\"},\"line_color\":{\"field\":\"line_color\"},\"width\":{\"field\":\"width\",\"units\":\"data\"},\"x\":{\"field\":\"x\"},\"y\":{\"field\":\"y\"}},\"id\":\"26dd697e-6ce4-4ae9-b48d-d3525a63a6bd\",\"type\":\"Rect\"},{\"attributes\":{},\"id\":\"77c7a66a-b149-48ef-9a7b-c6abcc304dc4\",\"type\":\"CategoricalTicker\"},{\"attributes\":{\"bottom_units\":\"screen\",\"fill_alpha\":{\"value\":0.5},\"fill_color\":{\"value\":\"lightgrey\"},\"left_units\":\"screen\",\"level\":\"overlay\",\"line_alpha\":{\"value\":1.0},\"line_color\":{\"value\":\"black\"},\"line_dash\":[4,4],\"line_width\":{\"value\":2},\"plot\":null,\"render_mode\":\"css\",\"right_units\":\"screen\",\"top_units\":\"screen\"},\"id\":\"295f5b4b-5d81-439e-a5d5-7151173251eb\",\"type\":\"BoxAnnotation\"},{\"attributes\":{\"callback\":null,\"column_names\":[\"fill_alpha\",\"y\",\"line_color\",\"height\",\"width\",\"x\",\"color\",\"line_alpha\"],\"data\":{\"chart_index\":[{\"index\":\"Jeppe Bruus\"}],\"color\":[\"#f22c40\"],\"fill_alpha\":[0.8],\"height\":[0.1023541453428864],\"index\":[\"Jeppe Bruus\"],\"line_alpha\":[1.0],\"line_color\":[\"white\"],\"width\":[0.8],\"x\":[\"Jeppe Bruus\"],\"y\":[0.0511770726714432]}},\"id\":\"07513d08-61ff-4ad1-81d5-7b5dfb3a8517\",\"type\":\"ColumnDataSource\"},{\"attributes\":{\"overlay\":{\"id\":\"295f5b4b-5d81-439e-a5d5-7151173251eb\",\"type\":\"BoxAnnotation\"},\"plot\":{\"id\":\"e3619170-9497-40df-b2bd-e3b24db5a604\",\"subtype\":\"Chart\",\"type\":\"Plot\"}},\"id\":\"83e66a3f-b0d1-4fa8-b686-3e0e3ac7d32c\",\"type\":\"BoxZoomTool\"},{\"attributes\":{\"data_source\":{\"id\":\"0a2f68db-4663-4861-a7c9-1b6d165aa4e6\",\"type\":\"ColumnDataSource\"},\"glyph\":{\"id\":\"0903d6b7-beda-4746-82b2-ae49e709f67b\",\"type\":\"Rect\"},\"hover_glyph\":null,\"nonselection_glyph\":null,\"selection_glyph\":null},\"id\":\"6227f6ba-51e9-41cd-a88c-2b1e96057892\",\"type\":\"GlyphRenderer\"},{\"attributes\":{},\"id\":\"1f79fc2b-8335-43c2-af25-500368a31919\",\"type\":\"ToolEvents\"},{\"attributes\":{\"data_source\":{\"id\":\"94b3b46e-fa33-40c0-bc95-020dc4933f8d\",\"type\":\"ColumnDataSource\"},\"glyph\":{\"id\":\"0aac1c00-f73e-44c4-be6a-2a54c984283e\",\"type\":\"Rect\"},\"hover_glyph\":null,\"nonselection_glyph\":null,\"selection_glyph\":null},\"id\":\"f55cb5ec-613d-4f76-ad81-8894e156a54f\",\"type\":\"GlyphRenderer\"},{\"attributes\":{\"fill_alpha\":{\"field\":\"fill_alpha\"},\"fill_color\":{\"field\":\"color\"},\"height\":{\"field\":\"height\",\"units\":\"data\"},\"line_color\":{\"field\":\"line_color\"},\"width\":{\"field\":\"width\",\"units\":\"data\"},\"x\":{\"field\":\"x\"},\"y\":{\"field\":\"y\"}},\"id\":\"ec522d06-b4e1-473c-a73f-419b14708fe0\",\"type\":\"Rect\"},{\"attributes\":{\"callback\":null,\"column_names\":[\"fill_alpha\",\"y\",\"line_color\",\"height\",\"width\",\"x\",\"color\",\"line_alpha\"],\"data\":{\"chart_index\":[{\"index\":\"Finn S\\u00f8rensen\"}],\"color\":[\"#f22c40\"],\"fill_alpha\":[0.8],\"height\":[0.0925925925925926],\"index\":[\"Finn S\\u00f8rensen\"],\"line_alpha\":[1.0],\"line_color\":[\"white\"],\"width\":[0.8],\"x\":[\"Finn S\\u00f8rensen\"],\"y\":[0.0462962962962963]}},\"id\":\"48eff8bd-2881-4eee-a271-0c4af61250b8\",\"type\":\"ColumnDataSource\"},{\"attributes\":{\"plot\":{\"id\":\"e3619170-9497-40df-b2bd-e3b24db5a604\",\"subtype\":\"Chart\",\"type\":\"Plot\"}},\"id\":\"3e709c2f-9974-48f1-9d94-36e03c7b4e46\",\"type\":\"PreviewSaveTool\"},{\"attributes\":{\"data_source\":{\"id\":\"e027798d-6a0c-4471-858a-824d4e8e666f\",\"type\":\"ColumnDataSource\"},\"glyph\":{\"id\":\"22999b72-5620-462f-8108-c65d69760781\",\"type\":\"Rect\"},\"hover_glyph\":null,\"nonselection_glyph\":null,\"selection_glyph\":null},\"id\":\"2ab6c5f2-912b-4faa-b30b-9cec85d547b4\",\"type\":\"GlyphRenderer\"},{\"attributes\":{\"fill_alpha\":{\"field\":\"fill_alpha\"},\"fill_color\":{\"field\":\"color\"},\"height\":{\"field\":\"height\",\"units\":\"data\"},\"line_color\":{\"field\":\"line_color\"},\"width\":{\"field\":\"width\",\"units\":\"data\"},\"x\":{\"field\":\"x\"},\"y\":{\"field\":\"y\"}},\"id\":\"4aa46421-f7fd-49ba-807a-694cc4981599\",\"type\":\"Rect\"},{\"attributes\":{\"callback\":null,\"column_names\":[\"fill_alpha\",\"y\",\"line_color\",\"height\",\"width\",\"x\",\"color\",\"line_alpha\"],\"data\":{\"chart_index\":[{\"index\":\"Laura Lindahl\"}],\"color\":[\"#f22c40\"],\"fill_alpha\":[0.8],\"height\":[0.31746031746031744],\"index\":[\"Laura Lindahl\"],\"line_alpha\":[1.0],\"line_color\":[\"white\"],\"width\":[0.8],\"x\":[\"Laura Lindahl\"],\"y\":[0.15873015873015872]}},\"id\":\"efb8c147-12ea-4714-87be-0c815d12577c\",\"type\":\"ColumnDataSource\"},{\"attributes\":{\"callback\":null,\"column_names\":[\"fill_alpha\",\"y\",\"line_color\",\"height\",\"width\",\"x\",\"color\",\"line_alpha\"],\"data\":{\"chart_index\":[{\"index\":\"Marie Krarup\"}],\"color\":[\"#f22c40\"],\"fill_alpha\":[0.8],\"height\":[0.1851851851851852],\"index\":[\"Marie Krarup\"],\"line_alpha\":[1.0],\"line_color\":[\"white\"],\"width\":[0.8],\"x\":[\"Marie Krarup\"],\"y\":[0.0925925925925926]}},\"id\":\"b90495ad-e8a8-4c38-acea-63561dd88a59\",\"type\":\"ColumnDataSource\"},{\"attributes\":{\"plot\":{\"id\":\"5576f7c1-d8a6-46ce-8ead-d7af8e9d1759\",\"subtype\":\"Chart\",\"type\":\"Plot\"}},\"id\":\"68d91e20-c388-45f7-b894-26083d7f25b0\",\"type\":\"PreviewSaveTool\"},{\"attributes\":{\"data_source\":{\"id\":\"9c299087-a8d2-4f29-ac90-cb319878b504\",\"type\":\"ColumnDataSource\"},\"glyph\":{\"id\":\"230b81eb-503f-4b11-86e3-d5b1be854c17\",\"type\":\"Rect\"},\"hover_glyph\":null,\"nonselection_glyph\":null,\"selection_glyph\":null},\"id\":\"a2dfaaa7-40f3-47fa-b6d5-922a750d9911\",\"type\":\"GlyphRenderer\"},{\"attributes\":{\"fill_alpha\":{\"field\":\"fill_alpha\"},\"fill_color\":{\"field\":\"color\"},\"height\":{\"field\":\"height\",\"units\":\"data\"},\"line_color\":{\"field\":\"line_color\"},\"width\":{\"field\":\"width\",\"units\":\"data\"},\"x\":{\"field\":\"x\"},\"y\":{\"field\":\"y\"}},\"id\":\"e0e9f65c-c8c2-41a4-bf6e-2cc002d2b29a\",\"type\":\"Rect\"},{\"attributes\":{\"callback\":null,\"column_names\":[\"fill_alpha\",\"y\",\"line_color\",\"height\",\"width\",\"x\",\"color\",\"line_alpha\"],\"data\":{\"chart_index\":[{\"index\":\"Ole Sohn\"}],\"color\":[\"#f22c40\"],\"fill_alpha\":[0.8],\"height\":[0.9150326797385622],\"index\":[\"Ole Sohn\"],\"line_alpha\":[1.0],\"line_color\":[\"white\"],\"width\":[0.8],\"x\":[\"Ole Sohn\"],\"y\":[0.4575163398692811]}},\"id\":\"5124bbda-d8e2-4a11-816d-0cf8ad4bd1be\",\"type\":\"ColumnDataSource\"},{\"attributes\":{\"fill_alpha\":{\"field\":\"fill_alpha\"},\"fill_color\":{\"field\":\"color\"},\"height\":{\"field\":\"height\",\"units\":\"data\"},\"line_color\":{\"field\":\"line_color\"},\"width\":{\"field\":\"width\",\"units\":\"data\"},\"x\":{\"field\":\"x\"},\"y\":{\"field\":\"y\"}},\"id\":\"01057747-4f14-4629-bd36-3aa0f0a8cb18\",\"type\":\"Rect\"},{\"attributes\":{\"fill_alpha\":{\"field\":\"fill_alpha\"},\"fill_color\":{\"field\":\"color\"},\"height\":{\"field\":\"height\",\"units\":\"data\"},\"line_color\":{\"field\":\"line_color\"},\"width\":{\"field\":\"width\",\"units\":\"data\"},\"x\":{\"field\":\"x\"},\"y\":{\"field\":\"y\"}},\"id\":\"2eb66419-b2b1-4aec-be8d-eda2a44e7dac\",\"type\":\"Rect\"},{\"attributes\":{\"fill_alpha\":{\"field\":\"fill_alpha\"},\"fill_color\":{\"field\":\"color\"},\"height\":{\"field\":\"height\",\"units\":\"data\"},\"line_color\":{\"field\":\"line_color\"},\"width\":{\"field\":\"width\",\"units\":\"data\"},\"x\":{\"field\":\"x\"},\"y\":{\"field\":\"y\"}},\"id\":\"3084c139-6461-452c-92a2-50777dbfa134\",\"type\":\"Rect\"},{\"attributes\":{\"callback\":null,\"column_names\":[\"fill_alpha\",\"y\",\"line_color\",\"height\",\"width\",\"x\",\"color\",\"line_alpha\"],\"data\":{\"chart_index\":[{\"index\":\"Kristian Jensen\"}],\"color\":[\"#f22c40\"],\"fill_alpha\":[0.8],\"height\":[0.0925925925925926],\"index\":[\"Kristian Jensen\"],\"line_alpha\":[1.0],\"line_color\":[\"white\"],\"width\":[0.8],\"x\":[\"Kristian Jensen\"],\"y\":[0.0462962962962963]}},\"id\":\"de9c4127-ba1f-4d92-acaf-e4e3a555bc09\",\"type\":\"ColumnDataSource\"},{\"attributes\":{\"callback\":null,\"end\":2.625},\"id\":\"cb8e446d-e9cd-481a-804c-92efb89623ee\",\"type\":\"Range1d\"},{\"attributes\":{\"data_source\":{\"id\":\"9aa8b47b-876c-4606-9bf0-d6c9aa884436\",\"type\":\"ColumnDataSource\"},\"glyph\":{\"id\":\"0d438b0c-2ff3-430e-a409-09137c0a5cbf\",\"type\":\"Rect\"},\"hover_glyph\":null,\"nonselection_glyph\":null,\"selection_glyph\":null},\"id\":\"2a748f06-b888-41eb-84cf-2af599d27cb0\",\"type\":\"GlyphRenderer\"},{\"attributes\":{\"fill_alpha\":{\"field\":\"fill_alpha\"},\"fill_color\":{\"field\":\"color\"},\"height\":{\"field\":\"height\",\"units\":\"data\"},\"line_color\":{\"field\":\"line_color\"},\"width\":{\"field\":\"width\",\"units\":\"data\"},\"x\":{\"field\":\"x\"},\"y\":{\"field\":\"y\"}},\"id\":\"99b84718-8f82-4968-b346-0533b407c117\",\"type\":\"Rect\"},{\"attributes\":{\"dimension\":1,\"plot\":{\"id\":\"e3619170-9497-40df-b2bd-e3b24db5a604\",\"subtype\":\"Chart\",\"type\":\"Plot\"},\"ticker\":{\"id\":\"6bda84fc-8fbb-479b-aef0-d4acdf5f999b\",\"type\":\"BasicTicker\"}},\"id\":\"acdd0fd2-73b5-4ad3-9c07-6495c9e5109a\",\"type\":\"Grid\"},{\"attributes\":{\"fill_alpha\":{\"field\":\"fill_alpha\"},\"fill_color\":{\"field\":\"color\"},\"height\":{\"field\":\"height\",\"units\":\"data\"},\"line_color\":{\"field\":\"line_color\"},\"width\":{\"field\":\"width\",\"units\":\"data\"},\"x\":{\"field\":\"x\"},\"y\":{\"field\":\"y\"}},\"id\":\"bd0ea090-512b-46d2-b47b-cecf776b250d\",\"type\":\"Rect\"},{\"attributes\":{\"formatter\":{\"id\":\"2117e99d-f7fe-4dff-9570-3c61ed6243df\",\"type\":\"CategoricalTickFormatter\"},\"major_label_orientation\":0.7853981633974483,\"plot\":{\"id\":\"5576f7c1-d8a6-46ce-8ead-d7af8e9d1759\",\"subtype\":\"Chart\",\"type\":\"Plot\"},\"ticker\":{\"id\":\"ea0d2818-97c6-47e9-a1a3-f932dd94dbb1\",\"type\":\"CategoricalTicker\"}},\"id\":\"36299ef7-5a99-4a97-b955-1b597322bd90\",\"type\":\"CategoricalAxis\"},{\"attributes\":{\"data_source\":{\"id\":\"90c9e4cc-ebd2-4ca0-961b-20b7c086c491\",\"type\":\"ColumnDataSource\"},\"glyph\":{\"id\":\"659f7295-a30b-4f91-b264-c5ca75a5ca99\",\"type\":\"Rect\"},\"hover_glyph\":null,\"nonselection_glyph\":null,\"selection_glyph\":null},\"id\":\"4fdf4caa-ca94-4b36-a852-45bf870d1737\",\"type\":\"GlyphRenderer\"},{\"attributes\":{\"fill_alpha\":{\"field\":\"fill_alpha\"},\"fill_color\":{\"field\":\"color\"},\"height\":{\"field\":\"height\",\"units\":\"data\"},\"line_color\":{\"field\":\"line_color\"},\"width\":{\"field\":\"width\",\"units\":\"data\"},\"x\":{\"field\":\"x\"},\"y\":{\"field\":\"y\"}},\"id\":\"64a395a8-135a-40b3-8b91-d2f935cc5598\",\"type\":\"Rect\"},{\"attributes\":{\"data_source\":{\"id\":\"43a36e73-9647-431f-93df-28c8de505103\",\"type\":\"ColumnDataSource\"},\"glyph\":{\"id\":\"fe1f9471-c407-4ecc-82b2-6530c426d0f7\",\"type\":\"Rect\"},\"hover_glyph\":null,\"nonselection_glyph\":null,\"selection_glyph\":null},\"id\":\"ad9ae1ca-c2ec-4a20-865d-e0ad5541134b\",\"type\":\"GlyphRenderer\"},{\"attributes\":{\"data_source\":{\"id\":\"5704d67d-1813-470a-b763-db5a5afe3423\",\"type\":\"ColumnDataSource\"},\"glyph\":{\"id\":\"2154ce3d-eece-46dc-b753-98291cd6e66c\",\"type\":\"Rect\"},\"hover_glyph\":null,\"nonselection_glyph\":null,\"selection_glyph\":null},\"id\":\"b9056850-e084-43e5-abb3-00c11fbb4ee9\",\"type\":\"GlyphRenderer\"},{\"attributes\":{\"fill_alpha\":{\"field\":\"fill_alpha\"},\"fill_color\":{\"field\":\"color\"},\"height\":{\"field\":\"height\",\"units\":\"data\"},\"line_color\":{\"field\":\"line_color\"},\"width\":{\"field\":\"width\",\"units\":\"data\"},\"x\":{\"field\":\"x\"},\"y\":{\"field\":\"y\"}},\"id\":\"a6c2c788-d2bb-4bb1-8878-e2e25cd0d966\",\"type\":\"Rect\"},{\"attributes\":{},\"id\":\"b574f394-46f1-4538-adda-ddca42cf1863\",\"type\":\"BasicTickFormatter\"},{\"attributes\":{\"data_source\":{\"id\":\"34f308e1-9b31-486e-ab44-b67b4aef8f5f\",\"type\":\"ColumnDataSource\"},\"glyph\":{\"id\":\"1d7d9735-9295-45dc-a32a-d563f005b13a\",\"type\":\"Rect\"},\"hover_glyph\":null,\"nonselection_glyph\":null,\"selection_glyph\":null},\"id\":\"19b1fc5d-b497-447c-b371-56d8be249909\",\"type\":\"GlyphRenderer\"},{\"attributes\":{\"callback\":null,\"column_names\":[\"fill_alpha\",\"y\",\"line_color\",\"height\",\"width\",\"x\",\"color\",\"line_alpha\"],\"data\":{\"chart_index\":[{\"index\":\"Pernille Vigs\\u00f8 Bagge\"}],\"color\":[\"#f22c40\"],\"fill_alpha\":[0.8],\"height\":[0.33670033670033667],\"index\":[\"Pernille Vigs\\u00f8 Bagge\"],\"line_alpha\":[1.0],\"line_color\":[\"white\"],\"width\":[0.8],\"x\":[\"Pernille Vigs\\u00f8 Bagge\"],\"y\":[0.16835016835016833]}},\"id\":\"64ae8294-1ff6-44a5-9a5a-8aa64dea983f\",\"type\":\"ColumnDataSource\"},{\"attributes\":{\"fill_alpha\":{\"field\":\"fill_alpha\"},\"fill_color\":{\"field\":\"color\"},\"height\":{\"field\":\"height\",\"units\":\"data\"},\"line_color\":{\"field\":\"line_color\"},\"width\":{\"field\":\"width\",\"units\":\"data\"},\"x\":{\"field\":\"x\"},\"y\":{\"field\":\"y\"}},\"id\":\"22999b72-5620-462f-8108-c65d69760781\",\"type\":\"Rect\"},{\"attributes\":{\"data_source\":{\"id\":\"7d23f6c9-3bfa-4ddc-8af9-836955172b42\",\"type\":\"ColumnDataSource\"},\"glyph\":{\"id\":\"85e75aa7-3138-4766-8bf5-b96173ba2e0e\",\"type\":\"Rect\"},\"hover_glyph\":null,\"nonselection_glyph\":null,\"selection_glyph\":null},\"id\":\"07f466f4-c80c-413d-b1e2-5086e59f2347\",\"type\":\"GlyphRenderer\"},{\"attributes\":{\"data_source\":{\"id\":\"a2379722-32a0-4ac7-936b-83962a6f837c\",\"type\":\"ColumnDataSource\"},\"glyph\":{\"id\":\"1ffc01b0-ec5f-4788-99c4-2de27e439a71\",\"type\":\"Rect\"},\"hover_glyph\":null,\"nonselection_glyph\":null,\"selection_glyph\":null},\"id\":\"2083f9e4-839f-44d3-87de-a2a3d9753105\",\"type\":\"GlyphRenderer\"},{\"attributes\":{\"callback\":null,\"column_names\":[\"fill_alpha\",\"y\",\"line_color\",\"height\",\"width\",\"x\",\"color\",\"line_alpha\"],\"data\":{\"chart_index\":[{\"index\":\"Radikale Venstre\"}],\"color\":[\"#f22c40\"],\"fill_alpha\":[0.8],\"height\":[0.2777777777777778],\"index\":[\"Radikale Venstre\"],\"line_alpha\":[1.0],\"line_color\":[\"white\"],\"width\":[0.8],\"x\":[\"Radikale Venstre\"],\"y\":[0.1388888888888889]}},\"id\":\"4d8d56b1-8ea1-4382-b841-60167eac3616\",\"type\":\"ColumnDataSource\"},{\"attributes\":{\"callback\":null,\"column_names\":[\"fill_alpha\",\"y\",\"line_color\",\"height\",\"width\",\"x\",\"color\",\"line_alpha\"],\"data\":{\"chart_index\":[{\"index\":\"Karen J. Klint\"}],\"color\":[\"#f22c40\"],\"fill_alpha\":[0.8],\"height\":[0.1851851851851852],\"index\":[\"Karen J. Klint\"],\"line_alpha\":[1.0],\"line_color\":[\"white\"],\"width\":[0.8],\"x\":[\"Karen J. Klint\"],\"y\":[0.0925925925925926]}},\"id\":\"a5289ec0-5365-4bf0-bbcd-2144fdaf447f\",\"type\":\"ColumnDataSource\"},{\"attributes\":{\"formatter\":{\"id\":\"f558985e-8e04-426e-8567-63dc25aa9107\",\"type\":\"CategoricalTickFormatter\"},\"major_label_orientation\":0.7853981633974483,\"plot\":{\"id\":\"e3619170-9497-40df-b2bd-e3b24db5a604\",\"subtype\":\"Chart\",\"type\":\"Plot\"},\"ticker\":{\"id\":\"77c7a66a-b149-48ef-9a7b-c6abcc304dc4\",\"type\":\"CategoricalTicker\"}},\"id\":\"17bd89b7-e93a-4cf9-bdaf-77a7530ece21\",\"type\":\"CategoricalAxis\"},{\"attributes\":{\"fill_alpha\":{\"field\":\"fill_alpha\"},\"fill_color\":{\"field\":\"color\"},\"height\":{\"field\":\"height\",\"units\":\"data\"},\"line_color\":{\"field\":\"line_color\"},\"width\":{\"field\":\"width\",\"units\":\"data\"},\"x\":{\"field\":\"x\"},\"y\":{\"field\":\"y\"}},\"id\":\"91c01daa-8fa8-4836-ae4e-6ebe3e7fccb8\",\"type\":\"Rect\"},{\"attributes\":{\"fill_alpha\":{\"field\":\"fill_alpha\"},\"fill_color\":{\"field\":\"color\"},\"height\":{\"field\":\"height\",\"units\":\"data\"},\"line_color\":{\"field\":\"line_color\"},\"width\":{\"field\":\"width\",\"units\":\"data\"},\"x\":{\"field\":\"x\"},\"y\":{\"field\":\"y\"}},\"id\":\"098dea17-f665-4e86-92fa-c374537f0108\",\"type\":\"Rect\"},{\"attributes\":{},\"id\":\"cf4f6db9-9bf1-4571-8531-f3c230bb2152\",\"type\":\"BasicTicker\"},{\"attributes\":{},\"id\":\"da8ec15a-939c-4772-b503-b04166d3e8b9\",\"type\":\"BasicTickFormatter\"},{\"attributes\":{\"plot\":{\"id\":\"e3619170-9497-40df-b2bd-e3b24db5a604\",\"subtype\":\"Chart\",\"type\":\"Plot\"}},\"id\":\"ee60cfa4-d968-47d8-82ee-9cf333fa67f1\",\"type\":\"HelpTool\"},{\"attributes\":{\"data_source\":{\"id\":\"48116310-9192-427b-be28-50284134befe\",\"type\":\"ColumnDataSource\"},\"glyph\":{\"id\":\"bd0ea090-512b-46d2-b47b-cecf776b250d\",\"type\":\"Rect\"},\"hover_glyph\":null,\"nonselection_glyph\":null,\"selection_glyph\":null},\"id\":\"15a7e771-40ca-4e4a-995e-752a065d889a\",\"type\":\"GlyphRenderer\"},{\"attributes\":{\"callback\":null,\"factors\":[\"Anders Samuelsen\",\"Annette Vilhelmsen\",\"Astrid Krag\",\"Bent B\\u00f8gsted\",\"Bente Bendix\",\"Birthe R\\u00f8nn Hornbech\",\"Brian Mikkelsen\",\"Charlotte Dyremose\",\"Christian Langballe\",\"Daniel Toft Jakobsen\",\"Dennis Flydtkj\\u00e6r\",\"Eigil Andersen\",\"Ellen Trane N\\u00f8rby\",\"Eva Kjer Hansen\",\"Eyvind Vesselbo\",\"Finn S\\u00f8rensen\",\"Frank Aaen\",\"Hans Christian Schmidt\",\"Hans Kristian Skibby\",\"Henning Hyllested\",\"Henrik Dam Kristensen\",\"Holger K. Nielsen\",\"Ida Auken\",\"Jan Johansen\",\"Jens Henrik Thulesen Dahl\",\"Jeppe Bruus\",\"Jeppe Kofod\",\"Joachim B. Olsen\",\"Jonas Dahl\",\"Karen J. Klint\",\"Karsten Nonbo\",\"Kristian Jensen\",\"Lars Barfoed\",\"Lars Dohn\",\"Laura Lindahl\",\"Lisbeth Bech Poulsen\",\"Mai Mercado\",\"Marianne Jelved\",\"Marie Krarup\",\"Merete Riisager\",\"Mette Bock\",\"Mette Gjerskov\",\"Ole Sohn\",\"Per Clausen\",\"Pernille Vigs\\u00f8 Bagge\",\"Rasmus Helveg Petersen\",\"Ren\\u00e9 Christensen\",\"Sofie Carsten Nielsen\",\"Steen Gade\",\"Trine Mach\",\"Yildiz Akdogan\",\"\\u00d6zlem Sara Cekic\"]},\"id\":\"125723e4-89e8-433d-92a8-e71638dd8a66\",\"type\":\"FactorRange\"},{\"attributes\":{\"callback\":null,\"column_names\":[\"fill_alpha\",\"y\",\"line_color\",\"height\",\"width\",\"x\",\"color\",\"line_alpha\"],\"data\":{\"chart_index\":[{\"index\":\"Eigil Andersen\"}],\"color\":[\"#f22c40\"],\"fill_alpha\":[0.8],\"height\":[0.13089005235602094],\"index\":[\"Eigil Andersen\"],\"line_alpha\":[1.0],\"line_color\":[\"white\"],\"width\":[0.8],\"x\":[\"Eigil Andersen\"],\"y\":[0.06544502617801047]}},\"id\":\"dc71bc5e-969d-4225-a50c-a0b22f50c3bb\",\"type\":\"ColumnDataSource\"},{\"attributes\":{\"plot\":{\"id\":\"e3619170-9497-40df-b2bd-e3b24db5a604\",\"subtype\":\"Chart\",\"type\":\"Plot\"}},\"id\":\"2277eac0-e1b1-4e05-ae31-280bbced374e\",\"type\":\"ResizeTool\"},{\"attributes\":{\"fill_alpha\":{\"field\":\"fill_alpha\"},\"fill_color\":{\"field\":\"color\"},\"height\":{\"field\":\"height\",\"units\":\"data\"},\"line_color\":{\"field\":\"line_color\"},\"width\":{\"field\":\"width\",\"units\":\"data\"},\"x\":{\"field\":\"x\"},\"y\":{\"field\":\"y\"}},\"id\":\"00d6d670-7827-40f3-ba7f-5c391db71068\",\"type\":\"Rect\"},{\"attributes\":{\"callback\":null,\"column_names\":[\"fill_alpha\",\"y\",\"line_color\",\"height\",\"width\",\"x\",\"color\",\"line_alpha\"],\"data\":{\"chart_index\":[{\"index\":\"Lisbeth Bech Poulsen\"}],\"color\":[\"#f22c40\"],\"fill_alpha\":[0.8],\"height\":[0.2777777777777778],\"index\":[\"Lisbeth Bech Poulsen\"],\"line_alpha\":[1.0],\"line_color\":[\"white\"],\"width\":[0.8],\"x\":[\"Lisbeth Bech Poulsen\"],\"y\":[0.1388888888888889]}},\"id\":\"4a90ca7b-baf3-4b6d-b212-6baffa1723be\",\"type\":\"ColumnDataSource\"},{\"attributes\":{\"fill_alpha\":{\"field\":\"fill_alpha\"},\"fill_color\":{\"field\":\"color\"},\"height\":{\"field\":\"height\",\"units\":\"data\"},\"line_color\":{\"field\":\"line_color\"},\"width\":{\"field\":\"width\",\"units\":\"data\"},\"x\":{\"field\":\"x\"},\"y\":{\"field\":\"y\"}},\"id\":\"ce87e89e-70b4-477b-aa2b-596a1d5cfefa\",\"type\":\"Rect\"},{\"attributes\":{\"data_source\":{\"id\":\"3c8cb1a8-34bc-4ffa-9c2e-bafe7c7eaa4e\",\"type\":\"ColumnDataSource\"},\"glyph\":{\"id\":\"e0e9f65c-c8c2-41a4-bf6e-2cc002d2b29a\",\"type\":\"Rect\"},\"hover_glyph\":null,\"nonselection_glyph\":null,\"selection_glyph\":null},\"id\":\"a5edb716-38e6-4146-a5c5-ee1bcba286e3\",\"type\":\"GlyphRenderer\"},{\"attributes\":{\"fill_alpha\":{\"field\":\"fill_alpha\"},\"fill_color\":{\"field\":\"color\"},\"height\":{\"field\":\"height\",\"units\":\"data\"},\"line_color\":{\"field\":\"line_color\"},\"width\":{\"field\":\"width\",\"units\":\"data\"},\"x\":{\"field\":\"x\"},\"y\":{\"field\":\"y\"}},\"id\":\"2154ce3d-eece-46dc-b753-98291cd6e66c\",\"type\":\"Rect\"},{\"attributes\":{\"data_source\":{\"id\":\"edfc23b4-fae4-4fec-8ce2-972bc5f4d991\",\"type\":\"ColumnDataSource\"},\"glyph\":{\"id\":\"0a5e2542-d365-4a4f-9150-4c531c15a492\",\"type\":\"Rect\"},\"hover_glyph\":null,\"nonselection_glyph\":null,\"selection_glyph\":null},\"id\":\"199950d3-9b70-4808-9ea1-b2fa1aef3643\",\"type\":\"GlyphRenderer\"},{\"attributes\":{\"plot\":{\"id\":\"e3619170-9497-40df-b2bd-e3b24db5a604\",\"subtype\":\"Chart\",\"type\":\"Plot\"}},\"id\":\"06cbabcb-3bee-4fa2-993e-e9bcde78b5c8\",\"type\":\"PanTool\"},{\"attributes\":{\"callback\":null,\"column_names\":[\"fill_alpha\",\"y\",\"line_color\",\"height\",\"width\",\"x\",\"color\",\"line_alpha\"],\"data\":{\"chart_index\":[{\"index\":\"\\u00d6zlem Sara Cekic\"}],\"color\":[\"#f22c40\"],\"fill_alpha\":[0.8],\"height\":[0.39215686274509803],\"index\":[\"\\u00d6zlem Sara Cekic\"],\"line_alpha\":[1.0],\"line_color\":[\"white\"],\"width\":[0.8],\"x\":[\"\\u00d6zlem Sara Cekic\"],\"y\":[0.19607843137254902]}},\"id\":\"d84c6ae9-b2cf-40d6-996d-30bdeac5c88f\",\"type\":\"ColumnDataSource\"},{\"attributes\":{\"data_source\":{\"id\":\"a5289ec0-5365-4bf0-bbcd-2144fdaf447f\",\"type\":\"ColumnDataSource\"},\"glyph\":{\"id\":\"7e169eda-8208-4930-b483-a54c40507be4\",\"type\":\"Rect\"},\"hover_glyph\":null,\"nonselection_glyph\":null,\"selection_glyph\":null},\"id\":\"e36e0224-5971-41b8-8b67-adc8857b1c72\",\"type\":\"GlyphRenderer\"},{\"attributes\":{\"fill_alpha\":{\"field\":\"fill_alpha\"},\"fill_color\":{\"field\":\"color\"},\"height\":{\"field\":\"height\",\"units\":\"data\"},\"line_color\":{\"field\":\"line_color\"},\"width\":{\"field\":\"width\",\"units\":\"data\"},\"x\":{\"field\":\"x\"},\"y\":{\"field\":\"y\"}},\"id\":\"4558bc53-99d9-40fe-bbfd-f65f4d25f1e9\",\"type\":\"Rect\"},{\"attributes\":{},\"id\":\"6bda84fc-8fbb-479b-aef0-d4acdf5f999b\",\"type\":\"BasicTicker\"},{\"attributes\":{\"callback\":null,\"column_names\":[\"fill_alpha\",\"y\",\"line_color\",\"height\",\"width\",\"x\",\"color\",\"line_alpha\"],\"data\":{\"chart_index\":[{\"index\":\"Charlotte Dyremose\"}],\"color\":[\"#f22c40\"],\"fill_alpha\":[0.8],\"height\":[0.15267175572519084],\"index\":[\"Charlotte Dyremose\"],\"line_alpha\":[1.0],\"line_color\":[\"white\"],\"width\":[0.8],\"x\":[\"Charlotte Dyremose\"],\"y\":[0.07633587786259542]}},\"id\":\"dfecff16-5271-423d-bc81-ffb9c3f40695\",\"type\":\"ColumnDataSource\"},{\"attributes\":{\"data_source\":{\"id\":\"96161d3a-d008-4932-bf97-f759fabbcffd\",\"type\":\"ColumnDataSource\"},\"glyph\":{\"id\":\"99b84718-8f82-4968-b346-0533b407c117\",\"type\":\"Rect\"},\"hover_glyph\":null,\"nonselection_glyph\":null,\"selection_glyph\":null},\"id\":\"1f496dba-bfd2-4cb6-a611-8c08eb02306e\",\"type\":\"GlyphRenderer\"},{\"attributes\":{\"axis_label\":\"% afstemninger >1 imod flertallet\",\"formatter\":{\"id\":\"b574f394-46f1-4538-adda-ddca42cf1863\",\"type\":\"BasicTickFormatter\"},\"plot\":{\"id\":\"e3619170-9497-40df-b2bd-e3b24db5a604\",\"subtype\":\"Chart\",\"type\":\"Plot\"},\"ticker\":{\"id\":\"6bda84fc-8fbb-479b-aef0-d4acdf5f999b\",\"type\":\"BasicTicker\"}},\"id\":\"60ab0147-2068-4bd3-a235-9ea6dea9d968\",\"type\":\"LinearAxis\"},{\"attributes\":{\"plot\":{\"id\":\"5576f7c1-d8a6-46ce-8ead-d7af8e9d1759\",\"subtype\":\"Chart\",\"type\":\"Plot\"}},\"id\":\"b87e9787-8f7e-488f-bc8f-2e73667b8a20\",\"type\":\"ResizeTool\"},{\"attributes\":{\"callback\":null,\"column_names\":[\"fill_alpha\",\"y\",\"line_color\",\"height\",\"width\",\"x\",\"color\",\"line_alpha\"],\"data\":{\"chart_index\":[{\"index\":\"Eva Kjer Hansen\"}],\"color\":[\"#f22c40\"],\"fill_alpha\":[0.8],\"height\":[0.0925925925925926],\"index\":[\"Eva Kjer Hansen\"],\"line_alpha\":[1.0],\"line_color\":[\"white\"],\"width\":[0.8],\"x\":[\"Eva Kjer Hansen\"],\"y\":[0.0462962962962963]}},\"id\":\"5704d67d-1813-470a-b763-db5a5afe3423\",\"type\":\"ColumnDataSource\"},{\"attributes\":{\"callback\":null,\"column_names\":[\"fill_alpha\",\"y\",\"line_color\",\"height\",\"width\",\"x\",\"color\",\"line_alpha\"],\"data\":{\"chart_index\":[{\"index\":\"Liberal Alliance\"}],\"color\":[\"#f22c40\"],\"fill_alpha\":[0.8],\"height\":[0.8333333333333334],\"index\":[\"Liberal Alliance\"],\"line_alpha\":[1.0],\"line_color\":[\"white\"],\"width\":[0.8],\"x\":[\"Liberal Alliance\"],\"y\":[0.4166666666666667]}},\"id\":\"edfc23b4-fae4-4fec-8ce2-972bc5f4d991\",\"type\":\"ColumnDataSource\"},{\"attributes\":{\"fill_alpha\":{\"field\":\"fill_alpha\"},\"fill_color\":{\"field\":\"color\"},\"height\":{\"field\":\"height\",\"units\":\"data\"},\"line_color\":{\"field\":\"line_color\"},\"width\":{\"field\":\"width\",\"units\":\"data\"},\"x\":{\"field\":\"x\"},\"y\":{\"field\":\"y\"}},\"id\":\"62f03a01-c4d8-4b03-a5a3-26ddbc64b0ef\",\"type\":\"Rect\"},{\"attributes\":{\"fill_alpha\":{\"field\":\"fill_alpha\"},\"fill_color\":{\"field\":\"color\"},\"height\":{\"field\":\"height\",\"units\":\"data\"},\"line_color\":{\"field\":\"line_color\"},\"width\":{\"field\":\"width\",\"units\":\"data\"},\"x\":{\"field\":\"x\"},\"y\":{\"field\":\"y\"}},\"id\":\"4eb9854a-09d0-4c62-8132-7b1b633c2bad\",\"type\":\"Rect\"},{\"attributes\":{\"data_source\":{\"id\":\"4d8d56b1-8ea1-4382-b841-60167eac3616\",\"type\":\"ColumnDataSource\"},\"glyph\":{\"id\":\"321ae0ce-78e1-4793-8742-82266eead37e\",\"type\":\"Rect\"},\"hover_glyph\":null,\"nonselection_glyph\":null,\"selection_glyph\":null},\"id\":\"fcfe90b2-a9ff-4a03-a76d-fd855d8ac8c0\",\"type\":\"GlyphRenderer\"},{\"attributes\":{\"fill_alpha\":{\"field\":\"fill_alpha\"},\"fill_color\":{\"field\":\"color\"},\"height\":{\"field\":\"height\",\"units\":\"data\"},\"line_color\":{\"field\":\"line_color\"},\"width\":{\"field\":\"width\",\"units\":\"data\"},\"x\":{\"field\":\"x\"},\"y\":{\"field\":\"y\"}},\"id\":\"7e169eda-8208-4930-b483-a54c40507be4\",\"type\":\"Rect\"},{\"attributes\":{\"bottom_units\":\"screen\",\"fill_alpha\":{\"value\":0.5},\"fill_color\":{\"value\":\"lightgrey\"},\"left_units\":\"screen\",\"level\":\"overlay\",\"line_alpha\":{\"value\":1.0},\"line_color\":{\"value\":\"black\"},\"line_dash\":[4,4],\"line_width\":{\"value\":2},\"plot\":null,\"render_mode\":\"css\",\"right_units\":\"screen\",\"top_units\":\"screen\"},\"id\":\"0b50f2e3-0f7c-46dc-96f1-fc5f39b902bd\",\"type\":\"BoxAnnotation\"},{\"attributes\":{},\"id\":\"2117e99d-f7fe-4dff-9570-3c61ed6243df\",\"type\":\"CategoricalTickFormatter\"},{\"attributes\":{\"callback\":null,\"factors\":[\"Dansk Folkeparti\",\"Det Konservative Folkeparti\",\"Enhedslisten\",\"Liberal Alliance\",\"Radikale Venstre\",\"Socialdemokratiet\",\"Socialistisk Folkeparti\",\"Venstre, Danmarks Liberale Parti\"]},\"id\":\"4ae48f85-2d37-4a9e-9dfc-3118671d345d\",\"type\":\"FactorRange\"},{\"attributes\":{},\"id\":\"f558985e-8e04-426e-8567-63dc25aa9107\",\"type\":\"CategoricalTickFormatter\"},{\"attributes\":{\"below\":[{\"id\":\"17bd89b7-e93a-4cf9-bdaf-77a7530ece21\",\"type\":\"CategoricalAxis\"}],\"left\":[{\"id\":\"60ab0147-2068-4bd3-a235-9ea6dea9d968\",\"type\":\"LinearAxis\"}],\"legend\":null,\"renderers\":[{\"id\":\"295f5b4b-5d81-439e-a5d5-7151173251eb\",\"type\":\"BoxAnnotation\"},{\"id\":\"b7769828-5cfe-44e8-b189-dc6cce05815e\",\"type\":\"GlyphRenderer\"},{\"id\":\"03352e7a-0b27-4f40-a50e-c4c839bb7955\",\"type\":\"GlyphRenderer\"},{\"id\":\"2083f9e4-839f-44d3-87de-a2a3d9753105\",\"type\":\"GlyphRenderer\"},{\"id\":\"199950d3-9b70-4808-9ea1-b2fa1aef3643\",\"type\":\"GlyphRenderer\"},{\"id\":\"fcfe90b2-a9ff-4a03-a76d-fd855d8ac8c0\",\"type\":\"GlyphRenderer\"},{\"id\":\"ab3d4776-cc51-4672-bf34-a9ddad7f756d\",\"type\":\"GlyphRenderer\"},{\"id\":\"e627081a-d019-4c24-8ed8-5bd5c6c74589\",\"type\":\"GlyphRenderer\"},{\"id\":\"3d885e05-587a-43d3-a785-e7e1cfc80e7b\",\"type\":\"GlyphRenderer\"},{\"id\":\"17bd89b7-e93a-4cf9-bdaf-77a7530ece21\",\"type\":\"CategoricalAxis\"},{\"id\":\"60ab0147-2068-4bd3-a235-9ea6dea9d968\",\"type\":\"LinearAxis\"},{\"id\":\"acdd0fd2-73b5-4ad3-9c07-6495c9e5109a\",\"type\":\"Grid\"}],\"title\":\"f\\u00f8lger folk partiet?\",\"title_text_font_size\":{\"value\":\"14pt\"},\"tool_events\":{\"id\":\"1f79fc2b-8335-43c2-af25-500368a31919\",\"type\":\"ToolEvents\"},\"tools\":[{\"id\":\"06cbabcb-3bee-4fa2-993e-e9bcde78b5c8\",\"type\":\"PanTool\"},{\"id\":\"bfde5be3-be9f-4320-bb7f-3d321f6877d7\",\"type\":\"WheelZoomTool\"},{\"id\":\"83e66a3f-b0d1-4fa8-b686-3e0e3ac7d32c\",\"type\":\"BoxZoomTool\"},{\"id\":\"3e709c2f-9974-48f1-9d94-36e03c7b4e46\",\"type\":\"PreviewSaveTool\"},{\"id\":\"2277eac0-e1b1-4e05-ae31-280bbced374e\",\"type\":\"ResizeTool\"},{\"id\":\"8e576486-a456-4969-8c34-b64c7155910f\",\"type\":\"ResetTool\"},{\"id\":\"ee60cfa4-d968-47d8-82ee-9cf333fa67f1\",\"type\":\"HelpTool\"}],\"x_mapper_type\":\"auto\",\"x_range\":{\"id\":\"4ae48f85-2d37-4a9e-9dfc-3118671d345d\",\"type\":\"FactorRange\"},\"xgrid\":false,\"xscale\":\"auto\",\"y_mapper_type\":\"auto\",\"y_range\":{\"id\":\"cb8e446d-e9cd-481a-804c-92efb89623ee\",\"type\":\"Range1d\"},\"yscale\":\"auto\"},\"id\":\"e3619170-9497-40df-b2bd-e3b24db5a604\",\"subtype\":\"Chart\",\"type\":\"Plot\"},{\"attributes\":{\"data_source\":{\"id\":\"dc71bc5e-969d-4225-a50c-a0b22f50c3bb\",\"type\":\"ColumnDataSource\"},\"glyph\":{\"id\":\"bc25098f-632e-4460-a85d-3439b152d40b\",\"type\":\"Rect\"},\"hover_glyph\":null,\"nonselection_glyph\":null,\"selection_glyph\":null},\"id\":\"b4a7b545-727a-463b-8595-da82f230e0bb\",\"type\":\"GlyphRenderer\"},{\"attributes\":{\"data_source\":{\"id\":\"a6aa1d24-0cb9-45c6-81cf-468dd9b0a0eb\",\"type\":\"ColumnDataSource\"},\"glyph\":{\"id\":\"febd0c96-0dd5-48ac-a4a6-b52557a03110\",\"type\":\"Rect\"},\"hover_glyph\":null,\"nonselection_glyph\":null,\"selection_glyph\":null},\"id\":\"4d34bc9a-1fb5-44db-aebe-23c515befa85\",\"type\":\"GlyphRenderer\"},{\"attributes\":{\"fill_alpha\":{\"field\":\"fill_alpha\"},\"fill_color\":{\"field\":\"color\"},\"height\":{\"field\":\"height\",\"units\":\"data\"},\"line_color\":{\"field\":\"line_color\"},\"width\":{\"field\":\"width\",\"units\":\"data\"},\"x\":{\"field\":\"x\"},\"y\":{\"field\":\"y\"}},\"id\":\"8b324795-6adf-4f43-8a96-9e8dda3f952c\",\"type\":\"Rect\"},{\"attributes\":{\"callback\":null,\"column_names\":[\"fill_alpha\",\"y\",\"line_color\",\"height\",\"width\",\"x\",\"color\",\"line_alpha\"],\"data\":{\"chart_index\":[{\"index\":\"Annette Vilhelmsen\"}],\"color\":[\"#f22c40\"],\"fill_alpha\":[0.8],\"height\":[0.26246719160104987],\"index\":[\"Annette Vilhelmsen\"],\"line_alpha\":[1.0],\"line_color\":[\"white\"],\"width\":[0.8],\"x\":[\"Annette Vilhelmsen\"],\"y\":[0.13123359580052493]}},\"id\":\"96161d3a-d008-4932-bf97-f759fabbcffd\",\"type\":\"ColumnDataSource\"},{\"attributes\":{\"callback\":null,\"column_names\":[\"fill_alpha\",\"y\",\"line_color\",\"height\",\"width\",\"x\",\"color\",\"line_alpha\"],\"data\":{\"chart_index\":[{\"index\":\"Sofie Carsten Nielsen\"}],\"color\":[\"#f22c40\"],\"fill_alpha\":[0.8],\"height\":[0.0925925925925926],\"index\":[\"Sofie Carsten Nielsen\"],\"line_alpha\":[1.0],\"line_color\":[\"white\"],\"width\":[0.8],\"x\":[\"Sofie Carsten Nielsen\"],\"y\":[0.0462962962962963]}},\"id\":\"31f28758-2106-4c47-adcb-c32aede96a8f\",\"type\":\"ColumnDataSource\"},{\"attributes\":{\"callback\":null,\"column_names\":[\"fill_alpha\",\"y\",\"line_color\",\"height\",\"width\",\"x\",\"color\",\"line_alpha\"],\"data\":{\"chart_index\":[{\"index\":\"Karsten Nonbo\"}],\"color\":[\"#f22c40\"],\"fill_alpha\":[0.8],\"height\":[0.130718954248366],\"index\":[\"Karsten Nonbo\"],\"line_alpha\":[1.0],\"line_color\":[\"white\"],\"width\":[0.8],\"x\":[\"Karsten Nonbo\"],\"y\":[0.065359477124183]}},\"id\":\"d3df398c-57ed-4cc0-a615-e0cdd2dd357d\",\"type\":\"ColumnDataSource\"},{\"attributes\":{\"plot\":{\"id\":\"e3619170-9497-40df-b2bd-e3b24db5a604\",\"subtype\":\"Chart\",\"type\":\"Plot\"}},\"id\":\"8e576486-a456-4969-8c34-b64c7155910f\",\"type\":\"ResetTool\"},{\"attributes\":{\"plot\":{\"id\":\"5576f7c1-d8a6-46ce-8ead-d7af8e9d1759\",\"subtype\":\"Chart\",\"type\":\"Plot\"}},\"id\":\"228c0d08-ec41-4942-9b6a-1af04be57599\",\"type\":\"HelpTool\"},{\"attributes\":{\"data_source\":{\"id\":\"dce18d9e-9eaf-4412-9e56-805a06babb9e\",\"type\":\"ColumnDataSource\"},\"glyph\":{\"id\":\"492c9050-6f7a-46a3-80a1-527c0ab483ac\",\"type\":\"Rect\"},\"hover_glyph\":null,\"nonselection_glyph\":null,\"selection_glyph\":null},\"id\":\"03352e7a-0b27-4f40-a50e-c4c839bb7955\",\"type\":\"GlyphRenderer\"},{\"attributes\":{\"fill_alpha\":{\"field\":\"fill_alpha\"},\"fill_color\":{\"field\":\"color\"},\"height\":{\"field\":\"height\",\"units\":\"data\"},\"line_color\":{\"field\":\"line_color\"},\"width\":{\"field\":\"width\",\"units\":\"data\"},\"x\":{\"field\":\"x\"},\"y\":{\"field\":\"y\"}},\"id\":\"0aac1c00-f73e-44c4-be6a-2a54c984283e\",\"type\":\"Rect\"},{\"attributes\":{\"fill_alpha\":{\"field\":\"fill_alpha\"},\"fill_color\":{\"field\":\"color\"},\"height\":{\"field\":\"height\",\"units\":\"data\"},\"line_color\":{\"field\":\"line_color\"},\"width\":{\"field\":\"width\",\"units\":\"data\"},\"x\":{\"field\":\"x\"},\"y\":{\"field\":\"y\"}},\"id\":\"441160b5-d1e4-4eaa-8ffd-67b7673c64a7\",\"type\":\"Rect\"},{\"attributes\":{\"data_source\":{\"id\":\"86945d4d-6a58-4c13-a072-61145f6c747d\",\"type\":\"ColumnDataSource\"},\"glyph\":{\"id\":\"3084c139-6461-452c-92a2-50777dbfa134\",\"type\":\"Rect\"},\"hover_glyph\":null,\"nonselection_glyph\":null,\"selection_glyph\":null},\"id\":\"1d91e817-c85b-4a27-9b70-9ca70c7b70cf\",\"type\":\"GlyphRenderer\"},{\"attributes\":{\"callback\":null,\"column_names\":[\"fill_alpha\",\"y\",\"line_color\",\"height\",\"width\",\"x\",\"color\",\"line_alpha\"],\"data\":{\"chart_index\":[{\"index\":\"Per Clausen\"}],\"color\":[\"#f22c40\"],\"fill_alpha\":[0.8],\"height\":[0.130718954248366],\"index\":[\"Per Clausen\"],\"line_alpha\":[1.0],\"line_color\":[\"white\"],\"width\":[0.8],\"x\":[\"Per Clausen\"],\"y\":[0.065359477124183]}},\"id\":\"351ac9e5-769f-4d03-9fc6-6be6d10af136\",\"type\":\"ColumnDataSource\"},{\"attributes\":{\"callback\":null,\"column_names\":[\"fill_alpha\",\"y\",\"line_color\",\"height\",\"width\",\"x\",\"color\",\"line_alpha\"],\"data\":{\"chart_index\":[{\"index\":\"Rasmus Helveg Petersen\"}],\"color\":[\"#f22c40\"],\"fill_alpha\":[0.8],\"height\":[0.2026342451874367],\"index\":[\"Rasmus Helveg Petersen\"],\"line_alpha\":[1.0],\"line_color\":[\"white\"],\"width\":[0.8],\"x\":[\"Rasmus Helveg Petersen\"],\"y\":[0.10131712259371835]}},\"id\":\"0f5a878b-35fb-43f6-9886-a739bd9873e3\",\"type\":\"ColumnDataSource\"},{\"attributes\":{\"callback\":null,\"end\":1.7432950191570882},\"id\":\"5dae2e1c-c6c7-44c2-acb7-a52a722afa83\",\"type\":\"Range1d\"},{\"attributes\":{\"fill_alpha\":{\"field\":\"fill_alpha\"},\"fill_color\":{\"field\":\"color\"},\"height\":{\"field\":\"height\",\"units\":\"data\"},\"line_color\":{\"field\":\"line_color\"},\"width\":{\"field\":\"width\",\"units\":\"data\"},\"x\":{\"field\":\"x\"},\"y\":{\"field\":\"y\"}},\"id\":\"bc25098f-632e-4460-a85d-3439b152d40b\",\"type\":\"Rect\"},{\"attributes\":{\"callback\":null,\"column_names\":[\"fill_alpha\",\"y\",\"line_color\",\"height\",\"width\",\"x\",\"color\",\"line_alpha\"],\"data\":{\"chart_index\":[{\"index\":\"Dennis Flydtkj\\u00e6r\"}],\"color\":[\"#f22c40\"],\"fill_alpha\":[0.8],\"height\":[0.0925925925925926],\"index\":[\"Dennis Flydtkj\\u00e6r\"],\"line_alpha\":[1.0],\"line_color\":[\"white\"],\"width\":[0.8],\"x\":[\"Dennis Flydtkj\\u00e6r\"],\"y\":[0.0462962962962963]}},\"id\":\"ab8aa4f9-b291-4e9e-9ee2-4e4eff038a31\",\"type\":\"ColumnDataSource\"},{\"attributes\":{\"fill_alpha\":{\"field\":\"fill_alpha\"},\"fill_color\":{\"field\":\"color\"},\"height\":{\"field\":\"height\",\"units\":\"data\"},\"line_color\":{\"field\":\"line_color\"},\"width\":{\"field\":\"width\",\"units\":\"data\"},\"x\":{\"field\":\"x\"},\"y\":{\"field\":\"y\"}},\"id\":\"d4a651b0-e281-46f0-a0d5-be7196468ab0\",\"type\":\"Rect\"},{\"attributes\":{\"fill_alpha\":{\"field\":\"fill_alpha\"},\"fill_color\":{\"field\":\"color\"},\"height\":{\"field\":\"height\",\"units\":\"data\"},\"line_color\":{\"field\":\"line_color\"},\"width\":{\"field\":\"width\",\"units\":\"data\"},\"x\":{\"field\":\"x\"},\"y\":{\"field\":\"y\"}},\"id\":\"91bb71a8-e45c-4f65-92f1-9048fe85e9dc\",\"type\":\"Rect\"},{\"attributes\":{\"callback\":null,\"column_names\":[\"fill_alpha\",\"y\",\"line_color\",\"height\",\"width\",\"x\",\"color\",\"line_alpha\"],\"data\":{\"chart_index\":[{\"index\":\"Ellen Trane N\\u00f8rby\"}],\"color\":[\"#f22c40\"],\"fill_alpha\":[0.8],\"height\":[0.09910802775024777],\"index\":[\"Ellen Trane N\\u00f8rby\"],\"line_alpha\":[1.0],\"line_color\":[\"white\"],\"width\":[0.8],\"x\":[\"Ellen Trane N\\u00f8rby\"],\"y\":[0.049554013875123884]}},\"id\":\"48116310-9192-427b-be28-50284134befe\",\"type\":\"ColumnDataSource\"},{\"attributes\":{\"callback\":null,\"column_names\":[\"fill_alpha\",\"y\",\"line_color\",\"height\",\"width\",\"x\",\"color\",\"line_alpha\"],\"data\":{\"chart_index\":[{\"index\":\"Socialistisk Folkeparti\"}],\"color\":[\"#f22c40\"],\"fill_alpha\":[0.8],\"height\":[2.5],\"index\":[\"Socialistisk Folkeparti\"],\"line_alpha\":[1.0],\"line_color\":[\"white\"],\"width\":[0.8],\"x\":[\"Socialistisk Folkeparti\"],\"y\":[1.25]}},\"id\":\"90e42908-292a-4301-aa19-c21d92f90c58\",\"type\":\"ColumnDataSource\"},{\"attributes\":{\"data_source\":{\"id\":\"72e93672-d2b8-45ce-b3da-cfcf10c48cb7\",\"type\":\"ColumnDataSource\"},\"glyph\":{\"id\":\"72cd6f04-5f6f-496e-9215-4a2f94086656\",\"type\":\"Rect\"},\"hover_glyph\":null,\"nonselection_glyph\":null,\"selection_glyph\":null},\"id\":\"4564622d-10b2-44fc-a056-f5a77e7c03c0\",\"type\":\"GlyphRenderer\"},{\"attributes\":{\"callback\":null,\"column_names\":[\"fill_alpha\",\"y\",\"line_color\",\"height\",\"width\",\"x\",\"color\",\"line_alpha\"],\"data\":{\"chart_index\":[{\"index\":\"Henning Hyllested\"}],\"color\":[\"#f22c40\"],\"fill_alpha\":[0.8],\"height\":[0.09285051067780872],\"index\":[\"Henning Hyllested\"],\"line_alpha\":[1.0],\"line_color\":[\"white\"],\"width\":[0.8],\"x\":[\"Henning Hyllested\"],\"y\":[0.04642525533890436]}},\"id\":\"4b975f0d-c3c5-4c4f-9c26-be7eb33e70af\",\"type\":\"ColumnDataSource\"},{\"attributes\":{\"fill_alpha\":{\"field\":\"fill_alpha\"},\"fill_color\":{\"field\":\"color\"},\"height\":{\"field\":\"height\",\"units\":\"data\"},\"line_color\":{\"field\":\"line_color\"},\"width\":{\"field\":\"width\",\"units\":\"data\"},\"x\":{\"field\":\"x\"},\"y\":{\"field\":\"y\"}},\"id\":\"16acf7ce-23e4-409c-bd86-13ef9312399c\",\"type\":\"Rect\"},{\"attributes\":{\"data_source\":{\"id\":\"b90495ad-e8a8-4c38-acea-63561dd88a59\",\"type\":\"ColumnDataSource\"},\"glyph\":{\"id\":\"febe4349-d7b4-4a42-a904-f578216c26d9\",\"type\":\"Rect\"},\"hover_glyph\":null,\"nonselection_glyph\":null,\"selection_glyph\":null},\"id\":\"15b7f37b-1299-4add-a4a3-47255d54c3ee\",\"type\":\"GlyphRenderer\"},{\"attributes\":{\"fill_alpha\":{\"field\":\"fill_alpha\"},\"fill_color\":{\"field\":\"color\"},\"height\":{\"field\":\"height\",\"units\":\"data\"},\"line_color\":{\"field\":\"line_color\"},\"width\":{\"field\":\"width\",\"units\":\"data\"},\"x\":{\"field\":\"x\"},\"y\":{\"field\":\"y\"}},\"id\":\"697d36f9-6fbe-44a0-bec3-f135412c7b70\",\"type\":\"Rect\"},{\"attributes\":{\"callback\":null,\"column_names\":[\"fill_alpha\",\"y\",\"line_color\",\"height\",\"width\",\"x\",\"color\",\"line_alpha\"],\"data\":{\"chart_index\":[{\"index\":\"Jeppe Kofod\"}],\"color\":[\"#f22c40\"],\"fill_alpha\":[0.8],\"height\":[0.25510204081632654],\"index\":[\"Jeppe Kofod\"],\"line_alpha\":[1.0],\"line_color\":[\"white\"],\"width\":[0.8],\"x\":[\"Jeppe Kofod\"],\"y\":[0.12755102040816327]}},\"id\":\"9158501e-69af-4eba-a7c1-101b09c51b69\",\"type\":\"ColumnDataSource\"},{\"attributes\":{\"data_source\":{\"id\":\"48eff8bd-2881-4eee-a271-0c4af61250b8\",\"type\":\"ColumnDataSource\"},\"glyph\":{\"id\":\"16ddc688-8cfe-49f6-8d12-7511463f6812\",\"type\":\"Rect\"},\"hover_glyph\":null,\"nonselection_glyph\":null,\"selection_glyph\":null},\"id\":\"8c9edb13-9099-4307-9235-61fd66bb1d44\",\"type\":\"GlyphRenderer\"},{\"attributes\":{\"fill_alpha\":{\"field\":\"fill_alpha\"},\"fill_color\":{\"field\":\"color\"},\"height\":{\"field\":\"height\",\"units\":\"data\"},\"line_color\":{\"field\":\"line_color\"},\"width\":{\"field\":\"width\",\"units\":\"data\"},\"x\":{\"field\":\"x\"},\"y\":{\"field\":\"y\"}},\"id\":\"0d438b0c-2ff3-430e-a409-09137c0a5cbf\",\"type\":\"Rect\"},{\"attributes\":{\"callback\":null,\"column_names\":[\"fill_alpha\",\"y\",\"line_color\",\"height\",\"width\",\"x\",\"color\",\"line_alpha\"],\"data\":{\"chart_index\":[{\"index\":\"Marianne Jelved\"}],\"color\":[\"#f22c40\"],\"fill_alpha\":[0.8],\"height\":[0.0925925925925926],\"index\":[\"Marianne Jelved\"],\"line_alpha\":[1.0],\"line_color\":[\"white\"],\"width\":[0.8],\"x\":[\"Marianne Jelved\"],\"y\":[0.0462962962962963]}},\"id\":\"cf481145-4fcc-401a-a4f6-d69c55dece5b\",\"type\":\"ColumnDataSource\"},{\"attributes\":{\"plot\":{\"id\":\"e3619170-9497-40df-b2bd-e3b24db5a604\",\"subtype\":\"Chart\",\"type\":\"Plot\"}},\"id\":\"bfde5be3-be9f-4320-bb7f-3d321f6877d7\",\"type\":\"WheelZoomTool\"},{\"attributes\":{\"fill_alpha\":{\"field\":\"fill_alpha\"},\"fill_color\":{\"field\":\"color\"},\"height\":{\"field\":\"height\",\"units\":\"data\"},\"line_color\":{\"field\":\"line_color\"},\"width\":{\"field\":\"width\",\"units\":\"data\"},\"x\":{\"field\":\"x\"},\"y\":{\"field\":\"y\"}},\"id\":\"0903d6b7-beda-4746-82b2-ae49e709f67b\",\"type\":\"Rect\"},{\"attributes\":{\"callback\":null,\"column_names\":[\"fill_alpha\",\"y\",\"line_color\",\"height\",\"width\",\"x\",\"color\",\"line_alpha\"],\"data\":{\"chart_index\":[{\"index\":\"Jonas Dahl\"}],\"color\":[\"#f22c40\"],\"fill_alpha\":[0.8],\"height\":[0.10214504596527069],\"index\":[\"Jonas Dahl\"],\"line_alpha\":[1.0],\"line_color\":[\"white\"],\"width\":[0.8],\"x\":[\"Jonas Dahl\"],\"y\":[0.05107252298263534]}},\"id\":\"061740df-1a72-43e0-8f72-508953123621\",\"type\":\"ColumnDataSource\"},{\"attributes\":{\"data_source\":{\"id\":\"0f5a878b-35fb-43f6-9886-a739bd9873e3\",\"type\":\"ColumnDataSource\"},\"glyph\":{\"id\":\"8b324795-6adf-4f43-8a96-9e8dda3f952c\",\"type\":\"Rect\"},\"hover_glyph\":null,\"nonselection_glyph\":null,\"selection_glyph\":null},\"id\":\"df47c448-a242-492d-906d-9f49ccb3f5ad\",\"type\":\"GlyphRenderer\"},{\"attributes\":{\"fill_alpha\":{\"field\":\"fill_alpha\"},\"fill_color\":{\"field\":\"color\"},\"height\":{\"field\":\"height\",\"units\":\"data\"},\"line_color\":{\"field\":\"line_color\"},\"width\":{\"field\":\"width\",\"units\":\"data\"},\"x\":{\"field\":\"x\"},\"y\":{\"field\":\"y\"}},\"id\":\"492c9050-6f7a-46a3-80a1-527c0ab483ac\",\"type\":\"Rect\"},{\"attributes\":{\"callback\":null,\"column_names\":[\"fill_alpha\",\"y\",\"line_color\",\"height\",\"width\",\"x\",\"color\",\"line_alpha\"],\"data\":{\"chart_index\":[{\"index\":\"Mai Mercado\"}],\"color\":[\"#f22c40\"],\"fill_alpha\":[0.8],\"height\":[0.25316455696202533],\"index\":[\"Mai Mercado\"],\"line_alpha\":[1.0],\"line_color\":[\"white\"],\"width\":[0.8],\"x\":[\"Mai Mercado\"],\"y\":[0.12658227848101267]}},\"id\":\"1d74c7cb-e914-430f-9827-771095dfb9df\",\"type\":\"ColumnDataSource\"},{\"attributes\":{\"data_source\":{\"id\":\"a2b8cf59-3746-4161-9b8c-3fe82ce93143\",\"type\":\"ColumnDataSource\"},\"glyph\":{\"id\":\"1a7c7d8e-2951-4a89-a9b3-61a601664050\",\"type\":\"Rect\"},\"hover_glyph\":null,\"nonselection_glyph\":null,\"selection_glyph\":null},\"id\":\"576719cf-3560-42ba-9292-3302a71b4c73\",\"type\":\"GlyphRenderer\"},{\"attributes\":{\"fill_alpha\":{\"field\":\"fill_alpha\"},\"fill_color\":{\"field\":\"color\"},\"height\":{\"field\":\"height\",\"units\":\"data\"},\"line_color\":{\"field\":\"line_color\"},\"width\":{\"field\":\"width\",\"units\":\"data\"},\"x\":{\"field\":\"x\"},\"y\":{\"field\":\"y\"}},\"id\":\"65c16718-4835-4891-8244-5ecdbb171105\",\"type\":\"Rect\"},{\"attributes\":{\"callback\":null,\"column_names\":[\"fill_alpha\",\"y\",\"line_color\",\"height\",\"width\",\"x\",\"color\",\"line_alpha\"],\"data\":{\"chart_index\":[{\"index\":\"Trine Mach\"}],\"color\":[\"#f22c40\"],\"fill_alpha\":[0.8],\"height\":[0.45801526717557256],\"index\":[\"Trine Mach\"],\"line_alpha\":[1.0],\"line_color\":[\"white\"],\"width\":[0.8],\"x\":[\"Trine Mach\"],\"y\":[0.22900763358778628]}},\"id\":\"94b3b46e-fa33-40c0-bc95-020dc4933f8d\",\"type\":\"ColumnDataSource\"},{\"attributes\":{\"callback\":null,\"column_names\":[\"fill_alpha\",\"y\",\"line_color\",\"height\",\"width\",\"x\",\"color\",\"line_alpha\"],\"data\":{\"chart_index\":[{\"index\":\"Yildiz Akdogan\"}],\"color\":[\"#f22c40\"],\"fill_alpha\":[0.8],\"height\":[0.14684287812041116],\"index\":[\"Yildiz Akdogan\"],\"line_alpha\":[1.0],\"line_color\":[\"white\"],\"width\":[0.8],\"x\":[\"Yildiz Akdogan\"],\"y\":[0.07342143906020558]}},\"id\":\"b28943ba-086e-43f2-b314-4a72cc270c30\",\"type\":\"ColumnDataSource\"},{\"attributes\":{\"fill_alpha\":{\"field\":\"fill_alpha\"},\"fill_color\":{\"field\":\"color\"},\"height\":{\"field\":\"height\",\"units\":\"data\"},\"line_color\":{\"field\":\"line_color\"},\"width\":{\"field\":\"width\",\"units\":\"data\"},\"x\":{\"field\":\"x\"},\"y\":{\"field\":\"y\"}},\"id\":\"9d978ffd-2563-42d9-ab70-67f71e346dc2\",\"type\":\"Rect\"},{\"attributes\":{\"fill_alpha\":{\"field\":\"fill_alpha\"},\"fill_color\":{\"field\":\"color\"},\"height\":{\"field\":\"height\",\"units\":\"data\"},\"line_color\":{\"field\":\"line_color\"},\"width\":{\"field\":\"width\",\"units\":\"data\"},\"x\":{\"field\":\"x\"},\"y\":{\"field\":\"y\"}},\"id\":\"16ddc688-8cfe-49f6-8d12-7511463f6812\",\"type\":\"Rect\"},{\"attributes\":{\"data_source\":{\"id\":\"6195b975-c979-47ab-9c29-b66ca0cd82a5\",\"type\":\"ColumnDataSource\"},\"glyph\":{\"id\":\"d4555774-fe2b-4eac-8626-ddd1749544ae\",\"type\":\"Rect\"},\"hover_glyph\":null,\"nonselection_glyph\":null,\"selection_glyph\":null},\"id\":\"469645e7-cb37-4e9f-8471-482752320812\",\"type\":\"GlyphRenderer\"},{\"attributes\":{\"plot\":{\"id\":\"5576f7c1-d8a6-46ce-8ead-d7af8e9d1759\",\"subtype\":\"Chart\",\"type\":\"Plot\"}},\"id\":\"99813dd5-cc06-4f4c-9d26-0888af9d2581\",\"type\":\"ResetTool\"},{\"attributes\":{\"fill_alpha\":{\"field\":\"fill_alpha\"},\"fill_color\":{\"field\":\"color\"},\"height\":{\"field\":\"height\",\"units\":\"data\"},\"line_color\":{\"field\":\"line_color\"},\"width\":{\"field\":\"width\",\"units\":\"data\"},\"x\":{\"field\":\"x\"},\"y\":{\"field\":\"y\"}},\"id\":\"1ffc01b0-ec5f-4788-99c4-2de27e439a71\",\"type\":\"Rect\"}],\"root_ids\":[\"e3619170-9497-40df-b2bd-e3b24db5a604\",\"5576f7c1-d8a6-46ce-8ead-d7af8e9d1759\"]},\"title\":\"Bokeh Application\",\"version\":\"0.11.1\"}};\n",
       "            var render_items = [{\"docid\":\"140eb069-992d-4bdc-80e0-590e8f9ac0a0\",\"elementid\":\"41868ac8-ec2b-4e73-94c5-b2b727f17701\",\"modelid\":\"5576f7c1-d8a6-46ce-8ead-d7af8e9d1759\",\"notebook_comms_target\":\"db0e61c2-9f1d-4d6b-b81b-d5cd2bf0efbd\"}];\n",
       "            \n",
       "            Bokeh.embed.embed_items(docs_json, render_items);\n",
       "        });\n",
       "      },\n",
       "      function(Bokeh) {\n",
       "      }\n",
       "    ];\n",
       "  \n",
       "    function run_inline_js() {\n",
       "      for (var i = 0; i < inline_js.length; i++) {\n",
       "        inline_js[i](window.Bokeh);\n",
       "      }\n",
       "    }\n",
       "  \n",
       "    if (window._bokeh_is_loading === 0) {\n",
       "      console.log(\"Bokeh: BokehJS loaded, going straight to plotting\");\n",
       "      run_inline_js();\n",
       "    } else {\n",
       "      load_libs(js_urls, function() {\n",
       "        console.log(\"Bokeh: BokehJS plotting callback run at\", now());\n",
       "        run_inline_js();\n",
       "      });\n",
       "    }\n",
       "  }(this));\n",
       "</script>"
      ]
     },
     "metadata": {},
     "output_type": "display_data"
    },
    {
     "data": {
      "text/html": [
       "<p><code>&lt;Bokeh Notebook handle for <strong>In[10]</strong>&gt;</code></p>"
      ],
      "text/plain": [
       "<bokeh.io._CommsHandle at 0x7fc454af2390>"
      ]
     },
     "execution_count": 10,
     "metadata": {},
     "output_type": "execute_result"
    }
   ],
   "source": [
    "bla = pd.DataFrame(person_basis).T\n",
    "blabla = (bla[0]/bla[1])*100\n",
    "show(Bar(blabla[blabla>0], title=\"følger folk partiet?\", ylabel=\"% stemmer imod parti flertallet\"))"
   ]
  },
  {
   "cell_type": "markdown",
   "metadata": {},
   "source": [
    "## Hm hm...en mindre håndfuld få gange....hovedsageligt bliver partilinjen fulgt"
   ]
  },
  {
   "cell_type": "code",
   "execution_count": 11,
   "metadata": {
    "collapsed": false
   },
   "outputs": [
    {
     "data": {
      "text/html": [
       "\n",
       "\n",
       "    <div class=\"plotdiv\" id=\"31ff2caf-159d-4803-a3ca-e4d7c6bbb150\"></div>\n",
       "<script type=\"text/javascript\">\n",
       "  \n",
       "  (function(global) {\n",
       "    function now() {\n",
       "      return new Date();\n",
       "    }\n",
       "  \n",
       "    if (typeof (window._bokeh_onload_callbacks) === \"undefined\") {\n",
       "      window._bokeh_onload_callbacks = [];\n",
       "    }\n",
       "  \n",
       "    function run_callbacks() {\n",
       "      window._bokeh_onload_callbacks.forEach(function(callback) { callback() });\n",
       "      delete window._bokeh_onload_callbacks\n",
       "      console.info(\"Bokeh: all callbacks have finished\");\n",
       "    }\n",
       "  \n",
       "    function load_libs(js_urls, callback) {\n",
       "      window._bokeh_onload_callbacks.push(callback);\n",
       "      if (window._bokeh_is_loading > 0) {\n",
       "        console.log(\"Bokeh: BokehJS is being loaded, scheduling callback at\", now());\n",
       "        return null;\n",
       "      }\n",
       "      if (js_urls == null || js_urls.length === 0) {\n",
       "        run_callbacks();\n",
       "        return null;\n",
       "      }\n",
       "      console.log(\"Bokeh: BokehJS not loaded, scheduling load and callback at\", now());\n",
       "      window._bokeh_is_loading = js_urls.length;\n",
       "      for (var i = 0; i < js_urls.length; i++) {\n",
       "        var url = js_urls[i];\n",
       "        var s = document.createElement('script');\n",
       "        s.src = url;\n",
       "        s.async = false;\n",
       "        s.onreadystatechange = s.onload = function() {\n",
       "          window._bokeh_is_loading--;\n",
       "          if (window._bokeh_is_loading === 0) {\n",
       "            console.log(\"Bokeh: all BokehJS libraries loaded\");\n",
       "            run_callbacks()\n",
       "          }\n",
       "        };\n",
       "        s.onerror = function() {\n",
       "          console.warn(\"failed to load library \" + url);\n",
       "        };\n",
       "        console.log(\"Bokeh: injecting script tag for BokehJS library: \", url);\n",
       "        document.getElementsByTagName(\"head\")[0].appendChild(s);\n",
       "      }\n",
       "    };var element = document.getElementById(\"31ff2caf-159d-4803-a3ca-e4d7c6bbb150\");\n",
       "    if (element == null) {\n",
       "      console.log(\"Bokeh: ERROR: autoload.js configured with elementid '31ff2caf-159d-4803-a3ca-e4d7c6bbb150' but no matching script tag was found. \")\n",
       "      return false;\n",
       "    }\n",
       "  \n",
       "    var js_urls = [];\n",
       "  \n",
       "    var inline_js = [\n",
       "      function(Bokeh) {\n",
       "        Bokeh.$(function() {\n",
       "            var docs_json = {\"dbc137fa-e25b-40ff-9868-e45b4f9b6db6\":{\"roots\":{\"references\":[{\"attributes\":{\"data_source\":{\"id\":\"9b1d632c-d9e6-46e7-8ed3-4b140e469714\",\"type\":\"ColumnDataSource\"},\"glyph\":{\"id\":\"9d978ffd-2563-42d9-ab70-67f71e346dc2\",\"type\":\"Rect\"},\"hover_glyph\":null,\"nonselection_glyph\":null,\"selection_glyph\":null},\"id\":\"43231c77-9b59-4e4f-93d1-c3488c962f12\",\"type\":\"GlyphRenderer\"},{\"attributes\":{\"fill_alpha\":{\"field\":\"fill_alpha\"},\"fill_color\":{\"field\":\"color\"},\"height\":{\"field\":\"height\",\"units\":\"data\"},\"line_color\":{\"field\":\"line_color\"},\"width\":{\"field\":\"width\",\"units\":\"data\"},\"x\":{\"field\":\"x\"},\"y\":{\"field\":\"y\"}},\"id\":\"91c01daa-8fa8-4836-ae4e-6ebe3e7fccb8\",\"type\":\"Rect\"},{\"attributes\":{},\"id\":\"6667db28-db3d-4d6e-81a3-6b209687058e\",\"type\":\"BasicTickFormatter\"},{\"attributes\":{},\"id\":\"125d1214-160a-4a51-baab-bd85360b54f6\",\"type\":\"BasicTicker\"},{\"attributes\":{\"data_source\":{\"id\":\"f0418c3a-af8a-43cb-89c3-3b0eb4d89e40\",\"type\":\"ColumnDataSource\"},\"glyph\":{\"id\":\"d5d2f795-2911-44d6-897d-8ba089e01531\",\"type\":\"Rect\"},\"hover_glyph\":null,\"nonselection_glyph\":null,\"selection_glyph\":null},\"id\":\"ab3d4776-cc51-4672-bf34-a9ddad7f756d\",\"type\":\"GlyphRenderer\"},{\"attributes\":{\"data_source\":{\"id\":\"d84c6ae9-b2cf-40d6-996d-30bdeac5c88f\",\"type\":\"ColumnDataSource\"},\"glyph\":{\"id\":\"441160b5-d1e4-4eaa-8ffd-67b7673c64a7\",\"type\":\"Rect\"},\"hover_glyph\":null,\"nonselection_glyph\":null,\"selection_glyph\":null},\"id\":\"525dcaea-c874-4da7-a870-a5dbeaf2c69c\",\"type\":\"GlyphRenderer\"},{\"attributes\":{\"callback\":null,\"column_names\":[\"fill_alpha\",\"y\",\"line_color\",\"height\",\"width\",\"x\",\"color\",\"line_alpha\"],\"data\":{\"chart_index\":[{\"index\":\"Jens Henrik Thulesen Dahl\"}],\"color\":[\"#f22c40\"],\"fill_alpha\":[0.8],\"height\":[0.0925925925925926],\"index\":[\"Jens Henrik Thulesen Dahl\"],\"line_alpha\":[1.0],\"line_color\":[\"white\"],\"width\":[0.8],\"x\":[\"Jens Henrik Thulesen Dahl\"],\"y\":[0.0462962962962963]}},\"id\":\"5cf2e6e0-dacb-4771-93e2-f266f9e15683\",\"type\":\"ColumnDataSource\"},{\"attributes\":{\"plot\":{\"id\":\"c78b477d-c145-462f-ad40-18e99cfdf79c\",\"subtype\":\"Figure\",\"type\":\"Plot\"},\"ticker\":{\"id\":\"1b34b1e3-bb61-4578-896b-93d8c5f9fa89\",\"type\":\"BasicTicker\"}},\"id\":\"85f2694b-b4f9-4d6e-b2f5-af1f8de16e38\",\"type\":\"Grid\"},{\"attributes\":{\"callback\":null,\"column_names\":[\"fill_alpha\",\"y\",\"line_color\",\"height\",\"width\",\"x\",\"color\",\"line_alpha\"],\"data\":{\"chart_index\":[{\"index\":\"Birthe R\\u00f8nn Hornbech\"}],\"color\":[\"#f22c40\"],\"fill_alpha\":[0.8],\"height\":[0.261437908496732],\"index\":[\"Birthe R\\u00f8nn Hornbech\"],\"line_alpha\":[1.0],\"line_color\":[\"white\"],\"width\":[0.8],\"x\":[\"Birthe R\\u00f8nn Hornbech\"],\"y\":[0.130718954248366]}},\"id\":\"f17da4f0-a56d-4ce6-a696-0f1e51547099\",\"type\":\"ColumnDataSource\"},{\"attributes\":{\"data_source\":{\"id\":\"90e42908-292a-4301-aa19-c21d92f90c58\",\"type\":\"ColumnDataSource\"},\"glyph\":{\"id\":\"00d6d670-7827-40f3-ba7f-5c391db71068\",\"type\":\"Rect\"},\"hover_glyph\":null,\"nonselection_glyph\":null,\"selection_glyph\":null},\"id\":\"e627081a-d019-4c24-8ed8-5bd5c6c74589\",\"type\":\"GlyphRenderer\"},{\"attributes\":{\"data_source\":{\"id\":\"5cf2e6e0-dacb-4771-93e2-f266f9e15683\",\"type\":\"ColumnDataSource\"},\"glyph\":{\"id\":\"26dd697e-6ce4-4ae9-b48d-d3525a63a6bd\",\"type\":\"Rect\"},\"hover_glyph\":null,\"nonselection_glyph\":null,\"selection_glyph\":null},\"id\":\"09b660f9-4e8e-419e-b073-475e8ba51807\",\"type\":\"GlyphRenderer\"},{\"attributes\":{},\"id\":\"1b34b1e3-bb61-4578-896b-93d8c5f9fa89\",\"type\":\"BasicTicker\"},{\"attributes\":{\"data_source\":{\"id\":\"dfecff16-5271-423d-bc81-ffb9c3f40695\",\"type\":\"ColumnDataSource\"},\"glyph\":{\"id\":\"64a395a8-135a-40b3-8b91-d2f935cc5598\",\"type\":\"Rect\"},\"hover_glyph\":null,\"nonselection_glyph\":null,\"selection_glyph\":null},\"id\":\"1c67abe5-b233-45ab-9104-5caaf7955934\",\"type\":\"GlyphRenderer\"},{\"attributes\":{\"data_source\":{\"id\":\"2df0f383-6d78-46fc-9077-9a032708ba59\",\"type\":\"ColumnDataSource\"},\"glyph\":{\"id\":\"ec72c5ac-da48-4467-9954-7b51247e911c\",\"type\":\"Rect\"},\"hover_glyph\":null,\"nonselection_glyph\":null,\"selection_glyph\":null},\"id\":\"3d885e05-587a-43d3-a785-e7e1cfc80e7b\",\"type\":\"GlyphRenderer\"},{\"attributes\":{\"callback\":null,\"column_names\":[\"fill_alpha\",\"y\",\"line_color\",\"height\",\"width\",\"x\",\"color\",\"line_alpha\"],\"data\":{\"chart_index\":[{\"index\":\"Henrik Dam Kristensen\"}],\"color\":[\"#f22c40\"],\"fill_alpha\":[0.8],\"height\":[0.0925925925925926],\"index\":[\"Henrik Dam Kristensen\"],\"line_alpha\":[1.0],\"line_color\":[\"white\"],\"width\":[0.8],\"x\":[\"Henrik Dam Kristensen\"],\"y\":[0.0462962962962963]}},\"id\":\"6195b975-c979-47ab-9c29-b66ca0cd82a5\",\"type\":\"ColumnDataSource\"},{\"attributes\":{\"dimension\":1,\"plot\":{\"id\":\"5576f7c1-d8a6-46ce-8ead-d7af8e9d1759\",\"subtype\":\"Chart\",\"type\":\"Plot\"},\"ticker\":{\"id\":\"cf4f6db9-9bf1-4571-8531-f3c230bb2152\",\"type\":\"BasicTicker\"}},\"id\":\"58d7a4b0-9a55-44a1-afec-e15f1c327f14\",\"type\":\"Grid\"},{\"attributes\":{\"fill_alpha\":{\"field\":\"fill_alpha\"},\"fill_color\":{\"field\":\"color\"},\"height\":{\"field\":\"height\",\"units\":\"data\"},\"line_color\":{\"field\":\"line_color\"},\"width\":{\"field\":\"width\",\"units\":\"data\"},\"x\":{\"field\":\"x\"},\"y\":{\"field\":\"y\"}},\"id\":\"77ebe22b-5aae-4ce7-b42c-7612ae2c71aa\",\"type\":\"Rect\"},{\"attributes\":{\"data_source\":{\"id\":\"4a90ca7b-baf3-4b6d-b212-6baffa1723be\",\"type\":\"ColumnDataSource\"},\"glyph\":{\"id\":\"91bb71a8-e45c-4f65-92f1-9048fe85e9dc\",\"type\":\"Rect\"},\"hover_glyph\":null,\"nonselection_glyph\":null,\"selection_glyph\":null},\"id\":\"fd63fbc9-827a-432c-b816-24a704948fcf\",\"type\":\"GlyphRenderer\"},{\"attributes\":{\"data_source\":{\"id\":\"f17da4f0-a56d-4ce6-a696-0f1e51547099\",\"type\":\"ColumnDataSource\"},\"glyph\":{\"id\":\"7db837e7-fb49-48a6-ae36-ca79ca86aa01\",\"type\":\"Rect\"},\"hover_glyph\":null,\"nonselection_glyph\":null,\"selection_glyph\":null},\"id\":\"bdf0a470-f83d-4429-91f1-553740abcb04\",\"type\":\"GlyphRenderer\"},{\"attributes\":{\"callback\":null,\"column_names\":[\"fill_alpha\",\"y\",\"line_color\",\"height\",\"width\",\"x\",\"color\",\"line_alpha\"],\"data\":{\"chart_index\":[{\"index\":\"Brian Mikkelsen\"}],\"color\":[\"#f22c40\"],\"fill_alpha\":[0.8],\"height\":[0.0925925925925926],\"index\":[\"Brian Mikkelsen\"],\"line_alpha\":[1.0],\"line_color\":[\"white\"],\"width\":[0.8],\"x\":[\"Brian Mikkelsen\"],\"y\":[0.0462962962962963]}},\"id\":\"1e35f1c8-ea12-461f-9895-d847c44d8e1b\",\"type\":\"ColumnDataSource\"},{\"attributes\":{\"callback\":null,\"column_names\":[\"fill_alpha\",\"y\",\"line_color\",\"height\",\"width\",\"x\",\"color\",\"line_alpha\"],\"data\":{\"chart_index\":[{\"index\":\"Steen Gade\"}],\"color\":[\"#f22c40\"],\"fill_alpha\":[0.8],\"height\":[0.6535947712418301],\"index\":[\"Steen Gade\"],\"line_alpha\":[1.0],\"line_color\":[\"white\"],\"width\":[0.8],\"x\":[\"Steen Gade\"],\"y\":[0.32679738562091504]}},\"id\":\"0a2f68db-4663-4861-a7c9-1b6d165aa4e6\",\"type\":\"ColumnDataSource\"},{\"attributes\":{\"plot\":{\"id\":\"c78b477d-c145-462f-ad40-18e99cfdf79c\",\"subtype\":\"Figure\",\"type\":\"Plot\"}},\"id\":\"bffaba66-409e-43d6-9444-ca3184616c10\",\"type\":\"ResizeTool\"},{\"attributes\":{\"callback\":null,\"column_names\":[\"fill_alpha\",\"y\",\"line_color\",\"height\",\"width\",\"x\",\"color\",\"line_alpha\"],\"data\":{\"chart_index\":[{\"index\":\"Det Konservative Folkeparti\"}],\"color\":[\"#f22c40\"],\"fill_alpha\":[0.8],\"height\":[0.3703703703703704],\"index\":[\"Det Konservative Folkeparti\"],\"line_alpha\":[1.0],\"line_color\":[\"white\"],\"width\":[0.8],\"x\":[\"Det Konservative Folkeparti\"],\"y\":[0.1851851851851852]}},\"id\":\"dce18d9e-9eaf-4412-9e56-805a06babb9e\",\"type\":\"ColumnDataSource\"},{\"attributes\":{\"data_source\":{\"id\":\"efb8c147-12ea-4714-87be-0c815d12577c\",\"type\":\"ColumnDataSource\"},\"glyph\":{\"id\":\"3142565c-414d-482e-8056-893b8204abc0\",\"type\":\"Rect\"},\"hover_glyph\":null,\"nonselection_glyph\":null,\"selection_glyph\":null},\"id\":\"35d9c3cf-effc-42ad-a446-6a551bbd6d5c\",\"type\":\"GlyphRenderer\"},{\"attributes\":{\"fill_alpha\":{\"field\":\"fill_alpha\"},\"fill_color\":{\"field\":\"color\"},\"height\":{\"field\":\"height\",\"units\":\"data\"},\"line_color\":{\"field\":\"line_color\"},\"width\":{\"field\":\"width\",\"units\":\"data\"},\"x\":{\"field\":\"x\"},\"y\":{\"field\":\"y\"}},\"id\":\"1d7d9735-9295-45dc-a32a-d563f005b13a\",\"type\":\"Rect\"},{\"attributes\":{\"fill_color\":{\"value\":\"#1f77b4\"},\"line_color\":{\"value\":\"#1f77b4\"},\"radius\":{\"units\":\"data\",\"value\":5},\"x\":{\"field\":\"for\"},\"y\":{\"field\":\"imod\"}},\"id\":\"92bc2017-56fd-43ab-83b8-a2335376bd3c\",\"type\":\"Circle\"},{\"attributes\":{\"plot\":{\"id\":\"e3619170-9497-40df-b2bd-e3b24db5a604\",\"subtype\":\"Chart\",\"type\":\"Plot\"}},\"id\":\"2277eac0-e1b1-4e05-ae31-280bbced374e\",\"type\":\"ResizeTool\"},{\"attributes\":{\"data_source\":{\"id\":\"2f2a4aad-4e78-4bbc-94a2-92f6baa41e3d\",\"type\":\"ColumnDataSource\"},\"glyph\":{\"id\":\"697d36f9-6fbe-44a0-bec3-f135412c7b70\",\"type\":\"Rect\"},\"hover_glyph\":null,\"nonselection_glyph\":null,\"selection_glyph\":null},\"id\":\"04131417-aa75-4dff-9142-300c1b8608fe\",\"type\":\"GlyphRenderer\"},{\"attributes\":{},\"id\":\"df6480b9-bf56-4dea-b584-74ff96db5f0f\",\"type\":\"ToolEvents\"},{\"attributes\":{\"data_source\":{\"id\":\"a5289ec0-5365-4bf0-bbcd-2144fdaf447f\",\"type\":\"ColumnDataSource\"},\"glyph\":{\"id\":\"7e169eda-8208-4930-b483-a54c40507be4\",\"type\":\"Rect\"},\"hover_glyph\":null,\"nonselection_glyph\":null,\"selection_glyph\":null},\"id\":\"e36e0224-5971-41b8-8b67-adc8857b1c72\",\"type\":\"GlyphRenderer\"},{\"attributes\":{\"callback\":null,\"column_names\":[\"fill_alpha\",\"y\",\"line_color\",\"height\",\"width\",\"x\",\"color\",\"line_alpha\"],\"data\":{\"chart_index\":[{\"index\":\"Mette Bock\"}],\"color\":[\"#f22c40\"],\"fill_alpha\":[0.8],\"height\":[0.18587360594795538],\"index\":[\"Mette Bock\"],\"line_alpha\":[1.0],\"line_color\":[\"white\"],\"width\":[0.8],\"x\":[\"Mette Bock\"],\"y\":[0.09293680297397769]}},\"id\":\"a6aa1d24-0cb9-45c6-81cf-468dd9b0a0eb\",\"type\":\"ColumnDataSource\"},{\"attributes\":{\"overlay\":{\"id\":\"55d2e1f1-47f9-4798-adac-fe414566aad5\",\"type\":\"BoxAnnotation\"},\"plot\":{\"id\":\"c78b477d-c145-462f-ad40-18e99cfdf79c\",\"subtype\":\"Figure\",\"type\":\"Plot\"}},\"id\":\"4d3e6a2a-0101-4346-aec2-0ebf04c16ff3\",\"type\":\"BoxZoomTool\"},{\"attributes\":{\"data_source\":{\"id\":\"1e35f1c8-ea12-461f-9895-d847c44d8e1b\",\"type\":\"ColumnDataSource\"},\"glyph\":{\"id\":\"098dea17-f665-4e86-92fa-c374537f0108\",\"type\":\"Rect\"},\"hover_glyph\":null,\"nonselection_glyph\":null,\"selection_glyph\":null},\"id\":\"8830f220-be14-4943-b607-1f79d785e5b8\",\"type\":\"GlyphRenderer\"},{\"attributes\":{\"plot\":{\"id\":\"c78b477d-c145-462f-ad40-18e99cfdf79c\",\"subtype\":\"Figure\",\"type\":\"Plot\"}},\"id\":\"0b7f62bc-16eb-483b-aa9f-3686fb2e57d6\",\"type\":\"ResetTool\"},{\"attributes\":{\"callback\":null,\"column_names\":[\"fill_alpha\",\"y\",\"line_color\",\"height\",\"width\",\"x\",\"color\",\"line_alpha\"],\"data\":{\"chart_index\":[{\"index\":\"Lars Dohn\"}],\"color\":[\"#f22c40\"],\"fill_alpha\":[0.8],\"height\":[0.130718954248366],\"index\":[\"Lars Dohn\"],\"line_alpha\":[1.0],\"line_color\":[\"white\"],\"width\":[0.8],\"x\":[\"Lars Dohn\"],\"y\":[0.065359477124183]}},\"id\":\"86945d4d-6a58-4c13-a072-61145f6c747d\",\"type\":\"ColumnDataSource\"},{\"attributes\":{\"callback\":null,\"column_names\":[\"fill_alpha\",\"y\",\"line_color\",\"height\",\"width\",\"x\",\"color\",\"line_alpha\"],\"data\":{\"chart_index\":[{\"index\":\"Enhedslisten\"}],\"color\":[\"#f22c40\"],\"fill_alpha\":[0.8],\"height\":[0.2777777777777778],\"index\":[\"Enhedslisten\"],\"line_alpha\":[1.0],\"line_color\":[\"white\"],\"width\":[0.8],\"x\":[\"Enhedslisten\"],\"y\":[0.1388888888888889]}},\"id\":\"a2379722-32a0-4ac7-936b-83962a6f837c\",\"type\":\"ColumnDataSource\"},{\"attributes\":{\"fill_alpha\":{\"field\":\"fill_alpha\"},\"fill_color\":{\"field\":\"color\"},\"height\":{\"field\":\"height\",\"units\":\"data\"},\"line_color\":{\"field\":\"line_color\"},\"width\":{\"field\":\"width\",\"units\":\"data\"},\"x\":{\"field\":\"x\"},\"y\":{\"field\":\"y\"}},\"id\":\"85e75aa7-3138-4766-8bf5-b96173ba2e0e\",\"type\":\"Rect\"},{\"attributes\":{\"data_source\":{\"id\":\"acf5ab7c-3019-4ab0-a70b-9d56cc6667cf\",\"type\":\"ColumnDataSource\"},\"glyph\":{\"id\":\"16acf7ce-23e4-409c-bd86-13ef9312399c\",\"type\":\"Rect\"},\"hover_glyph\":null,\"nonselection_glyph\":null,\"selection_glyph\":null},\"id\":\"d03b1f81-4a59-45a3-b9f8-2690d042af20\",\"type\":\"GlyphRenderer\"},{\"attributes\":{\"data_source\":{\"id\":\"cf481145-4fcc-401a-a4f6-d69c55dece5b\",\"type\":\"ColumnDataSource\"},\"glyph\":{\"id\":\"447426c5-5485-4402-bedf-52993dfe5b6d\",\"type\":\"Rect\"},\"hover_glyph\":null,\"nonselection_glyph\":null,\"selection_glyph\":null},\"id\":\"149adf77-e6cf-4a02-b5ca-be18bc076958\",\"type\":\"GlyphRenderer\"},{\"attributes\":{\"data_source\":{\"id\":\"07513d08-61ff-4ad1-81d5-7b5dfb3a8517\",\"type\":\"ColumnDataSource\"},\"glyph\":{\"id\":\"a6c2c788-d2bb-4bb1-8878-e2e25cd0d966\",\"type\":\"Rect\"},\"hover_glyph\":null,\"nonselection_glyph\":null,\"selection_glyph\":null},\"id\":\"fd6f742f-09d7-459c-b25a-69c7cd5fa464\",\"type\":\"GlyphRenderer\"},{\"attributes\":{\"fill_alpha\":{\"field\":\"fill_alpha\"},\"fill_color\":{\"field\":\"color\"},\"height\":{\"field\":\"height\",\"units\":\"data\"},\"line_color\":{\"field\":\"line_color\"},\"width\":{\"field\":\"width\",\"units\":\"data\"},\"x\":{\"field\":\"x\"},\"y\":{\"field\":\"y\"}},\"id\":\"230b81eb-503f-4b11-86e3-d5b1be854c17\",\"type\":\"Rect\"},{\"attributes\":{\"fill_alpha\":{\"field\":\"fill_alpha\"},\"fill_color\":{\"field\":\"color\"},\"height\":{\"field\":\"height\",\"units\":\"data\"},\"line_color\":{\"field\":\"line_color\"},\"width\":{\"field\":\"width\",\"units\":\"data\"},\"x\":{\"field\":\"x\"},\"y\":{\"field\":\"y\"}},\"id\":\"ec72c5ac-da48-4467-9954-7b51247e911c\",\"type\":\"Rect\"},{\"attributes\":{\"data_source\":{\"id\":\"351ac9e5-769f-4d03-9fc6-6be6d10af136\",\"type\":\"ColumnDataSource\"},\"glyph\":{\"id\":\"ec522d06-b4e1-473c-a73f-419b14708fe0\",\"type\":\"Rect\"},\"hover_glyph\":null,\"nonselection_glyph\":null,\"selection_glyph\":null},\"id\":\"a5d6c632-55dc-4d7c-82d7-daa3e94ac49b\",\"type\":\"GlyphRenderer\"},{\"attributes\":{\"callback\":null,\"column_names\":[\"fill_alpha\",\"y\",\"line_color\",\"height\",\"width\",\"x\",\"color\",\"line_alpha\"],\"data\":{\"chart_index\":[{\"index\":\"Socialdemokratiet\"}],\"color\":[\"#f22c40\"],\"fill_alpha\":[0.8],\"height\":[0.9259259259259258],\"index\":[\"Socialdemokratiet\"],\"line_alpha\":[1.0],\"line_color\":[\"white\"],\"width\":[0.8],\"x\":[\"Socialdemokratiet\"],\"y\":[0.4629629629629629]}},\"id\":\"f0418c3a-af8a-43cb-89c3-3b0eb4d89e40\",\"type\":\"ColumnDataSource\"},{\"attributes\":{\"fill_alpha\":{\"field\":\"fill_alpha\"},\"fill_color\":{\"field\":\"color\"},\"height\":{\"field\":\"height\",\"units\":\"data\"},\"line_color\":{\"field\":\"line_color\"},\"width\":{\"field\":\"width\",\"units\":\"data\"},\"x\":{\"field\":\"x\"},\"y\":{\"field\":\"y\"}},\"id\":\"a51719a8-f8d2-48eb-9fc2-8aa5fb0abd4d\",\"type\":\"Rect\"},{\"attributes\":{},\"id\":\"ea0d2818-97c6-47e9-a1a3-f932dd94dbb1\",\"type\":\"CategoricalTicker\"},{\"attributes\":{\"callback\":null,\"column_names\":[\"fill_alpha\",\"y\",\"line_color\",\"height\",\"width\",\"x\",\"color\",\"line_alpha\"],\"data\":{\"chart_index\":[{\"index\":\"Bent B\\u00f8gsted\"}],\"color\":[\"#f22c40\"],\"fill_alpha\":[0.8],\"height\":[0.0925925925925926],\"index\":[\"Bent B\\u00f8gsted\"],\"line_alpha\":[1.0],\"line_color\":[\"white\"],\"width\":[0.8],\"x\":[\"Bent B\\u00f8gsted\"],\"y\":[0.0462962962962963]}},\"id\":\"a2b8cf59-3746-4161-9b8c-3fe82ce93143\",\"type\":\"ColumnDataSource\"},{\"attributes\":{\"data_source\":{\"id\":\"43a36e73-9647-431f-93df-28c8de505103\",\"type\":\"ColumnDataSource\"},\"glyph\":{\"id\":\"fe1f9471-c407-4ecc-82b2-6530c426d0f7\",\"type\":\"Rect\"},\"hover_glyph\":null,\"nonselection_glyph\":null,\"selection_glyph\":null},\"id\":\"ad9ae1ca-c2ec-4a20-865d-e0ad5541134b\",\"type\":\"GlyphRenderer\"},{\"attributes\":{\"below\":[{\"id\":\"36299ef7-5a99-4a97-b955-1b597322bd90\",\"type\":\"CategoricalAxis\"}],\"left\":[{\"id\":\"31c2525b-4ebd-4767-b69f-8c5d69ed91fa\",\"type\":\"LinearAxis\"}],\"legend\":null,\"renderers\":[{\"id\":\"0b50f2e3-0f7c-46dc-96f1-fc5f39b902bd\",\"type\":\"BoxAnnotation\"},{\"id\":\"121ecc79-364e-44d8-841b-7a61fe276da1\",\"type\":\"GlyphRenderer\"},{\"id\":\"1f496dba-bfd2-4cb6-a611-8c08eb02306e\",\"type\":\"GlyphRenderer\"},{\"id\":\"2ab6c5f2-912b-4faa-b30b-9cec85d547b4\",\"type\":\"GlyphRenderer\"},{\"id\":\"576719cf-3560-42ba-9292-3302a71b4c73\",\"type\":\"GlyphRenderer\"},{\"id\":\"d03b1f81-4a59-45a3-b9f8-2690d042af20\",\"type\":\"GlyphRenderer\"},{\"id\":\"bdf0a470-f83d-4429-91f1-553740abcb04\",\"type\":\"GlyphRenderer\"},{\"id\":\"8830f220-be14-4943-b607-1f79d785e5b8\",\"type\":\"GlyphRenderer\"},{\"id\":\"1c67abe5-b233-45ab-9104-5caaf7955934\",\"type\":\"GlyphRenderer\"},{\"id\":\"b7a25df0-d22b-44fc-9195-ce5ac6a58b04\",\"type\":\"GlyphRenderer\"},{\"id\":\"2a2eabf7-8c23-4622-a7f5-fb7c2f0e9986\",\"type\":\"GlyphRenderer\"},{\"id\":\"034001cb-328e-40b1-9ef3-cc3627749268\",\"type\":\"GlyphRenderer\"},{\"id\":\"b4a7b545-727a-463b-8595-da82f230e0bb\",\"type\":\"GlyphRenderer\"},{\"id\":\"15a7e771-40ca-4e4a-995e-752a065d889a\",\"type\":\"GlyphRenderer\"},{\"id\":\"b9056850-e084-43e5-abb3-00c11fbb4ee9\",\"type\":\"GlyphRenderer\"},{\"id\":\"2a748f06-b888-41eb-84cf-2af599d27cb0\",\"type\":\"GlyphRenderer\"},{\"id\":\"8c9edb13-9099-4307-9235-61fd66bb1d44\",\"type\":\"GlyphRenderer\"},{\"id\":\"8cd98276-da8f-4143-a456-88f06e41e18e\",\"type\":\"GlyphRenderer\"},{\"id\":\"43231c77-9b59-4e4f-93d1-c3488c962f12\",\"type\":\"GlyphRenderer\"},{\"id\":\"4564622d-10b2-44fc-a056-f5a77e7c03c0\",\"type\":\"GlyphRenderer\"},{\"id\":\"12b0ef4f-4d0a-4270-b1e6-3ae586c3dca7\",\"type\":\"GlyphRenderer\"},{\"id\":\"469645e7-cb37-4e9f-8471-482752320812\",\"type\":\"GlyphRenderer\"},{\"id\":\"07f466f4-c80c-413d-b1e2-5086e59f2347\",\"type\":\"GlyphRenderer\"},{\"id\":\"04131417-aa75-4dff-9142-300c1b8608fe\",\"type\":\"GlyphRenderer\"},{\"id\":\"19b1fc5d-b497-447c-b371-56d8be249909\",\"type\":\"GlyphRenderer\"},{\"id\":\"09b660f9-4e8e-419e-b073-475e8ba51807\",\"type\":\"GlyphRenderer\"},{\"id\":\"fd6f742f-09d7-459c-b25a-69c7cd5fa464\",\"type\":\"GlyphRenderer\"},{\"id\":\"2a3d3aa2-eedb-47ef-858f-3c8fb0969bff\",\"type\":\"GlyphRenderer\"},{\"id\":\"4fdf4caa-ca94-4b36-a852-45bf870d1737\",\"type\":\"GlyphRenderer\"},{\"id\":\"16f2b5d5-e53d-43d3-ac91-af635996ebb3\",\"type\":\"GlyphRenderer\"},{\"id\":\"e36e0224-5971-41b8-8b67-adc8857b1c72\",\"type\":\"GlyphRenderer\"},{\"id\":\"c260eeab-b347-4b86-b1a5-08129f326907\",\"type\":\"GlyphRenderer\"},{\"id\":\"d1fce61f-174d-4a4a-9538-3caabef5e1fb\",\"type\":\"GlyphRenderer\"},{\"id\":\"a2dfaaa7-40f3-47fa-b6d5-922a750d9911\",\"type\":\"GlyphRenderer\"},{\"id\":\"1d91e817-c85b-4a27-9b70-9ca70c7b70cf\",\"type\":\"GlyphRenderer\"},{\"id\":\"35d9c3cf-effc-42ad-a446-6a551bbd6d5c\",\"type\":\"GlyphRenderer\"},{\"id\":\"fd63fbc9-827a-432c-b816-24a704948fcf\",\"type\":\"GlyphRenderer\"},{\"id\":\"661c6356-e3f8-436f-84e7-f60f20d3e1b0\",\"type\":\"GlyphRenderer\"},{\"id\":\"149adf77-e6cf-4a02-b5ca-be18bc076958\",\"type\":\"GlyphRenderer\"},{\"id\":\"15b7f37b-1299-4add-a4a3-47255d54c3ee\",\"type\":\"GlyphRenderer\"},{\"id\":\"a5edb716-38e6-4146-a5c5-ee1bcba286e3\",\"type\":\"GlyphRenderer\"},{\"id\":\"4d34bc9a-1fb5-44db-aebe-23c515befa85\",\"type\":\"GlyphRenderer\"},{\"id\":\"ad9ae1ca-c2ec-4a20-865d-e0ad5541134b\",\"type\":\"GlyphRenderer\"},{\"id\":\"1b23f8a0-bd83-4aff-aac3-564496d69307\",\"type\":\"GlyphRenderer\"},{\"id\":\"a5d6c632-55dc-4d7c-82d7-daa3e94ac49b\",\"type\":\"GlyphRenderer\"},{\"id\":\"3f40a127-df97-4dbd-b981-90121e834086\",\"type\":\"GlyphRenderer\"},{\"id\":\"df47c448-a242-492d-906d-9f49ccb3f5ad\",\"type\":\"GlyphRenderer\"},{\"id\":\"f89a373f-cadd-4ee2-89ab-68a5835f427b\",\"type\":\"GlyphRenderer\"},{\"id\":\"3fb57c8f-31a9-42e2-b80c-c58d6c32cf3b\",\"type\":\"GlyphRenderer\"},{\"id\":\"6227f6ba-51e9-41cd-a88c-2b1e96057892\",\"type\":\"GlyphRenderer\"},{\"id\":\"f55cb5ec-613d-4f76-ad81-8894e156a54f\",\"type\":\"GlyphRenderer\"},{\"id\":\"6191e960-1809-44d4-acdf-0378b1c14677\",\"type\":\"GlyphRenderer\"},{\"id\":\"525dcaea-c874-4da7-a870-a5dbeaf2c69c\",\"type\":\"GlyphRenderer\"},{\"id\":\"36299ef7-5a99-4a97-b955-1b597322bd90\",\"type\":\"CategoricalAxis\"},{\"id\":\"31c2525b-4ebd-4767-b69f-8c5d69ed91fa\",\"type\":\"LinearAxis\"},{\"id\":\"58d7a4b0-9a55-44a1-afec-e15f1c327f14\",\"type\":\"Grid\"}],\"title\":\"f\\u00f8lger folk partiet?\",\"title_text_font_size\":{\"value\":\"14pt\"},\"tool_events\":{\"id\":\"df6480b9-bf56-4dea-b584-74ff96db5f0f\",\"type\":\"ToolEvents\"},\"tools\":[{\"id\":\"66e7e3f9-665b-4549-9391-142180eb6c40\",\"type\":\"PanTool\"},{\"id\":\"b812fb4e-518a-4786-ba9d-cc8d2c8d3956\",\"type\":\"WheelZoomTool\"},{\"id\":\"afb8a6c2-6406-4df3-8ea7-ad905096c51e\",\"type\":\"BoxZoomTool\"},{\"id\":\"68d91e20-c388-45f7-b894-26083d7f25b0\",\"type\":\"PreviewSaveTool\"},{\"id\":\"b87e9787-8f7e-488f-bc8f-2e73667b8a20\",\"type\":\"ResizeTool\"},{\"id\":\"99813dd5-cc06-4f4c-9d26-0888af9d2581\",\"type\":\"ResetTool\"},{\"id\":\"228c0d08-ec41-4942-9b6a-1af04be57599\",\"type\":\"HelpTool\"}],\"x_mapper_type\":\"auto\",\"x_range\":{\"id\":\"125723e4-89e8-433d-92a8-e71638dd8a66\",\"type\":\"FactorRange\"},\"xgrid\":false,\"xscale\":\"auto\",\"y_mapper_type\":\"auto\",\"y_range\":{\"id\":\"5dae2e1c-c6c7-44c2-acb7-a52a722afa83\",\"type\":\"Range1d\"},\"yscale\":\"auto\"},\"id\":\"5576f7c1-d8a6-46ce-8ead-d7af8e9d1759\",\"subtype\":\"Chart\",\"type\":\"Plot\"},{\"attributes\":{\"callback\":null,\"column_names\":[\"fill_alpha\",\"y\",\"line_color\",\"height\",\"width\",\"x\",\"color\",\"line_alpha\"],\"data\":{\"chart_index\":[{\"index\":\"Christian Langballe\"}],\"color\":[\"#f22c40\"],\"fill_alpha\":[0.8],\"height\":[0.1851851851851852],\"index\":[\"Christian Langballe\"],\"line_alpha\":[1.0],\"line_color\":[\"white\"],\"width\":[0.8],\"x\":[\"Christian Langballe\"],\"y\":[0.0925925925925926]}},\"id\":\"97e5d8a9-57c5-489f-9cd0-d12de2bccd54\",\"type\":\"ColumnDataSource\"},{\"attributes\":{\"axis_label\":\"% stemmer imod parti flertallet\",\"formatter\":{\"id\":\"da8ec15a-939c-4772-b503-b04166d3e8b9\",\"type\":\"BasicTickFormatter\"},\"plot\":{\"id\":\"5576f7c1-d8a6-46ce-8ead-d7af8e9d1759\",\"subtype\":\"Chart\",\"type\":\"Plot\"},\"ticker\":{\"id\":\"cf4f6db9-9bf1-4571-8531-f3c230bb2152\",\"type\":\"BasicTicker\"}},\"id\":\"31c2525b-4ebd-4767-b69f-8c5d69ed91fa\",\"type\":\"LinearAxis\"},{\"attributes\":{\"callback\":null},\"id\":\"2425886f-9b75-4d76-92b4-0cc1d2f01063\",\"type\":\"DataRange1d\"},{\"attributes\":{\"callback\":null,\"column_names\":[\"fill_alpha\",\"y\",\"line_color\",\"height\",\"width\",\"x\",\"color\",\"line_alpha\"],\"data\":{\"chart_index\":[{\"index\":\"Lars Barfoed\"}],\"color\":[\"#f22c40\"],\"fill_alpha\":[0.8],\"height\":[0.130718954248366],\"index\":[\"Lars Barfoed\"],\"line_alpha\":[1.0],\"line_color\":[\"white\"],\"width\":[0.8],\"x\":[\"Lars Barfoed\"],\"y\":[0.065359477124183]}},\"id\":\"9c299087-a8d2-4f29-ac90-cb319878b504\",\"type\":\"ColumnDataSource\"},{\"attributes\":{\"fill_alpha\":{\"field\":\"fill_alpha\"},\"fill_color\":{\"field\":\"color\"},\"height\":{\"field\":\"height\",\"units\":\"data\"},\"line_color\":{\"field\":\"line_color\"},\"width\":{\"field\":\"width\",\"units\":\"data\"},\"x\":{\"field\":\"x\"},\"y\":{\"field\":\"y\"}},\"id\":\"d4555774-fe2b-4eac-8626-ddd1749544ae\",\"type\":\"Rect\"},{\"attributes\":{\"plot\":{\"id\":\"5576f7c1-d8a6-46ce-8ead-d7af8e9d1759\",\"subtype\":\"Chart\",\"type\":\"Plot\"}},\"id\":\"66e7e3f9-665b-4549-9391-142180eb6c40\",\"type\":\"PanTool\"},{\"attributes\":{\"fill_alpha\":{\"field\":\"fill_alpha\"},\"fill_color\":{\"field\":\"color\"},\"height\":{\"field\":\"height\",\"units\":\"data\"},\"line_color\":{\"field\":\"line_color\"},\"width\":{\"field\":\"width\",\"units\":\"data\"},\"x\":{\"field\":\"x\"},\"y\":{\"field\":\"y\"}},\"id\":\"8c023fcf-4ad0-4270-af19-c7a87f0837cc\",\"type\":\"Rect\"},{\"attributes\":{\"data_source\":{\"id\":\"b28943ba-086e-43f2-b314-4a72cc270c30\",\"type\":\"ColumnDataSource\"},\"glyph\":{\"id\":\"e52d8852-ba52-4a2b-a907-cf0b4e65ac0e\",\"type\":\"Rect\"},\"hover_glyph\":null,\"nonselection_glyph\":null,\"selection_glyph\":null},\"id\":\"6191e960-1809-44d4-acdf-0378b1c14677\",\"type\":\"GlyphRenderer\"},{\"attributes\":{\"data_source\":{\"id\":\"0f01b071-775a-4530-bf95-24d623ebd3d1\",\"type\":\"ColumnDataSource\"},\"glyph\":{\"id\":\"77ebe22b-5aae-4ce7-b42c-7612ae2c71aa\",\"type\":\"Rect\"},\"hover_glyph\":null,\"nonselection_glyph\":null,\"selection_glyph\":null},\"id\":\"121ecc79-364e-44d8-841b-7a61fe276da1\",\"type\":\"GlyphRenderer\"},{\"attributes\":{\"plot\":{\"id\":\"5576f7c1-d8a6-46ce-8ead-d7af8e9d1759\",\"subtype\":\"Chart\",\"type\":\"Plot\"}},\"id\":\"b812fb4e-518a-4786-ba9d-cc8d2c8d3956\",\"type\":\"WheelZoomTool\"},{\"attributes\":{\"fill_alpha\":{\"field\":\"fill_alpha\"},\"fill_color\":{\"field\":\"color\"},\"height\":{\"field\":\"height\",\"units\":\"data\"},\"line_color\":{\"field\":\"line_color\"},\"width\":{\"field\":\"width\",\"units\":\"data\"},\"x\":{\"field\":\"x\"},\"y\":{\"field\":\"y\"}},\"id\":\"d5d2f795-2911-44d6-897d-8ba089e01531\",\"type\":\"Rect\"},{\"attributes\":{\"fill_alpha\":{\"field\":\"fill_alpha\"},\"fill_color\":{\"field\":\"color\"},\"height\":{\"field\":\"height\",\"units\":\"data\"},\"line_color\":{\"field\":\"line_color\"},\"width\":{\"field\":\"width\",\"units\":\"data\"},\"x\":{\"field\":\"x\"},\"y\":{\"field\":\"y\"}},\"id\":\"925b8da4-b242-4b18-9f18-dd5773cd7342\",\"type\":\"Rect\"},{\"attributes\":{\"fill_alpha\":{\"field\":\"fill_alpha\"},\"fill_color\":{\"field\":\"color\"},\"height\":{\"field\":\"height\",\"units\":\"data\"},\"line_color\":{\"field\":\"line_color\"},\"width\":{\"field\":\"width\",\"units\":\"data\"},\"x\":{\"field\":\"x\"},\"y\":{\"field\":\"y\"}},\"id\":\"7db837e7-fb49-48a6-ae36-ca79ca86aa01\",\"type\":\"Rect\"},{\"attributes\":{\"fill_alpha\":{\"field\":\"fill_alpha\"},\"fill_color\":{\"field\":\"color\"},\"height\":{\"field\":\"height\",\"units\":\"data\"},\"line_color\":{\"field\":\"line_color\"},\"width\":{\"field\":\"width\",\"units\":\"data\"},\"x\":{\"field\":\"x\"},\"y\":{\"field\":\"y\"}},\"id\":\"d15e825e-1ac4-429a-9ec9-c3db15b1018f\",\"type\":\"Rect\"},{\"attributes\":{\"callback\":null,\"column_names\":[\"fill_alpha\",\"y\",\"line_color\",\"height\",\"width\",\"x\",\"color\",\"line_alpha\"],\"data\":{\"chart_index\":[{\"index\":\"Bente Bendix\"}],\"color\":[\"#f22c40\"],\"fill_alpha\":[0.8],\"height\":[1.4084507042253522],\"index\":[\"Bente Bendix\"],\"line_alpha\":[1.0],\"line_color\":[\"white\"],\"width\":[0.8],\"x\":[\"Bente Bendix\"],\"y\":[0.7042253521126761]}},\"id\":\"acf5ab7c-3019-4ab0-a70b-9d56cc6667cf\",\"type\":\"ColumnDataSource\"},{\"attributes\":{\"fill_alpha\":{\"field\":\"fill_alpha\"},\"fill_color\":{\"field\":\"color\"},\"height\":{\"field\":\"height\",\"units\":\"data\"},\"line_color\":{\"field\":\"line_color\"},\"width\":{\"field\":\"width\",\"units\":\"data\"},\"x\":{\"field\":\"x\"},\"y\":{\"field\":\"y\"}},\"id\":\"fe1f9471-c407-4ecc-82b2-6530c426d0f7\",\"type\":\"Rect\"},{\"attributes\":{\"data_source\":{\"id\":\"117a5b5f-f6e4-4be0-a89e-e8b0f45e4cdc\",\"type\":\"ColumnDataSource\"},\"glyph\":{\"id\":\"4eb9854a-09d0-4c62-8132-7b1b633c2bad\",\"type\":\"Rect\"},\"hover_glyph\":null,\"nonselection_glyph\":null,\"selection_glyph\":null},\"id\":\"2a2eabf7-8c23-4622-a7f5-fb7c2f0e9986\",\"type\":\"GlyphRenderer\"},{\"attributes\":{\"data_source\":{\"id\":\"31f28758-2106-4c47-adcb-c32aede96a8f\",\"type\":\"ColumnDataSource\"},\"glyph\":{\"id\":\"2eb66419-b2b1-4aec-be8d-eda2a44e7dac\",\"type\":\"Rect\"},\"hover_glyph\":null,\"nonselection_glyph\":null,\"selection_glyph\":null},\"id\":\"3fb57c8f-31a9-42e2-b80c-c58d6c32cf3b\",\"type\":\"GlyphRenderer\"},{\"attributes\":{\"callback\":null,\"column_names\":[\"fill_alpha\",\"y\",\"line_color\",\"height\",\"width\",\"x\",\"color\",\"line_alpha\"],\"data\":{\"chart_index\":[{\"index\":\"Venstre, Danmarks Liberale Parti\"}],\"color\":[\"#f22c40\"],\"fill_alpha\":[0.8],\"height\":[0.8333333333333334],\"index\":[\"Venstre, Danmarks Liberale Parti\"],\"line_alpha\":[1.0],\"line_color\":[\"white\"],\"width\":[0.8],\"x\":[\"Venstre, Danmarks Liberale Parti\"],\"y\":[0.4166666666666667]}},\"id\":\"2df0f383-6d78-46fc-9077-9a032708ba59\",\"type\":\"ColumnDataSource\"},{\"attributes\":{\"callback\":null,\"column_names\":[\"fill_alpha\",\"y\",\"line_color\",\"height\",\"width\",\"x\",\"color\",\"line_alpha\"],\"data\":{\"chart_index\":[{\"index\":\"Holger K. Nielsen\"}],\"color\":[\"#f22c40\"],\"fill_alpha\":[0.8],\"height\":[0.0925925925925926],\"index\":[\"Holger K. Nielsen\"],\"line_alpha\":[1.0],\"line_color\":[\"white\"],\"width\":[0.8],\"x\":[\"Holger K. Nielsen\"],\"y\":[0.0462962962962963]}},\"id\":\"7d23f6c9-3bfa-4ddc-8af9-836955172b42\",\"type\":\"ColumnDataSource\"},{\"attributes\":{\"callback\":null,\"column_names\":[\"fill_alpha\",\"y\",\"line_color\",\"height\",\"width\",\"x\",\"color\",\"line_alpha\"],\"data\":{\"chart_index\":[{\"index\":\"Jan Johansen\"}],\"color\":[\"#f22c40\"],\"fill_alpha\":[0.8],\"height\":[0.1851851851851852],\"index\":[\"Jan Johansen\"],\"line_alpha\":[1.0],\"line_color\":[\"white\"],\"width\":[0.8],\"x\":[\"Jan Johansen\"],\"y\":[0.0925925925925926]}},\"id\":\"34f308e1-9b31-486e-ab44-b67b4aef8f5f\",\"type\":\"ColumnDataSource\"},{\"attributes\":{\"data_source\":{\"id\":\"64ae8294-1ff6-44a5-9a5a-8aa64dea983f\",\"type\":\"ColumnDataSource\"},\"glyph\":{\"id\":\"d15e825e-1ac4-429a-9ec9-c3db15b1018f\",\"type\":\"Rect\"},\"hover_glyph\":null,\"nonselection_glyph\":null,\"selection_glyph\":null},\"id\":\"3f40a127-df97-4dbd-b981-90121e834086\",\"type\":\"GlyphRenderer\"},{\"attributes\":{\"callback\":null,\"column_names\":[\"fill_alpha\",\"y\",\"line_color\",\"height\",\"width\",\"x\",\"color\",\"line_alpha\"],\"data\":{\"chart_index\":[{\"index\":\"Eyvind Vesselbo\"}],\"color\":[\"#f22c40\"],\"fill_alpha\":[0.8],\"height\":[0.130718954248366],\"index\":[\"Eyvind Vesselbo\"],\"line_alpha\":[1.0],\"line_color\":[\"white\"],\"width\":[0.8],\"x\":[\"Eyvind Vesselbo\"],\"y\":[0.065359477124183]}},\"id\":\"9aa8b47b-876c-4606-9bf0-d6c9aa884436\",\"type\":\"ColumnDataSource\"},{\"attributes\":{\"callback\":null,\"column_names\":[\"fill_alpha\",\"y\",\"line_color\",\"height\",\"width\",\"x\",\"color\",\"line_alpha\"],\"data\":{\"chart_index\":[{\"index\":\"Daniel Toft Jakobsen\"}],\"color\":[\"#f22c40\"],\"fill_alpha\":[0.8],\"height\":[0.3105590062111801],\"index\":[\"Daniel Toft Jakobsen\"],\"line_alpha\":[1.0],\"line_color\":[\"white\"],\"width\":[0.8],\"x\":[\"Daniel Toft Jakobsen\"],\"y\":[0.15527950310559005]}},\"id\":\"117a5b5f-f6e4-4be0-a89e-e8b0f45e4cdc\",\"type\":\"ColumnDataSource\"},{\"attributes\":{\"data_source\":{\"id\":\"9afec8b8-ba08-4fc8-8ce4-e2de7c7cb35e\",\"type\":\"ColumnDataSource\"},\"glyph\":{\"id\":\"d4a651b0-e281-46f0-a0d5-be7196468ab0\",\"type\":\"Rect\"},\"hover_glyph\":null,\"nonselection_glyph\":null,\"selection_glyph\":null},\"id\":\"f89a373f-cadd-4ee2-89ab-68a5835f427b\",\"type\":\"GlyphRenderer\"},{\"attributes\":{\"fill_alpha\":{\"field\":\"fill_alpha\"},\"fill_color\":{\"field\":\"color\"},\"height\":{\"field\":\"height\",\"units\":\"data\"},\"line_color\":{\"field\":\"line_color\"},\"width\":{\"field\":\"width\",\"units\":\"data\"},\"x\":{\"field\":\"x\"},\"y\":{\"field\":\"y\"}},\"id\":\"febe4349-d7b4-4a42-a904-f578216c26d9\",\"type\":\"Rect\"},{\"attributes\":{\"fill_alpha\":{\"field\":\"fill_alpha\"},\"fill_color\":{\"field\":\"color\"},\"height\":{\"field\":\"height\",\"units\":\"data\"},\"line_color\":{\"field\":\"line_color\"},\"width\":{\"field\":\"width\",\"units\":\"data\"},\"x\":{\"field\":\"x\"},\"y\":{\"field\":\"y\"}},\"id\":\"febd0c96-0dd5-48ac-a4a6-b52557a03110\",\"type\":\"Rect\"},{\"attributes\":{\"overlay\":{\"id\":\"0b50f2e3-0f7c-46dc-96f1-fc5f39b902bd\",\"type\":\"BoxAnnotation\"},\"plot\":{\"id\":\"5576f7c1-d8a6-46ce-8ead-d7af8e9d1759\",\"subtype\":\"Chart\",\"type\":\"Plot\"}},\"id\":\"afb8a6c2-6406-4df3-8ea7-ad905096c51e\",\"type\":\"BoxZoomTool\"},{\"attributes\":{\"data_source\":{\"id\":\"97e5d8a9-57c5-489f-9cd0-d12de2bccd54\",\"type\":\"ColumnDataSource\"},\"glyph\":{\"id\":\"01057747-4f14-4629-bd36-3aa0f0a8cb18\",\"type\":\"Rect\"},\"hover_glyph\":null,\"nonselection_glyph\":null,\"selection_glyph\":null},\"id\":\"b7a25df0-d22b-44fc-9195-ce5ac6a58b04\",\"type\":\"GlyphRenderer\"},{\"attributes\":{\"plot\":{\"id\":\"c78b477d-c145-462f-ad40-18e99cfdf79c\",\"subtype\":\"Figure\",\"type\":\"Plot\"}},\"id\":\"9885921f-abb5-48a9-9ff5-5af016b16ee5\",\"type\":\"PreviewSaveTool\"},{\"attributes\":{\"callback\":null,\"column_names\":[\"fill_alpha\",\"y\",\"line_color\",\"height\",\"width\",\"x\",\"color\",\"line_alpha\"],\"data\":{\"chart_index\":[{\"index\":\"Frank Aaen\"}],\"color\":[\"#f22c40\"],\"fill_alpha\":[0.8],\"height\":[0.130718954248366],\"index\":[\"Frank Aaen\"],\"line_alpha\":[1.0],\"line_color\":[\"white\"],\"width\":[0.8],\"x\":[\"Frank Aaen\"],\"y\":[0.065359477124183]}},\"id\":\"5f5eaa4f-add6-4f21-832c-99eb616a6c95\",\"type\":\"ColumnDataSource\"},{\"attributes\":{\"fill_alpha\":{\"field\":\"fill_alpha\"},\"fill_color\":{\"field\":\"color\"},\"height\":{\"field\":\"height\",\"units\":\"data\"},\"line_color\":{\"field\":\"line_color\"},\"width\":{\"field\":\"width\",\"units\":\"data\"},\"x\":{\"field\":\"x\"},\"y\":{\"field\":\"y\"}},\"id\":\"e52d8852-ba52-4a2b-a907-cf0b4e65ac0e\",\"type\":\"Rect\"},{\"attributes\":{\"callback\":null,\"column_names\":[\"fill_alpha\",\"y\",\"line_color\",\"height\",\"width\",\"x\",\"color\",\"line_alpha\"],\"data\":{\"chart_index\":[{\"index\":\"Hans Christian Schmidt\"}],\"color\":[\"#f22c40\"],\"fill_alpha\":[0.8],\"height\":[0.0925925925925926],\"index\":[\"Hans Christian Schmidt\"],\"line_alpha\":[1.0],\"line_color\":[\"white\"],\"width\":[0.8],\"x\":[\"Hans Christian Schmidt\"],\"y\":[0.0462962962962963]}},\"id\":\"9b1d632c-d9e6-46e7-8ed3-4b140e469714\",\"type\":\"ColumnDataSource\"},{\"attributes\":{\"callback\":null,\"column_names\":[\"fill_alpha\",\"y\",\"line_color\",\"height\",\"width\",\"x\",\"color\",\"line_alpha\"],\"data\":{\"chart_index\":[{\"index\":\"Yildiz Akdogan\"}],\"color\":[\"#f22c40\"],\"fill_alpha\":[0.8],\"height\":[0.14684287812041116],\"index\":[\"Yildiz Akdogan\"],\"line_alpha\":[1.0],\"line_color\":[\"white\"],\"width\":[0.8],\"x\":[\"Yildiz Akdogan\"],\"y\":[0.07342143906020558]}},\"id\":\"b28943ba-086e-43f2-b314-4a72cc270c30\",\"type\":\"ColumnDataSource\"},{\"attributes\":{\"fill_alpha\":{\"field\":\"fill_alpha\"},\"fill_color\":{\"field\":\"color\"},\"height\":{\"field\":\"height\",\"units\":\"data\"},\"line_color\":{\"field\":\"line_color\"},\"width\":{\"field\":\"width\",\"units\":\"data\"},\"x\":{\"field\":\"x\"},\"y\":{\"field\":\"y\"}},\"id\":\"447426c5-5485-4402-bedf-52993dfe5b6d\",\"type\":\"Rect\"},{\"attributes\":{\"callback\":null,\"column_names\":[\"fill_alpha\",\"y\",\"line_color\",\"height\",\"width\",\"x\",\"color\",\"line_alpha\"],\"data\":{\"chart_index\":[{\"index\":\"Astrid Krag\"}],\"color\":[\"#f22c40\"],\"fill_alpha\":[0.8],\"height\":[1.6602809706257982],\"index\":[\"Astrid Krag\"],\"line_alpha\":[1.0],\"line_color\":[\"white\"],\"width\":[0.8],\"x\":[\"Astrid Krag\"],\"y\":[0.8301404853128991]}},\"id\":\"e027798d-6a0c-4471-858a-824d4e8e666f\",\"type\":\"ColumnDataSource\"},{\"attributes\":{\"callback\":null,\"column_names\":[\"fill_alpha\",\"y\",\"line_color\",\"height\",\"width\",\"x\",\"color\",\"line_alpha\"],\"data\":{\"chart_index\":[{\"index\":\"Mette Gjerskov\"}],\"color\":[\"#f22c40\"],\"fill_alpha\":[0.8],\"height\":[0.0925925925925926],\"index\":[\"Mette Gjerskov\"],\"line_alpha\":[1.0],\"line_color\":[\"white\"],\"width\":[0.8],\"x\":[\"Mette Gjerskov\"],\"y\":[0.0462962962962963]}},\"id\":\"43a36e73-9647-431f-93df-28c8de505103\",\"type\":\"ColumnDataSource\"},{\"attributes\":{\"fill_alpha\":{\"field\":\"fill_alpha\"},\"fill_color\":{\"field\":\"color\"},\"height\":{\"field\":\"height\",\"units\":\"data\"},\"line_color\":{\"field\":\"line_color\"},\"width\":{\"field\":\"width\",\"units\":\"data\"},\"x\":{\"field\":\"x\"},\"y\":{\"field\":\"y\"}},\"id\":\"321ae0ce-78e1-4793-8742-82266eead37e\",\"type\":\"Rect\"},{\"attributes\":{\"data_source\":{\"id\":\"1d74c7cb-e914-430f-9827-771095dfb9df\",\"type\":\"ColumnDataSource\"},\"glyph\":{\"id\":\"4558bc53-99d9-40fe-bbfd-f65f4d25f1e9\",\"type\":\"Rect\"},\"hover_glyph\":null,\"nonselection_glyph\":null,\"selection_glyph\":null},\"id\":\"661c6356-e3f8-436f-84e7-f60f20d3e1b0\",\"type\":\"GlyphRenderer\"},{\"attributes\":{\"callback\":null,\"column_names\":[\"fill_alpha\",\"y\",\"line_color\",\"height\",\"width\",\"x\",\"color\",\"line_alpha\"],\"data\":{\"chart_index\":[{\"index\":\"Kristian Jensen\"}],\"color\":[\"#f22c40\"],\"fill_alpha\":[0.8],\"height\":[0.0925925925925926],\"index\":[\"Kristian Jensen\"],\"line_alpha\":[1.0],\"line_color\":[\"white\"],\"width\":[0.8],\"x\":[\"Kristian Jensen\"],\"y\":[0.0462962962962963]}},\"id\":\"de9c4127-ba1f-4d92-acaf-e4e3a555bc09\",\"type\":\"ColumnDataSource\"},{\"attributes\":{\"data_source\":{\"id\":\"061740df-1a72-43e0-8f72-508953123621\",\"type\":\"ColumnDataSource\"},\"glyph\":{\"id\":\"65c16718-4835-4891-8244-5ecdbb171105\",\"type\":\"Rect\"},\"hover_glyph\":null,\"nonselection_glyph\":null,\"selection_glyph\":null},\"id\":\"16f2b5d5-e53d-43d3-ac91-af635996ebb3\",\"type\":\"GlyphRenderer\"},{\"attributes\":{\"fill_alpha\":{\"field\":\"fill_alpha\"},\"fill_color\":{\"field\":\"color\"},\"height\":{\"field\":\"height\",\"units\":\"data\"},\"line_color\":{\"field\":\"line_color\"},\"width\":{\"field\":\"width\",\"units\":\"data\"},\"x\":{\"field\":\"x\"},\"y\":{\"field\":\"y\"}},\"id\":\"0a5e2542-d365-4a4f-9150-4c531c15a492\",\"type\":\"Rect\"},{\"attributes\":{\"data_source\":{\"id\":\"4b975f0d-c3c5-4c4f-9c26-be7eb33e70af\",\"type\":\"ColumnDataSource\"},\"glyph\":{\"id\":\"a51719a8-f8d2-48eb-9fc2-8aa5fb0abd4d\",\"type\":\"Rect\"},\"hover_glyph\":null,\"nonselection_glyph\":null,\"selection_glyph\":null},\"id\":\"12b0ef4f-4d0a-4270-b1e6-3ae586c3dca7\",\"type\":\"GlyphRenderer\"},{\"attributes\":{\"callback\":null,\"column_names\":[\"fill_alpha\",\"y\",\"line_color\",\"height\",\"width\",\"x\",\"color\",\"line_alpha\"],\"data\":{\"chart_index\":[{\"index\":\"Merete Riisager\"}],\"color\":[\"#f22c40\"],\"fill_alpha\":[0.8],\"height\":[0.2777777777777778],\"index\":[\"Merete Riisager\"],\"line_alpha\":[1.0],\"line_color\":[\"white\"],\"width\":[0.8],\"x\":[\"Merete Riisager\"],\"y\":[0.1388888888888889]}},\"id\":\"3c8cb1a8-34bc-4ffa-9c2e-bafe7c7eaa4e\",\"type\":\"ColumnDataSource\"},{\"attributes\":{\"data_source\":{\"id\":\"ab8aa4f9-b291-4e9e-9ee2-4e4eff038a31\",\"type\":\"ColumnDataSource\"},\"glyph\":{\"id\":\"91c01daa-8fa8-4836-ae4e-6ebe3e7fccb8\",\"type\":\"Rect\"},\"hover_glyph\":null,\"nonselection_glyph\":null,\"selection_glyph\":null},\"id\":\"034001cb-328e-40b1-9ef3-cc3627749268\",\"type\":\"GlyphRenderer\"},{\"attributes\":{\"data_source\":{\"id\":\"186cb2f9-00f6-49c0-99fb-d4b8d9555fd8\",\"type\":\"ColumnDataSource\"},\"glyph\":{\"id\":\"4aa46421-f7fd-49ba-807a-694cc4981599\",\"type\":\"Rect\"},\"hover_glyph\":null,\"nonselection_glyph\":null,\"selection_glyph\":null},\"id\":\"b7769828-5cfe-44e8-b189-dc6cce05815e\",\"type\":\"GlyphRenderer\"},{\"attributes\":{\"data_source\":{\"id\":\"9158501e-69af-4eba-a7c1-101b09c51b69\",\"type\":\"ColumnDataSource\"},\"glyph\":{\"id\":\"62f03a01-c4d8-4b03-a5a3-26ddbc64b0ef\",\"type\":\"Rect\"},\"hover_glyph\":null,\"nonselection_glyph\":null,\"selection_glyph\":null},\"id\":\"2a3d3aa2-eedb-47ef-858f-3c8fb0969bff\",\"type\":\"GlyphRenderer\"},{\"attributes\":{\"fill_alpha\":{\"field\":\"fill_alpha\"},\"fill_color\":{\"field\":\"color\"},\"height\":{\"field\":\"height\",\"units\":\"data\"},\"line_color\":{\"field\":\"line_color\"},\"width\":{\"field\":\"width\",\"units\":\"data\"},\"x\":{\"field\":\"x\"},\"y\":{\"field\":\"y\"}},\"id\":\"e046cd3d-da54-4208-b41a-c1b0b9085a72\",\"type\":\"Rect\"},{\"attributes\":{\"callback\":null,\"column_names\":[\"imod\",\"for\",\"frav\\u00e6rende\",\"neutral\",\"navn\"],\"data\":{\"for\":[9.0,2.0,375.0,83.0,155.0,384.0,295.0,119.0,242.0,35.0,301.0,403.0,517.0,323.0,526.0,79.0,311.0,69.0,590.0,419.0,25.0,262.0,318.0,117.0,55.0,516.0,379.0,141.0,2.0,326.0,30.0,150.0,98.0,242.0,2.0,246.0,199.0,543.0,455.0,175.0,168.0,102.0,246.0,120.0,137.0,90.0,124.0,137.0,562.0,\"NaN\",43.0,7.0,424.0,393.0,43.0,172.0,526.0,267.0,99.0,162.0,435.0,338.0,433.0,361.0,446.0,475.0,337.0,561.0,294.0,452.0,586.0,154.0,184.0,13.0,528.0,166.0,150.0,306.0,241.0,242.0,445.0,\"NaN\",138.0,404.0,347.0,49.0,306.0,138.0,150.0,476.0,350.0,146.0,501.0,167.0,482.0,125.0,510.0,86.0,483.0,543.0,407.0,125.0,112.0,386.0,146.0,481.0,412.0,2.0,380.0,263.0,343.0,177.0,406.0,318.0,97.0,33.0,438.0,193.0,495.0,293.0,454.0,412.0,517.0,135.0,229.0,101.0,247.0,476.0,249.0,128.0,130.0,342.0,407.0,257.0,69.0,331.0,100.0,194.0,356.0,345.0,23.0,127.0,109.0,372.0,427.0,179.0,476.0,482.0,132.0,513.0,375.0,329.0,425.0,533.0,297.0,\"NaN\",380.0,317.0,193.0,29.0,133.0,318.0,150.0,56.0,74.0,185.0,460.0,321.0,135.0,236.0,82.0,109.0,159.0,113.0,76.0,336.0,142.0,390.0,294.0,297.0,391.0,424.0,304.0,2.0,300.0,491.0,180.0,330.0,239.0,114.0,464.0,199.0,269.0,65.0,237.0,2.0,160.0,166.0,345.0,319.0,202.0,292.0,543.0,125.0,186.0,278.0,316.0,15.0,297.0,154.0,379.0,93.0,329.0,274.0,120.0,153.0,489.0,160.0,1.0,48.0,463.0,112.0,184.0,56.0,482.0,358.0,541.0,128.0,81.0,329.0,1.0,319.0,161.0,84.0,3.0,248.0,37.0,85.0,75.0,\"NaN\",3.0,205.0,264.0,1.0,\"NaN\",263.0,45.0,292.0,430.0,1.0,556.0,234.0,154.0,122.0,120.0,75.0,279.0,114.0,364.0,363.0,\"NaN\",278.0,147.0,337.0,355.0,277.0,136.0,441.0,571.0,293.0,133.0,364.0,315.0,451.0,95.0,27.0,304.0,1.0,58.0,258.0,229.0,418.0],\"frav\\u00e6rende\":[211.0,313.0,440.0,2.0,832.0,227.0,247.0,28.0,156.0,10.0,230.0,97.0,212.0,280.0,205.0,\"NaN\",290.0,7.0,50.0,415.0,10.0,629.0,224.0,583.0,859.0,162.0,397.0,44.0,\"NaN\",221.0,35.0,91.0,91.0,419.0,2.0,263.0,57.0,223.0,311.0,39.0,12.0,84.0,690.0,864.0,69.0,170.0,123.0,45.0,195.0,620.0,237.0,756.0,131.0,389.0,11.0,3.0,167.0,655.0,165.0,826.0,79.0,233.0,383.0,201.0,23.0,287.0,218.0,123.0,622.0,238.0,120.0,80.0,50.0,1065.0,249.0,18.0,13.0,495.0,398.0,637.0,427.0,3.0,99.0,404.0,499.0,54.0,502.0,112.0,92.0,267.0,210.0,81.0,282.0,28.0,345.0,77.0,208.0,232.0,328.0,145.0,225.0,85.0,204.0,130.0,8.0,174.0,316.0,405.0,489.0,278.0,445.0,37.0,120.0,293.0,241.0,33.0,333.0,95.0,217.0,281.0,342.0,336.0,223.0,105.0,378.0,\"NaN\",200.0,341.0,385.0,56.0,114.0,198.0,365.0,414.0,963.0,491.0,876.0,463.0,457.0,193.0,1030.0,72.0,95.0,400.0,293.0,133.0,277.0,312.0,68.0,197.0,114.0,191.0,399.0,187.0,277.0,312.0,451.0,248.0,555.0,\"NaN\",38.0,247.0,37.0,324.0,191.0,731.0,327.0,265.0,103.0,390.0,961.0,99.0,33.0,107.0,188.0,506.0,38.0,341.0,599.0,595.0,489.0,399.0,603.0,\"NaN\",244.0,272.0,732.0,199.0,671.0,54.0,263.0,748.0,272.0,215.0,572.0,143.0,787.0,29.0,560.0,434.0,637.0,328.0,126.0,10.0,24.0,335.0,68.0,76.0,274.0,43.0,371.0,150.0,541.0,189.0,559.0,33.0,228.0,43.0,\"NaN\",988.0,275.0,858.0,764.0,112.0,253.0,438.0,121.0,80.0,187.0,432.0,\"NaN\",505.0,68.0,84.0,14.0,347.0,21.0,13.0,1.0,358.0,\"NaN\",768.0,313.0,\"NaN\",1080.0,649.0,30.0,593.0,91.0,2.0,221.0,70.0,72.0,888.0,88.0,201.0,614.0,131.0,460.0,179.0,1.0,284.0,92.0,197.0,66.0,318.0,111.0,305.0,91.0,200.0,108.0,443.0,378.0,488.0,160.0,339.0,550.0,3.0,19.0,158.0,393.0,135.0],\"imod\":[13.0,\"NaN\",228.0,91.0,84.0,277.0,237.0,65.0,83.0,14.0,177.0,239.0,349.0,152.0,335.0,27.0,182.0,26.0,406.0,222.0,36.0,173.0,203.0,62.0,87.0,370.0,271.0,130.0,\"NaN\",218.0,22.0,68.0,122.0,104.0,\"NaN\",141.0,136.0,306.0,295.0,86.0,103.0,124.0,144.0,93.0,109.0,53.0,91.0,106.0,281.0,\"NaN\",34.0,1.0,200.0,206.0,24.0,106.0,363.0,141.0,48.0,85.0,228.0,181.0,250.0,180.0,269.0,284.0,198.0,369.0,152.0,290.0,330.0,129.0,139.0,2.0,284.0,130.0,147.0,245.0,116.0,201.0,197.0,\"NaN\",127.0,269.0,219.0,7.0,255.0,123.0,60.0,314.0,208.0,85.0,285.0,119.0,249.0,112.0,340.0,52.0,245.0,360.0,311.0,104.0,76.0,246.0,78.0,340.0,325.0,\"NaN\",194.0,224.0,179.0,87.0,338.0,147.0,47.0,18.0,289.0,111.0,335.0,175.0,284.0,296.0,304.0,74.0,156.0,67.0,137.0,249.0,117.0,81.0,73.0,209.0,271.0,112.0,45.0,248.0,86.0,104.0,247.0,214.0,23.0,114.0,79.0,306.0,337.0,80.0,295.0,264.0,114.0,331.0,276.0,245.0,255.0,338.0,174.0,\"NaN\",215.0,218.0,117.0,10.0,87.0,200.0,128.0,22.0,49.0,162.0,267.0,179.0,76.0,127.0,28.0,104.0,90.0,90.0,51.0,205.0,130.0,320.0,187.0,188.0,181.0,255.0,164.0,1.0,188.0,283.0,138.0,239.0,169.0,122.0,278.0,132.0,224.0,32.0,228.0,\"NaN\",130.0,88.0,165.0,305.0,155.0,145.0,377.0,103.0,101.0,146.0,184.0,7.0,167.0,117.0,298.0,68.0,197.0,130.0,73.0,97.0,343.0,111.0,2.0,26.0,305.0,91.0,128.0,16.0,328.0,189.0,386.0,106.0,37.0,286.0,1.0,224.0,71.0,45.0,1.0,162.0,21.0,93.0,24.0,\"NaN\",\"NaN\",99.0,168.0,1.0,\"NaN\",166.0,25.0,175.0,236.0,1.0,285.0,147.0,85.0,64.0,107.0,38.0,181.0,68.0,250.0,208.0,\"NaN\",180.0,75.0,206.0,211.0,170.0,58.0,311.0,385.0,154.0,62.0,256.0,149.0,129.0,55.0,22.0,212.0,\"NaN\",25.0,232.0,156.0,204.0],\"navn\":[\"Aaja Chemnitz Larsen\",\"Aleqa Hammond\",\"Alex Ahrendtsen\",\"Anders Johansson\",\"Anders Samuelsen\",\"Andreas Steenberg\",\"Ane Halsboe-J\\u00f8rgensen\",\"Anita Christensen\",\"Anne Baastrup\",\"Anne Paulin\",\"Anne Sina\",\"Anne-Mette Winther Christiansen\",\"Annette Lind\",\"Annette Vilhelmsen\",\"Anni Matthiesen\",\"Annika Smith\",\"Astrid Krag\",\"Benedikte Ki\\u00e6r\",\"Benny Engelbrecht\",\"Bent B\\u00f8gsted\",\"Bente Bendix\",\"Bertel Haarder\",\"Birgitte Josefsen\",\"Birthe R\\u00f8nn Hornbech\",\"Bjarne Corydon\",\"Bjarne Laustsen\",\"Brian Mikkelsen\",\"Britt Bager\",\"Bruno Jerup\",\"Camilla Hersom\",\"Carl Holst\",\"Carolina Magdalene Maier\",\"Carsten Bach\",\"Carsten Hansen\",\"Carsten Kudsk\",\"Charlotte Dyremose\",\"Christian Friis Bach\",\"Christian Juhl\",\"Christian Langballe\",\"Christian Poll\",\"Christian Rabjerg Madsen\",\"Christina Egelund\",\"Christine Antorini\",\"Claus Hjort Frederiksen\",\"Claus Kvist Hansen\",\"Dan J\\u00f8rgensen\",\"Daniel Rugholm\",\"Daniel Toft Jakobsen\",\"Dennis Flydtkj\\u00e6r\",\"Doris Jakobsen\",\"Dorthe Ullemose\",\"Edmund Joensen\",\"Eigil Andersen\",\"Ellen Trane N\\u00f8rby\",\"Emrah Tuncer\",\"Erik Christensen\",\"Erling Bonnesen\",\"Esben Lunde Larsen\",\"Eva Flyvholm\",\"Eva Kjer Hansen\",\"Eyvind Vesselbo\",\"Fatma \\u00d8ktem\",\"Finn S\\u00f8rensen\",\"Finn Thranum\",\"Flemming Damgaard Larsen\",\"Flemming M\\u00f8ller Mortensen\",\"Frank Aaen\",\"Hans Andersen\",\"Hans Christian Schmidt\",\"Hans Christian Thoning\",\"Hans Kristian Skibby\",\"Helge Vagn Jacobsen\",\"Helle L\\u00f8vgreen M\\u00f8lvig\",\"Helle Thorning-Schmidt\",\"Henning Hyllested\",\"Henrik Brodersen\",\"Henrik Dahl\",\"Henrik Dam Kristensen\",\"Henrik H\\u00f8egh\",\"Henrik Sass Larsen\",\"Holger K. Nielsen\",\"H\\u00f8gni Hoydal\",\"Ib Poulsen\",\"Ida Auken\",\"Inger St\\u00f8jberg\",\"Jacob Bjerregaard\",\"Jacob Jensen\",\"Jacob Lund\",\"Jacob Mark\",\"Jakob Ellemann-Jensen\",\"Jakob Engel-Schmidt\",\"Jakob S\\u00f8lvh\\u00f8j\",\"Jan E. J\\u00f8rgensen\",\"Jan Erik Messmann\",\"Jan Johansen\",\"Jan Rytkj\\u00e6r Callesen\",\"Jane Heitmann\",\"Jens Ejner Christensen\",\"Jens Henrik Thulesen Dahl\",\"Jens Joel\",\"Jeppe Bruus\",\"Jeppe Jakobsen\",\"Jeppe Kofod\",\"Jeppe Mikkelsen\",\"Jesper Kiel\",\"Jesper Petersen\",\"Joachim B. Olsen\",\"Johan Lund Olsen\",\"Johanne Schmidt-Nielsen\",\"John Dyrby Paulsen\",\"Jonas Dahl\",\"Josephine Fock\",\"Julie Skovsby\",\"J\\u00f8rgen Arbo-B\\u00e6hr\",\"J\\u00f8rn Dohrmann\",\"Kaare Dybvad\",\"Karen Ellemann\",\"Karen H\\u00e6kkerup\",\"Karen J. Klint\",\"Karen Jespersen\",\"Karin Gaardsted\",\"Karin N\\u00f8dgaard\",\"Karina Adsb\\u00f8l\",\"Karina Due\",\"Karina Lorentzen Dehnhardt\",\"Karl H. Bornh\\u00f8ft\",\"Karsten H\\u00f8nge\",\"Karsten Lauritzen\",\"Karsten Nonbo\",\"Kasper Roug\",\"Kenneth Kristensen Berth\",\"Kim Andersen\",\"Kim Christiansen\",\"Kirsten Brosb\\u00f8l\",\"Kristian Jensen\",\"Kristian Pihl Lorentzen\",\"Kristian Thulesen Dahl\",\"Lars Barfoed\",\"Lars Christian Lilleholt\",\"Lars Dohn\",\"Lars L\\u00f8kke Rasmussen\",\"Laura Lindahl\",\"Lea Wermelin\",\"Leif Lahn Jensen\",\"Leif Mikkelsen\",\"Lene Espersen\",\"Lennart Damsbo-Andersen\",\"Lisbeth Bech Poulsen\",\"Lise Bech\",\"Liselott Blixt\",\"Liv Holm Andersen\",\"Lone Loklindt\",\"Lotte Rod\",\"Louise Schack Elholm\",\"Mads R\\u00f8rvig\",\"Magni Arge\",\"Magnus Heunicke\",\"Mai Mercado\",\"Maja Panduro\",\"Malou Lunder\\u00f8d\",\"Malte Larsen\",\"Manu Sareen\",\"Marcus Knuth\",\"Margrethe Vestager\",\"Maria Reumert Gjerding\",\"Marianne Jelved\",\"Marie Krarup\",\"Marlene Borst Hansen\",\"Marlene Harps\\u00f8e\",\"Martin Geertsen\",\"Martin Henriksen\",\"Martin Lidegaard\",\"Mattias Tesfaye\",\"May-Britt Kattrup\",\"Merete Dea Larsen\",\"Merete Riisager\",\"Mette Abildgaard\",\"Mette Bock\",\"Mette Frederiksen\",\"Mette Gjerskov\",\"Mette Hjermind Dencker\",\"Mette Reissmann\",\"Michael Aastrup Jensen\",\"Mie Bergmann\",\"Mike Legarth\",\"Mikkel Dencker\",\"Mogens Jensen\",\"Mogens Lykketoft\",\"Morten B\\u00f8dskov\",\"Morten L\\u00f8kkegaard\",\"Morten Marinus\",\"Morten \\u00d8stergaard\",\"Nadeem Farooq\",\"Naser Khader\",\"Nick H\\u00e6kkerup\",\"Nick Nielsen\",\"Nicolai Wammen\",\"Nikolaj Amstrup\",\"Nikolaj Villumsen\",\"Ole Birk Olesen\",\"Ole H\\u00e6kkerup\",\"Ole Sohn\",\"Orla Hav\",\"Peder Christensen\",\"Pelle Dragsted\",\"Per Clausen\",\"Per Husted\",\"Per L\\u00f8kken\",\"Per Stig M\\u00f8ller\",\"Pernille Bendixen\",\"Pernille Rosenkrantz-Theil\",\"Pernille Schnoor\",\"Pernille Skipper\",\"Pernille Vigs\\u00f8 Bagge\",\"Peter Christensen\",\"Peter Hummelgaard Thomsen\",\"Peter Juel Jensen\",\"Peter Kofod Poulsen\",\"Peter Laigaard\",\"Peter Skaarup\",\"Pia Adelsteen\",\"Pia Kj\\u00e6rsgaard\",\"Pia Olsen Dyhr\",\"Poul Andersen\",\"Preben Bang Henriksen\",\"Rasmus Helveg Petersen\",\"Rasmus Horn Langhoff\",\"Rasmus Jarlov\",\"Rasmus Nordqvist\",\"Rasmus Prehn\",\"Rasmus Vestergaard Madsen\",\"Ren\\u00e9 Christensen\",\"Ren\\u00e9 Gade\",\"Ren\\u00e9 Skau Bj\\u00f6rnsson\",\"Roger Matthisen\",\"Rosa Lund\",\"Rune Lund\",\"Sanne Bj\\u00f8rn\",\"Sanne Rubinke\",\"Sara Olsvig\",\"Sarah N\\u00f8rris\",\"Simon Emil Ammitzb\\u00f8ll\",\"Simon Kollerup\",\"Sisse Marie Welling\",\"Sj\\u00far\\u00f0ur Skaale\",\"Sofie Carsten Nielsen\",\"Sophie H\\u00e6storp Andersen\",\"Sophie L\\u00f8hde\",\"Steen Gade\",\"Steen Holm Iversen\",\"Stine Brix\",\"Susanne Eilersen\",\"S\\u00f8ren Egge Rasmussen\",\"S\\u00f8ren Espersen\",\"S\\u00f8ren Gade\",\"S\\u00f8ren Pape Poulsen\",\"S\\u00f8ren Pind\",\"S\\u00f8ren S\\u00f8ndergaard\",\"Thomas Danielsen\",\"Thomas Jensen\",\"Thomas Medom\",\"Thyra Frank\",\"Tilde Bork\",\"Tina Nedergaard\",\"Tom Behnke\",\"Torben Hansen\",\"Torsten Gejl\",\"Torsten Schack Pedersen\",\"Trine Bramsen\",\"Trine Mach\",\"Trine Torp\",\"Troels Lund Poulsen\",\"Troels Ravn\",\"Uffe Elb\\u00e6k\",\"Ulla Sandb\\u00e6k\",\"Ulla T\\u00f8rn\\u00e6s\",\"Villum Christensen\",\"Villy S\\u00f8vndal\",\"Vivi Kier\",\"Yildiz Akdogan\",\"Zenia Stampe\",\"\\u00d6zlem Sara Cekic\"],\"neutral\":[82.0,\"NaN\",33.0,4.0,9.0,1.0,\"NaN\",21.0,8.0,1.0,\"NaN\",26.0,2.0,7.0,10.0,\"NaN\",\"NaN\",8.0,34.0,24.0,\"NaN\",16.0,20.0,3.0,\"NaN\",32.0,33.0,\"NaN\",\"NaN\",\"NaN\",\"NaN\",6.0,4.0,\"NaN\",\"NaN\",5.0,\"NaN\",8.0,19.0,15.0,32.0,5.0,\"NaN\",3.0,\"NaN\",2.0,24.0,34.0,42.0,\"NaN\",1.0,1.0,9.0,21.0,1.0,34.0,24.0,17.0,3.0,7.0,23.0,17.0,14.0,23.0,27.0,34.0,12.0,27.0,12.0,17.0,44.0,\"NaN\",\"NaN\",\"NaN\",16.0,1.0,5.0,34.0,10.0,\"NaN\",11.0,\"NaN\",1.0,3.0,15.0,\"NaN\",17.0,\"NaN\",13.0,23.0,22.0,3.0,12.0,1.0,4.0,1.0,22.0,3.0,24.0,32.0,34.0,1.0,\"NaN\",\"NaN\",3.0,32.0,27.0,\"NaN\",17.0,\"NaN\",12.0,14.0,32.0,7.0,7.0,2.0,20.0,\"NaN\",33.0,16.0,\"NaN\",36.0,36.0,1.0,2.0,3.0,10.0,14.0,14.0,32.0,1.0,16.0,37.0,\"NaN\",3.0,10.0,18.0,4.0,20.0,13.0,4.0,2.0,32.0,2.0,23.0,11.0,32.0,22.0,1.0,39.0,\"NaN\",\"NaN\",1.0,22.0,17.0,\"NaN\",34.0,7.0,2.0,\"NaN\",32.0,\"NaN\",\"NaN\",\"NaN\",1.0,2.0,26.0,\"NaN\",1.0,12.0,9.0,3.0,33.0,5.0,\"NaN\",33.0,5.0,25.0,\"NaN\",\"NaN\",19.0,2.0,5.0,\"NaN\",33.0,34.0,30.0,\"NaN\",1.0,\"NaN\",25.0,1.0,\"NaN\",3.0,4.0,\"NaN\",3.0,14.0,6.0,22.0,\"NaN\",\"NaN\",34.0,\"NaN\",4.0,6.0,34.0,\"NaN\",27.0,1.0,32.0,4.0,13.0,1.0,13.0,32.0,20.0,1.0,\"NaN\",18.0,37.0,19.0,2.0,\"NaN\",17.0,2.0,32.0,1.0,10.0,33.0,\"NaN\",32.0,15.0,\"NaN\",\"NaN\",8.0,1.0,\"NaN\",1.0,\"NaN\",\"NaN\",8.0,34.0,\"NaN\",\"NaN\",2.0,\"NaN\",20.0,8.0,\"NaN\",18.0,4.0,4.0,3.0,\"NaN\",1.0,6.0,2.0,6.0,32.0,\"NaN\",20.0,1.0,25.0,35.0,\"NaN\",10.0,23.0,33.0,8.0,12.0,17.0,2.0,12.0,5.0,4.0,14.0,\"NaN\",8.0,33.0,1.0,8.0]}},\"id\":\"5e75fa21-e594-4ebd-894e-1872a2ae163e\",\"type\":\"ColumnDataSource\"},{\"attributes\":{},\"id\":\"11a7e84e-96af-46ca-801c-43b342cc6a14\",\"type\":\"BasicTickFormatter\"},{\"attributes\":{\"fill_alpha\":{\"field\":\"fill_alpha\"},\"fill_color\":{\"field\":\"color\"},\"height\":{\"field\":\"height\",\"units\":\"data\"},\"line_color\":{\"field\":\"line_color\"},\"width\":{\"field\":\"width\",\"units\":\"data\"},\"x\":{\"field\":\"x\"},\"y\":{\"field\":\"y\"}},\"id\":\"72cd6f04-5f6f-496e-9215-4a2f94086656\",\"type\":\"Rect\"},{\"attributes\":{\"fill_alpha\":{\"field\":\"fill_alpha\"},\"fill_color\":{\"field\":\"color\"},\"height\":{\"field\":\"height\",\"units\":\"data\"},\"line_color\":{\"field\":\"line_color\"},\"width\":{\"field\":\"width\",\"units\":\"data\"},\"x\":{\"field\":\"x\"},\"y\":{\"field\":\"y\"}},\"id\":\"659f7295-a30b-4f91-b264-c5ca75a5ca99\",\"type\":\"Rect\"},{\"attributes\":{\"fill_alpha\":{\"field\":\"fill_alpha\"},\"fill_color\":{\"field\":\"color\"},\"height\":{\"field\":\"height\",\"units\":\"data\"},\"line_color\":{\"field\":\"line_color\"},\"width\":{\"field\":\"width\",\"units\":\"data\"},\"x\":{\"field\":\"x\"},\"y\":{\"field\":\"y\"}},\"id\":\"3142565c-414d-482e-8056-893b8204abc0\",\"type\":\"Rect\"},{\"attributes\":{\"data_source\":{\"id\":\"5124bbda-d8e2-4a11-816d-0cf8ad4bd1be\",\"type\":\"ColumnDataSource\"},\"glyph\":{\"id\":\"8c023fcf-4ad0-4270-af19-c7a87f0837cc\",\"type\":\"Rect\"},\"hover_glyph\":null,\"nonselection_glyph\":null,\"selection_glyph\":null},\"id\":\"1b23f8a0-bd83-4aff-aac3-564496d69307\",\"type\":\"GlyphRenderer\"},{\"attributes\":{\"callback\":null,\"column_names\":[\"fill_alpha\",\"y\",\"line_color\",\"height\",\"width\",\"x\",\"color\",\"line_alpha\"],\"data\":{\"chart_index\":[{\"index\":\"Laura Lindahl\"}],\"color\":[\"#f22c40\"],\"fill_alpha\":[0.8],\"height\":[0.31746031746031744],\"index\":[\"Laura Lindahl\"],\"line_alpha\":[1.0],\"line_color\":[\"white\"],\"width\":[0.8],\"x\":[\"Laura Lindahl\"],\"y\":[0.15873015873015872]}},\"id\":\"efb8c147-12ea-4714-87be-0c815d12577c\",\"type\":\"ColumnDataSource\"},{\"attributes\":{\"data_source\":{\"id\":\"5f5eaa4f-add6-4f21-832c-99eb616a6c95\",\"type\":\"ColumnDataSource\"},\"glyph\":{\"id\":\"e046cd3d-da54-4208-b41a-c1b0b9085a72\",\"type\":\"Rect\"},\"hover_glyph\":null,\"nonselection_glyph\":null,\"selection_glyph\":null},\"id\":\"8cd98276-da8f-4143-a456-88f06e41e18e\",\"type\":\"GlyphRenderer\"},{\"attributes\":{\"dimension\":1,\"plot\":{\"id\":\"c78b477d-c145-462f-ad40-18e99cfdf79c\",\"subtype\":\"Figure\",\"type\":\"Plot\"},\"ticker\":{\"id\":\"125d1214-160a-4a51-baab-bd85360b54f6\",\"type\":\"BasicTicker\"}},\"id\":\"a1d3718b-0530-43d8-954c-5a30b464a859\",\"type\":\"Grid\"},{\"attributes\":{\"callback\":null,\"column_names\":[\"fill_alpha\",\"y\",\"line_color\",\"height\",\"width\",\"x\",\"color\",\"line_alpha\"],\"data\":{\"chart_index\":[{\"index\":\"Joachim B. Olsen\"}],\"color\":[\"#f22c40\"],\"fill_alpha\":[0.8],\"height\":[0.1851851851851852],\"index\":[\"Joachim B. Olsen\"],\"line_alpha\":[1.0],\"line_color\":[\"white\"],\"width\":[0.8],\"x\":[\"Joachim B. Olsen\"],\"y\":[0.0925925925925926]}},\"id\":\"90c9e4cc-ebd2-4ca0-961b-20b7c086c491\",\"type\":\"ColumnDataSource\"},{\"attributes\":{\"callback\":null,\"column_names\":[\"fill_alpha\",\"y\",\"line_color\",\"height\",\"width\",\"x\",\"color\",\"line_alpha\"],\"data\":{\"chart_index\":[{\"index\":\"Anders Samuelsen\"}],\"color\":[\"#f22c40\"],\"fill_alpha\":[0.8],\"height\":[0.0925925925925926],\"index\":[\"Anders Samuelsen\"],\"line_alpha\":[1.0],\"line_color\":[\"white\"],\"width\":[0.8],\"x\":[\"Anders Samuelsen\"],\"y\":[0.0462962962962963]}},\"id\":\"0f01b071-775a-4530-bf95-24d623ebd3d1\",\"type\":\"ColumnDataSource\"},{\"attributes\":{\"callback\":null,\"column_names\":[\"fill_alpha\",\"y\",\"line_color\",\"height\",\"width\",\"x\",\"color\",\"line_alpha\"],\"data\":{\"chart_index\":[{\"index\":\"Ren\\u00e9 Christensen\"}],\"color\":[\"#f22c40\"],\"fill_alpha\":[0.8],\"height\":[0.0925925925925926],\"index\":[\"Ren\\u00e9 Christensen\"],\"line_alpha\":[1.0],\"line_color\":[\"white\"],\"width\":[0.8],\"x\":[\"Ren\\u00e9 Christensen\"],\"y\":[0.0462962962962963]}},\"id\":\"9afec8b8-ba08-4fc8-8ce4-e2de7c7cb35e\",\"type\":\"ColumnDataSource\"},{\"attributes\":{\"callback\":null,\"column_names\":[\"fill_alpha\",\"y\",\"line_color\",\"height\",\"width\",\"x\",\"color\",\"line_alpha\"],\"data\":{\"chart_index\":[{\"index\":\"Dansk Folkeparti\"}],\"color\":[\"#f22c40\"],\"fill_alpha\":[0.8],\"height\":[0.4629629629629629],\"index\":[\"Dansk Folkeparti\"],\"line_alpha\":[1.0],\"line_color\":[\"white\"],\"width\":[0.8],\"x\":[\"Dansk Folkeparti\"],\"y\":[0.23148148148148145]}},\"id\":\"186cb2f9-00f6-49c0-99fb-d4b8d9555fd8\",\"type\":\"ColumnDataSource\"},{\"attributes\":{\"data_source\":{\"id\":\"de9c4127-ba1f-4d92-acaf-e4e3a555bc09\",\"type\":\"ColumnDataSource\"},\"glyph\":{\"id\":\"925b8da4-b242-4b18-9f18-dd5773cd7342\",\"type\":\"Rect\"},\"hover_glyph\":null,\"nonselection_glyph\":null,\"selection_glyph\":null},\"id\":\"d1fce61f-174d-4a4a-9538-3caabef5e1fb\",\"type\":\"GlyphRenderer\"},{\"attributes\":{\"fill_alpha\":{\"field\":\"fill_alpha\"},\"fill_color\":{\"field\":\"color\"},\"height\":{\"field\":\"height\",\"units\":\"data\"},\"line_color\":{\"field\":\"line_color\"},\"width\":{\"field\":\"width\",\"units\":\"data\"},\"x\":{\"field\":\"x\"},\"y\":{\"field\":\"y\"}},\"id\":\"26dd697e-6ce4-4ae9-b48d-d3525a63a6bd\",\"type\":\"Rect\"},{\"attributes\":{},\"id\":\"77c7a66a-b149-48ef-9a7b-c6abcc304dc4\",\"type\":\"CategoricalTicker\"},{\"attributes\":{\"bottom_units\":\"screen\",\"fill_alpha\":{\"value\":0.5},\"fill_color\":{\"value\":\"lightgrey\"},\"left_units\":\"screen\",\"level\":\"overlay\",\"line_alpha\":{\"value\":1.0},\"line_color\":{\"value\":\"black\"},\"line_dash\":[4,4],\"line_width\":{\"value\":2},\"plot\":null,\"render_mode\":\"css\",\"right_units\":\"screen\",\"top_units\":\"screen\"},\"id\":\"295f5b4b-5d81-439e-a5d5-7151173251eb\",\"type\":\"BoxAnnotation\"},{\"attributes\":{\"plot\":{\"id\":\"c78b477d-c145-462f-ad40-18e99cfdf79c\",\"subtype\":\"Figure\",\"type\":\"Plot\"}},\"id\":\"89dec902-5603-4dbc-b904-bde8200960e3\",\"type\":\"PanTool\"},{\"attributes\":{\"overlay\":{\"id\":\"295f5b4b-5d81-439e-a5d5-7151173251eb\",\"type\":\"BoxAnnotation\"},\"plot\":{\"id\":\"e3619170-9497-40df-b2bd-e3b24db5a604\",\"subtype\":\"Chart\",\"type\":\"Plot\"}},\"id\":\"83e66a3f-b0d1-4fa8-b686-3e0e3ac7d32c\",\"type\":\"BoxZoomTool\"},{\"attributes\":{\"data_source\":{\"id\":\"0a2f68db-4663-4861-a7c9-1b6d165aa4e6\",\"type\":\"ColumnDataSource\"},\"glyph\":{\"id\":\"0903d6b7-beda-4746-82b2-ae49e709f67b\",\"type\":\"Rect\"},\"hover_glyph\":null,\"nonselection_glyph\":null,\"selection_glyph\":null},\"id\":\"6227f6ba-51e9-41cd-a88c-2b1e96057892\",\"type\":\"GlyphRenderer\"},{\"attributes\":{},\"id\":\"1f79fc2b-8335-43c2-af25-500368a31919\",\"type\":\"ToolEvents\"},{\"attributes\":{\"data_source\":{\"id\":\"94b3b46e-fa33-40c0-bc95-020dc4933f8d\",\"type\":\"ColumnDataSource\"},\"glyph\":{\"id\":\"0aac1c00-f73e-44c4-be6a-2a54c984283e\",\"type\":\"Rect\"},\"hover_glyph\":null,\"nonselection_glyph\":null,\"selection_glyph\":null},\"id\":\"f55cb5ec-613d-4f76-ad81-8894e156a54f\",\"type\":\"GlyphRenderer\"},{\"attributes\":{\"fill_alpha\":{\"field\":\"fill_alpha\"},\"fill_color\":{\"field\":\"color\"},\"height\":{\"field\":\"height\",\"units\":\"data\"},\"line_color\":{\"field\":\"line_color\"},\"width\":{\"field\":\"width\",\"units\":\"data\"},\"x\":{\"field\":\"x\"},\"y\":{\"field\":\"y\"}},\"id\":\"ec522d06-b4e1-473c-a73f-419b14708fe0\",\"type\":\"Rect\"},{\"attributes\":{\"callback\":null,\"column_names\":[\"fill_alpha\",\"y\",\"line_color\",\"height\",\"width\",\"x\",\"color\",\"line_alpha\"],\"data\":{\"chart_index\":[{\"index\":\"Finn S\\u00f8rensen\"}],\"color\":[\"#f22c40\"],\"fill_alpha\":[0.8],\"height\":[0.0925925925925926],\"index\":[\"Finn S\\u00f8rensen\"],\"line_alpha\":[1.0],\"line_color\":[\"white\"],\"width\":[0.8],\"x\":[\"Finn S\\u00f8rensen\"],\"y\":[0.0462962962962963]}},\"id\":\"48eff8bd-2881-4eee-a271-0c4af61250b8\",\"type\":\"ColumnDataSource\"},{\"attributes\":{\"plot\":{\"id\":\"e3619170-9497-40df-b2bd-e3b24db5a604\",\"subtype\":\"Chart\",\"type\":\"Plot\"}},\"id\":\"3e709c2f-9974-48f1-9d94-36e03c7b4e46\",\"type\":\"PreviewSaveTool\"},{\"attributes\":{\"callback\":null},\"id\":\"bfe863f5-1347-4d74-a458-4fea6b202a07\",\"type\":\"DataRange1d\"},{\"attributes\":{\"data_source\":{\"id\":\"e027798d-6a0c-4471-858a-824d4e8e666f\",\"type\":\"ColumnDataSource\"},\"glyph\":{\"id\":\"22999b72-5620-462f-8108-c65d69760781\",\"type\":\"Rect\"},\"hover_glyph\":null,\"nonselection_glyph\":null,\"selection_glyph\":null},\"id\":\"2ab6c5f2-912b-4faa-b30b-9cec85d547b4\",\"type\":\"GlyphRenderer\"},{\"attributes\":{\"fill_alpha\":{\"field\":\"fill_alpha\"},\"fill_color\":{\"field\":\"color\"},\"height\":{\"field\":\"height\",\"units\":\"data\"},\"line_color\":{\"field\":\"line_color\"},\"width\":{\"field\":\"width\",\"units\":\"data\"},\"x\":{\"field\":\"x\"},\"y\":{\"field\":\"y\"}},\"id\":\"4aa46421-f7fd-49ba-807a-694cc4981599\",\"type\":\"Rect\"},{\"attributes\":{\"plot\":{\"id\":\"c78b477d-c145-462f-ad40-18e99cfdf79c\",\"subtype\":\"Figure\",\"type\":\"Plot\"}},\"id\":\"a88f0540-5734-4a0b-ba1d-edb5b0cdae15\",\"type\":\"WheelZoomTool\"},{\"attributes\":{\"fill_alpha\":{\"field\":\"fill_alpha\"},\"fill_color\":{\"field\":\"color\"},\"height\":{\"field\":\"height\",\"units\":\"data\"},\"line_color\":{\"field\":\"line_color\"},\"width\":{\"field\":\"width\",\"units\":\"data\"},\"x\":{\"field\":\"x\"},\"y\":{\"field\":\"y\"}},\"id\":\"1a7c7d8e-2951-4a89-a9b3-61a601664050\",\"type\":\"Rect\"},{\"attributes\":{\"callback\":null,\"column_names\":[\"fill_alpha\",\"y\",\"line_color\",\"height\",\"width\",\"x\",\"color\",\"line_alpha\"],\"data\":{\"chart_index\":[{\"index\":\"Marie Krarup\"}],\"color\":[\"#f22c40\"],\"fill_alpha\":[0.8],\"height\":[0.1851851851851852],\"index\":[\"Marie Krarup\"],\"line_alpha\":[1.0],\"line_color\":[\"white\"],\"width\":[0.8],\"x\":[\"Marie Krarup\"],\"y\":[0.0925925925925926]}},\"id\":\"b90495ad-e8a8-4c38-acea-63561dd88a59\",\"type\":\"ColumnDataSource\"},{\"attributes\":{\"plot\":{\"id\":\"5576f7c1-d8a6-46ce-8ead-d7af8e9d1759\",\"subtype\":\"Chart\",\"type\":\"Plot\"}},\"id\":\"68d91e20-c388-45f7-b894-26083d7f25b0\",\"type\":\"PreviewSaveTool\"},{\"attributes\":{\"data_source\":{\"id\":\"9c299087-a8d2-4f29-ac90-cb319878b504\",\"type\":\"ColumnDataSource\"},\"glyph\":{\"id\":\"230b81eb-503f-4b11-86e3-d5b1be854c17\",\"type\":\"Rect\"},\"hover_glyph\":null,\"nonselection_glyph\":null,\"selection_glyph\":null},\"id\":\"a2dfaaa7-40f3-47fa-b6d5-922a750d9911\",\"type\":\"GlyphRenderer\"},{\"attributes\":{\"fill_alpha\":{\"field\":\"fill_alpha\"},\"fill_color\":{\"field\":\"color\"},\"height\":{\"field\":\"height\",\"units\":\"data\"},\"line_color\":{\"field\":\"line_color\"},\"width\":{\"field\":\"width\",\"units\":\"data\"},\"x\":{\"field\":\"x\"},\"y\":{\"field\":\"y\"}},\"id\":\"e0e9f65c-c8c2-41a4-bf6e-2cc002d2b29a\",\"type\":\"Rect\"},{\"attributes\":{\"callback\":null,\"column_names\":[\"fill_alpha\",\"y\",\"line_color\",\"height\",\"width\",\"x\",\"color\",\"line_alpha\"],\"data\":{\"chart_index\":[{\"index\":\"Ole Sohn\"}],\"color\":[\"#f22c40\"],\"fill_alpha\":[0.8],\"height\":[0.9150326797385622],\"index\":[\"Ole Sohn\"],\"line_alpha\":[1.0],\"line_color\":[\"white\"],\"width\":[0.8],\"x\":[\"Ole Sohn\"],\"y\":[0.4575163398692811]}},\"id\":\"5124bbda-d8e2-4a11-816d-0cf8ad4bd1be\",\"type\":\"ColumnDataSource\"},{\"attributes\":{\"data_source\":{\"id\":\"d3df398c-57ed-4cc0-a615-e0cdd2dd357d\",\"type\":\"ColumnDataSource\"},\"glyph\":{\"id\":\"ce87e89e-70b4-477b-aa2b-596a1d5cfefa\",\"type\":\"Rect\"},\"hover_glyph\":null,\"nonselection_glyph\":null,\"selection_glyph\":null},\"id\":\"c260eeab-b347-4b86-b1a5-08129f326907\",\"type\":\"GlyphRenderer\"},{\"attributes\":{\"fill_alpha\":{\"field\":\"fill_alpha\"},\"fill_color\":{\"field\":\"color\"},\"height\":{\"field\":\"height\",\"units\":\"data\"},\"line_color\":{\"field\":\"line_color\"},\"width\":{\"field\":\"width\",\"units\":\"data\"},\"x\":{\"field\":\"x\"},\"y\":{\"field\":\"y\"}},\"id\":\"01057747-4f14-4629-bd36-3aa0f0a8cb18\",\"type\":\"Rect\"},{\"attributes\":{\"fill_alpha\":{\"field\":\"fill_alpha\"},\"fill_color\":{\"field\":\"color\"},\"height\":{\"field\":\"height\",\"units\":\"data\"},\"line_color\":{\"field\":\"line_color\"},\"width\":{\"field\":\"width\",\"units\":\"data\"},\"x\":{\"field\":\"x\"},\"y\":{\"field\":\"y\"}},\"id\":\"2eb66419-b2b1-4aec-be8d-eda2a44e7dac\",\"type\":\"Rect\"},{\"attributes\":{\"fill_alpha\":{\"field\":\"fill_alpha\"},\"fill_color\":{\"field\":\"color\"},\"height\":{\"field\":\"height\",\"units\":\"data\"},\"line_color\":{\"field\":\"line_color\"},\"width\":{\"field\":\"width\",\"units\":\"data\"},\"x\":{\"field\":\"x\"},\"y\":{\"field\":\"y\"}},\"id\":\"3084c139-6461-452c-92a2-50777dbfa134\",\"type\":\"Rect\"},{\"attributes\":{\"callback\":null,\"plot\":{\"id\":\"c78b477d-c145-462f-ad40-18e99cfdf79c\",\"subtype\":\"Figure\",\"type\":\"Plot\"},\"tooltips\":[[\"name\",\"@navn\"]]},\"id\":\"70ebc53f-b86d-4144-bc6f-610a5ddffc06\",\"type\":\"HoverTool\"},{\"attributes\":{\"callback\":null,\"end\":2.625},\"id\":\"cb8e446d-e9cd-481a-804c-92efb89623ee\",\"type\":\"Range1d\"},{\"attributes\":{\"data_source\":{\"id\":\"9aa8b47b-876c-4606-9bf0-d6c9aa884436\",\"type\":\"ColumnDataSource\"},\"glyph\":{\"id\":\"0d438b0c-2ff3-430e-a409-09137c0a5cbf\",\"type\":\"Rect\"},\"hover_glyph\":null,\"nonselection_glyph\":null,\"selection_glyph\":null},\"id\":\"2a748f06-b888-41eb-84cf-2af599d27cb0\",\"type\":\"GlyphRenderer\"},{\"attributes\":{\"fill_alpha\":{\"field\":\"fill_alpha\"},\"fill_color\":{\"field\":\"color\"},\"height\":{\"field\":\"height\",\"units\":\"data\"},\"line_color\":{\"field\":\"line_color\"},\"width\":{\"field\":\"width\",\"units\":\"data\"},\"x\":{\"field\":\"x\"},\"y\":{\"field\":\"y\"}},\"id\":\"99b84718-8f82-4968-b346-0533b407c117\",\"type\":\"Rect\"},{\"attributes\":{\"dimension\":1,\"plot\":{\"id\":\"e3619170-9497-40df-b2bd-e3b24db5a604\",\"subtype\":\"Chart\",\"type\":\"Plot\"},\"ticker\":{\"id\":\"6bda84fc-8fbb-479b-aef0-d4acdf5f999b\",\"type\":\"BasicTicker\"}},\"id\":\"acdd0fd2-73b5-4ad3-9c07-6495c9e5109a\",\"type\":\"Grid\"},{\"attributes\":{\"fill_alpha\":{\"field\":\"fill_alpha\"},\"fill_color\":{\"field\":\"color\"},\"height\":{\"field\":\"height\",\"units\":\"data\"},\"line_color\":{\"field\":\"line_color\"},\"width\":{\"field\":\"width\",\"units\":\"data\"},\"x\":{\"field\":\"x\"},\"y\":{\"field\":\"y\"}},\"id\":\"bd0ea090-512b-46d2-b47b-cecf776b250d\",\"type\":\"Rect\"},{\"attributes\":{\"formatter\":{\"id\":\"2117e99d-f7fe-4dff-9570-3c61ed6243df\",\"type\":\"CategoricalTickFormatter\"},\"major_label_orientation\":0.7853981633974483,\"plot\":{\"id\":\"5576f7c1-d8a6-46ce-8ead-d7af8e9d1759\",\"subtype\":\"Chart\",\"type\":\"Plot\"},\"ticker\":{\"id\":\"ea0d2818-97c6-47e9-a1a3-f932dd94dbb1\",\"type\":\"CategoricalTicker\"}},\"id\":\"36299ef7-5a99-4a97-b955-1b597322bd90\",\"type\":\"CategoricalAxis\"},{\"attributes\":{\"data_source\":{\"id\":\"90c9e4cc-ebd2-4ca0-961b-20b7c086c491\",\"type\":\"ColumnDataSource\"},\"glyph\":{\"id\":\"659f7295-a30b-4f91-b264-c5ca75a5ca99\",\"type\":\"Rect\"},\"hover_glyph\":null,\"nonselection_glyph\":null,\"selection_glyph\":null},\"id\":\"4fdf4caa-ca94-4b36-a852-45bf870d1737\",\"type\":\"GlyphRenderer\"},{\"attributes\":{\"fill_alpha\":{\"field\":\"fill_alpha\"},\"fill_color\":{\"field\":\"color\"},\"height\":{\"field\":\"height\",\"units\":\"data\"},\"line_color\":{\"field\":\"line_color\"},\"width\":{\"field\":\"width\",\"units\":\"data\"},\"x\":{\"field\":\"x\"},\"y\":{\"field\":\"y\"}},\"id\":\"64a395a8-135a-40b3-8b91-d2f935cc5598\",\"type\":\"Rect\"},{\"attributes\":{\"fill_alpha\":{\"field\":\"fill_alpha\"},\"fill_color\":{\"field\":\"color\"},\"height\":{\"field\":\"height\",\"units\":\"data\"},\"line_color\":{\"field\":\"line_color\"},\"width\":{\"field\":\"width\",\"units\":\"data\"},\"x\":{\"field\":\"x\"},\"y\":{\"field\":\"y\"}},\"id\":\"8b324795-6adf-4f43-8a96-9e8dda3f952c\",\"type\":\"Rect\"},{\"attributes\":{\"data_source\":{\"id\":\"5704d67d-1813-470a-b763-db5a5afe3423\",\"type\":\"ColumnDataSource\"},\"glyph\":{\"id\":\"2154ce3d-eece-46dc-b753-98291cd6e66c\",\"type\":\"Rect\"},\"hover_glyph\":null,\"nonselection_glyph\":null,\"selection_glyph\":null},\"id\":\"b9056850-e084-43e5-abb3-00c11fbb4ee9\",\"type\":\"GlyphRenderer\"},{\"attributes\":{\"fill_alpha\":{\"field\":\"fill_alpha\"},\"fill_color\":{\"field\":\"color\"},\"height\":{\"field\":\"height\",\"units\":\"data\"},\"line_color\":{\"field\":\"line_color\"},\"width\":{\"field\":\"width\",\"units\":\"data\"},\"x\":{\"field\":\"x\"},\"y\":{\"field\":\"y\"}},\"id\":\"a6c2c788-d2bb-4bb1-8878-e2e25cd0d966\",\"type\":\"Rect\"},{\"attributes\":{},\"id\":\"b574f394-46f1-4538-adda-ddca42cf1863\",\"type\":\"BasicTickFormatter\"},{\"attributes\":{\"data_source\":{\"id\":\"34f308e1-9b31-486e-ab44-b67b4aef8f5f\",\"type\":\"ColumnDataSource\"},\"glyph\":{\"id\":\"1d7d9735-9295-45dc-a32a-d563f005b13a\",\"type\":\"Rect\"},\"hover_glyph\":null,\"nonselection_glyph\":null,\"selection_glyph\":null},\"id\":\"19b1fc5d-b497-447c-b371-56d8be249909\",\"type\":\"GlyphRenderer\"},{\"attributes\":{\"callback\":null,\"column_names\":[\"fill_alpha\",\"y\",\"line_color\",\"height\",\"width\",\"x\",\"color\",\"line_alpha\"],\"data\":{\"chart_index\":[{\"index\":\"Pernille Vigs\\u00f8 Bagge\"}],\"color\":[\"#f22c40\"],\"fill_alpha\":[0.8],\"height\":[0.33670033670033667],\"index\":[\"Pernille Vigs\\u00f8 Bagge\"],\"line_alpha\":[1.0],\"line_color\":[\"white\"],\"width\":[0.8],\"x\":[\"Pernille Vigs\\u00f8 Bagge\"],\"y\":[0.16835016835016833]}},\"id\":\"64ae8294-1ff6-44a5-9a5a-8aa64dea983f\",\"type\":\"ColumnDataSource\"},{\"attributes\":{\"fill_alpha\":{\"field\":\"fill_alpha\"},\"fill_color\":{\"field\":\"color\"},\"height\":{\"field\":\"height\",\"units\":\"data\"},\"line_color\":{\"field\":\"line_color\"},\"width\":{\"field\":\"width\",\"units\":\"data\"},\"x\":{\"field\":\"x\"},\"y\":{\"field\":\"y\"}},\"id\":\"22999b72-5620-462f-8108-c65d69760781\",\"type\":\"Rect\"},{\"attributes\":{\"data_source\":{\"id\":\"7d23f6c9-3bfa-4ddc-8af9-836955172b42\",\"type\":\"ColumnDataSource\"},\"glyph\":{\"id\":\"85e75aa7-3138-4766-8bf5-b96173ba2e0e\",\"type\":\"Rect\"},\"hover_glyph\":null,\"nonselection_glyph\":null,\"selection_glyph\":null},\"id\":\"07f466f4-c80c-413d-b1e2-5086e59f2347\",\"type\":\"GlyphRenderer\"},{\"attributes\":{\"data_source\":{\"id\":\"a2379722-32a0-4ac7-936b-83962a6f837c\",\"type\":\"ColumnDataSource\"},\"glyph\":{\"id\":\"1ffc01b0-ec5f-4788-99c4-2de27e439a71\",\"type\":\"Rect\"},\"hover_glyph\":null,\"nonselection_glyph\":null,\"selection_glyph\":null},\"id\":\"2083f9e4-839f-44d3-87de-a2a3d9753105\",\"type\":\"GlyphRenderer\"},{\"attributes\":{\"callback\":null,\"column_names\":[\"fill_alpha\",\"y\",\"line_color\",\"height\",\"width\",\"x\",\"color\",\"line_alpha\"],\"data\":{\"chart_index\":[{\"index\":\"Radikale Venstre\"}],\"color\":[\"#f22c40\"],\"fill_alpha\":[0.8],\"height\":[0.2777777777777778],\"index\":[\"Radikale Venstre\"],\"line_alpha\":[1.0],\"line_color\":[\"white\"],\"width\":[0.8],\"x\":[\"Radikale Venstre\"],\"y\":[0.1388888888888889]}},\"id\":\"4d8d56b1-8ea1-4382-b841-60167eac3616\",\"type\":\"ColumnDataSource\"},{\"attributes\":{\"callback\":null,\"column_names\":[\"fill_alpha\",\"y\",\"line_color\",\"height\",\"width\",\"x\",\"color\",\"line_alpha\"],\"data\":{\"chart_index\":[{\"index\":\"Karen J. Klint\"}],\"color\":[\"#f22c40\"],\"fill_alpha\":[0.8],\"height\":[0.1851851851851852],\"index\":[\"Karen J. Klint\"],\"line_alpha\":[1.0],\"line_color\":[\"white\"],\"width\":[0.8],\"x\":[\"Karen J. Klint\"],\"y\":[0.0925925925925926]}},\"id\":\"a5289ec0-5365-4bf0-bbcd-2144fdaf447f\",\"type\":\"ColumnDataSource\"},{\"attributes\":{\"formatter\":{\"id\":\"f558985e-8e04-426e-8567-63dc25aa9107\",\"type\":\"CategoricalTickFormatter\"},\"major_label_orientation\":0.7853981633974483,\"plot\":{\"id\":\"e3619170-9497-40df-b2bd-e3b24db5a604\",\"subtype\":\"Chart\",\"type\":\"Plot\"},\"ticker\":{\"id\":\"77c7a66a-b149-48ef-9a7b-c6abcc304dc4\",\"type\":\"CategoricalTicker\"}},\"id\":\"17bd89b7-e93a-4cf9-bdaf-77a7530ece21\",\"type\":\"CategoricalAxis\"},{\"attributes\":{\"plot\":{\"id\":\"c78b477d-c145-462f-ad40-18e99cfdf79c\",\"subtype\":\"Figure\",\"type\":\"Plot\"}},\"id\":\"49aea1c5-e512-4739-aeb7-3d2225a040af\",\"type\":\"HelpTool\"},{\"attributes\":{\"fill_alpha\":{\"field\":\"fill_alpha\"},\"fill_color\":{\"field\":\"color\"},\"height\":{\"field\":\"height\",\"units\":\"data\"},\"line_color\":{\"field\":\"line_color\"},\"width\":{\"field\":\"width\",\"units\":\"data\"},\"x\":{\"field\":\"x\"},\"y\":{\"field\":\"y\"}},\"id\":\"098dea17-f665-4e86-92fa-c374537f0108\",\"type\":\"Rect\"},{\"attributes\":{},\"id\":\"cf4f6db9-9bf1-4571-8531-f3c230bb2152\",\"type\":\"BasicTicker\"},{\"attributes\":{},\"id\":\"da8ec15a-939c-4772-b503-b04166d3e8b9\",\"type\":\"BasicTickFormatter\"},{\"attributes\":{\"plot\":{\"id\":\"e3619170-9497-40df-b2bd-e3b24db5a604\",\"subtype\":\"Chart\",\"type\":\"Plot\"}},\"id\":\"ee60cfa4-d968-47d8-82ee-9cf333fa67f1\",\"type\":\"HelpTool\"},{\"attributes\":{\"data_source\":{\"id\":\"48116310-9192-427b-be28-50284134befe\",\"type\":\"ColumnDataSource\"},\"glyph\":{\"id\":\"bd0ea090-512b-46d2-b47b-cecf776b250d\",\"type\":\"Rect\"},\"hover_glyph\":null,\"nonselection_glyph\":null,\"selection_glyph\":null},\"id\":\"15a7e771-40ca-4e4a-995e-752a065d889a\",\"type\":\"GlyphRenderer\"},{\"attributes\":{\"data_source\":{\"id\":\"5e75fa21-e594-4ebd-894e-1872a2ae163e\",\"type\":\"ColumnDataSource\"},\"glyph\":{\"id\":\"92bc2017-56fd-43ab-83b8-a2335376bd3c\",\"type\":\"Circle\"},\"hover_glyph\":null,\"nonselection_glyph\":{\"id\":\"b5ec8c84-d98d-4135-a083-0132afaddd5e\",\"type\":\"Circle\"},\"selection_glyph\":null},\"id\":\"8dc8247c-f645-4b18-8934-46abeba8e3f2\",\"type\":\"GlyphRenderer\"},{\"attributes\":{\"callback\":null,\"factors\":[\"Anders Samuelsen\",\"Annette Vilhelmsen\",\"Astrid Krag\",\"Bent B\\u00f8gsted\",\"Bente Bendix\",\"Birthe R\\u00f8nn Hornbech\",\"Brian Mikkelsen\",\"Charlotte Dyremose\",\"Christian Langballe\",\"Daniel Toft Jakobsen\",\"Dennis Flydtkj\\u00e6r\",\"Eigil Andersen\",\"Ellen Trane N\\u00f8rby\",\"Eva Kjer Hansen\",\"Eyvind Vesselbo\",\"Finn S\\u00f8rensen\",\"Frank Aaen\",\"Hans Christian Schmidt\",\"Hans Kristian Skibby\",\"Henning Hyllested\",\"Henrik Dam Kristensen\",\"Holger K. Nielsen\",\"Ida Auken\",\"Jan Johansen\",\"Jens Henrik Thulesen Dahl\",\"Jeppe Bruus\",\"Jeppe Kofod\",\"Joachim B. Olsen\",\"Jonas Dahl\",\"Karen J. Klint\",\"Karsten Nonbo\",\"Kristian Jensen\",\"Lars Barfoed\",\"Lars Dohn\",\"Laura Lindahl\",\"Lisbeth Bech Poulsen\",\"Mai Mercado\",\"Marianne Jelved\",\"Marie Krarup\",\"Merete Riisager\",\"Mette Bock\",\"Mette Gjerskov\",\"Ole Sohn\",\"Per Clausen\",\"Pernille Vigs\\u00f8 Bagge\",\"Rasmus Helveg Petersen\",\"Ren\\u00e9 Christensen\",\"Sofie Carsten Nielsen\",\"Steen Gade\",\"Trine Mach\",\"Yildiz Akdogan\",\"\\u00d6zlem Sara Cekic\"]},\"id\":\"125723e4-89e8-433d-92a8-e71638dd8a66\",\"type\":\"FactorRange\"},{\"attributes\":{\"callback\":null,\"column_names\":[\"fill_alpha\",\"y\",\"line_color\",\"height\",\"width\",\"x\",\"color\",\"line_alpha\"],\"data\":{\"chart_index\":[{\"index\":\"Eigil Andersen\"}],\"color\":[\"#f22c40\"],\"fill_alpha\":[0.8],\"height\":[0.13089005235602094],\"index\":[\"Eigil Andersen\"],\"line_alpha\":[1.0],\"line_color\":[\"white\"],\"width\":[0.8],\"x\":[\"Eigil Andersen\"],\"y\":[0.06544502617801047]}},\"id\":\"dc71bc5e-969d-4225-a50c-a0b22f50c3bb\",\"type\":\"ColumnDataSource\"},{\"attributes\":{\"callback\":null,\"column_names\":[\"fill_alpha\",\"y\",\"line_color\",\"height\",\"width\",\"x\",\"color\",\"line_alpha\"],\"data\":{\"chart_index\":[{\"index\":\"Hans Kristian Skibby\"}],\"color\":[\"#f22c40\"],\"fill_alpha\":[0.8],\"height\":[0.0925925925925926],\"index\":[\"Hans Kristian Skibby\"],\"line_alpha\":[1.0],\"line_color\":[\"white\"],\"width\":[0.8],\"x\":[\"Hans Kristian Skibby\"],\"y\":[0.0462962962962963]}},\"id\":\"72e93672-d2b8-45ce-b3da-cfcf10c48cb7\",\"type\":\"ColumnDataSource\"},{\"attributes\":{\"fill_alpha\":{\"field\":\"fill_alpha\"},\"fill_color\":{\"field\":\"color\"},\"height\":{\"field\":\"height\",\"units\":\"data\"},\"line_color\":{\"field\":\"line_color\"},\"width\":{\"field\":\"width\",\"units\":\"data\"},\"x\":{\"field\":\"x\"},\"y\":{\"field\":\"y\"}},\"id\":\"00d6d670-7827-40f3-ba7f-5c391db71068\",\"type\":\"Rect\"},{\"attributes\":{\"callback\":null,\"column_names\":[\"fill_alpha\",\"y\",\"line_color\",\"height\",\"width\",\"x\",\"color\",\"line_alpha\"],\"data\":{\"chart_index\":[{\"index\":\"Lisbeth Bech Poulsen\"}],\"color\":[\"#f22c40\"],\"fill_alpha\":[0.8],\"height\":[0.2777777777777778],\"index\":[\"Lisbeth Bech Poulsen\"],\"line_alpha\":[1.0],\"line_color\":[\"white\"],\"width\":[0.8],\"x\":[\"Lisbeth Bech Poulsen\"],\"y\":[0.1388888888888889]}},\"id\":\"4a90ca7b-baf3-4b6d-b212-6baffa1723be\",\"type\":\"ColumnDataSource\"},{\"attributes\":{\"fill_alpha\":{\"field\":\"fill_alpha\"},\"fill_color\":{\"field\":\"color\"},\"height\":{\"field\":\"height\",\"units\":\"data\"},\"line_color\":{\"field\":\"line_color\"},\"width\":{\"field\":\"width\",\"units\":\"data\"},\"x\":{\"field\":\"x\"},\"y\":{\"field\":\"y\"}},\"id\":\"ce87e89e-70b4-477b-aa2b-596a1d5cfefa\",\"type\":\"Rect\"},{\"attributes\":{\"data_source\":{\"id\":\"3c8cb1a8-34bc-4ffa-9c2e-bafe7c7eaa4e\",\"type\":\"ColumnDataSource\"},\"glyph\":{\"id\":\"e0e9f65c-c8c2-41a4-bf6e-2cc002d2b29a\",\"type\":\"Rect\"},\"hover_glyph\":null,\"nonselection_glyph\":null,\"selection_glyph\":null},\"id\":\"a5edb716-38e6-4146-a5c5-ee1bcba286e3\",\"type\":\"GlyphRenderer\"},{\"attributes\":{\"fill_alpha\":{\"field\":\"fill_alpha\"},\"fill_color\":{\"field\":\"color\"},\"height\":{\"field\":\"height\",\"units\":\"data\"},\"line_color\":{\"field\":\"line_color\"},\"width\":{\"field\":\"width\",\"units\":\"data\"},\"x\":{\"field\":\"x\"},\"y\":{\"field\":\"y\"}},\"id\":\"2154ce3d-eece-46dc-b753-98291cd6e66c\",\"type\":\"Rect\"},{\"attributes\":{\"data_source\":{\"id\":\"edfc23b4-fae4-4fec-8ce2-972bc5f4d991\",\"type\":\"ColumnDataSource\"},\"glyph\":{\"id\":\"0a5e2542-d365-4a4f-9150-4c531c15a492\",\"type\":\"Rect\"},\"hover_glyph\":null,\"nonselection_glyph\":null,\"selection_glyph\":null},\"id\":\"199950d3-9b70-4808-9ea1-b2fa1aef3643\",\"type\":\"GlyphRenderer\"},{\"attributes\":{\"plot\":{\"id\":\"e3619170-9497-40df-b2bd-e3b24db5a604\",\"subtype\":\"Chart\",\"type\":\"Plot\"}},\"id\":\"06cbabcb-3bee-4fa2-993e-e9bcde78b5c8\",\"type\":\"PanTool\"},{\"attributes\":{\"callback\":null,\"column_names\":[\"fill_alpha\",\"y\",\"line_color\",\"height\",\"width\",\"x\",\"color\",\"line_alpha\"],\"data\":{\"chart_index\":[{\"index\":\"\\u00d6zlem Sara Cekic\"}],\"color\":[\"#f22c40\"],\"fill_alpha\":[0.8],\"height\":[0.39215686274509803],\"index\":[\"\\u00d6zlem Sara Cekic\"],\"line_alpha\":[1.0],\"line_color\":[\"white\"],\"width\":[0.8],\"x\":[\"\\u00d6zlem Sara Cekic\"],\"y\":[0.19607843137254902]}},\"id\":\"d84c6ae9-b2cf-40d6-996d-30bdeac5c88f\",\"type\":\"ColumnDataSource\"},{\"attributes\":{\"axis_label\":\"imod\",\"formatter\":{\"id\":\"11a7e84e-96af-46ca-801c-43b342cc6a14\",\"type\":\"BasicTickFormatter\"},\"plot\":{\"id\":\"c78b477d-c145-462f-ad40-18e99cfdf79c\",\"subtype\":\"Figure\",\"type\":\"Plot\"},\"ticker\":{\"id\":\"125d1214-160a-4a51-baab-bd85360b54f6\",\"type\":\"BasicTicker\"}},\"id\":\"51c015bf-6d46-4785-8e0b-9fafafec020e\",\"type\":\"LinearAxis\"},{\"attributes\":{\"fill_alpha\":{\"field\":\"fill_alpha\"},\"fill_color\":{\"field\":\"color\"},\"height\":{\"field\":\"height\",\"units\":\"data\"},\"line_color\":{\"field\":\"line_color\"},\"width\":{\"field\":\"width\",\"units\":\"data\"},\"x\":{\"field\":\"x\"},\"y\":{\"field\":\"y\"}},\"id\":\"4558bc53-99d9-40fe-bbfd-f65f4d25f1e9\",\"type\":\"Rect\"},{\"attributes\":{},\"id\":\"6bda84fc-8fbb-479b-aef0-d4acdf5f999b\",\"type\":\"BasicTicker\"},{\"attributes\":{\"bottom_units\":\"screen\",\"fill_alpha\":{\"value\":0.5},\"fill_color\":{\"value\":\"lightgrey\"},\"left_units\":\"screen\",\"level\":\"overlay\",\"line_alpha\":{\"value\":1.0},\"line_color\":{\"value\":\"black\"},\"line_dash\":[4,4],\"line_width\":{\"value\":2},\"plot\":null,\"render_mode\":\"css\",\"right_units\":\"screen\",\"top_units\":\"screen\"},\"id\":\"55d2e1f1-47f9-4798-adac-fe414566aad5\",\"type\":\"BoxAnnotation\"},{\"attributes\":{\"callback\":null,\"column_names\":[\"fill_alpha\",\"y\",\"line_color\",\"height\",\"width\",\"x\",\"color\",\"line_alpha\"],\"data\":{\"chart_index\":[{\"index\":\"Charlotte Dyremose\"}],\"color\":[\"#f22c40\"],\"fill_alpha\":[0.8],\"height\":[0.15267175572519084],\"index\":[\"Charlotte Dyremose\"],\"line_alpha\":[1.0],\"line_color\":[\"white\"],\"width\":[0.8],\"x\":[\"Charlotte Dyremose\"],\"y\":[0.07633587786259542]}},\"id\":\"dfecff16-5271-423d-bc81-ffb9c3f40695\",\"type\":\"ColumnDataSource\"},{\"attributes\":{\"data_source\":{\"id\":\"96161d3a-d008-4932-bf97-f759fabbcffd\",\"type\":\"ColumnDataSource\"},\"glyph\":{\"id\":\"99b84718-8f82-4968-b346-0533b407c117\",\"type\":\"Rect\"},\"hover_glyph\":null,\"nonselection_glyph\":null,\"selection_glyph\":null},\"id\":\"1f496dba-bfd2-4cb6-a611-8c08eb02306e\",\"type\":\"GlyphRenderer\"},{\"attributes\":{\"axis_label\":\"% afstemninger >1 imod flertallet\",\"formatter\":{\"id\":\"b574f394-46f1-4538-adda-ddca42cf1863\",\"type\":\"BasicTickFormatter\"},\"plot\":{\"id\":\"e3619170-9497-40df-b2bd-e3b24db5a604\",\"subtype\":\"Chart\",\"type\":\"Plot\"},\"ticker\":{\"id\":\"6bda84fc-8fbb-479b-aef0-d4acdf5f999b\",\"type\":\"BasicTicker\"}},\"id\":\"60ab0147-2068-4bd3-a235-9ea6dea9d968\",\"type\":\"LinearAxis\"},{\"attributes\":{\"plot\":{\"id\":\"5576f7c1-d8a6-46ce-8ead-d7af8e9d1759\",\"subtype\":\"Chart\",\"type\":\"Plot\"}},\"id\":\"b87e9787-8f7e-488f-bc8f-2e73667b8a20\",\"type\":\"ResizeTool\"},{\"attributes\":{\"callback\":null,\"column_names\":[\"fill_alpha\",\"y\",\"line_color\",\"height\",\"width\",\"x\",\"color\",\"line_alpha\"],\"data\":{\"chart_index\":[{\"index\":\"Eva Kjer Hansen\"}],\"color\":[\"#f22c40\"],\"fill_alpha\":[0.8],\"height\":[0.0925925925925926],\"index\":[\"Eva Kjer Hansen\"],\"line_alpha\":[1.0],\"line_color\":[\"white\"],\"width\":[0.8],\"x\":[\"Eva Kjer Hansen\"],\"y\":[0.0462962962962963]}},\"id\":\"5704d67d-1813-470a-b763-db5a5afe3423\",\"type\":\"ColumnDataSource\"},{\"attributes\":{\"callback\":null,\"column_names\":[\"fill_alpha\",\"y\",\"line_color\",\"height\",\"width\",\"x\",\"color\",\"line_alpha\"],\"data\":{\"chart_index\":[{\"index\":\"Jeppe Bruus\"}],\"color\":[\"#f22c40\"],\"fill_alpha\":[0.8],\"height\":[0.1023541453428864],\"index\":[\"Jeppe Bruus\"],\"line_alpha\":[1.0],\"line_color\":[\"white\"],\"width\":[0.8],\"x\":[\"Jeppe Bruus\"],\"y\":[0.0511770726714432]}},\"id\":\"07513d08-61ff-4ad1-81d5-7b5dfb3a8517\",\"type\":\"ColumnDataSource\"},{\"attributes\":{\"callback\":null,\"column_names\":[\"fill_alpha\",\"y\",\"line_color\",\"height\",\"width\",\"x\",\"color\",\"line_alpha\"],\"data\":{\"chart_index\":[{\"index\":\"Liberal Alliance\"}],\"color\":[\"#f22c40\"],\"fill_alpha\":[0.8],\"height\":[0.8333333333333334],\"index\":[\"Liberal Alliance\"],\"line_alpha\":[1.0],\"line_color\":[\"white\"],\"width\":[0.8],\"x\":[\"Liberal Alliance\"],\"y\":[0.4166666666666667]}},\"id\":\"edfc23b4-fae4-4fec-8ce2-972bc5f4d991\",\"type\":\"ColumnDataSource\"},{\"attributes\":{\"fill_alpha\":{\"field\":\"fill_alpha\"},\"fill_color\":{\"field\":\"color\"},\"height\":{\"field\":\"height\",\"units\":\"data\"},\"line_color\":{\"field\":\"line_color\"},\"width\":{\"field\":\"width\",\"units\":\"data\"},\"x\":{\"field\":\"x\"},\"y\":{\"field\":\"y\"}},\"id\":\"62f03a01-c4d8-4b03-a5a3-26ddbc64b0ef\",\"type\":\"Rect\"},{\"attributes\":{\"fill_alpha\":{\"field\":\"fill_alpha\"},\"fill_color\":{\"field\":\"color\"},\"height\":{\"field\":\"height\",\"units\":\"data\"},\"line_color\":{\"field\":\"line_color\"},\"width\":{\"field\":\"width\",\"units\":\"data\"},\"x\":{\"field\":\"x\"},\"y\":{\"field\":\"y\"}},\"id\":\"4eb9854a-09d0-4c62-8132-7b1b633c2bad\",\"type\":\"Rect\"},{\"attributes\":{\"data_source\":{\"id\":\"4d8d56b1-8ea1-4382-b841-60167eac3616\",\"type\":\"ColumnDataSource\"},\"glyph\":{\"id\":\"321ae0ce-78e1-4793-8742-82266eead37e\",\"type\":\"Rect\"},\"hover_glyph\":null,\"nonselection_glyph\":null,\"selection_glyph\":null},\"id\":\"fcfe90b2-a9ff-4a03-a76d-fd855d8ac8c0\",\"type\":\"GlyphRenderer\"},{\"attributes\":{\"callback\":null,\"column_names\":[\"fill_alpha\",\"y\",\"line_color\",\"height\",\"width\",\"x\",\"color\",\"line_alpha\"],\"data\":{\"chart_index\":[{\"index\":\"Jonas Dahl\"}],\"color\":[\"#f22c40\"],\"fill_alpha\":[0.8],\"height\":[0.10214504596527069],\"index\":[\"Jonas Dahl\"],\"line_alpha\":[1.0],\"line_color\":[\"white\"],\"width\":[0.8],\"x\":[\"Jonas Dahl\"],\"y\":[0.05107252298263534]}},\"id\":\"061740df-1a72-43e0-8f72-508953123621\",\"type\":\"ColumnDataSource\"},{\"attributes\":{\"fill_alpha\":{\"field\":\"fill_alpha\"},\"fill_color\":{\"field\":\"color\"},\"height\":{\"field\":\"height\",\"units\":\"data\"},\"line_color\":{\"field\":\"line_color\"},\"width\":{\"field\":\"width\",\"units\":\"data\"},\"x\":{\"field\":\"x\"},\"y\":{\"field\":\"y\"}},\"id\":\"7e169eda-8208-4930-b483-a54c40507be4\",\"type\":\"Rect\"},{\"attributes\":{\"bottom_units\":\"screen\",\"fill_alpha\":{\"value\":0.5},\"fill_color\":{\"value\":\"lightgrey\"},\"left_units\":\"screen\",\"level\":\"overlay\",\"line_alpha\":{\"value\":1.0},\"line_color\":{\"value\":\"black\"},\"line_dash\":[4,4],\"line_width\":{\"value\":2},\"plot\":null,\"render_mode\":\"css\",\"right_units\":\"screen\",\"top_units\":\"screen\"},\"id\":\"0b50f2e3-0f7c-46dc-96f1-fc5f39b902bd\",\"type\":\"BoxAnnotation\"},{\"attributes\":{},\"id\":\"2117e99d-f7fe-4dff-9570-3c61ed6243df\",\"type\":\"CategoricalTickFormatter\"},{\"attributes\":{\"callback\":null,\"factors\":[\"Dansk Folkeparti\",\"Det Konservative Folkeparti\",\"Enhedslisten\",\"Liberal Alliance\",\"Radikale Venstre\",\"Socialdemokratiet\",\"Socialistisk Folkeparti\",\"Venstre, Danmarks Liberale Parti\"]},\"id\":\"4ae48f85-2d37-4a9e-9dfc-3118671d345d\",\"type\":\"FactorRange\"},{\"attributes\":{},\"id\":\"f558985e-8e04-426e-8567-63dc25aa9107\",\"type\":\"CategoricalTickFormatter\"},{\"attributes\":{\"below\":[{\"id\":\"17bd89b7-e93a-4cf9-bdaf-77a7530ece21\",\"type\":\"CategoricalAxis\"}],\"left\":[{\"id\":\"60ab0147-2068-4bd3-a235-9ea6dea9d968\",\"type\":\"LinearAxis\"}],\"legend\":null,\"renderers\":[{\"id\":\"295f5b4b-5d81-439e-a5d5-7151173251eb\",\"type\":\"BoxAnnotation\"},{\"id\":\"b7769828-5cfe-44e8-b189-dc6cce05815e\",\"type\":\"GlyphRenderer\"},{\"id\":\"03352e7a-0b27-4f40-a50e-c4c839bb7955\",\"type\":\"GlyphRenderer\"},{\"id\":\"2083f9e4-839f-44d3-87de-a2a3d9753105\",\"type\":\"GlyphRenderer\"},{\"id\":\"199950d3-9b70-4808-9ea1-b2fa1aef3643\",\"type\":\"GlyphRenderer\"},{\"id\":\"fcfe90b2-a9ff-4a03-a76d-fd855d8ac8c0\",\"type\":\"GlyphRenderer\"},{\"id\":\"ab3d4776-cc51-4672-bf34-a9ddad7f756d\",\"type\":\"GlyphRenderer\"},{\"id\":\"e627081a-d019-4c24-8ed8-5bd5c6c74589\",\"type\":\"GlyphRenderer\"},{\"id\":\"3d885e05-587a-43d3-a785-e7e1cfc80e7b\",\"type\":\"GlyphRenderer\"},{\"id\":\"17bd89b7-e93a-4cf9-bdaf-77a7530ece21\",\"type\":\"CategoricalAxis\"},{\"id\":\"60ab0147-2068-4bd3-a235-9ea6dea9d968\",\"type\":\"LinearAxis\"},{\"id\":\"acdd0fd2-73b5-4ad3-9c07-6495c9e5109a\",\"type\":\"Grid\"}],\"title\":\"f\\u00f8lger folk partiet?\",\"title_text_font_size\":{\"value\":\"14pt\"},\"tool_events\":{\"id\":\"1f79fc2b-8335-43c2-af25-500368a31919\",\"type\":\"ToolEvents\"},\"tools\":[{\"id\":\"06cbabcb-3bee-4fa2-993e-e9bcde78b5c8\",\"type\":\"PanTool\"},{\"id\":\"bfde5be3-be9f-4320-bb7f-3d321f6877d7\",\"type\":\"WheelZoomTool\"},{\"id\":\"83e66a3f-b0d1-4fa8-b686-3e0e3ac7d32c\",\"type\":\"BoxZoomTool\"},{\"id\":\"3e709c2f-9974-48f1-9d94-36e03c7b4e46\",\"type\":\"PreviewSaveTool\"},{\"id\":\"2277eac0-e1b1-4e05-ae31-280bbced374e\",\"type\":\"ResizeTool\"},{\"id\":\"8e576486-a456-4969-8c34-b64c7155910f\",\"type\":\"ResetTool\"},{\"id\":\"ee60cfa4-d968-47d8-82ee-9cf333fa67f1\",\"type\":\"HelpTool\"}],\"x_mapper_type\":\"auto\",\"x_range\":{\"id\":\"4ae48f85-2d37-4a9e-9dfc-3118671d345d\",\"type\":\"FactorRange\"},\"xgrid\":false,\"xscale\":\"auto\",\"y_mapper_type\":\"auto\",\"y_range\":{\"id\":\"cb8e446d-e9cd-481a-804c-92efb89623ee\",\"type\":\"Range1d\"},\"yscale\":\"auto\"},\"id\":\"e3619170-9497-40df-b2bd-e3b24db5a604\",\"subtype\":\"Chart\",\"type\":\"Plot\"},{\"attributes\":{\"data_source\":{\"id\":\"dc71bc5e-969d-4225-a50c-a0b22f50c3bb\",\"type\":\"ColumnDataSource\"},\"glyph\":{\"id\":\"bc25098f-632e-4460-a85d-3439b152d40b\",\"type\":\"Rect\"},\"hover_glyph\":null,\"nonselection_glyph\":null,\"selection_glyph\":null},\"id\":\"b4a7b545-727a-463b-8595-da82f230e0bb\",\"type\":\"GlyphRenderer\"},{\"attributes\":{\"data_source\":{\"id\":\"a6aa1d24-0cb9-45c6-81cf-468dd9b0a0eb\",\"type\":\"ColumnDataSource\"},\"glyph\":{\"id\":\"febd0c96-0dd5-48ac-a4a6-b52557a03110\",\"type\":\"Rect\"},\"hover_glyph\":null,\"nonselection_glyph\":null,\"selection_glyph\":null},\"id\":\"4d34bc9a-1fb5-44db-aebe-23c515befa85\",\"type\":\"GlyphRenderer\"},{\"attributes\":{\"callback\":null,\"column_names\":[\"fill_alpha\",\"y\",\"line_color\",\"height\",\"width\",\"x\",\"color\",\"line_alpha\"],\"data\":{\"chart_index\":[{\"index\":\"Annette Vilhelmsen\"}],\"color\":[\"#f22c40\"],\"fill_alpha\":[0.8],\"height\":[0.26246719160104987],\"index\":[\"Annette Vilhelmsen\"],\"line_alpha\":[1.0],\"line_color\":[\"white\"],\"width\":[0.8],\"x\":[\"Annette Vilhelmsen\"],\"y\":[0.13123359580052493]}},\"id\":\"96161d3a-d008-4932-bf97-f759fabbcffd\",\"type\":\"ColumnDataSource\"},{\"attributes\":{\"callback\":null,\"column_names\":[\"fill_alpha\",\"y\",\"line_color\",\"height\",\"width\",\"x\",\"color\",\"line_alpha\"],\"data\":{\"chart_index\":[{\"index\":\"Sofie Carsten Nielsen\"}],\"color\":[\"#f22c40\"],\"fill_alpha\":[0.8],\"height\":[0.0925925925925926],\"index\":[\"Sofie Carsten Nielsen\"],\"line_alpha\":[1.0],\"line_color\":[\"white\"],\"width\":[0.8],\"x\":[\"Sofie Carsten Nielsen\"],\"y\":[0.0462962962962963]}},\"id\":\"31f28758-2106-4c47-adcb-c32aede96a8f\",\"type\":\"ColumnDataSource\"},{\"attributes\":{\"axis_label\":\"for\",\"formatter\":{\"id\":\"6667db28-db3d-4d6e-81a3-6b209687058e\",\"type\":\"BasicTickFormatter\"},\"plot\":{\"id\":\"c78b477d-c145-462f-ad40-18e99cfdf79c\",\"subtype\":\"Figure\",\"type\":\"Plot\"},\"ticker\":{\"id\":\"1b34b1e3-bb61-4578-896b-93d8c5f9fa89\",\"type\":\"BasicTicker\"}},\"id\":\"145376c8-019d-47f3-accd-918afa74aa6e\",\"type\":\"LinearAxis\"},{\"attributes\":{\"callback\":null,\"column_names\":[\"fill_alpha\",\"y\",\"line_color\",\"height\",\"width\",\"x\",\"color\",\"line_alpha\"],\"data\":{\"chart_index\":[{\"index\":\"Karsten Nonbo\"}],\"color\":[\"#f22c40\"],\"fill_alpha\":[0.8],\"height\":[0.130718954248366],\"index\":[\"Karsten Nonbo\"],\"line_alpha\":[1.0],\"line_color\":[\"white\"],\"width\":[0.8],\"x\":[\"Karsten Nonbo\"],\"y\":[0.065359477124183]}},\"id\":\"d3df398c-57ed-4cc0-a615-e0cdd2dd357d\",\"type\":\"ColumnDataSource\"},{\"attributes\":{\"plot\":{\"id\":\"e3619170-9497-40df-b2bd-e3b24db5a604\",\"subtype\":\"Chart\",\"type\":\"Plot\"}},\"id\":\"8e576486-a456-4969-8c34-b64c7155910f\",\"type\":\"ResetTool\"},{\"attributes\":{\"plot\":{\"id\":\"5576f7c1-d8a6-46ce-8ead-d7af8e9d1759\",\"subtype\":\"Chart\",\"type\":\"Plot\"}},\"id\":\"228c0d08-ec41-4942-9b6a-1af04be57599\",\"type\":\"HelpTool\"},{\"attributes\":{\"data_source\":{\"id\":\"dce18d9e-9eaf-4412-9e56-805a06babb9e\",\"type\":\"ColumnDataSource\"},\"glyph\":{\"id\":\"492c9050-6f7a-46a3-80a1-527c0ab483ac\",\"type\":\"Rect\"},\"hover_glyph\":null,\"nonselection_glyph\":null,\"selection_glyph\":null},\"id\":\"03352e7a-0b27-4f40-a50e-c4c839bb7955\",\"type\":\"GlyphRenderer\"},{\"attributes\":{\"fill_alpha\":{\"field\":\"fill_alpha\"},\"fill_color\":{\"field\":\"color\"},\"height\":{\"field\":\"height\",\"units\":\"data\"},\"line_color\":{\"field\":\"line_color\"},\"width\":{\"field\":\"width\",\"units\":\"data\"},\"x\":{\"field\":\"x\"},\"y\":{\"field\":\"y\"}},\"id\":\"0aac1c00-f73e-44c4-be6a-2a54c984283e\",\"type\":\"Rect\"},{\"attributes\":{\"fill_alpha\":{\"field\":\"fill_alpha\"},\"fill_color\":{\"field\":\"color\"},\"height\":{\"field\":\"height\",\"units\":\"data\"},\"line_color\":{\"field\":\"line_color\"},\"width\":{\"field\":\"width\",\"units\":\"data\"},\"x\":{\"field\":\"x\"},\"y\":{\"field\":\"y\"}},\"id\":\"441160b5-d1e4-4eaa-8ffd-67b7673c64a7\",\"type\":\"Rect\"},{\"attributes\":{\"data_source\":{\"id\":\"86945d4d-6a58-4c13-a072-61145f6c747d\",\"type\":\"ColumnDataSource\"},\"glyph\":{\"id\":\"3084c139-6461-452c-92a2-50777dbfa134\",\"type\":\"Rect\"},\"hover_glyph\":null,\"nonselection_glyph\":null,\"selection_glyph\":null},\"id\":\"1d91e817-c85b-4a27-9b70-9ca70c7b70cf\",\"type\":\"GlyphRenderer\"},{\"attributes\":{\"callback\":null,\"column_names\":[\"fill_alpha\",\"y\",\"line_color\",\"height\",\"width\",\"x\",\"color\",\"line_alpha\"],\"data\":{\"chart_index\":[{\"index\":\"Per Clausen\"}],\"color\":[\"#f22c40\"],\"fill_alpha\":[0.8],\"height\":[0.130718954248366],\"index\":[\"Per Clausen\"],\"line_alpha\":[1.0],\"line_color\":[\"white\"],\"width\":[0.8],\"x\":[\"Per Clausen\"],\"y\":[0.065359477124183]}},\"id\":\"351ac9e5-769f-4d03-9fc6-6be6d10af136\",\"type\":\"ColumnDataSource\"},{\"attributes\":{\"callback\":null,\"column_names\":[\"fill_alpha\",\"y\",\"line_color\",\"height\",\"width\",\"x\",\"color\",\"line_alpha\"],\"data\":{\"chart_index\":[{\"index\":\"Rasmus Helveg Petersen\"}],\"color\":[\"#f22c40\"],\"fill_alpha\":[0.8],\"height\":[0.2026342451874367],\"index\":[\"Rasmus Helveg Petersen\"],\"line_alpha\":[1.0],\"line_color\":[\"white\"],\"width\":[0.8],\"x\":[\"Rasmus Helveg Petersen\"],\"y\":[0.10131712259371835]}},\"id\":\"0f5a878b-35fb-43f6-9886-a739bd9873e3\",\"type\":\"ColumnDataSource\"},{\"attributes\":{\"callback\":null,\"end\":1.7432950191570882},\"id\":\"5dae2e1c-c6c7-44c2-acb7-a52a722afa83\",\"type\":\"Range1d\"},{\"attributes\":{\"fill_alpha\":{\"field\":\"fill_alpha\"},\"fill_color\":{\"field\":\"color\"},\"height\":{\"field\":\"height\",\"units\":\"data\"},\"line_color\":{\"field\":\"line_color\"},\"width\":{\"field\":\"width\",\"units\":\"data\"},\"x\":{\"field\":\"x\"},\"y\":{\"field\":\"y\"}},\"id\":\"bc25098f-632e-4460-a85d-3439b152d40b\",\"type\":\"Rect\"},{\"attributes\":{\"callback\":null,\"column_names\":[\"fill_alpha\",\"y\",\"line_color\",\"height\",\"width\",\"x\",\"color\",\"line_alpha\"],\"data\":{\"chart_index\":[{\"index\":\"Dennis Flydtkj\\u00e6r\"}],\"color\":[\"#f22c40\"],\"fill_alpha\":[0.8],\"height\":[0.0925925925925926],\"index\":[\"Dennis Flydtkj\\u00e6r\"],\"line_alpha\":[1.0],\"line_color\":[\"white\"],\"width\":[0.8],\"x\":[\"Dennis Flydtkj\\u00e6r\"],\"y\":[0.0462962962962963]}},\"id\":\"ab8aa4f9-b291-4e9e-9ee2-4e4eff038a31\",\"type\":\"ColumnDataSource\"},{\"attributes\":{\"fill_alpha\":{\"field\":\"fill_alpha\"},\"fill_color\":{\"field\":\"color\"},\"height\":{\"field\":\"height\",\"units\":\"data\"},\"line_color\":{\"field\":\"line_color\"},\"width\":{\"field\":\"width\",\"units\":\"data\"},\"x\":{\"field\":\"x\"},\"y\":{\"field\":\"y\"}},\"id\":\"d4a651b0-e281-46f0-a0d5-be7196468ab0\",\"type\":\"Rect\"},{\"attributes\":{\"fill_alpha\":{\"field\":\"fill_alpha\"},\"fill_color\":{\"field\":\"color\"},\"height\":{\"field\":\"height\",\"units\":\"data\"},\"line_color\":{\"field\":\"line_color\"},\"width\":{\"field\":\"width\",\"units\":\"data\"},\"x\":{\"field\":\"x\"},\"y\":{\"field\":\"y\"}},\"id\":\"91bb71a8-e45c-4f65-92f1-9048fe85e9dc\",\"type\":\"Rect\"},{\"attributes\":{\"callback\":null,\"column_names\":[\"fill_alpha\",\"y\",\"line_color\",\"height\",\"width\",\"x\",\"color\",\"line_alpha\"],\"data\":{\"chart_index\":[{\"index\":\"Ellen Trane N\\u00f8rby\"}],\"color\":[\"#f22c40\"],\"fill_alpha\":[0.8],\"height\":[0.09910802775024777],\"index\":[\"Ellen Trane N\\u00f8rby\"],\"line_alpha\":[1.0],\"line_color\":[\"white\"],\"width\":[0.8],\"x\":[\"Ellen Trane N\\u00f8rby\"],\"y\":[0.049554013875123884]}},\"id\":\"48116310-9192-427b-be28-50284134befe\",\"type\":\"ColumnDataSource\"},{\"attributes\":{\"callback\":null,\"column_names\":[\"fill_alpha\",\"y\",\"line_color\",\"height\",\"width\",\"x\",\"color\",\"line_alpha\"],\"data\":{\"chart_index\":[{\"index\":\"Socialistisk Folkeparti\"}],\"color\":[\"#f22c40\"],\"fill_alpha\":[0.8],\"height\":[2.5],\"index\":[\"Socialistisk Folkeparti\"],\"line_alpha\":[1.0],\"line_color\":[\"white\"],\"width\":[0.8],\"x\":[\"Socialistisk Folkeparti\"],\"y\":[1.25]}},\"id\":\"90e42908-292a-4301-aa19-c21d92f90c58\",\"type\":\"ColumnDataSource\"},{\"attributes\":{\"data_source\":{\"id\":\"72e93672-d2b8-45ce-b3da-cfcf10c48cb7\",\"type\":\"ColumnDataSource\"},\"glyph\":{\"id\":\"72cd6f04-5f6f-496e-9215-4a2f94086656\",\"type\":\"Rect\"},\"hover_glyph\":null,\"nonselection_glyph\":null,\"selection_glyph\":null},\"id\":\"4564622d-10b2-44fc-a056-f5a77e7c03c0\",\"type\":\"GlyphRenderer\"},{\"attributes\":{\"callback\":null,\"column_names\":[\"fill_alpha\",\"y\",\"line_color\",\"height\",\"width\",\"x\",\"color\",\"line_alpha\"],\"data\":{\"chart_index\":[{\"index\":\"Henning Hyllested\"}],\"color\":[\"#f22c40\"],\"fill_alpha\":[0.8],\"height\":[0.09285051067780872],\"index\":[\"Henning Hyllested\"],\"line_alpha\":[1.0],\"line_color\":[\"white\"],\"width\":[0.8],\"x\":[\"Henning Hyllested\"],\"y\":[0.04642525533890436]}},\"id\":\"4b975f0d-c3c5-4c4f-9c26-be7eb33e70af\",\"type\":\"ColumnDataSource\"},{\"attributes\":{\"fill_alpha\":{\"field\":\"fill_alpha\"},\"fill_color\":{\"field\":\"color\"},\"height\":{\"field\":\"height\",\"units\":\"data\"},\"line_color\":{\"field\":\"line_color\"},\"width\":{\"field\":\"width\",\"units\":\"data\"},\"x\":{\"field\":\"x\"},\"y\":{\"field\":\"y\"}},\"id\":\"16acf7ce-23e4-409c-bd86-13ef9312399c\",\"type\":\"Rect\"},{\"attributes\":{\"data_source\":{\"id\":\"b90495ad-e8a8-4c38-acea-63561dd88a59\",\"type\":\"ColumnDataSource\"},\"glyph\":{\"id\":\"febe4349-d7b4-4a42-a904-f578216c26d9\",\"type\":\"Rect\"},\"hover_glyph\":null,\"nonselection_glyph\":null,\"selection_glyph\":null},\"id\":\"15b7f37b-1299-4add-a4a3-47255d54c3ee\",\"type\":\"GlyphRenderer\"},{\"attributes\":{\"below\":[{\"id\":\"145376c8-019d-47f3-accd-918afa74aa6e\",\"type\":\"LinearAxis\"}],\"left\":[{\"id\":\"51c015bf-6d46-4785-8e0b-9fafafec020e\",\"type\":\"LinearAxis\"}],\"renderers\":[{\"id\":\"145376c8-019d-47f3-accd-918afa74aa6e\",\"type\":\"LinearAxis\"},{\"id\":\"85f2694b-b4f9-4d6e-b2f5-af1f8de16e38\",\"type\":\"Grid\"},{\"id\":\"51c015bf-6d46-4785-8e0b-9fafafec020e\",\"type\":\"LinearAxis\"},{\"id\":\"a1d3718b-0530-43d8-954c-5a30b464a859\",\"type\":\"Grid\"},{\"id\":\"55d2e1f1-47f9-4798-adac-fe414566aad5\",\"type\":\"BoxAnnotation\"},{\"id\":\"8dc8247c-f645-4b18-8934-46abeba8e3f2\",\"type\":\"GlyphRenderer\"}],\"tool_events\":{\"id\":\"441dc4ae-e691-4771-8447-460dbda6f680\",\"type\":\"ToolEvents\"},\"tools\":[{\"id\":\"89dec902-5603-4dbc-b904-bde8200960e3\",\"type\":\"PanTool\"},{\"id\":\"a88f0540-5734-4a0b-ba1d-edb5b0cdae15\",\"type\":\"WheelZoomTool\"},{\"id\":\"4d3e6a2a-0101-4346-aec2-0ebf04c16ff3\",\"type\":\"BoxZoomTool\"},{\"id\":\"9885921f-abb5-48a9-9ff5-5af016b16ee5\",\"type\":\"PreviewSaveTool\"},{\"id\":\"bffaba66-409e-43d6-9444-ca3184616c10\",\"type\":\"ResizeTool\"},{\"id\":\"0b7f62bc-16eb-483b-aa9f-3686fb2e57d6\",\"type\":\"ResetTool\"},{\"id\":\"49aea1c5-e512-4739-aeb7-3d2225a040af\",\"type\":\"HelpTool\"},{\"id\":\"70ebc53f-b86d-4144-bc6f-610a5ddffc06\",\"type\":\"HoverTool\"}],\"x_range\":{\"id\":\"bfe863f5-1347-4d74-a458-4fea6b202a07\",\"type\":\"DataRange1d\"},\"y_range\":{\"id\":\"2425886f-9b75-4d76-92b4-0cc1d2f01063\",\"type\":\"DataRange1d\"}},\"id\":\"c78b477d-c145-462f-ad40-18e99cfdf79c\",\"subtype\":\"Figure\",\"type\":\"Plot\"},{\"attributes\":{\"fill_alpha\":{\"field\":\"fill_alpha\"},\"fill_color\":{\"field\":\"color\"},\"height\":{\"field\":\"height\",\"units\":\"data\"},\"line_color\":{\"field\":\"line_color\"},\"width\":{\"field\":\"width\",\"units\":\"data\"},\"x\":{\"field\":\"x\"},\"y\":{\"field\":\"y\"}},\"id\":\"697d36f9-6fbe-44a0-bec3-f135412c7b70\",\"type\":\"Rect\"},{\"attributes\":{\"callback\":null,\"column_names\":[\"fill_alpha\",\"y\",\"line_color\",\"height\",\"width\",\"x\",\"color\",\"line_alpha\"],\"data\":{\"chart_index\":[{\"index\":\"Jeppe Kofod\"}],\"color\":[\"#f22c40\"],\"fill_alpha\":[0.8],\"height\":[0.25510204081632654],\"index\":[\"Jeppe Kofod\"],\"line_alpha\":[1.0],\"line_color\":[\"white\"],\"width\":[0.8],\"x\":[\"Jeppe Kofod\"],\"y\":[0.12755102040816327]}},\"id\":\"9158501e-69af-4eba-a7c1-101b09c51b69\",\"type\":\"ColumnDataSource\"},{\"attributes\":{\"fill_alpha\":{\"value\":0.1},\"fill_color\":{\"value\":\"#1f77b4\"},\"line_alpha\":{\"value\":0.1},\"line_color\":{\"value\":\"#1f77b4\"},\"radius\":{\"units\":\"data\",\"value\":5},\"x\":{\"field\":\"for\"},\"y\":{\"field\":\"imod\"}},\"id\":\"b5ec8c84-d98d-4135-a083-0132afaddd5e\",\"type\":\"Circle\"},{\"attributes\":{\"data_source\":{\"id\":\"48eff8bd-2881-4eee-a271-0c4af61250b8\",\"type\":\"ColumnDataSource\"},\"glyph\":{\"id\":\"16ddc688-8cfe-49f6-8d12-7511463f6812\",\"type\":\"Rect\"},\"hover_glyph\":null,\"nonselection_glyph\":null,\"selection_glyph\":null},\"id\":\"8c9edb13-9099-4307-9235-61fd66bb1d44\",\"type\":\"GlyphRenderer\"},{\"attributes\":{\"fill_alpha\":{\"field\":\"fill_alpha\"},\"fill_color\":{\"field\":\"color\"},\"height\":{\"field\":\"height\",\"units\":\"data\"},\"line_color\":{\"field\":\"line_color\"},\"width\":{\"field\":\"width\",\"units\":\"data\"},\"x\":{\"field\":\"x\"},\"y\":{\"field\":\"y\"}},\"id\":\"0d438b0c-2ff3-430e-a409-09137c0a5cbf\",\"type\":\"Rect\"},{\"attributes\":{\"callback\":null,\"column_names\":[\"fill_alpha\",\"y\",\"line_color\",\"height\",\"width\",\"x\",\"color\",\"line_alpha\"],\"data\":{\"chart_index\":[{\"index\":\"Marianne Jelved\"}],\"color\":[\"#f22c40\"],\"fill_alpha\":[0.8],\"height\":[0.0925925925925926],\"index\":[\"Marianne Jelved\"],\"line_alpha\":[1.0],\"line_color\":[\"white\"],\"width\":[0.8],\"x\":[\"Marianne Jelved\"],\"y\":[0.0462962962962963]}},\"id\":\"cf481145-4fcc-401a-a4f6-d69c55dece5b\",\"type\":\"ColumnDataSource\"},{\"attributes\":{\"plot\":{\"id\":\"e3619170-9497-40df-b2bd-e3b24db5a604\",\"subtype\":\"Chart\",\"type\":\"Plot\"}},\"id\":\"bfde5be3-be9f-4320-bb7f-3d321f6877d7\",\"type\":\"WheelZoomTool\"},{\"attributes\":{\"fill_alpha\":{\"field\":\"fill_alpha\"},\"fill_color\":{\"field\":\"color\"},\"height\":{\"field\":\"height\",\"units\":\"data\"},\"line_color\":{\"field\":\"line_color\"},\"width\":{\"field\":\"width\",\"units\":\"data\"},\"x\":{\"field\":\"x\"},\"y\":{\"field\":\"y\"}},\"id\":\"0903d6b7-beda-4746-82b2-ae49e709f67b\",\"type\":\"Rect\"},{\"attributes\":{},\"id\":\"441dc4ae-e691-4771-8447-460dbda6f680\",\"type\":\"ToolEvents\"},{\"attributes\":{\"data_source\":{\"id\":\"0f5a878b-35fb-43f6-9886-a739bd9873e3\",\"type\":\"ColumnDataSource\"},\"glyph\":{\"id\":\"8b324795-6adf-4f43-8a96-9e8dda3f952c\",\"type\":\"Rect\"},\"hover_glyph\":null,\"nonselection_glyph\":null,\"selection_glyph\":null},\"id\":\"df47c448-a242-492d-906d-9f49ccb3f5ad\",\"type\":\"GlyphRenderer\"},{\"attributes\":{\"fill_alpha\":{\"field\":\"fill_alpha\"},\"fill_color\":{\"field\":\"color\"},\"height\":{\"field\":\"height\",\"units\":\"data\"},\"line_color\":{\"field\":\"line_color\"},\"width\":{\"field\":\"width\",\"units\":\"data\"},\"x\":{\"field\":\"x\"},\"y\":{\"field\":\"y\"}},\"id\":\"492c9050-6f7a-46a3-80a1-527c0ab483ac\",\"type\":\"Rect\"},{\"attributes\":{\"callback\":null,\"column_names\":[\"fill_alpha\",\"y\",\"line_color\",\"height\",\"width\",\"x\",\"color\",\"line_alpha\"],\"data\":{\"chart_index\":[{\"index\":\"Mai Mercado\"}],\"color\":[\"#f22c40\"],\"fill_alpha\":[0.8],\"height\":[0.25316455696202533],\"index\":[\"Mai Mercado\"],\"line_alpha\":[1.0],\"line_color\":[\"white\"],\"width\":[0.8],\"x\":[\"Mai Mercado\"],\"y\":[0.12658227848101267]}},\"id\":\"1d74c7cb-e914-430f-9827-771095dfb9df\",\"type\":\"ColumnDataSource\"},{\"attributes\":{\"data_source\":{\"id\":\"a2b8cf59-3746-4161-9b8c-3fe82ce93143\",\"type\":\"ColumnDataSource\"},\"glyph\":{\"id\":\"1a7c7d8e-2951-4a89-a9b3-61a601664050\",\"type\":\"Rect\"},\"hover_glyph\":null,\"nonselection_glyph\":null,\"selection_glyph\":null},\"id\":\"576719cf-3560-42ba-9292-3302a71b4c73\",\"type\":\"GlyphRenderer\"},{\"attributes\":{\"fill_alpha\":{\"field\":\"fill_alpha\"},\"fill_color\":{\"field\":\"color\"},\"height\":{\"field\":\"height\",\"units\":\"data\"},\"line_color\":{\"field\":\"line_color\"},\"width\":{\"field\":\"width\",\"units\":\"data\"},\"x\":{\"field\":\"x\"},\"y\":{\"field\":\"y\"}},\"id\":\"65c16718-4835-4891-8244-5ecdbb171105\",\"type\":\"Rect\"},{\"attributes\":{\"callback\":null,\"column_names\":[\"fill_alpha\",\"y\",\"line_color\",\"height\",\"width\",\"x\",\"color\",\"line_alpha\"],\"data\":{\"chart_index\":[{\"index\":\"Trine Mach\"}],\"color\":[\"#f22c40\"],\"fill_alpha\":[0.8],\"height\":[0.45801526717557256],\"index\":[\"Trine Mach\"],\"line_alpha\":[1.0],\"line_color\":[\"white\"],\"width\":[0.8],\"x\":[\"Trine Mach\"],\"y\":[0.22900763358778628]}},\"id\":\"94b3b46e-fa33-40c0-bc95-020dc4933f8d\",\"type\":\"ColumnDataSource\"},{\"attributes\":{\"callback\":null,\"column_names\":[\"fill_alpha\",\"y\",\"line_color\",\"height\",\"width\",\"x\",\"color\",\"line_alpha\"],\"data\":{\"chart_index\":[{\"index\":\"Ida Auken\"}],\"color\":[\"#f22c40\"],\"fill_alpha\":[0.8],\"height\":[1.2037037037037037],\"index\":[\"Ida Auken\"],\"line_alpha\":[1.0],\"line_color\":[\"white\"],\"width\":[0.8],\"x\":[\"Ida Auken\"],\"y\":[0.6018518518518519]}},\"id\":\"2f2a4aad-4e78-4bbc-94a2-92f6baa41e3d\",\"type\":\"ColumnDataSource\"},{\"attributes\":{\"fill_alpha\":{\"field\":\"fill_alpha\"},\"fill_color\":{\"field\":\"color\"},\"height\":{\"field\":\"height\",\"units\":\"data\"},\"line_color\":{\"field\":\"line_color\"},\"width\":{\"field\":\"width\",\"units\":\"data\"},\"x\":{\"field\":\"x\"},\"y\":{\"field\":\"y\"}},\"id\":\"9d978ffd-2563-42d9-ab70-67f71e346dc2\",\"type\":\"Rect\"},{\"attributes\":{\"fill_alpha\":{\"field\":\"fill_alpha\"},\"fill_color\":{\"field\":\"color\"},\"height\":{\"field\":\"height\",\"units\":\"data\"},\"line_color\":{\"field\":\"line_color\"},\"width\":{\"field\":\"width\",\"units\":\"data\"},\"x\":{\"field\":\"x\"},\"y\":{\"field\":\"y\"}},\"id\":\"16ddc688-8cfe-49f6-8d12-7511463f6812\",\"type\":\"Rect\"},{\"attributes\":{\"data_source\":{\"id\":\"6195b975-c979-47ab-9c29-b66ca0cd82a5\",\"type\":\"ColumnDataSource\"},\"glyph\":{\"id\":\"d4555774-fe2b-4eac-8626-ddd1749544ae\",\"type\":\"Rect\"},\"hover_glyph\":null,\"nonselection_glyph\":null,\"selection_glyph\":null},\"id\":\"469645e7-cb37-4e9f-8471-482752320812\",\"type\":\"GlyphRenderer\"},{\"attributes\":{\"plot\":{\"id\":\"5576f7c1-d8a6-46ce-8ead-d7af8e9d1759\",\"subtype\":\"Chart\",\"type\":\"Plot\"}},\"id\":\"99813dd5-cc06-4f4c-9d26-0888af9d2581\",\"type\":\"ResetTool\"},{\"attributes\":{\"fill_alpha\":{\"field\":\"fill_alpha\"},\"fill_color\":{\"field\":\"color\"},\"height\":{\"field\":\"height\",\"units\":\"data\"},\"line_color\":{\"field\":\"line_color\"},\"width\":{\"field\":\"width\",\"units\":\"data\"},\"x\":{\"field\":\"x\"},\"y\":{\"field\":\"y\"}},\"id\":\"1ffc01b0-ec5f-4788-99c4-2de27e439a71\",\"type\":\"Rect\"}],\"root_ids\":[\"e3619170-9497-40df-b2bd-e3b24db5a604\",\"5576f7c1-d8a6-46ce-8ead-d7af8e9d1759\",\"c78b477d-c145-462f-ad40-18e99cfdf79c\"]},\"title\":\"Bokeh Application\",\"version\":\"0.11.1\"}};\n",
       "            var render_items = [{\"docid\":\"dbc137fa-e25b-40ff-9868-e45b4f9b6db6\",\"elementid\":\"31ff2caf-159d-4803-a3ca-e4d7c6bbb150\",\"modelid\":\"c78b477d-c145-462f-ad40-18e99cfdf79c\",\"notebook_comms_target\":\"808e3d4c-0ab0-499f-aadf-f60566fda7c0\"}];\n",
       "            \n",
       "            Bokeh.embed.embed_items(docs_json, render_items);\n",
       "        });\n",
       "      },\n",
       "      function(Bokeh) {\n",
       "      }\n",
       "    ];\n",
       "  \n",
       "    function run_inline_js() {\n",
       "      for (var i = 0; i < inline_js.length; i++) {\n",
       "        inline_js[i](window.Bokeh);\n",
       "      }\n",
       "    }\n",
       "  \n",
       "    if (window._bokeh_is_loading === 0) {\n",
       "      console.log(\"Bokeh: BokehJS loaded, going straight to plotting\");\n",
       "      run_inline_js();\n",
       "    } else {\n",
       "      load_libs(js_urls, function() {\n",
       "        console.log(\"Bokeh: BokehJS plotting callback run at\", now());\n",
       "        run_inline_js();\n",
       "      });\n",
       "    }\n",
       "  }(this));\n",
       "</script>"
      ]
     },
     "metadata": {},
     "output_type": "display_data"
    },
    {
     "data": {
      "text/html": [
       "<p><code>&lt;Bokeh Notebook handle for <strong>In[11]</strong>&gt;</code></p>"
      ],
      "text/plain": [
       "<bokeh.io._CommsHandle at 0x7fc454f3a240>"
      ]
     },
     "execution_count": 11,
     "metadata": {},
     "output_type": "execute_result"
    }
   ],
   "source": [
    "sum_stem = stemmer.pivot(index='afstemning', columns='navn', values='stemt').apply(pd.value_counts).T\n",
    "sum_stem.head()\n",
    "\n",
    "p = figure()\n",
    "p.circle('for', 'imod', radius=5, source=ColumnDataSource(sum_stem))\n",
    "p.xaxis.axis_label = \"for\"\n",
    "p.yaxis.axis_label = 'imod'\n",
    "p.add_tools(HoverTool(tooltips=[('name', \"@navn\")]))\n",
    "\n",
    "#slope, intercept, r_value, p_value, std_err = linregress(stemt_data.dropna()['imod'], stemt_data.dropna()['for'])\n",
    "\n",
    "#p.line(range(500), [slope*x+intercept for x in range(500)])\n",
    "#p.text([400, 400, 400], [400, 420, 440], [\n",
    "#        'Intercept: {:.2f}'.format(intercept), \n",
    "#        'Slope: {:.2f}'.format(slope),\n",
    "#        'r^2: {:.2f}'.format(r_value**2)])\n",
    "\n",
    "#p.set(x_range=Range1d(0, 600), y_range=Range1d(0,600))\n",
    "show(p)"
   ]
  },
  {
   "cell_type": "code",
   "execution_count": 533,
   "metadata": {
    "collapsed": false
   },
   "outputs": [
    {
     "data": {
      "text/html": [
       "<div>\n",
       "<table border=\"1\" class=\"dataframe\">\n",
       "  <thead>\n",
       "    <tr style=\"text-align: right;\">\n",
       "      <th></th>\n",
       "      <th>afstemning</th>\n",
       "      <th>dato</th>\n",
       "      <th>navn</th>\n",
       "      <th>navn_id</th>\n",
       "      <th>stemt</th>\n",
       "      <th>parti</th>\n",
       "    </tr>\n",
       "  </thead>\n",
       "  <tbody>\n",
       "    <tr>\n",
       "      <th>0</th>\n",
       "      <td>1</td>\n",
       "      <td>2014-09-09</td>\n",
       "      <td>Eigil Andersen</td>\n",
       "      <td>158</td>\n",
       "      <td>for</td>\n",
       "      <td>Socialistisk Folkeparti</td>\n",
       "    </tr>\n",
       "    <tr>\n",
       "      <th>1</th>\n",
       "      <td>1</td>\n",
       "      <td>2014-09-09</td>\n",
       "      <td>Tom Behnke</td>\n",
       "      <td>71</td>\n",
       "      <td>for</td>\n",
       "      <td>Det Konservative Folkeparti</td>\n",
       "    </tr>\n",
       "    <tr>\n",
       "      <th>2</th>\n",
       "      <td>1</td>\n",
       "      <td>2014-09-09</td>\n",
       "      <td>Liselott Blixt</td>\n",
       "      <td>50</td>\n",
       "      <td>for</td>\n",
       "      <td>Dansk Folkeparti</td>\n",
       "    </tr>\n",
       "    <tr>\n",
       "      <th>3</th>\n",
       "      <td>1</td>\n",
       "      <td>2014-09-09</td>\n",
       "      <td>Erling Bonnesen</td>\n",
       "      <td>49</td>\n",
       "      <td>for</td>\n",
       "      <td>Venstre, Danmarks Liberale Parti</td>\n",
       "    </tr>\n",
       "    <tr>\n",
       "      <th>4</th>\n",
       "      <td>1</td>\n",
       "      <td>2014-09-09</td>\n",
       "      <td>Bent Bøgsted</td>\n",
       "      <td>183</td>\n",
       "      <td>for</td>\n",
       "      <td>Dansk Folkeparti</td>\n",
       "    </tr>\n",
       "  </tbody>\n",
       "</table>\n",
       "</div>"
      ],
      "text/plain": [
       "   afstemning       dato             navn  navn_id stemt  \\\n",
       "0           1 2014-09-09   Eigil Andersen      158   for   \n",
       "1           1 2014-09-09       Tom Behnke       71   for   \n",
       "2           1 2014-09-09   Liselott Blixt       50   for   \n",
       "3           1 2014-09-09  Erling Bonnesen       49   for   \n",
       "4           1 2014-09-09     Bent Bøgsted      183   for   \n",
       "\n",
       "                              parti  \n",
       "0           Socialistisk Folkeparti  \n",
       "1       Det Konservative Folkeparti  \n",
       "2                  Dansk Folkeparti  \n",
       "3  Venstre, Danmarks Liberale Parti  \n",
       "4                  Dansk Folkeparti  "
      ]
     },
     "execution_count": 533,
     "metadata": {},
     "output_type": "execute_result"
    }
   ],
   "source": [
    "# så per afstemning skal vi skifte personer ud med parti-linjen\n",
    "# det bliver en væsentligt mindre dataframe.\n",
    "# den kan vi så sætte op som en parti x afstemning array med for/imod per afstemning\n",
    "# det burde kunne kastes ind i noget PCA...=)"
   ]
  },
  {
   "cell_type": "code",
   "execution_count": 36,
   "metadata": {
    "collapsed": true
   },
   "outputs": [],
   "source": [
    "parti_stemme = []\n",
    "\n",
    "for af in stemmer.afstemning.unique():\n",
    "    b1 = stemmer[(stemmer.afstemning == af) & (stemmer.stemt == 1)]['parti']\n",
    "    b2 = stemmer[(stemmer.afstemning == af) & (stemmer.stemt == 2)]['parti']\n",
    "    c1 = set(b1)\n",
    "    c2 = set(b2)\n",
    "    both_sides = c1.intersection(c2)\n",
    "    if len(both_sides) != 0:\n",
    "        for parti in both_sides:\n",
    "            if sum(b1==parti)>sum(b2==parti):\n",
    "                c2.remove(parti)\n",
    "            else:\n",
    "                c1.remove(parti)\n",
    "    parti_stemme.append({**{key:1 for key in c1},**{key:2 for key in c2}})"
   ]
  },
  {
   "cell_type": "code",
   "execution_count": 45,
   "metadata": {
    "collapsed": false
   },
   "outputs": [],
   "source": [
    "parti_stemme_df = pd.DataFrame(parti_stemme)\n",
    "parti_stemme_df = parti_stemme_df.fillna(0)"
   ]
  },
  {
   "cell_type": "code",
   "execution_count": 75,
   "metadata": {
    "collapsed": false
   },
   "outputs": [],
   "source": [
    "full_time = parti_stemme_df[['Dansk Folkeparti', 'Det Konservative Folkeparti', 'Enhedslisten', 'Liberal Alliance', 'Radikale Venstre', 'Socialdemokratiet', 'Socialistisk Folkeparti', 'Venstre, Danmarks Liberale Parti']]\n"
   ]
  },
  {
   "cell_type": "code",
   "execution_count": 22,
   "metadata": {
    "collapsed": true
   },
   "outputs": [],
   "source": [
    "from sklearn.decomposition import PCA"
   ]
  },
  {
   "cell_type": "code",
   "execution_count": 79,
   "metadata": {
    "collapsed": true
   },
   "outputs": [],
   "source": [
    "pca = PCA(n_components=1)"
   ]
  },
  {
   "cell_type": "code",
   "execution_count": 80,
   "metadata": {
    "collapsed": false
   },
   "outputs": [],
   "source": [
    "pcad = pca.fit_transform(full_time.T)"
   ]
  },
  {
   "cell_type": "code",
   "execution_count": 129,
   "metadata": {
    "collapsed": false
   },
   "outputs": [],
   "source": [
    "pca_med_navn = pd.DataFrame(data=pcad, index=full_time.T.index).reset_index()\n",
    "pca_med_navn.columns = ['parti', 'pca1']\n",
    "pca_med_navn['statisk'] = [0 for x in range(len(full_time.T.index))]\n",
    "pca_med_navn['pca1'] *= -1\n",
    "pca_med_navn = pca_med_navn.sort_values('pca1')"
   ]
  },
  {
   "cell_type": "code",
   "execution_count": 137,
   "metadata": {
    "collapsed": false
   },
   "outputs": [],
   "source": [
    "p = figure(width=750, height=400)\n",
    "p.circle('pca1', 'statisk', radius=0.1, alpha=0.5, source=ColumnDataSource(pd.DataFrame(pca_med_navn)))\n",
    "p.text(pca_med_navn['pca1'], 0, pca_med_navn['parti'], angle=[0.5,-0.5] * int(len(pca_med_navn)/2))\n",
    "p.xaxis.axis_label = \"pca1\"\n",
    "p.yaxis.axis_label = ''\n",
    "p.add_tools(HoverTool(tooltips=[('parti', \"@parti\")]))\n",
    "\n",
    "show(p)"
   ]
  },
  {
   "cell_type": "markdown",
   "metadata": {
    "raw_mimetype": "text/x-python"
   },
   "source": []
  },
  {
   "cell_type": "code",
   "execution_count": 89,
   "metadata": {
    "collapsed": false
   },
   "outputs": [],
   "source": [
    "plt.hlines(1,0,30)  # Draw a horizontal line\n",
    "plt.eventplot(pca_med_navn['pca1']+10, orientation='horizontal', colors='b')\n",
    "plt.show()"
   ]
  }
 ],
 "metadata": {
  "celltoolbar": "Raw Cell Format",
  "kernelspec": {
   "display_name": "Python 3",
   "language": "python",
   "name": "python3"
  },
  "language_info": {
   "codemirror_mode": {
    "name": "ipython",
    "version": 3
   },
   "file_extension": ".py",
   "mimetype": "text/x-python",
   "name": "python",
   "nbconvert_exporter": "python",
   "pygments_lexer": "ipython3",
   "version": "3.5.1"
  }
 },
 "nbformat": 4,
 "nbformat_minor": 0
}
